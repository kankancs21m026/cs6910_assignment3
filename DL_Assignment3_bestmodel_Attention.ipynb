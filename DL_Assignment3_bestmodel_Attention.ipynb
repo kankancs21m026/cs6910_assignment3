{
  "cells": [
    {
      "cell_type": "markdown",
      "metadata": {
        "id": "Y2vkvje2XA3r"
      },
      "source": [
        "### Import package"
      ]
    },
    {
      "cell_type": "code",
      "execution_count": 58,
      "metadata": {
        "colab": {
          "base_uri": "https://localhost:8080/"
        },
        "id": "u0qCvgqBxzLo",
        "outputId": "3da56f83-c166-40b2-863f-c4a201325a43"
      },
      "outputs": [
        {
          "name": "stdout",
          "output_type": "stream",
          "text": [
            "Requirement already satisfied: xtarfile in /usr/local/lib/python3.7/dist-packages (0.1.0)\n"
          ]
        }
      ],
      "source": [
        "\n",
        "!pip install xtarfile"
      ]
    },
    {
      "cell_type": "code",
      "execution_count": 59,
      "metadata": {
        "id": "6xAqFEssB1RJ"
      },
      "outputs": [],
      "source": [
        "START_TOKEN=\"\\t\"\n",
        "END_TOKEN=\"\\n\""
      ]
    },
    {
      "cell_type": "code",
      "execution_count": 60,
      "metadata": {
        "id": "s6xB0KDuy95e"
      },
      "outputs": [],
      "source": [
        "import os\n",
        "import random\n",
        "import time\n",
        "import re, string\n",
        "import numpy as np\n",
        "import pandas as pd \n",
        "import matplotlib as mpl\n",
        "import matplotlib.pyplot as plt\n",
        "from matplotlib.font_manager import FontProperties\n",
        "from collections import Counter\n",
        "import os\n",
        "from os.path import exists\n",
        "import matplotlib.pyplot as plt\n",
        "import matplotlib.image as mpimg\n",
        "import random \n",
        "import numpy as np\n",
        "import keras\n",
        "import tensorflow as tf\n",
        "import csv\n",
        "\n",
        "from tensorflow.keras import layers\n",
        "import tensorflow.keras.backend as K\n",
        "\n",
        "\n"
      ]
    },
    {
      "cell_type": "code",
      "execution_count": 61,
      "metadata": {
        "id": "d1J0s1-UsYaC"
      },
      "outputs": [],
      "source": [
        "import tensorflow as tf\n",
        "from tensorflow.keras import layers\n",
        "import tensorflow.keras.backend as K\n",
        "import tensorflow as tf\n",
        "from tensorflow.keras import layers\n",
        "import tensorflow.keras.backend as K\n",
        "\n",
        "\"\"\"\n",
        "Bahdanau Attention\n",
        "\"\"\"\n",
        "class BahdanauAttention(tf.keras.layers.Layer):\n",
        "  def __init__(self, units):\n",
        "    super(BahdanauAttention, self).__init__()\n",
        "    self.W1 = tf.keras.layers.Dense(units)\n",
        "    self.W2 = tf.keras.layers.Dense(units)\n",
        "    self.V = tf.keras.layers.Dense(1)\n",
        "\n",
        "  def call(self, enc_state, enc_out):\n",
        "    \n",
        "    enc_state = tf.concat(enc_state, 1)\n",
        "    enc_state = tf.expand_dims(enc_state, 1)\n",
        "\n",
        "    score = self.V(tf.nn.tanh(self.W1(enc_state) + self.W2(enc_out)))\n",
        "\n",
        "    attention_weights = tf.nn.softmax(score, axis=1)\n",
        "\n",
        "    context_vector = attention_weights * enc_out\n",
        "    context_vector = tf.reduce_sum(context_vector, axis=1)\n",
        "\n",
        "    return context_vector, attention_weights\n",
        "\n",
        "\n"
      ]
    },
    {
      "cell_type": "markdown",
      "metadata": {
        "id": "oC4xs7t3wH0s"
      },
      "source": [
        "### Define classes"
      ]
    },
    {
      "cell_type": "code",
      "execution_count": 62,
      "metadata": {
        "id": "Y6IBnMjRsCHd"
      },
      "outputs": [],
      "source": [
        "import tensorflow as tf\n",
        "import random \n",
        "import numpy as np\n",
        "import os\n",
        "\n",
        "from os.path import exists\n",
        "import xtarfile as tarfile\n",
        "import pandas as pd \n",
        "import keras\n",
        "START_TOKEN=\"\\t\"\n",
        "END_TOKEN=\"\\n\"\n",
        "\n",
        "\n",
        "def downloadDataSet():\n",
        "   cwd = os.getcwd()\n",
        "  \n",
        "   file_exists = exists('./dakshina_dataset_v1.0.tar')\n",
        "   if(file_exists==False):\n",
        "     print('downloading....')\n",
        "     os.system('curl -SL https://storage.googleapis.com/gresearch/dakshina/dakshina_dataset_v1.0.tar > dakshina_dataset_v1.0.tar')\n",
        "     print('download Complete')\n",
        "   extract_exists = exists('./dakshina_dataset_v1.0/')   \n",
        "   if(extract_exists==False): \n",
        "     print('Extracting..') \n",
        "     with tarfile.open('dakshina_dataset_v1.0.tar', 'r') as archive:\n",
        "         archive.extractall()\n",
        "     print('Complete')\n",
        "   print('You are all set')\n",
        "def get_files(language):\n",
        "\n",
        "  train_dir='./dakshina_dataset_v1.0/'+language+'/lexicons/'+language+'.translit.sampled.train.tsv'\n",
        "  val_dir='./dakshina_dataset_v1.0/'+language+'/lexicons/'+language+'.translit.sampled.dev.tsv'\n",
        "  test_dir='./dakshina_dataset_v1.0/'+language+'/lexicons/'+language+'.translit.sampled.test.tsv'\n",
        "  \n",
        "  return train_dir, val_dir, test_dir\n",
        "\n",
        "def tokenize(lang,tokenizer=None):\n",
        "    \"\"\" Uses tf.keras tokenizer to tokenize the data/words into characters\n",
        "    \"\"\"\n",
        "    if(tokenizer==None):\n",
        "        tokenizer = tf.keras.preprocessing.text.Tokenizer(char_level=True)\n",
        "        tokenizer.fit_on_texts(lang)\n",
        "        lang_tensor = tokenizer.texts_to_sequences(lang)\n",
        "        lang_tensor = tf.keras.preprocessing.sequence.pad_sequences(lang_tensor,\n",
        "                                                            padding='post')\n",
        "    else:\n",
        "  \n",
        "        lang_tensor = tokenizer.texts_to_sequences(lang)\n",
        "        lang_tensor = tf.keras.preprocessing.sequence.pad_sequences(lang_tensor,\n",
        "                                                        padding='post')\n",
        "\n",
        "    return lang_tensor, tokenizer\n",
        "def preprocess_data(fpath,ip_tokenizer=None, tgt_tokenizer=None):\n",
        "   \n",
        "    #Read data from files\n",
        "    df = pd.read_csv(fpath, sep=\"\\t\", header=None)\n",
        "\n",
        "    #Add start and end token\n",
        "    df[0] = df[0].apply( lambda x:START_TOKEN+x+END_TOKEN) \n",
        "    ip_tensor, ip_tokenizer = tokenize(df[1].astype(str).tolist(), tokenizer=ip_tokenizer)\n",
        "    \n",
        "    tgt_tensor, tgt_tokenizer = tokenize(df[0].astype(str).tolist(), tokenizer=tgt_tokenizer) \n",
        "    \n",
        "    dataset = tf.data.Dataset.from_tensor_slices((ip_tensor, tgt_tensor))\n",
        "    dataset = dataset.shuffle(len(dataset))\n",
        "    \n",
        "    return dataset, ip_tokenizer, tgt_tokenizer\n",
        "\n",
        "\n",
        "\n"
      ]
    },
    {
      "cell_type": "code",
      "execution_count": 63,
      "metadata": {
        "id": "ty-yWidXsJyD"
      },
      "outputs": [],
      "source": [
        "class Parameters():\n",
        "  def  __init__(self,  language='te',encoder_layers=1,decoder_layers=1,embedding_dim=128,\\\n",
        "                layer_type='lstm', units=128, dropout=0.5, attention=False,attention_type=\"Luong\",batch_size=128,\\\n",
        "                apply_beam_search=False,apply_teacher_forcing=False,teacher_forcing_ratio=1,\\\n",
        "                 save_outputs=None,epochs=5,wandb=None,beamWidth=5,restoreBestModel=True,\\\n",
        "                 patience=2,encoder_vocab_size=64,decoder_vocab_size=64):\n",
        "        self.language = language\n",
        "        self.embedding_dim = embedding_dim\n",
        "        self.encoder_layers=encoder_layers\n",
        "        self.decoder_layers=decoder_layers\n",
        "        self.layer_type = layer_type\n",
        "        self.units = units\n",
        "        self.dropout = dropout\n",
        "        self.attention = attention\n",
        "        self.stats = []\n",
        "        self.wandb=wandb\n",
        "        self.epochs=epochs\n",
        "        self.batch_size = 128\n",
        "        self.apply_beam_search = apply_beam_search\n",
        "        self.batch_size = batch_size\n",
        "        self.apply_teacher_forcing=apply_teacher_forcing\n",
        "        self.save_outputs=save_outputs\n",
        "        self.restoreBestModel=restoreBestModel\n",
        "        self.attention_type=attention_type\n",
        "        self.patience=patience\n",
        "        self.encoder_vocab_size=encoder_vocab_size\n",
        "        self.decoder_vocab_size=decoder_vocab_size\n",
        "        self.teacher_forcing_ratio=teacher_forcing_ratio"
      ]
    },
    {
      "cell_type": "code",
      "execution_count": 64,
      "metadata": {
        "id": "KQSzzTVAsEX0"
      },
      "outputs": [],
      "source": [
        "import tensorflow as tf\n",
        "from tensorflow.keras import layers\n",
        "\n",
        "\"\"\"This class contain all funtion to add Encoder layers\n",
        "Input: Param \n",
        "This variable contain all configuration details.But most focus goes on following attributes:\n",
        "- layer_type\n",
        "- encoder_layers\n",
        "- units\n",
        "- dropout\n",
        "\"\"\"\n",
        "class Encoder(tf.keras.Model):\n",
        "    def __init__(self, param):\n",
        "        #Configurations\n",
        "        super(Encoder, self).__init__()\n",
        "        self.layer_type = param.layer_type\n",
        "        self.n_layers = param.encoder_layers\n",
        "        self.units = param.units\n",
        "        self.dropout = param.dropout\n",
        "        self.embedding = tf.keras.layers.Embedding(param.encoder_vocab_size, param.embedding_dim,trainable=True)\n",
        "\n",
        "        #Create Recurrant Layers\n",
        "        self.create_rnn_layers()\n",
        "\n",
        "    def call(self, x, hidden):\n",
        "        x = self.embedding(x)\n",
        "        x = self.rnn_layers[0](x, initial_state=hidden)\n",
        "\n",
        "        #Get returned output and state value\n",
        "        for layer in self.rnn_layers[1:]:\n",
        "            x = layer(x)\n",
        "\n",
        "        output, state = x[0], x[1:]\n",
        "\n",
        "        return output, state\n",
        "    \"Create Encoder layer\"\n",
        "    def create_rnn_layers(self):\n",
        "        self.rnn_layers = []\n",
        "        #Add one or more encoder layers\n",
        "        for i in range(self.n_layers):\n",
        "            self.rnn_layers.append(get_layer(self.layer_type, self.units, self.dropout,\n",
        "                                                return_sequences=True,\n",
        "                                                return_state=True))\n",
        "\n",
        "\n",
        "    def initialize_hidden_state(self, batch_size):\n",
        "\n",
        "        if self.layer_type != \"lstm\":\n",
        "            return [tf.zeros((batch_size, self.units))]\n",
        "        else:\n",
        "            return [tf.zeros((batch_size, self.units))]*2\n",
        "\n",
        "\n",
        "\n",
        "    "
      ]
    },
    {
      "cell_type": "code",
      "execution_count": 65,
      "metadata": {
        "id": "NQHJ8JtysOCX"
      },
      "outputs": [],
      "source": [
        "\n",
        "import tensorflow as tf\n",
        "from tensorflow.keras import layers\n",
        "\n",
        "\n",
        "\"\"\"This class contain all funtion to add Decoder layers\n",
        "Input: Param \n",
        "This variable contain all configuration details.But most focus goes on following attrib\n",
        "- layer_type\n",
        "- encoder_layers\n",
        "- units\n",
        "- dropout\n",
        "- Attention [True,False]\n",
        "-  attention_type [Luong,Bahdanau]\n",
        "\"\"\"\n",
        "\n",
        "\n",
        "class Decoder(tf.keras.Model):\n",
        "    def __init__(self,param):\n",
        "\n",
        "        super(Decoder, self).__init__()\n",
        "\n",
        "        #Basic configurations\n",
        "        self.layer_type = param.layer_type\n",
        "        self.n_layers = param.decoder_layers\n",
        "        self.units =param. units\n",
        "        self.dropout = param.dropout\n",
        "\n",
        "        #Following configuration useful in case of attention enabled model\n",
        "        # attention_type = [Luong,Bahdanau]\n",
        "        self.attention = param.attention\n",
        "        self.attention_type=param.attention_type\n",
        "\n",
        "        #Add embedding layers \n",
        "        self.embedding_layer = layers.Embedding(input_dim=param.decoder_vocab_size, \n",
        "                                                output_dim=param.embedding_dim,trainable=True)\n",
        "        \n",
        "        self.dense = layers.Dense(param.decoder_vocab_size, activation=\"softmax\")\n",
        "        self.flatten = layers.Flatten()\n",
        "\n",
        "        #Verify If want to add attention layers \n",
        "        #it could be either Luong or Bahdanau attention\n",
        "    \n",
        "        if self.attention:\n",
        "         \n",
        "          self.attention_layer = BahdanauAttention(self.units)\n",
        "\n",
        "        #Add one/more recurrant layers based on confugurations\n",
        "        self.create_rnn_layers()\n",
        "\n",
        "    def call(self, x, hidden, enc_out=None):\n",
        "        #Add embedding input layer\n",
        "        x = self.embedding_layer(x)\n",
        "\n",
        "        #Verify if attention layer need to be added\n",
        "        if self.attention:\n",
        "            context_vector, attention_weights = self.attention_layer(hidden, enc_out)\n",
        "            x = tf.concat([tf.expand_dims(context_vector, 1), x], -1)\n",
        "        else:\n",
        "            attention_weights = None\n",
        "\n",
        "        \n",
        "        x = self.rnn_layers[0](x, initial_state=hidden)\n",
        "\n",
        "        #Get returned output and state value\n",
        "        for layer in self.rnn_layers[1:]:\n",
        "            x = layer(x)\n",
        "\n",
        "        output, state = x[0], x[1:]\n",
        "\n",
        "        output = self.dense(self.flatten(output))\n",
        "        \n",
        "        return output, state, attention_weights\n",
        "    #Create decoder layesr\n",
        "    def create_rnn_layers(self):\n",
        "        self.rnn_layers = []   \n",
        "\n",
        "        #Add one or more decoder layers\n",
        "\n",
        "        for i in range(self.n_layers - 1):\n",
        "            self.rnn_layers.append(get_layer(self.layer_type, self.units, self.dropout,\n",
        "                                                return_sequences=True,\n",
        "                                                return_state=True))\n",
        "        \n",
        "        self.rnn_layers.append(get_layer(self.layer_type, self.units, self.dropout,\n",
        "                                            return_sequences=False,\n",
        "                                            return_state=True))"
      ]
    },
    {
      "cell_type": "code",
      "execution_count": 66,
      "metadata": {
        "id": "Pa0XPzaFsSkW"
      },
      "outputs": [],
      "source": [
        "import tensorflow as tf\n",
        "from tensorflow.keras import layers\n",
        "import tensorflow.keras.backend as K\n",
        "from tensorflow.keras.preprocessing.text import Tokenizer\n",
        "\n",
        "from tqdm import tqdm\n",
        "import random \n",
        "import time \n",
        "import numpy as np\n",
        "import pandas as pd\n",
        "class SequenceTOSequence():\n",
        "    def __init__(self, parameters):\n",
        "\n",
        "        #Basic configurations\n",
        "        self.param=parameters\n",
        "        self.embedding_dim = parameters.embedding_dim\n",
        "        self.encoder_layers = parameters.encoder_layers\n",
        "        self.decoder_layers = parameters.decoder_layers\n",
        "        self.layer_type = parameters.layer_type\n",
        "        self.units = parameters.units\n",
        "        self.dropout = parameters.dropout\n",
        "        self.batch_size = parameters.batch_size\n",
        "\n",
        "        #Add information regarding attention layer\n",
        "        self.attention = parameters.attention\n",
        "        self.attention_type = parameters.attention_type\n",
        "\n",
        "        self.stats = []\n",
        "      \n",
        "        self.apply_beam_search = parameters.apply_beam_search\n",
        "        \n",
        "        #Early stop conditions\n",
        "        self.patience=parameters.patience\n",
        "        self.restoreBestModel=parameters.restoreBestModel\n",
        "\n",
        "        #teacher forcing\n",
        "        self.apply_teacher_forcing=parameters.apply_teacher_forcing    \n",
        "        self.teacher_forcing_ratio=parameters.teacher_forcing_ratio\n",
        "\n",
        "    #Build model Add specific optimizers    \n",
        "    def build(self, loss, metric,optimizer='adam',lr=0.001):\n",
        "        self.loss = loss\n",
        "\n",
        "        #Select specific optimizer\n",
        "        if(optimizer=='adam'):\n",
        "          self.optimizer=tf.keras.optimizers.Adam(learning_rate=lr)\n",
        "        if(optimizer=='nadam'):\n",
        "          self.optimizer=tf.keras.optimizers.Nadam(learning_rate=lr)\n",
        "        else:\n",
        "          self.optimizer=tf.keras.optimizers.RMSprop(learning_rate=lr)\n",
        "         \n",
        "        self.metric = metric\n",
        "\n",
        "    def set_vocabulary(self, input_tokenizer, targ_tokenizer):\n",
        "        self.input_tokenizer = input_tokenizer\n",
        "        self.targ_tokenizer = targ_tokenizer\n",
        "        self.create_model()\n",
        "    \n",
        "    \"\"\"This procedure used to define Encoder Decoder Layer\"\"\"\n",
        "    def create_model(self):\n",
        "\n",
        "        encoder_vocab_size = len(self.input_tokenizer.word_index) + 1\n",
        "        decoder_vocab_size = len(self.targ_tokenizer.word_index) + 1\n",
        "        self.param.encoder_vocab_size=encoder_vocab_size\n",
        "        self.param.decoder_vocab_size=decoder_vocab_size\n",
        "        #Add Encoder layer\n",
        "\n",
        "        self.encoder = Encoder(self.param)\n",
        "\n",
        "        #Create decode with or without any attention layer\n",
        "        #Check following properties to add attention\n",
        "        # self.attention\n",
        "        # self.attention_type\n",
        "        self.decoder = Decoder(self.param)\n",
        "                \n",
        "\n",
        "    @tf.function\n",
        "    def train(self, input, target, enc_state):\n",
        "\n",
        "        loss = 0 \n",
        "\n",
        "        with tf.GradientTape() as tape: \n",
        "\n",
        "            enc_out, enc_state = self.encoder(input, enc_state)\n",
        "\n",
        "            dec_state = enc_state\n",
        "            dec_input = tf.expand_dims([self.targ_tokenizer.word_index[\"\\t\"]]*self.batch_size ,1)\n",
        "\n",
        "            apply_teacher_forcing=False\n",
        "            #decide whether to use teacher forcing\n",
        "            if random.random() < self.teacher_forcing_ratio:\n",
        "              apply_teacher_forcing=True\n",
        "            ## We use Teacher forcing to train the network\n",
        "            ## Each target at timestep t is passed as input for timestep t + 1\n",
        "            if  (apply_teacher_forcing==True):\n",
        "                #Apply teacher forcing\n",
        "                for t in range(1, target.shape[1]):\n",
        "\n",
        "                    preds, dec_state, _ = self.decoder(dec_input, dec_state, enc_out)\n",
        "                    loss += self.loss(target[:,t], preds)\n",
        "                    self.metric.update_state(target[:,t], preds)\n",
        "                    #As teacher forcing  applied we pass next target as decoder input\n",
        "                    dec_input = tf.expand_dims(target[:,t], 1)\n",
        "            \n",
        "            else:\n",
        "                #Without teacher forcing\n",
        "\n",
        "                for t in range(1, target.shape[1]):\n",
        "\n",
        "                    preds, dec_state, _ = self.decoder(dec_input, dec_state, enc_out)\n",
        "                    loss += self.loss(target[:,t], preds)\n",
        "                    self.metric.update_state(target[:,t], preds)\n",
        "                    #As teacher forcing not applied we pass decoder input as whatever we predict\n",
        "                    preds = tf.argmax(preds, 1)\n",
        "                    dec_input = tf.expand_dims(preds, 1)\n",
        "\n",
        "\n",
        "            batch_loss = loss / target.shape[1]\n",
        "\n",
        "            variables = self.encoder.variables + self.decoder.variables\n",
        "            gradients = tape.gradient(loss, variables)\n",
        "\n",
        "            self.optimizer.apply_gradients(zip(gradients, variables))\n",
        "\n",
        "        return batch_loss, self.metric.result()\n",
        "\n",
        "    \n",
        "  \n",
        "\n",
        "    def fit(self, dataset, val_dataset, batch_size=128, epochs=5, wandb=None,apply_teacher_forcing=True, teacher_forcing_ratio=0.7):\n",
        "\n",
        "        self.batch_size = batch_size\n",
        "        self.apply_teacher_forcing = apply_teacher_forcing\n",
        "        self.teacher_forcing_ratio=teacher_forcing_ratio\n",
        "        #Prepare chunk of data based on batch size provided\n",
        "        steps_per_epoch = len(dataset) // self.batch_size\n",
        "        #steps_per_epoch_val = len(val_dataset) // self.batch_size\n",
        "        \n",
        "        dataset = dataset.batch(self.batch_size, drop_remainder=False)\n",
        "        #val_dataset = val_dataset.batch(self.batch_size, drop_remainder=False)\n",
        "\n",
        "      \n",
        "        sample_inp, sample_targ = next(iter(dataset))\n",
        "        self.max_target_len = sample_targ.shape[1]\n",
        "        self.max_input_len = sample_inp.shape[1]\n",
        "\n",
        "        #Store Encoder ,decoder details in case model get good accuracy\n",
        "        #Will be useful to restore best model\n",
        "        self.bestEncoder=self.encoder\n",
        "        self.bestDecoder=self.decoder\n",
        "        self.bestoptimizer=self.optimizer\n",
        "        \n",
        "        accuracyDegradePatience=0\n",
        "        self.oldaccuracy=0\n",
        "        for epoch in  tqdm(range(1, epochs+1), total = epochs,desc=\"Epochs \"):\n",
        "             \n",
        "            if(accuracyDegradePatience>=self.patience):\n",
        "                if(self.restoreBestModel==True):\n",
        "                    self.encoder=self.bestEncoder\n",
        "                    self.decoder=self.bestDecoder\n",
        "                    self.optimizer=self.bestoptimizer\n",
        "                break\n",
        "            ## Training loop ##\n",
        "            total_loss = 0\n",
        "            total_acc = 0\n",
        "            self.metric.reset_states()\n",
        "\n",
        "            starting_time = time.time()\n",
        "            enc_state = self.encoder.initialize_hidden_state(self.batch_size)\n",
        "\n",
        "            \n",
        "           \n",
        "            for batch, (input, target) in enumerate(dataset.take(steps_per_epoch)):\n",
        "                #Accumulate loss and accurecy for each batch\n",
        "                batch_loss, acc = self.train(input, target, enc_state)\n",
        "                total_loss += batch_loss\n",
        "                total_acc += acc\n",
        "            #Calculate validation accurecy for current Epoch\n",
        "          \n",
        "            avg_acc = total_acc / steps_per_epoch\n",
        "            avg_loss = total_loss / steps_per_epoch\n",
        "\n",
        "            # Validation loop ##\n",
        "            total_val_loss = 0\n",
        "            total_val_acc = 0\n",
        "            self.metric.reset_states()\n",
        "\n",
        "            enc_state = self.encoder.initialize_hidden_state(self.batch_size)\n",
        "\n",
        "            #Process data in batches\n",
        "            \n",
        "            avg_val_loss, avg_val_acc = self.evaluate(val_dataset,batch_size=self.batch_size)\n",
        "              \n",
        "\n",
        "           \n",
        "            #Verify if model performance degrading.add()\n",
        "            #In case train accurecy improved but no significant imprrovement in validation\n",
        "            #Add condition for early stopping\n",
        "            #Restore best model based on the input\n",
        "            if(self.oldaccuracy>avg_val_acc):\n",
        "              accuracyDegradePatience+=1\n",
        "            else:\n",
        "              self.bestEncoder=self.encoder\n",
        "              self.bestDecoder=self.decoder\n",
        "              self.bestoptimizer=self.optimizer\n",
        "              self.oldaccuracy=avg_val_acc\n",
        "              accuracyDegradePatience=0\n",
        "            print( \"\\nTrain Loss: {0:.4f} Train Accuracy: {1:.4f} Validation Loss: {2:.4f} Validation Accuracy: {3:.4f}\".format(avg_loss, avg_acc*100, avg_val_loss, avg_val_acc*100))\n",
        "            \n",
        "            time_taken = time.time() - starting_time\n",
        "\n",
        "            #Add logs for WanDb\n",
        "            self.stats.append({\"epoch\": epoch,\n",
        "                            \"train_loss\": avg_loss,\n",
        "                            \"val_loss\": avg_val_loss,\n",
        "                            \"train_acc\": avg_acc*100,\n",
        "                            \"val_acc\": avg_val_acc*100,\n",
        "                            \"training time\": time_taken})\n",
        "            \n",
        "            #Log to wanDB\n",
        "            if not (wandb is None):\n",
        "                wandb.log(self.stats[-1])\n",
        "            \n",
        "            print(f\"\\nTime taken for the epoch {time_taken:.4f}\")\n",
        "           \n",
        "        \n",
        "        print(\"\\nModel trained successfully !!\")\n",
        "    @tf.function\n",
        "    def validation(self, inp, trgt, encoder_state):\n",
        "        #Custom validation\n",
        "\n",
        "        loss = 0\n",
        "        #encoder input\n",
        "        encoder_output, encoder_state = self.encoder(inp, encoder_state)\n",
        "\n",
        "        #Set initial state of decoder from encoder state\n",
        "        decoder_state = encoder_state\n",
        "        decoder_input = tf.expand_dims([self.targ_tokenizer.word_index[\"\\t\"]]*self.batch_size ,1)\n",
        "\n",
        "        for t in range(1, trgt.shape[1]):\n",
        "            #Get decoder prediction\n",
        "            prediction, decoder_state, _ = self.decoder(decoder_input, decoder_state, encoder_output)\n",
        "            loss += self.loss(trgt[:,t], prediction)\n",
        "            self.metric.update_state(trgt[:,t], prediction)\n",
        "\n",
        "            prediction = tf.argmax(prediction, 1)\n",
        "            decoder_input = tf.expand_dims(prediction, 1)\n",
        "\n",
        "        batch_loss = loss / trgt.shape[1]\n",
        "        \n",
        "        return batch_loss, self.metric.result()    \n",
        "    def evaluate(self, test_dataset, batch_size=None):\n",
        "        \"\"\"Evaluate our model on test data\"\"\"\n",
        "        if batch_size is not None:\n",
        "            self.batch_size = batch_size\n",
        "\n",
        "        #prepare chuck of data based on the batch size\n",
        "        steps_per_epoch_test = len(test_dataset) // batch_size\n",
        "        test_dataset = test_dataset.batch(batch_size, drop_remainder=True)\n",
        "        \n",
        "        total_test_loss = 0\n",
        "        total_test_acc = 0\n",
        "        self.metric.reset_states()\n",
        "\n",
        "        enc_state = self.encoder.initialize_hidden_state(self.batch_size)\n",
        "\n",
        "        #print(\"\\nRunning test dataset through the model...\\n\")\n",
        "        #Run in batches based on the input batch size\n",
        "        for batch, (input, target) in enumerate(test_dataset.take(steps_per_epoch_test)):\n",
        "            batch_loss, acc = self.validation(input, target, enc_state)\n",
        "            total_test_loss += batch_loss\n",
        "            total_test_acc += acc\n",
        "\n",
        "        #Caculate avarage  test accuracy and loss\n",
        "        avg_test_acc = total_test_acc / steps_per_epoch_test\n",
        "        avg_test_loss = total_test_loss / steps_per_epoch_test\n",
        "\n",
        "        #Display details\n",
        "        #print(f\"Test Loss: {avg_test_loss:.4f} Test Accuracy: {avg_test_acc:.4f}\")\n",
        "\n",
        "        return avg_test_loss, avg_test_acc\n",
        "\n",
        "    \"\"\" This function used to translate english world to respective language\"\"\"\n",
        "\n",
        "    def translate(self, word, get_heatmap=False):\n",
        "        #start and end token for input word\n",
        "        start=\"\\t\"\n",
        "        end=\"\\n\"\n",
        "        word =start  + word + end\n",
        "\n",
        "        #Tokenize input and perform  preprocessing  \n",
        "        inputs = self.input_tokenizer.texts_to_sequences([word])\n",
        "        inputs = tf.keras.preprocessing.sequence.pad_sequences(inputs,\n",
        "                                                               maxlen=self.max_input_len,\n",
        "                                                               padding=\"post\")\n",
        "\n",
        "        result = \"\"\n",
        "        att_wts = []\n",
        "\n",
        "        #Process input through encoder\n",
        "        enc_state = self.encoder.initialize_hidden_state(1)\n",
        "        enc_out, enc_state = self.encoder(inputs, enc_state)\n",
        "\n",
        "        # Set initial decoder sate to encoder state\n",
        "        dec_state = enc_state\n",
        "        dec_input = tf.expand_dims([self.targ_tokenizer.word_index[start]]*1, 1)\n",
        "\n",
        "        #Run the loop for maximum word size the target language can have\n",
        "        #We get this data during training \n",
        "        for t in range(1, self.max_target_len):\n",
        "\n",
        "            preds, dec_state, attention_weights = self.decoder(dec_input, dec_state, enc_out)\n",
        "            \n",
        "            #Add attention weights which is useful for generating attention heatmaps\n",
        "            if get_heatmap:\n",
        "                att_wts.append(attention_weights)\n",
        "            \n",
        "            #Pass the current prediction as input to next iteration\n",
        "            preds = tf.argmax(preds, 1)\n",
        "\n",
        "            #Accumulate target words\n",
        "           \n",
        "            next_char = self.targ_tokenizer.index_word[preds.numpy().item()]\n",
        "            result += next_char\n",
        "            \n",
        "            #If we receive end token stop the loop\n",
        "            if next_char == end:\n",
        "                break\n",
        "         \n",
        "\n",
        "            #Decoder input for next iteration\n",
        "            dec_input = tf.expand_dims(preds, 1)\n",
        "        return result[:-1], att_wts[:-1]\n",
        "\n",
        "    "
      ]
    },
    {
      "cell_type": "code",
      "execution_count": 67,
      "metadata": {
        "id": "rT-bKfIIWcES"
      },
      "outputs": [],
      "source": [
        "\n",
        "from tensorflow.keras import layers\n",
        "from tqdm import tqdm\n",
        "def get_layer(name, units, dropout, return_state=False, return_sequences=False):\n",
        "\n",
        "    if name==\"rnn\":\n",
        "        return layers.SimpleRNN(units=units, dropout=dropout, \n",
        "                                return_state=return_state,\n",
        "                                return_sequences=return_sequences)\n",
        "\n",
        "    if name==\"gru\":\n",
        "        return layers.GRU(units=units, dropout=dropout, \n",
        "                          return_state=return_state,\n",
        "                          return_sequences=return_sequences)\n",
        "\n",
        "    if name==\"lstm\":\n",
        "        return layers.LSTM(units=units, dropout=dropout, \n",
        "                           return_state=return_state,\n",
        "                           return_sequences=return_sequences)\n"
      ]
    },
    {
      "cell_type": "code",
      "execution_count": 67,
      "metadata": {
        "id": "PX2KkdCyqyyh"
      },
      "outputs": [],
      "source": []
    },
    {
      "cell_type": "markdown",
      "metadata": {
        "id": "yCVhhqPMWkuS"
      },
      "source": [
        "### Data Preprocessing"
      ]
    },
    {
      "cell_type": "code",
      "execution_count": 68,
      "metadata": {
        "id": "p5Bt3Bf-_JhQ"
      },
      "outputs": [],
      "source": [
        "\n",
        "START_TOKEN=\"\\t\"\n",
        "END_TOKEN=\"\\n\"\n"
      ]
    },
    {
      "cell_type": "code",
      "execution_count": 69,
      "metadata": {
        "colab": {
          "base_uri": "https://localhost:8080/"
        },
        "id": "wvLxKF2Ty2HR",
        "outputId": "7117e941-21a1-4bf0-bf8f-01b8e9dc0a35"
      },
      "outputs": [
        {
          "name": "stdout",
          "output_type": "stream",
          "text": [
            "You are all set\n"
          ]
        }
      ],
      "source": [
        "downloadDataSet()"
      ]
    },
    {
      "cell_type": "code",
      "execution_count": 70,
      "metadata": {
        "id": "6ji0OxT0yxRA"
      },
      "outputs": [],
      "source": [
        "language=\"te\"\n",
        "train_dir, val_dir, test_dir = get_files(language)\n",
        "\n",
        "dataset, input_tokenizer, targ_tokenizer = preprocess_data(train_dir)\n",
        "val_dataset, _, _ = preprocess_data(val_dir,input_tokenizer,targ_tokenizer)\n"
      ]
    },
    {
      "cell_type": "code",
      "execution_count": 71,
      "metadata": {
        "id": "A57aPT6P6uyg"
      },
      "outputs": [],
      "source": [
        "#train data \n",
        "dataset, input_tokenizer, targ_tokenizer = preprocess_data(train_dir)"
      ]
    },
    {
      "cell_type": "markdown",
      "metadata": {
        "id": "dlbXxZXZjpEq"
      },
      "source": [
        "### Train "
      ]
    },
    {
      "cell_type": "code",
      "execution_count": 72,
      "metadata": {
        "colab": {
          "base_uri": "https://localhost:8080/"
        },
        "id": "2dt9LTQAzZHh",
        "outputId": "b8cb6f1c-df0a-4198-a396-50ea16955b3a"
      },
      "outputs": [
        {
          "name": "stderr",
          "output_type": "stream",
          "text": [
            "Epochs :  10%|█         | 1/10 [02:01<18:12, 121.43s/it]"
          ]
        },
        {
          "name": "stdout",
          "output_type": "stream",
          "text": [
            "\n",
            "Train Loss: 1.0444 Train Accuracy: 63.9056 Validation Loss: 1.5168 Validation Accuracy: 76.2763\n",
            "\n",
            "Time taken for the epoch 121.4258\n"
          ]
        },
        {
          "name": "stderr",
          "output_type": "stream",
          "text": [
            "\rEpochs :  20%|██        | 2/10 [02:36<09:24, 70.52s/it] "
          ]
        },
        {
          "name": "stdout",
          "output_type": "stream",
          "text": [
            "\n",
            "Train Loss: 0.2974 Train Accuracy: 88.7173 Validation Loss: 0.9278 Validation Accuracy: 87.5840\n",
            "\n",
            "Time taken for the epoch 34.8783\n"
          ]
        },
        {
          "name": "stderr",
          "output_type": "stream",
          "text": [
            "\rEpochs :  30%|███       | 3/10 [03:11<06:19, 54.26s/it]"
          ]
        },
        {
          "name": "stdout",
          "output_type": "stream",
          "text": [
            "\n",
            "Train Loss: 0.1607 Train Accuracy: 94.6258 Validation Loss: 0.7265 Validation Accuracy: 90.8311\n",
            "\n",
            "Time taken for the epoch 34.9129\n"
          ]
        },
        {
          "name": "stderr",
          "output_type": "stream",
          "text": [
            "\rEpochs :  40%|████      | 4/10 [03:46<04:39, 46.62s/it]"
          ]
        },
        {
          "name": "stdout",
          "output_type": "stream",
          "text": [
            "\n",
            "Train Loss: 0.1193 Train Accuracy: 96.0872 Validation Loss: 0.7095 Validation Accuracy: 91.5287\n",
            "\n",
            "Time taken for the epoch 34.9054\n"
          ]
        },
        {
          "name": "stderr",
          "output_type": "stream",
          "text": [
            "\rEpochs :  50%|█████     | 5/10 [04:21<03:32, 42.42s/it]"
          ]
        },
        {
          "name": "stdout",
          "output_type": "stream",
          "text": [
            "\n",
            "Train Loss: 0.0972 Train Accuracy: 96.8257 Validation Loss: 0.8225 Validation Accuracy: 90.3992\n",
            "\n",
            "Time taken for the epoch 34.9542\n"
          ]
        },
        {
          "name": "stderr",
          "output_type": "stream",
          "text": [
            "\rEpochs :  60%|██████    | 6/10 [04:56<02:39, 39.87s/it]"
          ]
        },
        {
          "name": "stdout",
          "output_type": "stream",
          "text": [
            "\n",
            "Train Loss: 0.0827 Train Accuracy: 97.2795 Validation Loss: 0.7526 Validation Accuracy: 91.3136\n",
            "\n",
            "Time taken for the epoch 34.9320\n"
          ]
        },
        {
          "name": "stderr",
          "output_type": "stream",
          "text": [
            "\rEpochs :  70%|███████   | 7/10 [05:30<01:54, 38.26s/it]"
          ]
        },
        {
          "name": "stdout",
          "output_type": "stream",
          "text": [
            "\n",
            "Train Loss: 0.0719 Train Accuracy: 97.6496 Validation Loss: 0.7637 Validation Accuracy: 91.5055\n",
            "\n",
            "Time taken for the epoch 34.9434\n"
          ]
        },
        {
          "name": "stderr",
          "output_type": "stream",
          "text": [
            "\rEpochs :  80%|████████  | 8/10 [06:05<01:14, 37.18s/it]"
          ]
        },
        {
          "name": "stdout",
          "output_type": "stream",
          "text": [
            "\n",
            "Train Loss: 0.0630 Train Accuracy: 97.9676 Validation Loss: 0.7133 Validation Accuracy: 92.0574\n",
            "\n",
            "Time taken for the epoch 34.8487\n"
          ]
        },
        {
          "name": "stderr",
          "output_type": "stream",
          "text": [
            "\rEpochs :  90%|█████████ | 9/10 [06:40<00:36, 36.47s/it]"
          ]
        },
        {
          "name": "stdout",
          "output_type": "stream",
          "text": [
            "\n",
            "Train Loss: 0.0558 Train Accuracy: 98.1957 Validation Loss: 0.6978 Validation Accuracy: 92.6380\n",
            "\n",
            "Time taken for the epoch 34.9172\n"
          ]
        },
        {
          "name": "stderr",
          "output_type": "stream",
          "text": [
            "Epochs : 100%|██████████| 10/10 [07:15<00:00, 43.56s/it]"
          ]
        },
        {
          "name": "stdout",
          "output_type": "stream",
          "text": [
            "\n",
            "Train Loss: 0.0497 Train Accuracy: 98.4190 Validation Loss: 0.7563 Validation Accuracy: 92.5682\n",
            "\n",
            "Time taken for the epoch 34.8454\n",
            "\n",
            "Model trained successfully !!\n"
          ]
        },
        {
          "name": "stderr",
          "output_type": "stream",
          "text": [
            "\n"
          ]
        }
      ],
      "source": [
        "param=Parameters(language=\"te\",\\\n",
        "                    embedding_dim=256,\\\n",
        "                    encoder_layers=2,\\\n",
        "                    decoder_layers=3,\\\n",
        "                    layer_type='gru',\\\n",
        "                    units=256,\\\n",
        "                    dropout=0.5,\\\n",
        "                    epochs=10,\\\n",
        "             batch_size=64\\\n",
        "               )\n",
        "param.apply_teacher_forcing=True\n",
        "param.teacher_forcing_ratio=1\n",
        "param.patience=7\n",
        "param.attention=True\n",
        "model = SequenceTOSequence(param)\n",
        "model.set_vocabulary(input_tokenizer, targ_tokenizer)\n",
        "model.build(loss=tf.keras.losses.SparseCategoricalCrossentropy(),\\\n",
        "            metric = tf.keras.metrics.SparseCategoricalAccuracy(),\\\n",
        "            optimizer = 'adam',\\\n",
        "            lr=0.0005\\\n",
        "            )\n",
        "model.fit(dataset, val_dataset, epochs=param.epochs, wandb=None,teacher_forcing_ratio=param.teacher_forcing_ratio)       \n",
        "    \n"
      ]
    },
    {
      "cell_type": "markdown",
      "metadata": {
        "id": "wxZRkdDOWQo8"
      },
      "source": [
        "### Evaluate Model"
      ]
    },
    {
      "cell_type": "code",
      "execution_count": 73,
      "metadata": {
        "id": "_M8W0LE9WSQU"
      },
      "outputs": [],
      "source": [
        "\n",
        "def evaluate_samples(model, n=0):\n",
        "\n",
        "    df = pd.read_csv(test_dir, sep=\"\\t\", header=None)\n",
        "\n",
        "    printLine=True\n",
        "    source=[]\n",
        "    actual=[]\n",
        "    predict=[]\n",
        "    if(n==0):\n",
        "      print(f\"Evaluating the model on all words\\n\")\n",
        "      n=len(df)\n",
        "      printLine=False\n",
        "    else:\n",
        "      df = df.sample(n=n).reset_index(drop=False)\n",
        "      #print(f\"Randomly evaluating the model on {n} words\\n\")\n",
        "\n",
        "    for i in range(n):\n",
        "        word = str(df[1][i])\n",
        "        source.append(word)\n",
        "        actual.append(str(df[0][i]))\n",
        "        predict.append(model.translate(word)[0])\n",
        "        \"\"\"if(printLine):\n",
        "          print(f\"Input word: {word}\")\n",
        "          print(f\"Actual translation: {str(df[0][i])}\")\n",
        "          print(f\"Model translation: {predict[-1]}\\n\")\"\"\"\n",
        "    return source,actual,predict\n",
        "    "
      ]
    },
    {
      "cell_type": "code",
      "execution_count": 74,
      "metadata": {
        "colab": {
          "base_uri": "https://localhost:8080/"
        },
        "id": "WNCWb5YtWT2K",
        "outputId": "151873c3-0d24-45ed-e56a-4819ab32377f"
      },
      "outputs": [
        {
          "name": "stdout",
          "output_type": "stream",
          "text": [
            "Evaluating the model on all words\n",
            "\n"
          ]
        }
      ],
      "source": [
        "source,actual,predict=evaluate_samples(model)"
      ]
    },
    {
      "cell_type": "code",
      "execution_count": 75,
      "metadata": {
        "colab": {
          "base_uri": "https://localhost:8080/"
        },
        "id": "AfGmBTb0dIDJ",
        "outputId": "5cf4dc07-d6b5-4153-ea8f-d7df233b951d"
      },
      "outputs": [
        {
          "name": "stdout",
          "output_type": "stream",
          "text": [
            "word level accuracy 0.5484600661214547\n"
          ]
        }
      ],
      "source": [
        "match=0\n",
        "total=0\n",
        "for i,j in zip(actual,predict):\n",
        "  total+=1\n",
        "  if(i==j):\n",
        "    match+=1\n",
        "\n",
        "print('word level accuracy '+str(match/total))"
      ]
    },
    {
      "cell_type": "markdown",
      "metadata": {
        "id": "NTdjBoFvvnni"
      },
      "source": [
        "### Predicted Word Visualisation"
      ]
    },
    {
      "cell_type": "code",
      "execution_count": 76,
      "metadata": {
        "id": "PsNYTxZg8VWi"
      },
      "outputs": [],
      "source": [
        "\n",
        "save=\"predictions_attention.csv\"\n",
        "df = pd.DataFrame()\n",
        "df[\"inputs\"] =source\n",
        "df[\"targets\"] = actual\n",
        "df[\"outputs\"] = predict\n",
        "df.to_csv(save)\n",
        "\n",
        "df = pd.read_csv('predictions_attention.csv')\n",
        "source=df[\"inputs\"]\n",
        "actual=df[\"targets\"] \n",
        "predict=df[\"outputs\"] "
      ]
    },
    {
      "cell_type": "code",
      "execution_count": 333,
      "metadata": {
        "id": "JlCuAKLUWW_Q"
      },
      "outputs": [],
      "source": [
        "from IPython.display import HTML as html_print\n",
        "from IPython.display import display\n",
        "def compare_result(predict,actual,word,message=\"Model with Attention\"):\n",
        "    string1=list(actual)\n",
        "    string2=list(predict)\n",
        "    maxstr=None\n",
        "    \n",
        "    minstr=None\n",
        "    if(len(string1)>len(string2)):\n",
        "      maxstr=string1\n",
        "      minstr=string2\n",
        "    else:\n",
        "      maxstr=string2\n",
        "      minstr=string1\n",
        "   \n",
        "    shift=0\n",
        "    html_str = \"\"\"\n",
        "    <br>  \n",
        "    <h2 style=\"color:#3A363B  ;padding:10px;text-align:left\">{}</h2> \n",
        "    <br>  \n",
        "    <strong  style=\"color:blue ;padding:10px;text-align:left\">WORD:</strong><strong>{}</strong> \n",
        "     \n",
        "    <strong  style=\"color:green ;padding:10px;text-align:left\">ACTUAL:</strong><strong>{}</strong> \n",
        "     <strong  style=\"color:red ;padding:10px;text-align:left\">PREDICTED:</strong><strong>{}</strong> \n",
        "      <br>\n",
        "      <table style=\"border:2px solid black; border-collapse:collapse\">\n",
        "      <tr>\n",
        "      <td scope=\"row\" style=\"border:1px solid black;background-color:#3498DB;color:white;padding:10px;text-align:left\"> <strong>{}</strong> </td>\n",
        "      \"\"\".format(message,word,actual,predict,actual)\n",
        "    maxlen=len(maxstr)\n",
        "    minlen=len(minstr)\n",
        "    char_html=\"\"\n",
        "    j=0\n",
        "    for i in range(maxlen):\n",
        "    \n",
        "        if(j<minlen):\n",
        "          if(maxstr[i]==minstr[j]):\n",
        "              char_html+=\"\"\"<td scope=\"row\" style=\"background-color:#E3FFE7 ;border:1px solid black;padding:15px;text-align:left\"> <strong>{}</strong> </td>\"\"\".format(maxstr[i] )\n",
        "              j+=1\n",
        "          else:\n",
        "             if(i+1<maxlen and  maxstr[i+1]==minstr[j]):\n",
        "                char_html+=\"\"\" <td scope=\"row\" style=\"background-color:#FFF6F7 ; border:1px solid black;padding:15px;text-align:left\"> <strong>{}</strong> </td>\"\"\".format(maxstr[i] )\n",
        "                continue\n",
        "             else:\n",
        "              j+=1\n",
        "              char_html+=\"\"\" <td scope=\"row\" style=\"background-color:#FFF6F7 ; border:1px solid black;padding:15px;text-align:left\"> <strong>{}</strong> </td>\"\"\".format(maxstr[i] )\n",
        "        else:\n",
        "          char_html+=\"\"\"<td scope=\"row\" style=\"background-color: #FFF6F7 ; border:1px solid black;padding:15px;text-align:left\"> <strong>{} </strong></td>\"\"\".format(maxstr[i] )   \n",
        "\n",
        "    char_html+=\"\"\"</tr>\"\"\"\n",
        "    char_html+=\"\"\"<tr>\n",
        "      <td scope=\"row\" style=\"border:1px solid black;background-color:#3498DB;padding:15px;color:white;text-align:left\"> <strong>{} </strong></td>\"\"\".format(predict)\n",
        "\n",
        "    j=0\n",
        "    for i in range(maxlen):\n",
        "\n",
        "        if(j<minlen):\n",
        "        \n",
        "          if(maxstr[i]==minstr[j]):\n",
        "            char_html+=\"\"\"<td scope=\"row\" style=\"background-color:#E3FFE7 ;border:1px solid black;padding:15px;text-align:left\"><strong> {} </strong></td>\"\"\".format(minstr[j] )\n",
        "            j+=1\n",
        "          else:\n",
        "             if(i+1<maxlen and  maxstr[i+1]==minstr[j]):\n",
        "                char_html+=\"\"\"<td scope=\"row\" style=\"background-color:#FFF6F7 ; border:1px solid black;padding:15px;text-align:left\"> <strong>{}</strong> </td>\"\"\".format(' ' )\n",
        "                continue\n",
        "             else:\n",
        "                \n",
        "                char_html+=\"\"\"<td scope=\"row\" style=\"background-color:#FFF6F7 ; border:1px solid black;padding:15px;text-align:left\"> <strong>{}</strong> </td>\"\"\".format(minstr[j] )\n",
        "                j+=1\n",
        "        else:\n",
        "          char_html+=\"\"\"<td scope=\"row\" style=\"background-color:#FFF6F7  ; border:1px solid black;padding:15px;text-align:left\"><strong> {}</strong> </td>\"\"\".format('' )\n",
        "\n",
        "\n",
        "\n",
        "    char_html+=\"\"\"</tr>\"\"\"\n",
        "\n",
        "    char_html+=\"\"\"<tr>\n",
        "      <td scope=\"row\" style=\"border:1px solid black;background-color:#3498DB;padding:15px;color:white;text-align:left\"> <strong>{} </strong></td>\"\"\".format(word)\n",
        "\n",
        "\n",
        "    j=0\n",
        "    for i in range(maxlen):\n",
        "    \n",
        "        if(j<minlen):\n",
        "          if(maxstr[i]==minstr[j]):\n",
        "              char_html+=\"\"\"<td scope=\"row\" style=\"border:1px solid black;padding:15px;text-align:left\">&#x2705; </td>\"\"\"\n",
        "              j+=1\n",
        "          else:\n",
        "              if(i+1<maxlen and  maxstr[i+1]==minstr[j]):\n",
        "                char_html+=\"\"\"<td scope=\"row\" style=\"border:1px solid black;padding:15px;text-align:left\"> &#x274C; </td>\"\"\" \n",
        "                continue\n",
        "              else:\n",
        "                j+=1\n",
        "                char_html+=\"\"\" <td scope=\"row\" style=\" border:1px solid black;padding:15px;text-align:left\"> &#x274C; </td>\"\"\"\n",
        "        else:\n",
        "          char_html+=\"\"\"<td scope=\"row\" style=\"border:1px solid black;padding:15px;text-align:left\"> &#x274C; </td>\"\"\" \n",
        "\n",
        "\n",
        "    char_html+=\"\"\"</tr>\"\"\"\n",
        "    html_str+=char_html\n",
        "    display(html_print(html_str)) "
      ]
    },
    {
      "cell_type": "code",
      "execution_count": 336,
      "metadata": {
        "colab": {
          "base_uri": "https://localhost:8080/",
          "height": 1000
        },
        "id": "IAqSJapXcqz4",
        "outputId": "bfe1cdf1-d44a-4e99-9a4e-bf6b6ec88546"
      },
      "outputs": [
        {
          "data": {
            "text/html": [
              "\n",
              "    <br>  \n",
              "    <h2 style=\"color:#3A363B  ;padding:10px;text-align:left\">Model with Attention</h2> \n",
              "    <br>  \n",
              "    <strong  style=\"color:blue ;padding:10px;text-align:left\">WORD:</strong><strong>angikarinchaali</strong> \n",
              "     \n",
              "    <strong  style=\"color:green ;padding:10px;text-align:left\">ACTUAL:</strong><strong>అంగీకరించాలి</strong> \n",
              "     <strong  style=\"color:red ;padding:10px;text-align:left\">PREDICTED:</strong><strong>అంగికరించాలి</strong> \n",
              "      <br>\n",
              "      <table style=\"border:2px solid black; border-collapse:collapse\">\n",
              "      <tr>\n",
              "      <td scope=\"row\" style=\"border:1px solid black;background-color:#3498DB;color:white;padding:10px;text-align:left\"> <strong>అంగీకరించాలి</strong> </td>\n",
              "      <td scope=\"row\" style=\"background-color:#E3FFE7 ;border:1px solid black;padding:15px;text-align:left\"> <strong>అ</strong> </td><td scope=\"row\" style=\"background-color:#E3FFE7 ;border:1px solid black;padding:15px;text-align:left\"> <strong>ం</strong> </td><td scope=\"row\" style=\"background-color:#E3FFE7 ;border:1px solid black;padding:15px;text-align:left\"> <strong>గ</strong> </td> <td scope=\"row\" style=\"background-color:#FFF6F7 ; border:1px solid black;padding:15px;text-align:left\"> <strong>ి</strong> </td><td scope=\"row\" style=\"background-color:#E3FFE7 ;border:1px solid black;padding:15px;text-align:left\"> <strong>క</strong> </td><td scope=\"row\" style=\"background-color:#E3FFE7 ;border:1px solid black;padding:15px;text-align:left\"> <strong>ర</strong> </td><td scope=\"row\" style=\"background-color:#E3FFE7 ;border:1px solid black;padding:15px;text-align:left\"> <strong>ి</strong> </td><td scope=\"row\" style=\"background-color:#E3FFE7 ;border:1px solid black;padding:15px;text-align:left\"> <strong>ం</strong> </td><td scope=\"row\" style=\"background-color:#E3FFE7 ;border:1px solid black;padding:15px;text-align:left\"> <strong>చ</strong> </td><td scope=\"row\" style=\"background-color:#E3FFE7 ;border:1px solid black;padding:15px;text-align:left\"> <strong>ా</strong> </td><td scope=\"row\" style=\"background-color:#E3FFE7 ;border:1px solid black;padding:15px;text-align:left\"> <strong>ల</strong> </td><td scope=\"row\" style=\"background-color:#E3FFE7 ;border:1px solid black;padding:15px;text-align:left\"> <strong>ి</strong> </td></tr><tr>\n",
              "      <td scope=\"row\" style=\"border:1px solid black;background-color:#3498DB;padding:15px;color:white;text-align:left\"> <strong>అంగికరించాలి </strong></td><td scope=\"row\" style=\"background-color:#E3FFE7 ;border:1px solid black;padding:15px;text-align:left\"><strong> అ </strong></td><td scope=\"row\" style=\"background-color:#E3FFE7 ;border:1px solid black;padding:15px;text-align:left\"><strong> ం </strong></td><td scope=\"row\" style=\"background-color:#E3FFE7 ;border:1px solid black;padding:15px;text-align:left\"><strong> గ </strong></td><td scope=\"row\" style=\"background-color:#FFF6F7 ; border:1px solid black;padding:15px;text-align:left\"> <strong>ీ</strong> </td><td scope=\"row\" style=\"background-color:#E3FFE7 ;border:1px solid black;padding:15px;text-align:left\"><strong> క </strong></td><td scope=\"row\" style=\"background-color:#E3FFE7 ;border:1px solid black;padding:15px;text-align:left\"><strong> ర </strong></td><td scope=\"row\" style=\"background-color:#E3FFE7 ;border:1px solid black;padding:15px;text-align:left\"><strong> ి </strong></td><td scope=\"row\" style=\"background-color:#E3FFE7 ;border:1px solid black;padding:15px;text-align:left\"><strong> ం </strong></td><td scope=\"row\" style=\"background-color:#E3FFE7 ;border:1px solid black;padding:15px;text-align:left\"><strong> చ </strong></td><td scope=\"row\" style=\"background-color:#E3FFE7 ;border:1px solid black;padding:15px;text-align:left\"><strong> ా </strong></td><td scope=\"row\" style=\"background-color:#E3FFE7 ;border:1px solid black;padding:15px;text-align:left\"><strong> ల </strong></td><td scope=\"row\" style=\"background-color:#E3FFE7 ;border:1px solid black;padding:15px;text-align:left\"><strong> ి </strong></td></tr><tr>\n",
              "      <td scope=\"row\" style=\"border:1px solid black;background-color:#3498DB;padding:15px;color:white;text-align:left\"> <strong>angikarinchaali </strong></td><td scope=\"row\" style=\"border:1px solid black;padding:15px;text-align:left\">&#x2705; </td><td scope=\"row\" style=\"border:1px solid black;padding:15px;text-align:left\">&#x2705; </td><td scope=\"row\" style=\"border:1px solid black;padding:15px;text-align:left\">&#x2705; </td> <td scope=\"row\" style=\" border:1px solid black;padding:15px;text-align:left\"> &#x274C; </td><td scope=\"row\" style=\"border:1px solid black;padding:15px;text-align:left\">&#x2705; </td><td scope=\"row\" style=\"border:1px solid black;padding:15px;text-align:left\">&#x2705; </td><td scope=\"row\" style=\"border:1px solid black;padding:15px;text-align:left\">&#x2705; </td><td scope=\"row\" style=\"border:1px solid black;padding:15px;text-align:left\">&#x2705; </td><td scope=\"row\" style=\"border:1px solid black;padding:15px;text-align:left\">&#x2705; </td><td scope=\"row\" style=\"border:1px solid black;padding:15px;text-align:left\">&#x2705; </td><td scope=\"row\" style=\"border:1px solid black;padding:15px;text-align:left\">&#x2705; </td><td scope=\"row\" style=\"border:1px solid black;padding:15px;text-align:left\">&#x2705; </td></tr>"
            ],
            "text/plain": [
              "<IPython.core.display.HTML object>"
            ]
          },
          "metadata": {},
          "output_type": "display_data"
        },
        {
          "data": {
            "text/html": [
              "\n",
              "    <br>  \n",
              "    <h2 style=\"color:#3A363B  ;padding:10px;text-align:left\">Model with Attention</h2> \n",
              "    <br>  \n",
              "    <strong  style=\"color:blue ;padding:10px;text-align:left\">WORD:</strong><strong>angikarinchi</strong> \n",
              "     \n",
              "    <strong  style=\"color:green ;padding:10px;text-align:left\">ACTUAL:</strong><strong>అంగీకరించి</strong> \n",
              "     <strong  style=\"color:red ;padding:10px;text-align:left\">PREDICTED:</strong><strong>అంగికరించి</strong> \n",
              "      <br>\n",
              "      <table style=\"border:2px solid black; border-collapse:collapse\">\n",
              "      <tr>\n",
              "      <td scope=\"row\" style=\"border:1px solid black;background-color:#3498DB;color:white;padding:10px;text-align:left\"> <strong>అంగీకరించి</strong> </td>\n",
              "      <td scope=\"row\" style=\"background-color:#E3FFE7 ;border:1px solid black;padding:15px;text-align:left\"> <strong>అ</strong> </td><td scope=\"row\" style=\"background-color:#E3FFE7 ;border:1px solid black;padding:15px;text-align:left\"> <strong>ం</strong> </td><td scope=\"row\" style=\"background-color:#E3FFE7 ;border:1px solid black;padding:15px;text-align:left\"> <strong>గ</strong> </td> <td scope=\"row\" style=\"background-color:#FFF6F7 ; border:1px solid black;padding:15px;text-align:left\"> <strong>ి</strong> </td><td scope=\"row\" style=\"background-color:#E3FFE7 ;border:1px solid black;padding:15px;text-align:left\"> <strong>క</strong> </td><td scope=\"row\" style=\"background-color:#E3FFE7 ;border:1px solid black;padding:15px;text-align:left\"> <strong>ర</strong> </td><td scope=\"row\" style=\"background-color:#E3FFE7 ;border:1px solid black;padding:15px;text-align:left\"> <strong>ి</strong> </td><td scope=\"row\" style=\"background-color:#E3FFE7 ;border:1px solid black;padding:15px;text-align:left\"> <strong>ం</strong> </td><td scope=\"row\" style=\"background-color:#E3FFE7 ;border:1px solid black;padding:15px;text-align:left\"> <strong>చ</strong> </td><td scope=\"row\" style=\"background-color:#E3FFE7 ;border:1px solid black;padding:15px;text-align:left\"> <strong>ి</strong> </td></tr><tr>\n",
              "      <td scope=\"row\" style=\"border:1px solid black;background-color:#3498DB;padding:15px;color:white;text-align:left\"> <strong>అంగికరించి </strong></td><td scope=\"row\" style=\"background-color:#E3FFE7 ;border:1px solid black;padding:15px;text-align:left\"><strong> అ </strong></td><td scope=\"row\" style=\"background-color:#E3FFE7 ;border:1px solid black;padding:15px;text-align:left\"><strong> ం </strong></td><td scope=\"row\" style=\"background-color:#E3FFE7 ;border:1px solid black;padding:15px;text-align:left\"><strong> గ </strong></td><td scope=\"row\" style=\"background-color:#FFF6F7 ; border:1px solid black;padding:15px;text-align:left\"> <strong>ీ</strong> </td><td scope=\"row\" style=\"background-color:#E3FFE7 ;border:1px solid black;padding:15px;text-align:left\"><strong> క </strong></td><td scope=\"row\" style=\"background-color:#E3FFE7 ;border:1px solid black;padding:15px;text-align:left\"><strong> ర </strong></td><td scope=\"row\" style=\"background-color:#E3FFE7 ;border:1px solid black;padding:15px;text-align:left\"><strong> ి </strong></td><td scope=\"row\" style=\"background-color:#E3FFE7 ;border:1px solid black;padding:15px;text-align:left\"><strong> ం </strong></td><td scope=\"row\" style=\"background-color:#E3FFE7 ;border:1px solid black;padding:15px;text-align:left\"><strong> చ </strong></td><td scope=\"row\" style=\"background-color:#E3FFE7 ;border:1px solid black;padding:15px;text-align:left\"><strong> ి </strong></td></tr><tr>\n",
              "      <td scope=\"row\" style=\"border:1px solid black;background-color:#3498DB;padding:15px;color:white;text-align:left\"> <strong>angikarinchi </strong></td><td scope=\"row\" style=\"border:1px solid black;padding:15px;text-align:left\">&#x2705; </td><td scope=\"row\" style=\"border:1px solid black;padding:15px;text-align:left\">&#x2705; </td><td scope=\"row\" style=\"border:1px solid black;padding:15px;text-align:left\">&#x2705; </td> <td scope=\"row\" style=\" border:1px solid black;padding:15px;text-align:left\"> &#x274C; </td><td scope=\"row\" style=\"border:1px solid black;padding:15px;text-align:left\">&#x2705; </td><td scope=\"row\" style=\"border:1px solid black;padding:15px;text-align:left\">&#x2705; </td><td scope=\"row\" style=\"border:1px solid black;padding:15px;text-align:left\">&#x2705; </td><td scope=\"row\" style=\"border:1px solid black;padding:15px;text-align:left\">&#x2705; </td><td scope=\"row\" style=\"border:1px solid black;padding:15px;text-align:left\">&#x2705; </td><td scope=\"row\" style=\"border:1px solid black;padding:15px;text-align:left\">&#x2705; </td></tr>"
            ],
            "text/plain": [
              "<IPython.core.display.HTML object>"
            ]
          },
          "metadata": {},
          "output_type": "display_data"
        },
        {
          "data": {
            "text/html": [
              "\n",
              "    <br>  \n",
              "    <h2 style=\"color:#3A363B  ;padding:10px;text-align:left\">Model with Attention</h2> \n",
              "    <br>  \n",
              "    <strong  style=\"color:blue ;padding:10px;text-align:left\">WORD:</strong><strong>angikarinchay</strong> \n",
              "     \n",
              "    <strong  style=\"color:green ;padding:10px;text-align:left\">ACTUAL:</strong><strong>అంగీకరించే</strong> \n",
              "     <strong  style=\"color:red ;padding:10px;text-align:left\">PREDICTED:</strong><strong>అంగికరించే</strong> \n",
              "      <br>\n",
              "      <table style=\"border:2px solid black; border-collapse:collapse\">\n",
              "      <tr>\n",
              "      <td scope=\"row\" style=\"border:1px solid black;background-color:#3498DB;color:white;padding:10px;text-align:left\"> <strong>అంగీకరించే</strong> </td>\n",
              "      <td scope=\"row\" style=\"background-color:#E3FFE7 ;border:1px solid black;padding:15px;text-align:left\"> <strong>అ</strong> </td><td scope=\"row\" style=\"background-color:#E3FFE7 ;border:1px solid black;padding:15px;text-align:left\"> <strong>ం</strong> </td><td scope=\"row\" style=\"background-color:#E3FFE7 ;border:1px solid black;padding:15px;text-align:left\"> <strong>గ</strong> </td> <td scope=\"row\" style=\"background-color:#FFF6F7 ; border:1px solid black;padding:15px;text-align:left\"> <strong>ి</strong> </td><td scope=\"row\" style=\"background-color:#E3FFE7 ;border:1px solid black;padding:15px;text-align:left\"> <strong>క</strong> </td><td scope=\"row\" style=\"background-color:#E3FFE7 ;border:1px solid black;padding:15px;text-align:left\"> <strong>ర</strong> </td><td scope=\"row\" style=\"background-color:#E3FFE7 ;border:1px solid black;padding:15px;text-align:left\"> <strong>ి</strong> </td><td scope=\"row\" style=\"background-color:#E3FFE7 ;border:1px solid black;padding:15px;text-align:left\"> <strong>ం</strong> </td><td scope=\"row\" style=\"background-color:#E3FFE7 ;border:1px solid black;padding:15px;text-align:left\"> <strong>చ</strong> </td><td scope=\"row\" style=\"background-color:#E3FFE7 ;border:1px solid black;padding:15px;text-align:left\"> <strong>ే</strong> </td></tr><tr>\n",
              "      <td scope=\"row\" style=\"border:1px solid black;background-color:#3498DB;padding:15px;color:white;text-align:left\"> <strong>అంగికరించే </strong></td><td scope=\"row\" style=\"background-color:#E3FFE7 ;border:1px solid black;padding:15px;text-align:left\"><strong> అ </strong></td><td scope=\"row\" style=\"background-color:#E3FFE7 ;border:1px solid black;padding:15px;text-align:left\"><strong> ం </strong></td><td scope=\"row\" style=\"background-color:#E3FFE7 ;border:1px solid black;padding:15px;text-align:left\"><strong> గ </strong></td><td scope=\"row\" style=\"background-color:#FFF6F7 ; border:1px solid black;padding:15px;text-align:left\"> <strong>ీ</strong> </td><td scope=\"row\" style=\"background-color:#E3FFE7 ;border:1px solid black;padding:15px;text-align:left\"><strong> క </strong></td><td scope=\"row\" style=\"background-color:#E3FFE7 ;border:1px solid black;padding:15px;text-align:left\"><strong> ర </strong></td><td scope=\"row\" style=\"background-color:#E3FFE7 ;border:1px solid black;padding:15px;text-align:left\"><strong> ి </strong></td><td scope=\"row\" style=\"background-color:#E3FFE7 ;border:1px solid black;padding:15px;text-align:left\"><strong> ం </strong></td><td scope=\"row\" style=\"background-color:#E3FFE7 ;border:1px solid black;padding:15px;text-align:left\"><strong> చ </strong></td><td scope=\"row\" style=\"background-color:#E3FFE7 ;border:1px solid black;padding:15px;text-align:left\"><strong> ే </strong></td></tr><tr>\n",
              "      <td scope=\"row\" style=\"border:1px solid black;background-color:#3498DB;padding:15px;color:white;text-align:left\"> <strong>angikarinchay </strong></td><td scope=\"row\" style=\"border:1px solid black;padding:15px;text-align:left\">&#x2705; </td><td scope=\"row\" style=\"border:1px solid black;padding:15px;text-align:left\">&#x2705; </td><td scope=\"row\" style=\"border:1px solid black;padding:15px;text-align:left\">&#x2705; </td> <td scope=\"row\" style=\" border:1px solid black;padding:15px;text-align:left\"> &#x274C; </td><td scope=\"row\" style=\"border:1px solid black;padding:15px;text-align:left\">&#x2705; </td><td scope=\"row\" style=\"border:1px solid black;padding:15px;text-align:left\">&#x2705; </td><td scope=\"row\" style=\"border:1px solid black;padding:15px;text-align:left\">&#x2705; </td><td scope=\"row\" style=\"border:1px solid black;padding:15px;text-align:left\">&#x2705; </td><td scope=\"row\" style=\"border:1px solid black;padding:15px;text-align:left\">&#x2705; </td><td scope=\"row\" style=\"border:1px solid black;padding:15px;text-align:left\">&#x2705; </td></tr>"
            ],
            "text/plain": [
              "<IPython.core.display.HTML object>"
            ]
          },
          "metadata": {},
          "output_type": "display_data"
        },
        {
          "data": {
            "text/html": [
              "\n",
              "    <br>  \n",
              "    <h2 style=\"color:#3A363B  ;padding:10px;text-align:left\">Model with Attention</h2> \n",
              "    <br>  \n",
              "    <strong  style=\"color:blue ;padding:10px;text-align:left\">WORD:</strong><strong>angikarinche</strong> \n",
              "     \n",
              "    <strong  style=\"color:green ;padding:10px;text-align:left\">ACTUAL:</strong><strong>అంగీకరించే</strong> \n",
              "     <strong  style=\"color:red ;padding:10px;text-align:left\">PREDICTED:</strong><strong>అంగికరించే</strong> \n",
              "      <br>\n",
              "      <table style=\"border:2px solid black; border-collapse:collapse\">\n",
              "      <tr>\n",
              "      <td scope=\"row\" style=\"border:1px solid black;background-color:#3498DB;color:white;padding:10px;text-align:left\"> <strong>అంగీకరించే</strong> </td>\n",
              "      <td scope=\"row\" style=\"background-color:#E3FFE7 ;border:1px solid black;padding:15px;text-align:left\"> <strong>అ</strong> </td><td scope=\"row\" style=\"background-color:#E3FFE7 ;border:1px solid black;padding:15px;text-align:left\"> <strong>ం</strong> </td><td scope=\"row\" style=\"background-color:#E3FFE7 ;border:1px solid black;padding:15px;text-align:left\"> <strong>గ</strong> </td> <td scope=\"row\" style=\"background-color:#FFF6F7 ; border:1px solid black;padding:15px;text-align:left\"> <strong>ి</strong> </td><td scope=\"row\" style=\"background-color:#E3FFE7 ;border:1px solid black;padding:15px;text-align:left\"> <strong>క</strong> </td><td scope=\"row\" style=\"background-color:#E3FFE7 ;border:1px solid black;padding:15px;text-align:left\"> <strong>ర</strong> </td><td scope=\"row\" style=\"background-color:#E3FFE7 ;border:1px solid black;padding:15px;text-align:left\"> <strong>ి</strong> </td><td scope=\"row\" style=\"background-color:#E3FFE7 ;border:1px solid black;padding:15px;text-align:left\"> <strong>ం</strong> </td><td scope=\"row\" style=\"background-color:#E3FFE7 ;border:1px solid black;padding:15px;text-align:left\"> <strong>చ</strong> </td><td scope=\"row\" style=\"background-color:#E3FFE7 ;border:1px solid black;padding:15px;text-align:left\"> <strong>ే</strong> </td></tr><tr>\n",
              "      <td scope=\"row\" style=\"border:1px solid black;background-color:#3498DB;padding:15px;color:white;text-align:left\"> <strong>అంగికరించే </strong></td><td scope=\"row\" style=\"background-color:#E3FFE7 ;border:1px solid black;padding:15px;text-align:left\"><strong> అ </strong></td><td scope=\"row\" style=\"background-color:#E3FFE7 ;border:1px solid black;padding:15px;text-align:left\"><strong> ం </strong></td><td scope=\"row\" style=\"background-color:#E3FFE7 ;border:1px solid black;padding:15px;text-align:left\"><strong> గ </strong></td><td scope=\"row\" style=\"background-color:#FFF6F7 ; border:1px solid black;padding:15px;text-align:left\"> <strong>ీ</strong> </td><td scope=\"row\" style=\"background-color:#E3FFE7 ;border:1px solid black;padding:15px;text-align:left\"><strong> క </strong></td><td scope=\"row\" style=\"background-color:#E3FFE7 ;border:1px solid black;padding:15px;text-align:left\"><strong> ర </strong></td><td scope=\"row\" style=\"background-color:#E3FFE7 ;border:1px solid black;padding:15px;text-align:left\"><strong> ి </strong></td><td scope=\"row\" style=\"background-color:#E3FFE7 ;border:1px solid black;padding:15px;text-align:left\"><strong> ం </strong></td><td scope=\"row\" style=\"background-color:#E3FFE7 ;border:1px solid black;padding:15px;text-align:left\"><strong> చ </strong></td><td scope=\"row\" style=\"background-color:#E3FFE7 ;border:1px solid black;padding:15px;text-align:left\"><strong> ే </strong></td></tr><tr>\n",
              "      <td scope=\"row\" style=\"border:1px solid black;background-color:#3498DB;padding:15px;color:white;text-align:left\"> <strong>angikarinche </strong></td><td scope=\"row\" style=\"border:1px solid black;padding:15px;text-align:left\">&#x2705; </td><td scope=\"row\" style=\"border:1px solid black;padding:15px;text-align:left\">&#x2705; </td><td scope=\"row\" style=\"border:1px solid black;padding:15px;text-align:left\">&#x2705; </td> <td scope=\"row\" style=\" border:1px solid black;padding:15px;text-align:left\"> &#x274C; </td><td scope=\"row\" style=\"border:1px solid black;padding:15px;text-align:left\">&#x2705; </td><td scope=\"row\" style=\"border:1px solid black;padding:15px;text-align:left\">&#x2705; </td><td scope=\"row\" style=\"border:1px solid black;padding:15px;text-align:left\">&#x2705; </td><td scope=\"row\" style=\"border:1px solid black;padding:15px;text-align:left\">&#x2705; </td><td scope=\"row\" style=\"border:1px solid black;padding:15px;text-align:left\">&#x2705; </td><td scope=\"row\" style=\"border:1px solid black;padding:15px;text-align:left\">&#x2705; </td></tr>"
            ],
            "text/plain": [
              "<IPython.core.display.HTML object>"
            ]
          },
          "metadata": {},
          "output_type": "display_data"
        },
        {
          "data": {
            "text/html": [
              "\n",
              "    <br>  \n",
              "    <h2 style=\"color:#3A363B  ;padding:10px;text-align:left\">Model with Attention</h2> \n",
              "    <br>  \n",
              "    <strong  style=\"color:blue ;padding:10px;text-align:left\">WORD:</strong><strong>antaarani</strong> \n",
              "     \n",
              "    <strong  style=\"color:green ;padding:10px;text-align:left\">ACTUAL:</strong><strong>అంటారని</strong> \n",
              "     <strong  style=\"color:red ;padding:10px;text-align:left\">PREDICTED:</strong><strong>అంతారని</strong> \n",
              "      <br>\n",
              "      <table style=\"border:2px solid black; border-collapse:collapse\">\n",
              "      <tr>\n",
              "      <td scope=\"row\" style=\"border:1px solid black;background-color:#3498DB;color:white;padding:10px;text-align:left\"> <strong>అంటారని</strong> </td>\n",
              "      <td scope=\"row\" style=\"background-color:#E3FFE7 ;border:1px solid black;padding:15px;text-align:left\"> <strong>అ</strong> </td><td scope=\"row\" style=\"background-color:#E3FFE7 ;border:1px solid black;padding:15px;text-align:left\"> <strong>ం</strong> </td> <td scope=\"row\" style=\"background-color:#FFF6F7 ; border:1px solid black;padding:15px;text-align:left\"> <strong>త</strong> </td><td scope=\"row\" style=\"background-color:#E3FFE7 ;border:1px solid black;padding:15px;text-align:left\"> <strong>ా</strong> </td><td scope=\"row\" style=\"background-color:#E3FFE7 ;border:1px solid black;padding:15px;text-align:left\"> <strong>ర</strong> </td><td scope=\"row\" style=\"background-color:#E3FFE7 ;border:1px solid black;padding:15px;text-align:left\"> <strong>న</strong> </td><td scope=\"row\" style=\"background-color:#E3FFE7 ;border:1px solid black;padding:15px;text-align:left\"> <strong>ి</strong> </td></tr><tr>\n",
              "      <td scope=\"row\" style=\"border:1px solid black;background-color:#3498DB;padding:15px;color:white;text-align:left\"> <strong>అంతారని </strong></td><td scope=\"row\" style=\"background-color:#E3FFE7 ;border:1px solid black;padding:15px;text-align:left\"><strong> అ </strong></td><td scope=\"row\" style=\"background-color:#E3FFE7 ;border:1px solid black;padding:15px;text-align:left\"><strong> ం </strong></td><td scope=\"row\" style=\"background-color:#FFF6F7 ; border:1px solid black;padding:15px;text-align:left\"> <strong>ట</strong> </td><td scope=\"row\" style=\"background-color:#E3FFE7 ;border:1px solid black;padding:15px;text-align:left\"><strong> ా </strong></td><td scope=\"row\" style=\"background-color:#E3FFE7 ;border:1px solid black;padding:15px;text-align:left\"><strong> ర </strong></td><td scope=\"row\" style=\"background-color:#E3FFE7 ;border:1px solid black;padding:15px;text-align:left\"><strong> న </strong></td><td scope=\"row\" style=\"background-color:#E3FFE7 ;border:1px solid black;padding:15px;text-align:left\"><strong> ి </strong></td></tr><tr>\n",
              "      <td scope=\"row\" style=\"border:1px solid black;background-color:#3498DB;padding:15px;color:white;text-align:left\"> <strong>antaarani </strong></td><td scope=\"row\" style=\"border:1px solid black;padding:15px;text-align:left\">&#x2705; </td><td scope=\"row\" style=\"border:1px solid black;padding:15px;text-align:left\">&#x2705; </td> <td scope=\"row\" style=\" border:1px solid black;padding:15px;text-align:left\"> &#x274C; </td><td scope=\"row\" style=\"border:1px solid black;padding:15px;text-align:left\">&#x2705; </td><td scope=\"row\" style=\"border:1px solid black;padding:15px;text-align:left\">&#x2705; </td><td scope=\"row\" style=\"border:1px solid black;padding:15px;text-align:left\">&#x2705; </td><td scope=\"row\" style=\"border:1px solid black;padding:15px;text-align:left\">&#x2705; </td></tr>"
            ],
            "text/plain": [
              "<IPython.core.display.HTML object>"
            ]
          },
          "metadata": {},
          "output_type": "display_data"
        },
        {
          "data": {
            "text/html": [
              "\n",
              "    <br>  \n",
              "    <h2 style=\"color:#3A363B  ;padding:10px;text-align:left\">Model with Attention</h2> \n",
              "    <br>  \n",
              "    <strong  style=\"color:blue ;padding:10px;text-align:left\">WORD:</strong><strong>antarani</strong> \n",
              "     \n",
              "    <strong  style=\"color:green ;padding:10px;text-align:left\">ACTUAL:</strong><strong>అంటారని</strong> \n",
              "     <strong  style=\"color:red ;padding:10px;text-align:left\">PREDICTED:</strong><strong>అంతరాని</strong> \n",
              "      <br>\n",
              "      <table style=\"border:2px solid black; border-collapse:collapse\">\n",
              "      <tr>\n",
              "      <td scope=\"row\" style=\"border:1px solid black;background-color:#3498DB;color:white;padding:10px;text-align:left\"> <strong>అంటారని</strong> </td>\n",
              "      <td scope=\"row\" style=\"background-color:#E3FFE7 ;border:1px solid black;padding:15px;text-align:left\"> <strong>అ</strong> </td><td scope=\"row\" style=\"background-color:#E3FFE7 ;border:1px solid black;padding:15px;text-align:left\"> <strong>ం</strong> </td> <td scope=\"row\" style=\"background-color:#FFF6F7 ; border:1px solid black;padding:15px;text-align:left\"> <strong>త</strong> </td> <td scope=\"row\" style=\"background-color:#FFF6F7 ; border:1px solid black;padding:15px;text-align:left\"> <strong>ర</strong> </td><td scope=\"row\" style=\"background-color:#E3FFE7 ;border:1px solid black;padding:15px;text-align:left\"> <strong>ా</strong> </td> <td scope=\"row\" style=\"background-color:#FFF6F7 ; border:1px solid black;padding:15px;text-align:left\"> <strong>న</strong> </td> <td scope=\"row\" style=\"background-color:#FFF6F7 ; border:1px solid black;padding:15px;text-align:left\"> <strong>ి</strong> </td></tr><tr>\n",
              "      <td scope=\"row\" style=\"border:1px solid black;background-color:#3498DB;padding:15px;color:white;text-align:left\"> <strong>అంతరాని </strong></td><td scope=\"row\" style=\"background-color:#E3FFE7 ;border:1px solid black;padding:15px;text-align:left\"><strong> అ </strong></td><td scope=\"row\" style=\"background-color:#E3FFE7 ;border:1px solid black;padding:15px;text-align:left\"><strong> ం </strong></td><td scope=\"row\" style=\"background-color:#FFF6F7 ; border:1px solid black;padding:15px;text-align:left\"> <strong>ట</strong> </td><td scope=\"row\" style=\"background-color:#FFF6F7 ; border:1px solid black;padding:15px;text-align:left\"> <strong> </strong> </td><td scope=\"row\" style=\"background-color:#E3FFE7 ;border:1px solid black;padding:15px;text-align:left\"><strong> ా </strong></td><td scope=\"row\" style=\"background-color:#FFF6F7 ; border:1px solid black;padding:15px;text-align:left\"> <strong>ర</strong> </td><td scope=\"row\" style=\"background-color:#FFF6F7 ; border:1px solid black;padding:15px;text-align:left\"> <strong>న</strong> </td></tr><tr>\n",
              "      <td scope=\"row\" style=\"border:1px solid black;background-color:#3498DB;padding:15px;color:white;text-align:left\"> <strong>antarani </strong></td><td scope=\"row\" style=\"border:1px solid black;padding:15px;text-align:left\">&#x2705; </td><td scope=\"row\" style=\"border:1px solid black;padding:15px;text-align:left\">&#x2705; </td> <td scope=\"row\" style=\" border:1px solid black;padding:15px;text-align:left\"> &#x274C; </td><td scope=\"row\" style=\"border:1px solid black;padding:15px;text-align:left\"> &#x274C; </td><td scope=\"row\" style=\"border:1px solid black;padding:15px;text-align:left\">&#x2705; </td> <td scope=\"row\" style=\" border:1px solid black;padding:15px;text-align:left\"> &#x274C; </td> <td scope=\"row\" style=\" border:1px solid black;padding:15px;text-align:left\"> &#x274C; </td></tr>"
            ],
            "text/plain": [
              "<IPython.core.display.HTML object>"
            ]
          },
          "metadata": {},
          "output_type": "display_data"
        },
        {
          "data": {
            "text/html": [
              "\n",
              "    <br>  \n",
              "    <h2 style=\"color:#3A363B  ;padding:10px;text-align:left\">Model with Attention</h2> \n",
              "    <br>  \n",
              "    <strong  style=\"color:blue ;padding:10px;text-align:left\">WORD:</strong><strong>antaavaa</strong> \n",
              "     \n",
              "    <strong  style=\"color:green ;padding:10px;text-align:left\">ACTUAL:</strong><strong>అంటావా</strong> \n",
              "     <strong  style=\"color:red ;padding:10px;text-align:left\">PREDICTED:</strong><strong>అంతావా</strong> \n",
              "      <br>\n",
              "      <table style=\"border:2px solid black; border-collapse:collapse\">\n",
              "      <tr>\n",
              "      <td scope=\"row\" style=\"border:1px solid black;background-color:#3498DB;color:white;padding:10px;text-align:left\"> <strong>అంటావా</strong> </td>\n",
              "      <td scope=\"row\" style=\"background-color:#E3FFE7 ;border:1px solid black;padding:15px;text-align:left\"> <strong>అ</strong> </td><td scope=\"row\" style=\"background-color:#E3FFE7 ;border:1px solid black;padding:15px;text-align:left\"> <strong>ం</strong> </td> <td scope=\"row\" style=\"background-color:#FFF6F7 ; border:1px solid black;padding:15px;text-align:left\"> <strong>త</strong> </td><td scope=\"row\" style=\"background-color:#E3FFE7 ;border:1px solid black;padding:15px;text-align:left\"> <strong>ా</strong> </td><td scope=\"row\" style=\"background-color:#E3FFE7 ;border:1px solid black;padding:15px;text-align:left\"> <strong>వ</strong> </td><td scope=\"row\" style=\"background-color:#E3FFE7 ;border:1px solid black;padding:15px;text-align:left\"> <strong>ా</strong> </td></tr><tr>\n",
              "      <td scope=\"row\" style=\"border:1px solid black;background-color:#3498DB;padding:15px;color:white;text-align:left\"> <strong>అంతావా </strong></td><td scope=\"row\" style=\"background-color:#E3FFE7 ;border:1px solid black;padding:15px;text-align:left\"><strong> అ </strong></td><td scope=\"row\" style=\"background-color:#E3FFE7 ;border:1px solid black;padding:15px;text-align:left\"><strong> ం </strong></td><td scope=\"row\" style=\"background-color:#FFF6F7 ; border:1px solid black;padding:15px;text-align:left\"> <strong>ట</strong> </td><td scope=\"row\" style=\"background-color:#E3FFE7 ;border:1px solid black;padding:15px;text-align:left\"><strong> ా </strong></td><td scope=\"row\" style=\"background-color:#E3FFE7 ;border:1px solid black;padding:15px;text-align:left\"><strong> వ </strong></td><td scope=\"row\" style=\"background-color:#E3FFE7 ;border:1px solid black;padding:15px;text-align:left\"><strong> ా </strong></td></tr><tr>\n",
              "      <td scope=\"row\" style=\"border:1px solid black;background-color:#3498DB;padding:15px;color:white;text-align:left\"> <strong>antaavaa </strong></td><td scope=\"row\" style=\"border:1px solid black;padding:15px;text-align:left\">&#x2705; </td><td scope=\"row\" style=\"border:1px solid black;padding:15px;text-align:left\">&#x2705; </td> <td scope=\"row\" style=\" border:1px solid black;padding:15px;text-align:left\"> &#x274C; </td><td scope=\"row\" style=\"border:1px solid black;padding:15px;text-align:left\">&#x2705; </td><td scope=\"row\" style=\"border:1px solid black;padding:15px;text-align:left\">&#x2705; </td><td scope=\"row\" style=\"border:1px solid black;padding:15px;text-align:left\">&#x2705; </td></tr>"
            ],
            "text/plain": [
              "<IPython.core.display.HTML object>"
            ]
          },
          "metadata": {},
          "output_type": "display_data"
        },
        {
          "data": {
            "text/html": [
              "\n",
              "    <br>  \n",
              "    <h2 style=\"color:#3A363B  ;padding:10px;text-align:left\">Model with Attention</h2> \n",
              "    <br>  \n",
              "    <strong  style=\"color:blue ;padding:10px;text-align:left\">WORD:</strong><strong>antava</strong> \n",
              "     \n",
              "    <strong  style=\"color:green ;padding:10px;text-align:left\">ACTUAL:</strong><strong>అంటావా</strong> \n",
              "     <strong  style=\"color:red ;padding:10px;text-align:left\">PREDICTED:</strong><strong>అంతవ</strong> \n",
              "      <br>\n",
              "      <table style=\"border:2px solid black; border-collapse:collapse\">\n",
              "      <tr>\n",
              "      <td scope=\"row\" style=\"border:1px solid black;background-color:#3498DB;color:white;padding:10px;text-align:left\"> <strong>అంటావా</strong> </td>\n",
              "      <td scope=\"row\" style=\"background-color:#E3FFE7 ;border:1px solid black;padding:15px;text-align:left\"> <strong>అ</strong> </td><td scope=\"row\" style=\"background-color:#E3FFE7 ;border:1px solid black;padding:15px;text-align:left\"> <strong>ం</strong> </td> <td scope=\"row\" style=\"background-color:#FFF6F7 ; border:1px solid black;padding:15px;text-align:left\"> <strong>ట</strong> </td> <td scope=\"row\" style=\"background-color:#FFF6F7 ; border:1px solid black;padding:15px;text-align:left\"> <strong>ా</strong> </td><td scope=\"row\" style=\"background-color:#E3FFE7 ;border:1px solid black;padding:15px;text-align:left\"> <strong>వ</strong> </td><td scope=\"row\" style=\"background-color: #FFF6F7 ; border:1px solid black;padding:15px;text-align:left\"> <strong>ా </strong></td></tr><tr>\n",
              "      <td scope=\"row\" style=\"border:1px solid black;background-color:#3498DB;padding:15px;color:white;text-align:left\"> <strong>అంతవ </strong></td><td scope=\"row\" style=\"background-color:#E3FFE7 ;border:1px solid black;padding:15px;text-align:left\"><strong> అ </strong></td><td scope=\"row\" style=\"background-color:#E3FFE7 ;border:1px solid black;padding:15px;text-align:left\"><strong> ం </strong></td><td scope=\"row\" style=\"background-color:#FFF6F7 ; border:1px solid black;padding:15px;text-align:left\"> <strong>త</strong> </td><td scope=\"row\" style=\"background-color:#FFF6F7 ; border:1px solid black;padding:15px;text-align:left\"> <strong> </strong> </td><td scope=\"row\" style=\"background-color:#E3FFE7 ;border:1px solid black;padding:15px;text-align:left\"><strong> వ </strong></td><td scope=\"row\" style=\"background-color:#FFF6F7  ; border:1px solid black;padding:15px;text-align:left\"><strong> </strong> </td></tr><tr>\n",
              "      <td scope=\"row\" style=\"border:1px solid black;background-color:#3498DB;padding:15px;color:white;text-align:left\"> <strong>antava </strong></td><td scope=\"row\" style=\"border:1px solid black;padding:15px;text-align:left\">&#x2705; </td><td scope=\"row\" style=\"border:1px solid black;padding:15px;text-align:left\">&#x2705; </td> <td scope=\"row\" style=\" border:1px solid black;padding:15px;text-align:left\"> &#x274C; </td><td scope=\"row\" style=\"border:1px solid black;padding:15px;text-align:left\"> &#x274C; </td><td scope=\"row\" style=\"border:1px solid black;padding:15px;text-align:left\">&#x2705; </td><td scope=\"row\" style=\"border:1px solid black;padding:15px;text-align:left\"> &#x274C; </td></tr>"
            ],
            "text/plain": [
              "<IPython.core.display.HTML object>"
            ]
          },
          "metadata": {},
          "output_type": "display_data"
        },
        {
          "data": {
            "text/html": [
              "\n",
              "    <br>  \n",
              "    <h2 style=\"color:#3A363B  ;padding:10px;text-align:left\">Model with Attention</h2> \n",
              "    <br>  \n",
              "    <strong  style=\"color:blue ;padding:10px;text-align:left\">WORD:</strong><strong>undar</strong> \n",
              "     \n",
              "    <strong  style=\"color:green ;padding:10px;text-align:left\">ACTUAL:</strong><strong>అండర్</strong> \n",
              "     <strong  style=\"color:red ;padding:10px;text-align:left\">PREDICTED:</strong><strong>ఉండర్</strong> \n",
              "      <br>\n",
              "      <table style=\"border:2px solid black; border-collapse:collapse\">\n",
              "      <tr>\n",
              "      <td scope=\"row\" style=\"border:1px solid black;background-color:#3498DB;color:white;padding:10px;text-align:left\"> <strong>అండర్</strong> </td>\n",
              "       <td scope=\"row\" style=\"background-color:#FFF6F7 ; border:1px solid black;padding:15px;text-align:left\"> <strong>ఉ</strong> </td><td scope=\"row\" style=\"background-color:#E3FFE7 ;border:1px solid black;padding:15px;text-align:left\"> <strong>ం</strong> </td><td scope=\"row\" style=\"background-color:#E3FFE7 ;border:1px solid black;padding:15px;text-align:left\"> <strong>డ</strong> </td><td scope=\"row\" style=\"background-color:#E3FFE7 ;border:1px solid black;padding:15px;text-align:left\"> <strong>ర</strong> </td><td scope=\"row\" style=\"background-color:#E3FFE7 ;border:1px solid black;padding:15px;text-align:left\"> <strong>్</strong> </td></tr><tr>\n",
              "      <td scope=\"row\" style=\"border:1px solid black;background-color:#3498DB;padding:15px;color:white;text-align:left\"> <strong>ఉండర్ </strong></td><td scope=\"row\" style=\"background-color:#FFF6F7 ; border:1px solid black;padding:15px;text-align:left\"> <strong>అ</strong> </td><td scope=\"row\" style=\"background-color:#E3FFE7 ;border:1px solid black;padding:15px;text-align:left\"><strong> ం </strong></td><td scope=\"row\" style=\"background-color:#E3FFE7 ;border:1px solid black;padding:15px;text-align:left\"><strong> డ </strong></td><td scope=\"row\" style=\"background-color:#E3FFE7 ;border:1px solid black;padding:15px;text-align:left\"><strong> ర </strong></td><td scope=\"row\" style=\"background-color:#E3FFE7 ;border:1px solid black;padding:15px;text-align:left\"><strong> ్ </strong></td></tr><tr>\n",
              "      <td scope=\"row\" style=\"border:1px solid black;background-color:#3498DB;padding:15px;color:white;text-align:left\"> <strong>undar </strong></td> <td scope=\"row\" style=\" border:1px solid black;padding:15px;text-align:left\"> &#x274C; </td><td scope=\"row\" style=\"border:1px solid black;padding:15px;text-align:left\">&#x2705; </td><td scope=\"row\" style=\"border:1px solid black;padding:15px;text-align:left\">&#x2705; </td><td scope=\"row\" style=\"border:1px solid black;padding:15px;text-align:left\">&#x2705; </td><td scope=\"row\" style=\"border:1px solid black;padding:15px;text-align:left\">&#x2705; </td></tr>"
            ],
            "text/plain": [
              "<IPython.core.display.HTML object>"
            ]
          },
          "metadata": {},
          "output_type": "display_data"
        },
        {
          "data": {
            "text/html": [
              "\n",
              "    <br>  \n",
              "    <h2 style=\"color:#3A363B  ;padding:10px;text-align:left\">Model with Attention</h2> \n",
              "    <br>  \n",
              "    <strong  style=\"color:blue ;padding:10px;text-align:left\">WORD:</strong><strong>under</strong> \n",
              "     \n",
              "    <strong  style=\"color:green ;padding:10px;text-align:left\">ACTUAL:</strong><strong>అండర్</strong> \n",
              "     <strong  style=\"color:red ;padding:10px;text-align:left\">PREDICTED:</strong><strong>యుండర్</strong> \n",
              "      <br>\n",
              "      <table style=\"border:2px solid black; border-collapse:collapse\">\n",
              "      <tr>\n",
              "      <td scope=\"row\" style=\"border:1px solid black;background-color:#3498DB;color:white;padding:10px;text-align:left\"> <strong>అండర్</strong> </td>\n",
              "       <td scope=\"row\" style=\"background-color:#FFF6F7 ; border:1px solid black;padding:15px;text-align:left\"> <strong>య</strong> </td> <td scope=\"row\" style=\"background-color:#FFF6F7 ; border:1px solid black;padding:15px;text-align:left\"> <strong>ు</strong> </td><td scope=\"row\" style=\"background-color:#E3FFE7 ;border:1px solid black;padding:15px;text-align:left\"> <strong>ం</strong> </td><td scope=\"row\" style=\"background-color:#E3FFE7 ;border:1px solid black;padding:15px;text-align:left\"> <strong>డ</strong> </td><td scope=\"row\" style=\"background-color:#E3FFE7 ;border:1px solid black;padding:15px;text-align:left\"> <strong>ర</strong> </td><td scope=\"row\" style=\"background-color:#E3FFE7 ;border:1px solid black;padding:15px;text-align:left\"> <strong>్</strong> </td></tr><tr>\n",
              "      <td scope=\"row\" style=\"border:1px solid black;background-color:#3498DB;padding:15px;color:white;text-align:left\"> <strong>యుండర్ </strong></td><td scope=\"row\" style=\"background-color:#FFF6F7 ; border:1px solid black;padding:15px;text-align:left\"> <strong>అ</strong> </td><td scope=\"row\" style=\"background-color:#FFF6F7 ; border:1px solid black;padding:15px;text-align:left\"> <strong> </strong> </td><td scope=\"row\" style=\"background-color:#E3FFE7 ;border:1px solid black;padding:15px;text-align:left\"><strong> ం </strong></td><td scope=\"row\" style=\"background-color:#E3FFE7 ;border:1px solid black;padding:15px;text-align:left\"><strong> డ </strong></td><td scope=\"row\" style=\"background-color:#E3FFE7 ;border:1px solid black;padding:15px;text-align:left\"><strong> ర </strong></td><td scope=\"row\" style=\"background-color:#E3FFE7 ;border:1px solid black;padding:15px;text-align:left\"><strong> ్ </strong></td></tr><tr>\n",
              "      <td scope=\"row\" style=\"border:1px solid black;background-color:#3498DB;padding:15px;color:white;text-align:left\"> <strong>under </strong></td> <td scope=\"row\" style=\" border:1px solid black;padding:15px;text-align:left\"> &#x274C; </td><td scope=\"row\" style=\"border:1px solid black;padding:15px;text-align:left\"> &#x274C; </td><td scope=\"row\" style=\"border:1px solid black;padding:15px;text-align:left\">&#x2705; </td><td scope=\"row\" style=\"border:1px solid black;padding:15px;text-align:left\">&#x2705; </td><td scope=\"row\" style=\"border:1px solid black;padding:15px;text-align:left\">&#x2705; </td><td scope=\"row\" style=\"border:1px solid black;padding:15px;text-align:left\">&#x2705; </td></tr>"
            ],
            "text/plain": [
              "<IPython.core.display.HTML object>"
            ]
          },
          "metadata": {},
          "output_type": "display_data"
        },
        {
          "data": {
            "text/html": [
              "\n",
              "    <br>  \n",
              "    <h2 style=\"color:#3A363B  ;padding:10px;text-align:left\">Model with Attention</h2> \n",
              "    <br>  \n",
              "    <strong  style=\"color:blue ;padding:10px;text-align:left\">WORD:</strong><strong>amkamlo</strong> \n",
              "     \n",
              "    <strong  style=\"color:green ;padding:10px;text-align:left\">ACTUAL:</strong><strong>అంకంలో</strong> \n",
              "     <strong  style=\"color:red ;padding:10px;text-align:left\">PREDICTED:</strong><strong>అంకంలో</strong> \n",
              "      <br>\n",
              "      <table style=\"border:2px solid black; border-collapse:collapse\">\n",
              "      <tr>\n",
              "      <td scope=\"row\" style=\"border:1px solid black;background-color:#3498DB;color:white;padding:10px;text-align:left\"> <strong>అంకంలో</strong> </td>\n",
              "      <td scope=\"row\" style=\"background-color:#E3FFE7 ;border:1px solid black;padding:15px;text-align:left\"> <strong>అ</strong> </td><td scope=\"row\" style=\"background-color:#E3FFE7 ;border:1px solid black;padding:15px;text-align:left\"> <strong>ం</strong> </td><td scope=\"row\" style=\"background-color:#E3FFE7 ;border:1px solid black;padding:15px;text-align:left\"> <strong>క</strong> </td><td scope=\"row\" style=\"background-color:#E3FFE7 ;border:1px solid black;padding:15px;text-align:left\"> <strong>ం</strong> </td><td scope=\"row\" style=\"background-color:#E3FFE7 ;border:1px solid black;padding:15px;text-align:left\"> <strong>ల</strong> </td><td scope=\"row\" style=\"background-color:#E3FFE7 ;border:1px solid black;padding:15px;text-align:left\"> <strong>ో</strong> </td></tr><tr>\n",
              "      <td scope=\"row\" style=\"border:1px solid black;background-color:#3498DB;padding:15px;color:white;text-align:left\"> <strong>అంకంలో </strong></td><td scope=\"row\" style=\"background-color:#E3FFE7 ;border:1px solid black;padding:15px;text-align:left\"><strong> అ </strong></td><td scope=\"row\" style=\"background-color:#E3FFE7 ;border:1px solid black;padding:15px;text-align:left\"><strong> ం </strong></td><td scope=\"row\" style=\"background-color:#E3FFE7 ;border:1px solid black;padding:15px;text-align:left\"><strong> క </strong></td><td scope=\"row\" style=\"background-color:#E3FFE7 ;border:1px solid black;padding:15px;text-align:left\"><strong> ం </strong></td><td scope=\"row\" style=\"background-color:#E3FFE7 ;border:1px solid black;padding:15px;text-align:left\"><strong> ల </strong></td><td scope=\"row\" style=\"background-color:#E3FFE7 ;border:1px solid black;padding:15px;text-align:left\"><strong> ో </strong></td></tr><tr>\n",
              "      <td scope=\"row\" style=\"border:1px solid black;background-color:#3498DB;padding:15px;color:white;text-align:left\"> <strong>amkamlo </strong></td><td scope=\"row\" style=\"border:1px solid black;padding:15px;text-align:left\">&#x2705; </td><td scope=\"row\" style=\"border:1px solid black;padding:15px;text-align:left\">&#x2705; </td><td scope=\"row\" style=\"border:1px solid black;padding:15px;text-align:left\">&#x2705; </td><td scope=\"row\" style=\"border:1px solid black;padding:15px;text-align:left\">&#x2705; </td><td scope=\"row\" style=\"border:1px solid black;padding:15px;text-align:left\">&#x2705; </td><td scope=\"row\" style=\"border:1px solid black;padding:15px;text-align:left\">&#x2705; </td></tr>"
            ],
            "text/plain": [
              "<IPython.core.display.HTML object>"
            ]
          },
          "metadata": {},
          "output_type": "display_data"
        },
        {
          "data": {
            "text/html": [
              "\n",
              "    <br>  \n",
              "    <h2 style=\"color:#3A363B  ;padding:10px;text-align:left\">Model with Attention</h2> \n",
              "    <br>  \n",
              "    <strong  style=\"color:blue ;padding:10px;text-align:left\">WORD:</strong><strong>ankamlo</strong> \n",
              "     \n",
              "    <strong  style=\"color:green ;padding:10px;text-align:left\">ACTUAL:</strong><strong>అంకంలో</strong> \n",
              "     <strong  style=\"color:red ;padding:10px;text-align:left\">PREDICTED:</strong><strong>అంకంలో</strong> \n",
              "      <br>\n",
              "      <table style=\"border:2px solid black; border-collapse:collapse\">\n",
              "      <tr>\n",
              "      <td scope=\"row\" style=\"border:1px solid black;background-color:#3498DB;color:white;padding:10px;text-align:left\"> <strong>అంకంలో</strong> </td>\n",
              "      <td scope=\"row\" style=\"background-color:#E3FFE7 ;border:1px solid black;padding:15px;text-align:left\"> <strong>అ</strong> </td><td scope=\"row\" style=\"background-color:#E3FFE7 ;border:1px solid black;padding:15px;text-align:left\"> <strong>ం</strong> </td><td scope=\"row\" style=\"background-color:#E3FFE7 ;border:1px solid black;padding:15px;text-align:left\"> <strong>క</strong> </td><td scope=\"row\" style=\"background-color:#E3FFE7 ;border:1px solid black;padding:15px;text-align:left\"> <strong>ం</strong> </td><td scope=\"row\" style=\"background-color:#E3FFE7 ;border:1px solid black;padding:15px;text-align:left\"> <strong>ల</strong> </td><td scope=\"row\" style=\"background-color:#E3FFE7 ;border:1px solid black;padding:15px;text-align:left\"> <strong>ో</strong> </td></tr><tr>\n",
              "      <td scope=\"row\" style=\"border:1px solid black;background-color:#3498DB;padding:15px;color:white;text-align:left\"> <strong>అంకంలో </strong></td><td scope=\"row\" style=\"background-color:#E3FFE7 ;border:1px solid black;padding:15px;text-align:left\"><strong> అ </strong></td><td scope=\"row\" style=\"background-color:#E3FFE7 ;border:1px solid black;padding:15px;text-align:left\"><strong> ం </strong></td><td scope=\"row\" style=\"background-color:#E3FFE7 ;border:1px solid black;padding:15px;text-align:left\"><strong> క </strong></td><td scope=\"row\" style=\"background-color:#E3FFE7 ;border:1px solid black;padding:15px;text-align:left\"><strong> ం </strong></td><td scope=\"row\" style=\"background-color:#E3FFE7 ;border:1px solid black;padding:15px;text-align:left\"><strong> ల </strong></td><td scope=\"row\" style=\"background-color:#E3FFE7 ;border:1px solid black;padding:15px;text-align:left\"><strong> ో </strong></td></tr><tr>\n",
              "      <td scope=\"row\" style=\"border:1px solid black;background-color:#3498DB;padding:15px;color:white;text-align:left\"> <strong>ankamlo </strong></td><td scope=\"row\" style=\"border:1px solid black;padding:15px;text-align:left\">&#x2705; </td><td scope=\"row\" style=\"border:1px solid black;padding:15px;text-align:left\">&#x2705; </td><td scope=\"row\" style=\"border:1px solid black;padding:15px;text-align:left\">&#x2705; </td><td scope=\"row\" style=\"border:1px solid black;padding:15px;text-align:left\">&#x2705; </td><td scope=\"row\" style=\"border:1px solid black;padding:15px;text-align:left\">&#x2705; </td><td scope=\"row\" style=\"border:1px solid black;padding:15px;text-align:left\">&#x2705; </td></tr>"
            ],
            "text/plain": [
              "<IPython.core.display.HTML object>"
            ]
          },
          "metadata": {},
          "output_type": "display_data"
        },
        {
          "data": {
            "text/html": [
              "\n",
              "    <br>  \n",
              "    <h2 style=\"color:#3A363B  ;padding:10px;text-align:left\">Model with Attention</h2> \n",
              "    <br>  \n",
              "    <strong  style=\"color:blue ;padding:10px;text-align:left\">WORD:</strong><strong>ankamloo</strong> \n",
              "     \n",
              "    <strong  style=\"color:green ;padding:10px;text-align:left\">ACTUAL:</strong><strong>అంకంలో</strong> \n",
              "     <strong  style=\"color:red ;padding:10px;text-align:left\">PREDICTED:</strong><strong>అంకంలో</strong> \n",
              "      <br>\n",
              "      <table style=\"border:2px solid black; border-collapse:collapse\">\n",
              "      <tr>\n",
              "      <td scope=\"row\" style=\"border:1px solid black;background-color:#3498DB;color:white;padding:10px;text-align:left\"> <strong>అంకంలో</strong> </td>\n",
              "      <td scope=\"row\" style=\"background-color:#E3FFE7 ;border:1px solid black;padding:15px;text-align:left\"> <strong>అ</strong> </td><td scope=\"row\" style=\"background-color:#E3FFE7 ;border:1px solid black;padding:15px;text-align:left\"> <strong>ం</strong> </td><td scope=\"row\" style=\"background-color:#E3FFE7 ;border:1px solid black;padding:15px;text-align:left\"> <strong>క</strong> </td><td scope=\"row\" style=\"background-color:#E3FFE7 ;border:1px solid black;padding:15px;text-align:left\"> <strong>ం</strong> </td><td scope=\"row\" style=\"background-color:#E3FFE7 ;border:1px solid black;padding:15px;text-align:left\"> <strong>ల</strong> </td><td scope=\"row\" style=\"background-color:#E3FFE7 ;border:1px solid black;padding:15px;text-align:left\"> <strong>ో</strong> </td></tr><tr>\n",
              "      <td scope=\"row\" style=\"border:1px solid black;background-color:#3498DB;padding:15px;color:white;text-align:left\"> <strong>అంకంలో </strong></td><td scope=\"row\" style=\"background-color:#E3FFE7 ;border:1px solid black;padding:15px;text-align:left\"><strong> అ </strong></td><td scope=\"row\" style=\"background-color:#E3FFE7 ;border:1px solid black;padding:15px;text-align:left\"><strong> ం </strong></td><td scope=\"row\" style=\"background-color:#E3FFE7 ;border:1px solid black;padding:15px;text-align:left\"><strong> క </strong></td><td scope=\"row\" style=\"background-color:#E3FFE7 ;border:1px solid black;padding:15px;text-align:left\"><strong> ం </strong></td><td scope=\"row\" style=\"background-color:#E3FFE7 ;border:1px solid black;padding:15px;text-align:left\"><strong> ల </strong></td><td scope=\"row\" style=\"background-color:#E3FFE7 ;border:1px solid black;padding:15px;text-align:left\"><strong> ో </strong></td></tr><tr>\n",
              "      <td scope=\"row\" style=\"border:1px solid black;background-color:#3498DB;padding:15px;color:white;text-align:left\"> <strong>ankamloo </strong></td><td scope=\"row\" style=\"border:1px solid black;padding:15px;text-align:left\">&#x2705; </td><td scope=\"row\" style=\"border:1px solid black;padding:15px;text-align:left\">&#x2705; </td><td scope=\"row\" style=\"border:1px solid black;padding:15px;text-align:left\">&#x2705; </td><td scope=\"row\" style=\"border:1px solid black;padding:15px;text-align:left\">&#x2705; </td><td scope=\"row\" style=\"border:1px solid black;padding:15px;text-align:left\">&#x2705; </td><td scope=\"row\" style=\"border:1px solid black;padding:15px;text-align:left\">&#x2705; </td></tr>"
            ],
            "text/plain": [
              "<IPython.core.display.HTML object>"
            ]
          },
          "metadata": {},
          "output_type": "display_data"
        },
        {
          "data": {
            "text/html": [
              "\n",
              "    <br>  \n",
              "    <h2 style=\"color:#3A363B  ;padding:10px;text-align:left\">Model with Attention</h2> \n",
              "    <br>  \n",
              "    <strong  style=\"color:blue ;padding:10px;text-align:left\">WORD:</strong><strong>amkitamai</strong> \n",
              "     \n",
              "    <strong  style=\"color:green ;padding:10px;text-align:left\">ACTUAL:</strong><strong>అంకితమై</strong> \n",
              "     <strong  style=\"color:red ;padding:10px;text-align:left\">PREDICTED:</strong><strong>అంకితమై</strong> \n",
              "      <br>\n",
              "      <table style=\"border:2px solid black; border-collapse:collapse\">\n",
              "      <tr>\n",
              "      <td scope=\"row\" style=\"border:1px solid black;background-color:#3498DB;color:white;padding:10px;text-align:left\"> <strong>అంకితమై</strong> </td>\n",
              "      <td scope=\"row\" style=\"background-color:#E3FFE7 ;border:1px solid black;padding:15px;text-align:left\"> <strong>అ</strong> </td><td scope=\"row\" style=\"background-color:#E3FFE7 ;border:1px solid black;padding:15px;text-align:left\"> <strong>ం</strong> </td><td scope=\"row\" style=\"background-color:#E3FFE7 ;border:1px solid black;padding:15px;text-align:left\"> <strong>క</strong> </td><td scope=\"row\" style=\"background-color:#E3FFE7 ;border:1px solid black;padding:15px;text-align:left\"> <strong>ి</strong> </td><td scope=\"row\" style=\"background-color:#E3FFE7 ;border:1px solid black;padding:15px;text-align:left\"> <strong>త</strong> </td><td scope=\"row\" style=\"background-color:#E3FFE7 ;border:1px solid black;padding:15px;text-align:left\"> <strong>మ</strong> </td><td scope=\"row\" style=\"background-color:#E3FFE7 ;border:1px solid black;padding:15px;text-align:left\"> <strong>ై</strong> </td></tr><tr>\n",
              "      <td scope=\"row\" style=\"border:1px solid black;background-color:#3498DB;padding:15px;color:white;text-align:left\"> <strong>అంకితమై </strong></td><td scope=\"row\" style=\"background-color:#E3FFE7 ;border:1px solid black;padding:15px;text-align:left\"><strong> అ </strong></td><td scope=\"row\" style=\"background-color:#E3FFE7 ;border:1px solid black;padding:15px;text-align:left\"><strong> ం </strong></td><td scope=\"row\" style=\"background-color:#E3FFE7 ;border:1px solid black;padding:15px;text-align:left\"><strong> క </strong></td><td scope=\"row\" style=\"background-color:#E3FFE7 ;border:1px solid black;padding:15px;text-align:left\"><strong> ి </strong></td><td scope=\"row\" style=\"background-color:#E3FFE7 ;border:1px solid black;padding:15px;text-align:left\"><strong> త </strong></td><td scope=\"row\" style=\"background-color:#E3FFE7 ;border:1px solid black;padding:15px;text-align:left\"><strong> మ </strong></td><td scope=\"row\" style=\"background-color:#E3FFE7 ;border:1px solid black;padding:15px;text-align:left\"><strong> ై </strong></td></tr><tr>\n",
              "      <td scope=\"row\" style=\"border:1px solid black;background-color:#3498DB;padding:15px;color:white;text-align:left\"> <strong>amkitamai </strong></td><td scope=\"row\" style=\"border:1px solid black;padding:15px;text-align:left\">&#x2705; </td><td scope=\"row\" style=\"border:1px solid black;padding:15px;text-align:left\">&#x2705; </td><td scope=\"row\" style=\"border:1px solid black;padding:15px;text-align:left\">&#x2705; </td><td scope=\"row\" style=\"border:1px solid black;padding:15px;text-align:left\">&#x2705; </td><td scope=\"row\" style=\"border:1px solid black;padding:15px;text-align:left\">&#x2705; </td><td scope=\"row\" style=\"border:1px solid black;padding:15px;text-align:left\">&#x2705; </td><td scope=\"row\" style=\"border:1px solid black;padding:15px;text-align:left\">&#x2705; </td></tr>"
            ],
            "text/plain": [
              "<IPython.core.display.HTML object>"
            ]
          },
          "metadata": {},
          "output_type": "display_data"
        },
        {
          "data": {
            "text/html": [
              "\n",
              "    <br>  \n",
              "    <h2 style=\"color:#3A363B  ;padding:10px;text-align:left\">Model with Attention</h2> \n",
              "    <br>  \n",
              "    <strong  style=\"color:blue ;padding:10px;text-align:left\">WORD:</strong><strong>ankitamai</strong> \n",
              "     \n",
              "    <strong  style=\"color:green ;padding:10px;text-align:left\">ACTUAL:</strong><strong>అంకితమై</strong> \n",
              "     <strong  style=\"color:red ;padding:10px;text-align:left\">PREDICTED:</strong><strong>అంకితమై</strong> \n",
              "      <br>\n",
              "      <table style=\"border:2px solid black; border-collapse:collapse\">\n",
              "      <tr>\n",
              "      <td scope=\"row\" style=\"border:1px solid black;background-color:#3498DB;color:white;padding:10px;text-align:left\"> <strong>అంకితమై</strong> </td>\n",
              "      <td scope=\"row\" style=\"background-color:#E3FFE7 ;border:1px solid black;padding:15px;text-align:left\"> <strong>అ</strong> </td><td scope=\"row\" style=\"background-color:#E3FFE7 ;border:1px solid black;padding:15px;text-align:left\"> <strong>ం</strong> </td><td scope=\"row\" style=\"background-color:#E3FFE7 ;border:1px solid black;padding:15px;text-align:left\"> <strong>క</strong> </td><td scope=\"row\" style=\"background-color:#E3FFE7 ;border:1px solid black;padding:15px;text-align:left\"> <strong>ి</strong> </td><td scope=\"row\" style=\"background-color:#E3FFE7 ;border:1px solid black;padding:15px;text-align:left\"> <strong>త</strong> </td><td scope=\"row\" style=\"background-color:#E3FFE7 ;border:1px solid black;padding:15px;text-align:left\"> <strong>మ</strong> </td><td scope=\"row\" style=\"background-color:#E3FFE7 ;border:1px solid black;padding:15px;text-align:left\"> <strong>ై</strong> </td></tr><tr>\n",
              "      <td scope=\"row\" style=\"border:1px solid black;background-color:#3498DB;padding:15px;color:white;text-align:left\"> <strong>అంకితమై </strong></td><td scope=\"row\" style=\"background-color:#E3FFE7 ;border:1px solid black;padding:15px;text-align:left\"><strong> అ </strong></td><td scope=\"row\" style=\"background-color:#E3FFE7 ;border:1px solid black;padding:15px;text-align:left\"><strong> ం </strong></td><td scope=\"row\" style=\"background-color:#E3FFE7 ;border:1px solid black;padding:15px;text-align:left\"><strong> క </strong></td><td scope=\"row\" style=\"background-color:#E3FFE7 ;border:1px solid black;padding:15px;text-align:left\"><strong> ి </strong></td><td scope=\"row\" style=\"background-color:#E3FFE7 ;border:1px solid black;padding:15px;text-align:left\"><strong> త </strong></td><td scope=\"row\" style=\"background-color:#E3FFE7 ;border:1px solid black;padding:15px;text-align:left\"><strong> మ </strong></td><td scope=\"row\" style=\"background-color:#E3FFE7 ;border:1px solid black;padding:15px;text-align:left\"><strong> ై </strong></td></tr><tr>\n",
              "      <td scope=\"row\" style=\"border:1px solid black;background-color:#3498DB;padding:15px;color:white;text-align:left\"> <strong>ankitamai </strong></td><td scope=\"row\" style=\"border:1px solid black;padding:15px;text-align:left\">&#x2705; </td><td scope=\"row\" style=\"border:1px solid black;padding:15px;text-align:left\">&#x2705; </td><td scope=\"row\" style=\"border:1px solid black;padding:15px;text-align:left\">&#x2705; </td><td scope=\"row\" style=\"border:1px solid black;padding:15px;text-align:left\">&#x2705; </td><td scope=\"row\" style=\"border:1px solid black;padding:15px;text-align:left\">&#x2705; </td><td scope=\"row\" style=\"border:1px solid black;padding:15px;text-align:left\">&#x2705; </td><td scope=\"row\" style=\"border:1px solid black;padding:15px;text-align:left\">&#x2705; </td></tr>"
            ],
            "text/plain": [
              "<IPython.core.display.HTML object>"
            ]
          },
          "metadata": {},
          "output_type": "display_data"
        },
        {
          "data": {
            "text/html": [
              "\n",
              "    <br>  \n",
              "    <h2 style=\"color:#3A363B  ;padding:10px;text-align:left\">Model with Attention</h2> \n",
              "    <br>  \n",
              "    <strong  style=\"color:blue ;padding:10px;text-align:left\">WORD:</strong><strong>ankela</strong> \n",
              "     \n",
              "    <strong  style=\"color:green ;padding:10px;text-align:left\">ACTUAL:</strong><strong>అంకెల</strong> \n",
              "     <strong  style=\"color:red ;padding:10px;text-align:left\">PREDICTED:</strong><strong>అంకెల</strong> \n",
              "      <br>\n",
              "      <table style=\"border:2px solid black; border-collapse:collapse\">\n",
              "      <tr>\n",
              "      <td scope=\"row\" style=\"border:1px solid black;background-color:#3498DB;color:white;padding:10px;text-align:left\"> <strong>అంకెల</strong> </td>\n",
              "      <td scope=\"row\" style=\"background-color:#E3FFE7 ;border:1px solid black;padding:15px;text-align:left\"> <strong>అ</strong> </td><td scope=\"row\" style=\"background-color:#E3FFE7 ;border:1px solid black;padding:15px;text-align:left\"> <strong>ం</strong> </td><td scope=\"row\" style=\"background-color:#E3FFE7 ;border:1px solid black;padding:15px;text-align:left\"> <strong>క</strong> </td><td scope=\"row\" style=\"background-color:#E3FFE7 ;border:1px solid black;padding:15px;text-align:left\"> <strong>ె</strong> </td><td scope=\"row\" style=\"background-color:#E3FFE7 ;border:1px solid black;padding:15px;text-align:left\"> <strong>ల</strong> </td></tr><tr>\n",
              "      <td scope=\"row\" style=\"border:1px solid black;background-color:#3498DB;padding:15px;color:white;text-align:left\"> <strong>అంకెల </strong></td><td scope=\"row\" style=\"background-color:#E3FFE7 ;border:1px solid black;padding:15px;text-align:left\"><strong> అ </strong></td><td scope=\"row\" style=\"background-color:#E3FFE7 ;border:1px solid black;padding:15px;text-align:left\"><strong> ం </strong></td><td scope=\"row\" style=\"background-color:#E3FFE7 ;border:1px solid black;padding:15px;text-align:left\"><strong> క </strong></td><td scope=\"row\" style=\"background-color:#E3FFE7 ;border:1px solid black;padding:15px;text-align:left\"><strong> ె </strong></td><td scope=\"row\" style=\"background-color:#E3FFE7 ;border:1px solid black;padding:15px;text-align:left\"><strong> ల </strong></td></tr><tr>\n",
              "      <td scope=\"row\" style=\"border:1px solid black;background-color:#3498DB;padding:15px;color:white;text-align:left\"> <strong>ankela </strong></td><td scope=\"row\" style=\"border:1px solid black;padding:15px;text-align:left\">&#x2705; </td><td scope=\"row\" style=\"border:1px solid black;padding:15px;text-align:left\">&#x2705; </td><td scope=\"row\" style=\"border:1px solid black;padding:15px;text-align:left\">&#x2705; </td><td scope=\"row\" style=\"border:1px solid black;padding:15px;text-align:left\">&#x2705; </td><td scope=\"row\" style=\"border:1px solid black;padding:15px;text-align:left\">&#x2705; </td></tr>"
            ],
            "text/plain": [
              "<IPython.core.display.HTML object>"
            ]
          },
          "metadata": {},
          "output_type": "display_data"
        }
      ],
      "source": [
        "source_rnd=[]\n",
        "actual_rnd=[]\n",
        "predict_rnd=[]\n",
        "count=0\n",
        "for i,j,k in zip(source,actual,predict):\n",
        "  if(j!=k and count<10):\n",
        "    source_rnd.append(i)\n",
        "    actual_rnd.append(j)\n",
        "    predict_rnd.append(k)\n",
        "    count+=1\n",
        "count=0\n",
        "for i,j,k in zip(source,actual,predict):\n",
        "  if(j==k and count<6):\n",
        "    source_rnd.append(i)\n",
        "    actual_rnd.append(j)\n",
        "    predict_rnd.append(k)\n",
        "    count+=1\n",
        "\n",
        "\n",
        "\n",
        "for i,j,k in zip(source_rnd,actual_rnd,predict_rnd):\n",
        "    compare_result(k,j,i)"
      ]
    },
    {
      "cell_type": "markdown",
      "metadata": {
        "id": "-qULETfYvjFe"
      },
      "source": [
        "### Character Level Accuracy"
      ]
    },
    {
      "cell_type": "code",
      "execution_count": 79,
      "metadata": {
        "id": "b7uYwEpLcuwn"
      },
      "outputs": [],
      "source": [
        "def Charecterlevelaccuracy(mode):\n",
        "        sampleinput=[]\n",
        "        sampleop=[]\n",
        "        test_dataset, _, _ = preprocess_data(test_dir, model.input_tokenizer, model.targ_tokenizer)\n",
        "        test_loss, test_acc = model.evaluate(test_dataset, batch_size=25)\n",
        "        #Custom validation\n",
        "        steps_per_epoch_test = len(test_dataset) //25\n",
        "        test_dataset = test_dataset.batch(25, drop_remainder=True)\n",
        "        \n",
        "        total_test_loss = 0\n",
        "        total_test_acc = 0\n",
        "        model.metric.reset_states()\n",
        "\n",
        "        encoder_state = model.encoder.initialize_hidden_state(25)\n",
        "      \n",
        "        \n",
        "        test_ds = test_dataset.batch(10, drop_remainder=True)\n",
        "        \n",
        "        total_test_loss = 0\n",
        "        total_test_acc = 0\n",
        "        model.metric.reset_states()\n",
        "\n",
        "    \n",
        "       \n",
        "        #print(\"\\nRunning test dataset through the model...\\n\")\n",
        "        #Run in batches based on the input batch size\n",
        "        itr=0\n",
        "        for batch, (input, target) in enumerate(test_dataset.take(steps_per_epoch_test)):\n",
        "           \n",
        "            encoder_output, encoder_state = model.encoder(input, encoder_state)        \n",
        "            decoder_state = encoder_state\n",
        "            decoder_input = tf.expand_dims([model.targ_tokenizer.word_index['\\t']]*25 ,1)\n",
        "            for t in range(1, target.shape[1]):\n",
        "                #Get decoder prediction\n",
        "                prediction, decoder_state, _ = model.decoder(decoder_input, decoder_state, encoder_output)\n",
        "                \n",
        "                for i in range(1,target.shape[0]):\n",
        "                    max=np.argmax(prediction[i].numpy())\n",
        "                    maxt=target[i,t].numpy()\n",
        "                    if(max>0 and maxt>0 ):\n",
        "                      sampleinput.append(targ_tokenizer.index_word[max])\n",
        "                      sampleop.append(targ_tokenizer.index_word[maxt])\n",
        "                    \n",
        "                prediction = tf.argmax(prediction, 1)\n",
        "                \n",
        "                decoder_input = tf.expand_dims(prediction, 1)\n",
        "            return sampleinput,sampleop\n",
        "            \n",
        "           \n",
        "       \n",
        "        \n",
        "predchar,tgtchar=Charecterlevelaccuracy(model)      "
      ]
    },
    {
      "cell_type": "code",
      "execution_count": 80,
      "metadata": {
        "id": "sQ5O5vYvc8sd"
      },
      "outputs": [],
      "source": [
        "labels={}\n",
        "labelsTot={}\n",
        "labelswrong={}\n",
        "for i in targ_tokenizer.word_index:\n",
        "  labels[i]=0\n",
        "  labelsTot[i]=0\n",
        "  labelswrong[i]=set()\n"
      ]
    },
    {
      "cell_type": "code",
      "execution_count": 81,
      "metadata": {
        "id": "TDyjMiScc_46"
      },
      "outputs": [],
      "source": [
        "\n",
        "for i,j in zip(predchar,tgtchar):\n",
        "  \n",
        "  if( i.strip()!='' and i==j):\n",
        "    labels[i]+=1\n",
        "    labelsTot[i]+=1\n",
        "  elif( i.strip()!=''):\n",
        "    if((i not in (0,1)) and(j not in (0,1))):\n",
        "      labelswrong[i].add(j)\n",
        "      labelsTot[i]+=1\n"
      ]
    },
    {
      "cell_type": "code",
      "execution_count": 82,
      "metadata": {
        "colab": {
          "base_uri": "https://localhost:8080/",
          "height": 574
        },
        "id": "KuJ9_pHZdCB9",
        "outputId": "a7bd400a-f6ab-4be0-f4f0-c36045ce2d88"
      },
      "outputs": [
        {
          "data": {
            "text/html": [
              "\n",
              "    <br>\n",
              "      <table style=\"border:2px solid black; border-collapse:collapse\">\n",
              "      <tr>\n",
              "      <th scope=\"row\" style=\"border:1px solid black;background-color:#3498DB;color:white;padding:10px;text-align:left\"> <strong>Charecter</strong> </th>\n",
              "      <th scope=\"row\" style=\"border:1px solid black;background-color:#3498DB;color:white;padding:10px;text-align:left\"> <strong>Accurecy</strong> </th>\n",
              "      <th scope=\"row\" style=\"border:1px solid black;background-color:#3498DB;color:white;padding:10px;text-align:left\"> <strong>Confused with</strong> </th></tr>\n",
              "       <td scope=\"row\" style=\"border:1px solid black;padding:10px;text-align:left\"> <strong>ి</strong> </th>\n",
              "      <td scope=\"row\" style=\"border:1px solid black;padding:10px;text-align:left\"> <strong>83.33</strong> </td>\n",
              "      <td scope=\"row\" style=\"border:1px solid black;padding:10px;text-align:left\"> <strong>ీ  ,  </strong> </td>\n",
              "      </tr>\n",
              "       <td scope=\"row\" style=\"border:1px solid black;padding:10px;text-align:left\"> <strong>ా</strong> </th>\n",
              "      <td scope=\"row\" style=\"border:1px solid black;padding:10px;text-align:left\"> <strong>78.95</strong> </td>\n",
              "      <td scope=\"row\" style=\"border:1px solid black;padding:10px;text-align:left\"> <strong>\n",
              "  ,  ల  ,  న  ,  ం  ,  </strong> </td>\n",
              "      </tr>\n",
              "       <td scope=\"row\" style=\"border:1px solid black;padding:10px;text-align:left\"> <strong>న</strong> </th>\n",
              "      <td scope=\"row\" style=\"border:1px solid black;padding:10px;text-align:left\"> <strong>88.89</strong> </td>\n",
              "      <td scope=\"row\" style=\"border:1px solid black;padding:10px;text-align:left\"> <strong>గ  ,  </strong> </td>\n",
              "      </tr>\n",
              "       <td scope=\"row\" style=\"border:1px solid black;padding:10px;text-align:left\"> <strong>ల</strong> </th>\n",
              "      <td scope=\"row\" style=\"border:1px solid black;padding:10px;text-align:left\"> <strong>93.75</strong> </td>\n",
              "      <td scope=\"row\" style=\"border:1px solid black;padding:10px;text-align:left\"> <strong>త  ,  </strong> </td>\n",
              "      </tr>\n",
              "       <td scope=\"row\" style=\"border:1px solid black;padding:10px;text-align:left\"> <strong>ం</strong> </th>\n",
              "      <td scope=\"row\" style=\"border:1px solid black;padding:10px;text-align:left\"> <strong>85.71</strong> </td>\n",
              "      <td scope=\"row\" style=\"border:1px solid black;padding:10px;text-align:left\"> <strong>డ  ,  </strong> </td>\n",
              "      </tr>\n",
              "       <td scope=\"row\" style=\"border:1px solid black;padding:10px;text-align:left\"> <strong>త</strong> </th>\n",
              "      <td scope=\"row\" style=\"border:1px solid black;padding:10px;text-align:left\"> <strong>80.00</strong> </td>\n",
              "      <td scope=\"row\" style=\"border:1px solid black;padding:10px;text-align:left\"> <strong>ో  ,  </strong> </td>\n",
              "      </tr>\n",
              "       <td scope=\"row\" style=\"border:1px solid black;padding:10px;text-align:left\"> <strong>ద</strong> </th>\n",
              "      <td scope=\"row\" style=\"border:1px solid black;padding:10px;text-align:left\"> <strong>75.00</strong> </td>\n",
              "      <td scope=\"row\" style=\"border:1px solid black;padding:10px;text-align:left\"> <strong>డ  ,  </strong> </td>\n",
              "      </tr>\n",
              "       <td scope=\"row\" style=\"border:1px solid black;padding:10px;text-align:left\"> <strong>ో</strong> </th>\n",
              "      <td scope=\"row\" style=\"border:1px solid black;padding:10px;text-align:left\"> <strong>60.00</strong> </td>\n",
              "      <td scope=\"row\" style=\"border:1px solid black;padding:10px;text-align:left\"> <strong>ా  ,  \n",
              "  ,  </strong> </td>\n",
              "      </tr>\n",
              "       <td scope=\"row\" style=\"border:1px solid black;padding:10px;text-align:left\"> <strong>గ</strong> </th>\n",
              "      <td scope=\"row\" style=\"border:1px solid black;padding:10px;text-align:left\"> <strong>66.67</strong> </td>\n",
              "      <td scope=\"row\" style=\"border:1px solid black;padding:10px;text-align:left\"> <strong>ా  ,  </strong> </td>\n",
              "      </tr>\n",
              "       <td scope=\"row\" style=\"border:1px solid black;padding:10px;text-align:left\"> <strong>ే</strong> </th>\n",
              "      <td scope=\"row\" style=\"border:1px solid black;padding:10px;text-align:left\"> <strong>50.00</strong> </td>\n",
              "      <td scope=\"row\" style=\"border:1px solid black;padding:10px;text-align:left\"> <strong>ీ  ,  </strong> </td>\n",
              "      </tr>\n",
              "       <td scope=\"row\" style=\"border:1px solid black;padding:10px;text-align:left\"> <strong>డ</strong> </th>\n",
              "      <td scope=\"row\" style=\"border:1px solid black;padding:10px;text-align:left\"> <strong>50.00</strong> </td>\n",
              "      <td scope=\"row\" style=\"border:1px solid black;padding:10px;text-align:left\"> <strong>క  ,  </strong> </td>\n",
              "      </tr>\n",
              "       <td scope=\"row\" style=\"border:1px solid black;padding:10px;text-align:left\"> <strong>ట</strong> </th>\n",
              "      <td scope=\"row\" style=\"border:1px solid black;padding:10px;text-align:left\"> <strong>75.00</strong> </td>\n",
              "      <td scope=\"row\" style=\"border:1px solid black;padding:10px;text-align:left\"> <strong>త  ,  </strong> </td>\n",
              "      </tr>\n",
              "       <td scope=\"row\" style=\"border:1px solid black;padding:10px;text-align:left\"> <strong>ష</strong> </th>\n",
              "      <td scope=\"row\" style=\"border:1px solid black;padding:10px;text-align:left\"> <strong>33.33</strong> </td>\n",
              "      <td scope=\"row\" style=\"border:1px solid black;padding:10px;text-align:left\"> <strong>శ  ,  స  ,  </strong> </td>\n",
              "      </tr>\n",
              "      </tr></table>"
            ],
            "text/plain": [
              "<IPython.core.display.HTML object>"
            ]
          },
          "metadata": {},
          "output_type": "display_data"
        }
      ],
      "source": [
        "\n",
        "html_str = \"\"\"\n",
        "    <br>\n",
        "      <table style=\"border:2px solid black; border-collapse:collapse\">\n",
        "      <tr>\n",
        "      <th scope=\"row\" style=\"border:1px solid black;background-color:#3498DB;color:white;padding:10px;text-align:left\"> <strong>Charecter</strong> </th>\n",
        "      <th scope=\"row\" style=\"border:1px solid black;background-color:#3498DB;color:white;padding:10px;text-align:left\"> <strong>Accurecy</strong> </th>\n",
        "      <th scope=\"row\" style=\"border:1px solid black;background-color:#3498DB;color:white;padding:10px;text-align:left\"> <strong>Confused with</strong> </th></tr>\n",
        "      \"\"\"\n",
        "\n",
        "\n",
        "\n",
        "for k, v in labels.items():\n",
        "    \n",
        "  if(v!=0 and len(labelswrong[k])>0):\n",
        "    pred=\"\"\n",
        "    for j in labelswrong[k]:\n",
        "      pred+=j+\"  ,  \"\n",
        "\n",
        "    html_str+=\"\"\" <td scope=\"row\" style=\"border:1px solid black;padding:10px;text-align:left\"> <strong>{}</strong> </th>\n",
        "      <td scope=\"row\" style=\"border:1px solid black;padding:10px;text-align:left\"> <strong>{}</strong> </td>\n",
        "      <td scope=\"row\" style=\"border:1px solid black;padding:10px;text-align:left\"> <strong>{}</strong> </td>\n",
        "      </tr>\n",
        "      \"\"\".format( str(k),str(\"{:.2f}\".format(((labels[k]/labelsTot[k])*100))),pred)\n",
        "html_str += \"\"\"</tr></table>\"\"\"\n",
        "display(html_print(html_str)) \n",
        "  "
      ]
    },
    {
      "cell_type": "code",
      "execution_count": 83,
      "metadata": {
        "colab": {
          "base_uri": "https://localhost:8080/",
          "height": 1000
        },
        "id": "8dcQtbNrIylX",
        "outputId": "633714c9-b484-4d1c-a514-e30d43b18db3"
      },
      "outputs": [
        {
          "data": {
            "image/png": "[encoded data removed]",
            "text/plain": [
              "<Figure size 2880x2880 with 2 Axes>"
            ]
          },
          "metadata": {
            "needs_background": "light"
          },
          "output_type": "display_data"
        }
      ],
      "source": [
        "from sklearn.metrics import confusion_matrix\n",
        "import pandas as pd\n",
        "import seaborn as sn\n",
        "import matplotlib.pyplot as plt\n",
        "labelspred=[]\n",
        "labelstrue=[]\n",
        "for i,j in zip(predchar,tgtchar):\n",
        "  if( i.strip()!=''  )  :\n",
        "    labelspred.append(i)\n",
        "    labelstrue.append(j)\n",
        "import matplotlib.ticker as mticker\n",
        "from matplotlib.font_manager import FontProperties\n",
        "hindi_font = FontProperties(fname = 'Nirmala.ttf')\n",
        "fontdict = {'fontsize': 30}\n",
        "data = confusion_matrix(labelspred,labelstrue)\n",
        "\n",
        "\n",
        "import seaborn as sns\n",
        "fig = plt.figure(figsize=(40,40))\n",
        "ax = sns.heatmap(data, annot=True, cmap='Blues')\n",
        "\n",
        "ax.set_title('Confusion Matrix\\n\\n');\n",
        "ax.set_xlabel('\\nPredicted Values')\n",
        "ax.set_ylabel('Actual Values ');\n",
        "## Ticket labels - List must be in alphabetical order\n",
        "ax.set_xticklabels(np.unique(labelstrue+labelspred),fontdict=fontdict,fontproperties=hindi_font)\n",
        "ax.set_yticklabels(np.unique(labelstrue+labelspred),fontdict=fontdict,fontproperties=hindi_font)\n",
        "\n",
        "## Display the visualization of the Confusion Matrix.\n",
        "plt.show()"
      ]
    },
    {
      "cell_type": "markdown",
      "metadata": {
        "id": "kf3H6G78vejQ"
      },
      "source": [
        "### Word level Accuracy"
      ]
    },
    {
      "cell_type": "code",
      "execution_count": 84,
      "metadata": {
        "id": "R6-B1snmWZE_"
      },
      "outputs": [],
      "source": [
        "maxlengthword=0\n",
        "for i in actual:\n",
        "  if(len(i)>maxlengthword):\n",
        "    maxlengthword=len(i)\n"
      ]
    },
    {
      "cell_type": "code",
      "execution_count": 85,
      "metadata": {
        "colab": {
          "base_uri": "https://localhost:8080/"
        },
        "id": "PQS12DYG8RAI",
        "outputId": "2009705e-9d0d-4dc8-9d0e-be30dff780cf"
      },
      "outputs": [
        {
          "name": "stdout",
          "output_type": "stream",
          "text": [
            "word level accuracy 54.846006612145466\n"
          ]
        }
      ],
      "source": [
        "match=0\n",
        "total=0\n",
        "for i,j in zip(actual,predict):\n",
        "  total+=1\n",
        "  if(i==j):\n",
        "    match+=1\n",
        "\n",
        "print('word level accuracy '+str(match*100/total))"
      ]
    },
    {
      "cell_type": "code",
      "execution_count": 86,
      "metadata": {
        "id": "5z5K8uvX8bo0"
      },
      "outputs": [],
      "source": [
        "\n",
        "df_vn = pd.read_csv('predictions_vanilla.csv')\n",
        "source_vn=df_vn[\"inputs\"]\n",
        "actual_vn=df_vn[\"targets\"] \n",
        "predict_vn=df_vn[\"outputs\"] "
      ]
    },
    {
      "cell_type": "code",
      "execution_count": 87,
      "metadata": {
        "colab": {
          "base_uri": "https://localhost:8080/",
          "height": 727
        },
        "id": "5f2uyLdWWadk",
        "outputId": "11aa8b52-87f5-4cc7-a31d-83a86c362aa7"
      },
      "outputs": [
        {
          "data": {
            "text/html": [
              "\n",
              "    <br>\n",
              "      <table style=\"border:2px solid black; border-collapse:collapse\">\n",
              "      <tr>\n",
              "      <th scope=\"row\" style=\"border:1px solid black;background-color:#3498DB;color:white;padding:10px;text-align:left\"> <strong>Word Length</strong> </th>\n",
              "      <th scope=\"row\" style=\"border:1px solid black;background-color:#3498DB;color:white;padding:10px;text-align:left\"> <strong>Total Words</strong> </th>\n",
              "      <th scope=\"row\" style=\"border:1px solid black;background-color:#3498DB;color:white;padding:10px;text-align:left\"> <strong>Accuracy With out Attention</strong> </th>\n",
              "      <th scope=\"row\" style=\"border:1px solid black;background-color:#3498DB;color:white;padding:10px;text-align:left\"> <strong>Accuracy With Attention</strong> </th></tr>\n",
              "     \n",
              "       <td scope=\"row\" style=\"border:1px solid black;padding:10px;text-align:left\"> <strong>1</strong> </td>\n",
              "      <td scope=\"row\" style=\"border:1px solid black;padding:10px;text-align:left\"> <strong>5</strong> </td>\n",
              "      <td scope=\"row\" style=\"border:1px solid black;padding:10px;text-align:left\"> <strong>0.00</strong> </td>\n",
              "      <td scope=\"row\" style=\"border:1px solid black;padding:10px;text-align:left\"> <strong>0.00</strong> </td></tr>\n",
              "       <td scope=\"row\" style=\"border:1px solid black;padding:10px;text-align:left\"> <strong>2</strong> </td>\n",
              "      <td scope=\"row\" style=\"border:1px solid black;padding:10px;text-align:left\"> <strong>13</strong> </td>\n",
              "      <td scope=\"row\" style=\"border:1px solid black;padding:10px;text-align:left\"> <strong>38.46</strong> </td>\n",
              "      <td scope=\"row\" style=\"border:1px solid black;padding:10px;text-align:left\"> <strong>69.23</strong> </td></tr>\n",
              "       <td scope=\"row\" style=\"border:1px solid black;padding:10px;text-align:left\"> <strong>3</strong> </td>\n",
              "      <td scope=\"row\" style=\"border:1px solid black;padding:10px;text-align:left\"> <strong>102</strong> </td>\n",
              "      <td scope=\"row\" style=\"border:1px solid black;padding:10px;text-align:left\"> <strong>26.47</strong> </td>\n",
              "      <td scope=\"row\" style=\"border:1px solid black;padding:10px;text-align:left\"> <strong>31.37</strong> </td></tr>\n",
              "       <td scope=\"row\" style=\"border:1px solid black;padding:10px;text-align:left\"> <strong>4</strong> </td>\n",
              "      <td scope=\"row\" style=\"border:1px solid black;padding:10px;text-align:left\"> <strong>496</strong> </td>\n",
              "      <td scope=\"row\" style=\"border:1px solid black;padding:10px;text-align:left\"> <strong>38.31</strong> </td>\n",
              "      <td scope=\"row\" style=\"border:1px solid black;padding:10px;text-align:left\"> <strong>47.98</strong> </td></tr>\n",
              "       <td scope=\"row\" style=\"border:1px solid black;padding:10px;text-align:left\"> <strong>5</strong> </td>\n",
              "      <td scope=\"row\" style=\"border:1px solid black;padding:10px;text-align:left\"> <strong>581</strong> </td>\n",
              "      <td scope=\"row\" style=\"border:1px solid black;padding:10px;text-align:left\"> <strong>42.00</strong> </td>\n",
              "      <td scope=\"row\" style=\"border:1px solid black;padding:10px;text-align:left\"> <strong>46.30</strong> </td></tr>\n",
              "       <td scope=\"row\" style=\"border:1px solid black;padding:10px;text-align:left\"> <strong>6</strong> </td>\n",
              "      <td scope=\"row\" style=\"border:1px solid black;padding:10px;text-align:left\"> <strong>1050</strong> </td>\n",
              "      <td scope=\"row\" style=\"border:1px solid black;padding:10px;text-align:left\"> <strong>46.95</strong> </td>\n",
              "      <td scope=\"row\" style=\"border:1px solid black;padding:10px;text-align:left\"> <strong>52.95</strong> </td></tr>\n",
              "       <td scope=\"row\" style=\"border:1px solid black;padding:10px;text-align:left\"> <strong>7</strong> </td>\n",
              "      <td scope=\"row\" style=\"border:1px solid black;padding:10px;text-align:left\"> <strong>897</strong> </td>\n",
              "      <td scope=\"row\" style=\"border:1px solid black;padding:10px;text-align:left\"> <strong>48.27</strong> </td>\n",
              "      <td scope=\"row\" style=\"border:1px solid black;padding:10px;text-align:left\"> <strong>57.41</strong> </td></tr>\n",
              "       <td scope=\"row\" style=\"border:1px solid black;padding:10px;text-align:left\"> <strong>8</strong> </td>\n",
              "      <td scope=\"row\" style=\"border:1px solid black;padding:10px;text-align:left\"> <strong>789</strong> </td>\n",
              "      <td scope=\"row\" style=\"border:1px solid black;padding:10px;text-align:left\"> <strong>47.15</strong> </td>\n",
              "      <td scope=\"row\" style=\"border:1px solid black;padding:10px;text-align:left\"> <strong>57.54</strong> </td></tr>\n",
              "       <td scope=\"row\" style=\"border:1px solid black;padding:10px;text-align:left\"> <strong>9</strong> </td>\n",
              "      <td scope=\"row\" style=\"border:1px solid black;padding:10px;text-align:left\"> <strong>630</strong> </td>\n",
              "      <td scope=\"row\" style=\"border:1px solid black;padding:10px;text-align:left\"> <strong>50.48</strong> </td>\n",
              "      <td scope=\"row\" style=\"border:1px solid black;padding:10px;text-align:left\"> <strong>57.62</strong> </td></tr>\n",
              "       <td scope=\"row\" style=\"border:1px solid black;padding:10px;text-align:left\"> <strong>10</strong> </td>\n",
              "      <td scope=\"row\" style=\"border:1px solid black;padding:10px;text-align:left\"> <strong>461</strong> </td>\n",
              "      <td scope=\"row\" style=\"border:1px solid black;padding:10px;text-align:left\"> <strong>51.63</strong> </td>\n",
              "      <td scope=\"row\" style=\"border:1px solid black;padding:10px;text-align:left\"> <strong>64.21</strong> </td></tr>\n",
              "       <td scope=\"row\" style=\"border:1px solid black;padding:10px;text-align:left\"> <strong>11</strong> </td>\n",
              "      <td scope=\"row\" style=\"border:1px solid black;padding:10px;text-align:left\"> <strong>324</strong> </td>\n",
              "      <td scope=\"row\" style=\"border:1px solid black;padding:10px;text-align:left\"> <strong>49.38</strong> </td>\n",
              "      <td scope=\"row\" style=\"border:1px solid black;padding:10px;text-align:left\"> <strong>59.26</strong> </td></tr>\n",
              "       <td scope=\"row\" style=\"border:1px solid black;padding:10px;text-align:left\"> <strong>12</strong> </td>\n",
              "      <td scope=\"row\" style=\"border:1px solid black;padding:10px;text-align:left\"> <strong>184</strong> </td>\n",
              "      <td scope=\"row\" style=\"border:1px solid black;padding:10px;text-align:left\"> <strong>39.67</strong> </td>\n",
              "      <td scope=\"row\" style=\"border:1px solid black;padding:10px;text-align:left\"> <strong>60.87</strong> </td></tr>\n",
              "       <td scope=\"row\" style=\"border:1px solid black;padding:10px;text-align:left\"> <strong>13</strong> </td>\n",
              "      <td scope=\"row\" style=\"border:1px solid black;padding:10px;text-align:left\"> <strong>90</strong> </td>\n",
              "      <td scope=\"row\" style=\"border:1px solid black;padding:10px;text-align:left\"> <strong>42.22</strong> </td>\n",
              "      <td scope=\"row\" style=\"border:1px solid black;padding:10px;text-align:left\"> <strong>52.22</strong> </td></tr>\n",
              "       <td scope=\"row\" style=\"border:1px solid black;padding:10px;text-align:left\"> <strong>14</strong> </td>\n",
              "      <td scope=\"row\" style=\"border:1px solid black;padding:10px;text-align:left\"> <strong>62</strong> </td>\n",
              "      <td scope=\"row\" style=\"border:1px solid black;padding:10px;text-align:left\"> <strong>29.03</strong> </td>\n",
              "      <td scope=\"row\" style=\"border:1px solid black;padding:10px;text-align:left\"> <strong>66.13</strong> </td></tr>\n",
              "       <td scope=\"row\" style=\"border:1px solid black;padding:10px;text-align:left\"> <strong>15</strong> </td>\n",
              "      <td scope=\"row\" style=\"border:1px solid black;padding:10px;text-align:left\"> <strong>48</strong> </td>\n",
              "      <td scope=\"row\" style=\"border:1px solid black;padding:10px;text-align:left\"> <strong>33.33</strong> </td>\n",
              "      <td scope=\"row\" style=\"border:1px solid black;padding:10px;text-align:left\"> <strong>52.08</strong> </td></tr>\n",
              "       <td scope=\"row\" style=\"border:1px solid black;padding:10px;text-align:left\"> <strong>16</strong> </td>\n",
              "      <td scope=\"row\" style=\"border:1px solid black;padding:10px;text-align:left\"> <strong>6</strong> </td>\n",
              "      <td scope=\"row\" style=\"border:1px solid black;padding:10px;text-align:left\"> <strong>50.00</strong> </td>\n",
              "      <td scope=\"row\" style=\"border:1px solid black;padding:10px;text-align:left\"> <strong>16.67</strong> </td></tr>\n",
              "       <td scope=\"row\" style=\"border:1px solid black;padding:10px;text-align:left\"> <strong>17</strong> </td>\n",
              "      <td scope=\"row\" style=\"border:1px solid black;padding:10px;text-align:left\"> <strong>8</strong> </td>\n",
              "      <td scope=\"row\" style=\"border:1px solid black;padding:10px;text-align:left\"> <strong>0.00</strong> </td>\n",
              "      <td scope=\"row\" style=\"border:1px solid black;padding:10px;text-align:left\"> <strong>12.50</strong> </td></tr>\n",
              "      </tr></table>"
            ],
            "text/plain": [
              "<IPython.core.display.HTML object>"
            ]
          },
          "metadata": {},
          "output_type": "display_data"
        }
      ],
      "source": [
        "\n",
        "total_words=np.zeros(maxlengthword+1)\n",
        "total_correct=np.zeros(maxlengthword+1)\n",
        "total_wrong=np.zeros(maxlengthword+1)\n",
        "\n",
        "\n",
        "total_words_vn=np.zeros(maxlengthword+1)\n",
        "total_correct_vn=np.zeros(maxlengthword+1)\n",
        "total_wrong_vn=np.zeros(maxlengthword+1)\n",
        "\n",
        "\n",
        "html_str = \"\"\"\n",
        "    <br>\n",
        "      <table style=\"border:2px solid black; border-collapse:collapse\">\n",
        "      <tr>\n",
        "      <th scope=\"row\" style=\"border:1px solid black;background-color:#3498DB;color:white;padding:10px;text-align:left\"> <strong>Word Length</strong> </th>\n",
        "      <th scope=\"row\" style=\"border:1px solid black;background-color:#3498DB;color:white;padding:10px;text-align:left\"> <strong>Total Words</strong> </th>\n",
        "      <th scope=\"row\" style=\"border:1px solid black;background-color:#3498DB;color:white;padding:10px;text-align:left\"> <strong>Accuracy With out Attention</strong> </th>\n",
        "      <th scope=\"row\" style=\"border:1px solid black;background-color:#3498DB;color:white;padding:10px;text-align:left\"> <strong>Accuracy With Attention</strong> </th></tr>\n",
        "     \n",
        "      \"\"\"\n",
        "for (i,j,k,l) in zip(actual,predict,actual_vn,predict_vn):\n",
        "  total_words[len(i)]+=1\n",
        "  total_words_vn[len(i)]+=1\n",
        "  if(i==j):\n",
        "    total_correct[len(i)]+=1\n",
        "  else:\n",
        "    total_wrong[len(i)]+=1\n",
        "  if(k==l):\n",
        "    total_correct_vn[len(k)]+=1\n",
        "  else:\n",
        "    total_wrong_vn[len(k)]+=1\n",
        "\n",
        "for i in range(maxlengthword):\n",
        "  \n",
        "  if(total_words[i]!=0):\n",
        "    html_str+=\"\"\" <td scope=\"row\" style=\"border:1px solid black;padding:10px;text-align:left\"> <strong>{}</strong> </td>\n",
        "      <td scope=\"row\" style=\"border:1px solid black;padding:10px;text-align:left\"> <strong>{}</strong> </td>\n",
        "      <td scope=\"row\" style=\"border:1px solid black;padding:10px;text-align:left\"> <strong>{}</strong> </td>\n",
        "      <td scope=\"row\" style=\"border:1px solid black;padding:10px;text-align:left\"> <strong>{}</strong> </td></tr>\n",
        "      \"\"\".format( str(i),str(int(total_words[i])),str(\"{:.2f}\".format(total_correct_vn[i]*100/total_words_vn[i]) ), str(\"{:.2f}\".format(total_correct[i]*100/total_words[i])))\n",
        "html_str += \"\"\"</tr></table>\"\"\"\n",
        "\n",
        "display(html_print(html_str)) \n"
      ]
    },
    {
      "cell_type": "markdown",
      "metadata": {
        "id": "rbW7YSQZvZI8"
      },
      "source": [
        "### Attention Heatup"
      ]
    },
    {
      "cell_type": "code",
      "execution_count": 125,
      "metadata": {
        "id": "VFxgxB2t8eFK"
      },
      "outputs": [],
      "source": [
        "import warnings\n",
        "import matplotlib.ticker as mticker\n",
        "from matplotlib.font_manager import FontProperties\n",
        "warnings.filterwarnings('ignore')\n",
        "def attention_heatmap(model, n):\n",
        "    attention_word,attention_pred,attention_wegt=[],[],[]\n",
        "    for i in range(n):\n",
        "        source_word = str(source[i])\n",
        "        pred,attn=model.translate(source_word,get_heatmap=True)\n",
        "        attention_word.append(source_word)\n",
        "        attention_pred.append(pred)\n",
        "        attention_wegt.append(attn)\n",
        "        \n",
        "   \n",
        "    for i in range(n):\n",
        "        lst_array=[]\n",
        "        for j in range(len(attention_wegt[i])):\n",
        "          wgt=attention_wegt[i][j].numpy()[0]\n",
        "          vstack = np.asarray (wgt).reshape(len(wgt))\n",
        "          lst_array.append(vstack)\n",
        "        lst_array=np.asarray(lst_array) \n",
        "        sequence=attention_word[i]\n",
        "        predicted_sequence=attention_pred[i]\n",
        "        actualword=sequence\n",
        "        predictedword=predicted_sequence\n",
        "        sequence=[char for char in sequence]\n",
        "  \n",
        "        predicted_sequence=[char for char in predicted_sequence]\n",
        "      \n",
        "        fig = plt.figure(figsize=(10,10))\n",
        "        ax = fig.add_subplot(1, 1, 1)\n",
        "        \n",
        "        ax.matshow(lst_array[: len(predicted_sequence),:len(sequence )], cmap='viridis')\n",
        "       \n",
        "        hindi_font = FontProperties(fname = 'Nirmala.ttf')\n",
        "        fontdict = {'fontsize': 14}\n",
        "        ax.set_xticks(np.arange(len( sequence)))\n",
        "        ax.set_yticks(np.arange(len( predicted_sequence)))\n",
        "        ax.set_xticklabels(sequence)\n",
        "        ax.set_yticklabels(predicted_sequence,fontdict=fontdict,fontproperties=hindi_font)\n",
        "        ax.xaxis.set_major_locator(mticker.MultipleLocator(1))\n",
        "        ax.yaxis.set_major_locator(mticker.MultipleLocator(1))\n",
        "        plt.title(\"Input: \"+actualword+\" Predicted: \"+str(predictedword),fontproperties=hindi_font )\n",
        "        plt.show()"
      ]
    },
    {
      "cell_type": "code",
      "execution_count": 126,
      "metadata": {
        "colab": {
          "base_uri": "https://localhost:8080/",
          "height": 1000
        },
        "id": "pa2Qmkv2uZ_D",
        "outputId": "1dd02322-005b-479a-fdf3-227b9c7c212f"
      },
      "outputs": [
        {
          "data": {
            "image/png": "[encoded data removed]",
            "text/plain": [
              "<Figure size 720x720 with 1 Axes>"
            ]
          },
          "metadata": {
            "needs_background": "light"
          },
          "output_type": "display_data"
        },
        {
          "data": {
            "image/png": "[encoded data removed]",
            "text/plain": [
              "<Figure size 720x720 with 1 Axes>"
            ]
          },
          "metadata": {
            "needs_background": "light"
          },
          "output_type": "display_data"
        },
        {
          "data": {
            "image/png": "[encoded data removed]",
            "text/plain": [
              "<Figure size 720x720 with 1 Axes>"
            ]
          },
          "metadata": {
            "needs_background": "light"
          },
          "output_type": "display_data"
        },
        {
          "data": {
            "image/png": "[encoded data removed]",
            "text/plain": [
              "<Figure size 720x720 with 1 Axes>"
            ]
          },
          "metadata": {
            "needs_background": "light"
          },
          "output_type": "display_data"
        },
        {
          "data": {
            "image/png": "[encoded data removed]",
            "text/plain": [
              "<Figure size 720x720 with 1 Axes>"
            ]
          },
          "metadata": {
            "needs_background": "light"
          },
          "output_type": "display_data"
        },
        {
          "data": {
            "image/png": "[encoded data removed]",
            "text/plain": [
              "<Figure size 720x720 with 1 Axes>"
            ]
          },
          "metadata": {
            "needs_background": "light"
          },
          "output_type": "display_data"
        },
        {
          "data": {
            "image/png": "[encoded data removed]",
            "text/plain": [
              "<Figure size 720x720 with 1 Axes>"
            ]
          },
          "metadata": {
            "needs_background": "light"
          },
          "output_type": "display_data"
        },
        {
          "data": {
            "image/png": "[encoded data removed]",
            "text/plain": [
              "<Figure size 720x720 with 1 Axes>"
            ]
          },
          "metadata": {
            "needs_background": "light"
          },
          "output_type": "display_data"
        },
        {
          "data": {
            "image/png": "[encoded data removed]",
            "text/plain": [
              "<Figure size 720x720 with 1 Axes>"
            ]
          },
          "metadata": {
            "needs_background": "light"
          },
          "output_type": "display_data"
        },
        {
          "data": {
            "image/png": "[encoded data removed]",
            "text/plain": [
              "<Figure size 720x720 with 1 Axes>"
            ]
          },
          "metadata": {
            "needs_background": "light"
          },
          "output_type": "display_data"
        }
      ],
      "source": [
        "attention_heatmap(model,10)\n"
      ]
    },
    {
      "cell_type": "code",
      "execution_count": 89,
      "metadata": {
        "id": "_kPu-SJxvLTx"
      },
      "outputs": [],
      "source": []
    },
    {
      "cell_type": "markdown",
      "metadata": {
        "id": "yUdCnKxGwZZE"
      },
      "source": [
        "### Visualise "
      ]
    },
    {
      "cell_type": "code",
      "execution_count": 311,
      "metadata": {
        "id": "IviEyH2Qztk8"
      },
      "outputs": [],
      "source": [
        "def get_words_randomly_from_test(model, n):\n",
        "    attention_word,attention_pred,attention_wegt=[],[],[]\n",
        "    dir=get_files(\"te\")\n",
        "    test_df = pd.read_csv(dir[2],sep=\"\\t\",header=None)\n",
        "    sample = test_df.sample(n)\n",
        "    words = []\n",
        "    for i,j in enumerate(sample[1]):\n",
        "        source_word = j\n",
        "        pred,attn=model.translate(source_word,get_heatmap=True)\n",
        "        attention_word.append(source_word)\n",
        "        attention_pred.append(pred)\n",
        "        attention_wegt.append(attn)\n",
        "    return attention_word,attention_pred,attention_wegt\n",
        "attention_word,attention_pred,attention_wegt=get_words_randomly_from_test(model,1)        "
      ]
    },
    {
      "cell_type": "code",
      "execution_count": 312,
      "metadata": {
        "id": "MX1R8i-xwntk"
      },
      "outputs": [],
      "source": [
        "def sort_index(lst, rev=True):\n",
        "    index = range(len(lst))\n",
        "    s = sorted(index, reverse=rev, key=lambda i: lst[i])\n",
        "    return s\n",
        "\n"
      ]
    },
    {
      "cell_type": "code",
      "execution_count": 313,
      "metadata": {
        "id": "_vQCpIjF2S1-"
      },
      "outputs": [],
      "source": [
        "final_index=[]\n",
        "lst_array=[]\n",
        "for j in range(len(attention_wegt[0])):\n",
        "  x=attention_wegt[0][j].numpy()\n",
        "  x=x.reshape(x.shape[1])\n",
        "  wgt=x\n",
        "  \n",
        "  lst_array.append(wgt)\n",
        "lst_array=np.asarray(lst_array) \n"
      ]
    },
    {
      "cell_type": "code",
      "execution_count": 314,
      "metadata": {
        "colab": {
          "base_uri": "https://localhost:8080/"
        },
        "id": "SG8buMfQ5m9H",
        "outputId": "eb74ecab-b54e-4975-e222-16a3ab2a6d03"
      },
      "outputs": [
        {
          "name": "stdout",
          "output_type": "stream",
          "text": [
            "(11, 25)\n"
          ]
        }
      ],
      "source": [
        "print(lst_array.shape)"
      ]
    },
    {
      "cell_type": "code",
      "execution_count": 315,
      "metadata": {
        "id": "dCXsn4dtvGkv"
      },
      "outputs": [],
      "source": [
        "lst_array=lst_array[:len(attention_pred[0]),:len(attention_word[0])]\n"
      ]
    },
    {
      "cell_type": "code",
      "execution_count": 316,
      "metadata": {
        "id": "5KsocoHZ0Xm1"
      },
      "outputs": [],
      "source": [
        "\n",
        "top_attn_index=[]\n",
        "top_attn_color=[]\n",
        "for i in range(len(lst_array)):\n",
        "  max= sort_index(lst_array[i])[:3]\n",
        "  top_attn=[]\n",
        "  for j in max:\n",
        "    top_attn.append(j)\n",
        "  top_attn_index.append(top_attn)\n",
        "\n",
        "  tmp = np.exp(top_attn)\n",
        "  top_attn = tmp / np.sum(tmp)\n",
        "  colour1='#FF5F5F'\n",
        "  \n",
        "  if(top_attn[1]<50):\n",
        "    colour2='#FFB5B5'\n",
        "  else:\n",
        "    colour2='#FFA3A3'\n",
        "\n",
        "  if(top_attn[1]<30):\n",
        "    colour3='#FAE1E1'\n",
        "  else:\n",
        "    colour3='#FCCDCD'\n",
        "  top_attn_color.append([colour1,colour2,colour3])\n"
      ]
    },
    {
      "cell_type": "code",
      "execution_count": 328,
      "metadata": {
        "colab": {
          "base_uri": "https://localhost:8080/",
          "height": 292
        },
        "id": "AgFQM2D82yYy",
        "outputId": "aa3c19df-e52a-433f-c3ff-92abd6ffdda9"
      },
      "outputs": [
        {
          "data": {
            "text/html": [
              " <br/>  \n",
              "        <strong  style=\"color:blue ;padding:5px;font-size: 20px;text-align:left\">Word:</strong><strong style=\"font-size: 20px\">aadhwaryamuloo</strong>\n",
              "        <br/><br/>  <strong  style=\"color:green ;padding:5px;font-size: 20px;text-align:left\">Charecter Focused at Index :</strong><strong style=\"font-size: 20px\">11</strong> \n",
              "        <br/><br/> \n",
              "          <table style=\"border:3px solid black; font-size: 20px;border-collapse:collapse\">\n",
              "           \n",
              "          <tr>\n",
              "          <td scope=\"row\" style=\"border:1px solid black;font-size:15px;background-color:#3498DB;color:white;padding:8px;text-align:left\"> <strong>Prediction</strong> </td>\n",
              "         \n",
              "          \n",
              "            \n",
              "        \n",
              "          <td scope=\"row\" style=\"border:1px solid black;font-size: 20px;color:black;padding:8px;text-align:left\"><div style=\"background-color:#E3FFE7\"><strong style=\"background-color:#FBF7AB\">ఆ</strong> <strong style=\"background-color:#FBF7AB\">ధ</strong> <strong style=\"background-color:#FBF7AB\">్</strong> <strong style=\"background-color:#FBF7AB\">వ</strong> <strong style=\"background-color:#FBF7AB\">ర</strong> <strong style=\"background-color:#FBF7AB\">్</strong> <strong style=\"background-color:#FBF7AB\">య</strong> <strong style=\"background-color:#FBF7AB\">మ</strong> <strong style=\"background-color:#FBF7AB\">ు</strong> <strong style=\"background-color:#FBF7AB\">ల</strong> <strong style=\"background-color:#FBF7AB\">ో</strong> </div></td></tr>   <tr>  <td scope=\"row\" style=\"border:1px solid black;font-size: 20px;background-color:#3498DB;color:white;padding:5px;text-align:left\"> <strong>Attention</strong> </td>\n",
              "          \n",
              "        <td scope=\"row\" style=\"border:1px solid black;font-size: 20px;color:black;padding:10px;text-align:left\"> <strong>ో</strong> </td>\n",
              "\n",
              "        </tr>\n",
              "            \n",
              "        <tr> <td scope=\"row\" style=\"border:1px solid black;font-size: 20px;background-color:#3498DB;color:white;padding:10px;text-align:left\"> <strong>Visualisation</strong> </td>\n",
              "\n",
              "          <td scope=\"row\" style=\"border:1px solid black;font-size: 20px;color:black;padding:10px;text-align:left\"><strong style=\"background-color:#E3FFE7\"><strong style=\"background-color:#F1FAED \">a</strong><strong style=\"background-color:#F1FAED \">a</strong><strong style=\"background-color:#F1FAED \">d</strong><strong style=\"background-color:#F1FAED \">h</strong><strong style=\"background-color:#F1FAED \">w</strong><strong style=\"background-color:#F1FAED \">a</strong><strong style=\"background-color:#F1FAED \">r</strong><strong style=\"background-color:#F1FAED \">y</strong><strong style=\"background-color:#F1FAED \">a</strong><strong style=\"background-color:#F1FAED \">m</strong><strong style=\"background-color:#F1FAED \">u</strong><strong style=\"background-color:#F1FAED \">l</strong><strong style=\"background-color:#FF5F5F\">o</strong><strong style=\"background-color:#FFB5B5\">o</strong>  \n",
              "         </strong></td></tr></table><br/><br/>"
            ],
            "text/plain": [
              "<IPython.core.display.HTML object>"
            ]
          },
          "metadata": {},
          "output_type": "display_data"
        }
      ],
      "source": [
        "from IPython.display import HTML as html_print\n",
        "from IPython.display import display\n",
        "from IPython.display import clear_output\n",
        "import time\n",
        "def visualiser(word,predict,attention_colour,attention_index):\n",
        "    i=0\n",
        "    for p in predict:\n",
        "        \n",
        "        html_str=\"\"\" <br/>  \n",
        "        <strong  style=\"color:blue ;padding:5px;font-size: 20px;text-align:left\">Word:</strong><strong style=\"font-size: 20px\">{}</strong>\n",
        "        <br/><br/>  <strong  style=\"color:green ;padding:5px;font-size: 20px;text-align:left\">Charecter Focused at Index :</strong><strong style=\"font-size: 20px\">{}</strong> \n",
        "        <br/><br/> \n",
        "          <table style=\"border:3px solid black; font-size: 20px;border-collapse:collapse\">\n",
        "           \n",
        "          <tr>\n",
        "          <td scope=\"row\" style=\"border:1px solid black;font-size:15px;background-color:#3498DB;color:white;padding:8px;text-align:left\"> <strong>Prediction</strong> </td>\n",
        "         \n",
        "          \n",
        "          \"\"\".format(word,i+1)\n",
        "        html_str+=\"\"\"  \n",
        "        \n",
        "          <td scope=\"row\" style=\"border:1px solid black;font-size: 20px;color:black;padding:8px;text-align:left\"><div style=\"background-color:#E3FFE7\">\"\"\"\n",
        "        for w in range(len(predict)):\n",
        "         \n",
        "          if(w<=i):\n",
        "            html_str+=\"\"\"<strong style=\"background-color:#FBF7AB\">{}</strong> \"\"\".format(predict[w])\n",
        "          else:\n",
        "            html_str+=\"\"\"<strong style=\"color:black\" >{}</strong> \"\"\".format(predict[w])\n",
        "\n",
        "        html_str+=\"\"\"</div></td></tr>\"\"\"\n",
        "        html_str+=\"\"\"   <tr>  <td scope=\"row\" style=\"border:1px solid black;font-size: 20px;background-color:#3498DB;color:white;padding:5px;text-align:left\"> <strong>Attention</strong> </td>\n",
        "          \n",
        "        <td scope=\"row\" style=\"border:1px solid black;font-size: 20px;color:black;padding:10px;text-align:left\"> <strong>{}</strong> </td>\n",
        "\n",
        "        </tr>\n",
        "          \"\"\".format(predict[i])\n",
        "        \n",
        "        html_str+=\"\"\"  \n",
        "        <tr> <td scope=\"row\" style=\"border:1px solid black;font-size: 20px;background-color:#3498DB;color:white;padding:10px;text-align:left\"> <strong>Visualisation</strong> </td>\n",
        "\n",
        "          <td scope=\"row\" style=\"border:1px solid black;font-size: 20px;color:black;padding:10px;text-align:left\"><strong style=\"background-color:#E3FFE7\">\"\"\"\n",
        "        \n",
        "        \n",
        "        for w in range(len(word)):\n",
        "          if(w==attention_index[i][0]):\n",
        "            html_str+=\"\"\"<strong style=\"background-color:{}\">{}</strong>\"\"\".format(attention_colour[i][0],word[w])\n",
        "          elif(w==attention_index[i][1]):\n",
        "            html_str+=\"\"\"<strong style=\"background-color:{}\">{}</strong>\"\"\".format(attention_colour[i][1],word[w])\n",
        "          elif(w==attention_index[i][1]):\n",
        "            html_str+=\"\"\"<strong style=\"background-color:{}\">{}</strong>\"\"\".format(attention_colour[i][2],word[w])\n",
        "          else:\n",
        "             html_str+=\"\"\"<strong style=\"background-color:#F1FAED \">{}</strong>\"\"\".format(word[w])\n",
        "        html_str+=\"\"\"  \n",
        "         </strong></td></tr>\"\"\"\n",
        "        \n",
        "        \n",
        "        html_str+=\"\"\"</table><br/><br/>\"\"\"\n",
        "       \n",
        "        display(html_print(html_str)) \n",
        "        \n",
        "        clear_output(wait=True)\n",
        "        time.sleep(.8)\n",
        "        i+=1\n",
        "visualiser(attention_word[0],attention_pred[0],top_attn_color,top_attn_index)"
      ]
    },
    {
      "cell_type": "code",
      "execution_count": 318,
      "metadata": {
        "colab": {
          "base_uri": "https://localhost:8080/",
          "height": 1000
        },
        "id": "6PHgnPMqHL63",
        "outputId": "725d4be4-d109-4967-cfb0-b2c258bfab79"
      },
      "outputs": [
        {
          "data": {
            "text/html": [
              " </select><br/>  \n",
              "        <strong  style=\"color:blue ;padding:5px;font-size: 20px;text-align:left\">Word:</strong><strong style=\"font-size: 15px\">aadhwaryamuloo</strong>\n",
              "        <br/><br/>  <strong  style=\"color:green ;padding:5px;font-size: 20px;text-align:left\">Charecter Focused at Index :</strong><strong style=\"font-size: 15px\">1</strong> \n",
              "        <br/><br/> \n",
              "          <table style=\"border:3px solid black; font-size: 20px;border-collapse:collapse\">\n",
              "           \n",
              "          <tr>\n",
              "          <td scope=\"row\" style=\"border:1px solid black;font-size: 20px;background-color:#3498DB;color:white;padding:5px;text-align:left\"> <strong>Prediction</strong> </td>\n",
              "          <td scope=\"row\" style=\"border:1px solid black;font-size: 20px;background-color:#3498DB;color:white;padding:5px;text-align:left\"> <strong>Attention</strong> </td>\n",
              "           <td scope=\"row\" style=\"border:1px solid black;font-size: 20px;background-color:#3498DB;color:white;padding:5px;text-align:left\"> <strong>Visualisation</strong> </td>\n",
              "\n",
              "          </tr>\n",
              "            \n",
              "        <tr>\n",
              "          <td scope=\"row\" style=\"border:1px solid black;font-size: 20px;color:black;padding:5px;text-align:left\"><div style=\"background-color:#E3FFE7\"><strong style=\"background-color:#FBF7AB\">ఆ</strong> <strong style=\"color:black\" >ధ</strong> <strong style=\"color:black\" >్</strong> <strong style=\"color:black\" >వ</strong> <strong style=\"color:black\" >ర</strong> <strong style=\"color:black\" >్</strong> <strong style=\"color:black\" >య</strong> <strong style=\"color:black\" >మ</strong> <strong style=\"color:black\" >ు</strong> <strong style=\"color:black\" >ల</strong> <strong style=\"color:black\" >ో</strong> </div></td>    \n",
              "        <td scope=\"row\" style=\"border:1px solid black;font-size: 20px;color:black;padding:10px;text-align:left\"> <strong>ఆ</strong> </td>\n",
              "\n",
              "        \n",
              "            \n",
              "        \n",
              "          <td scope=\"row\" style=\"border:1px solid black;font-size: 25px;color:black;padding:10px;text-align:left\"><strong style=\"background-color:#E3FFE7\"><strong style=\"background-color:#FFB5B5\">a</strong><strong style=\"background-color:#FF5F5F\">a</strong><strong style=\"background-color:#F1FAED \">d</strong><strong style=\"background-color:#F1FAED \">h</strong><strong style=\"background-color:#F1FAED \">w</strong><strong style=\"background-color:#F1FAED \">a</strong><strong style=\"background-color:#F1FAED \">r</strong><strong style=\"background-color:#F1FAED \">y</strong><strong style=\"background-color:#F1FAED \">a</strong><strong style=\"background-color:#F1FAED \">m</strong><strong style=\"background-color:#F1FAED \">u</strong><strong style=\"background-color:#F1FAED \">l</strong><strong style=\"background-color:#F1FAED \">o</strong><strong style=\"background-color:#F1FAED \">o</strong>  \n",
              "         </strong></td></td></tr></table>"
            ],
            "text/plain": [
              "<IPython.core.display.HTML object>"
            ]
          },
          "metadata": {},
          "output_type": "display_data"
        },
        {
          "data": {
            "text/html": [
              " </select><br/>  \n",
              "        <strong  style=\"color:blue ;padding:5px;font-size: 20px;text-align:left\">Word:</strong><strong style=\"font-size: 15px\">aadhwaryamuloo</strong>\n",
              "        <br/><br/>  <strong  style=\"color:green ;padding:5px;font-size: 20px;text-align:left\">Charecter Focused at Index :</strong><strong style=\"font-size: 15px\">2</strong> \n",
              "        <br/><br/> \n",
              "          <table style=\"border:3px solid black; font-size: 20px;border-collapse:collapse\">\n",
              "           \n",
              "          <tr>\n",
              "          <td scope=\"row\" style=\"border:1px solid black;font-size: 20px;background-color:#3498DB;color:white;padding:5px;text-align:left\"> <strong>Prediction</strong> </td>\n",
              "          <td scope=\"row\" style=\"border:1px solid black;font-size: 20px;background-color:#3498DB;color:white;padding:5px;text-align:left\"> <strong>Attention</strong> </td>\n",
              "           <td scope=\"row\" style=\"border:1px solid black;font-size: 20px;background-color:#3498DB;color:white;padding:5px;text-align:left\"> <strong>Visualisation</strong> </td>\n",
              "\n",
              "          </tr>\n",
              "            \n",
              "        <tr>\n",
              "          <td scope=\"row\" style=\"border:1px solid black;font-size: 20px;color:black;padding:5px;text-align:left\"><div style=\"background-color:#E3FFE7\"><strong style=\"background-color:#FBF7AB\">ఆ</strong> <strong style=\"background-color:#FBF7AB\">ధ</strong> <strong style=\"color:black\" >్</strong> <strong style=\"color:black\" >వ</strong> <strong style=\"color:black\" >ర</strong> <strong style=\"color:black\" >్</strong> <strong style=\"color:black\" >య</strong> <strong style=\"color:black\" >మ</strong> <strong style=\"color:black\" >ు</strong> <strong style=\"color:black\" >ల</strong> <strong style=\"color:black\" >ో</strong> </div></td>    \n",
              "        <td scope=\"row\" style=\"border:1px solid black;font-size: 20px;color:black;padding:10px;text-align:left\"> <strong>ధ</strong> </td>\n",
              "\n",
              "        \n",
              "            \n",
              "        \n",
              "          <td scope=\"row\" style=\"border:1px solid black;font-size: 25px;color:black;padding:10px;text-align:left\"><strong style=\"background-color:#E3FFE7\"><strong style=\"background-color:#F1FAED \">a</strong><strong style=\"background-color:#F1FAED \">a</strong><strong style=\"background-color:#FFB5B5\">d</strong><strong style=\"background-color:#FF5F5F\">h</strong><strong style=\"background-color:#F1FAED \">w</strong><strong style=\"background-color:#F1FAED \">a</strong><strong style=\"background-color:#F1FAED \">r</strong><strong style=\"background-color:#F1FAED \">y</strong><strong style=\"background-color:#F1FAED \">a</strong><strong style=\"background-color:#F1FAED \">m</strong><strong style=\"background-color:#F1FAED \">u</strong><strong style=\"background-color:#F1FAED \">l</strong><strong style=\"background-color:#F1FAED \">o</strong><strong style=\"background-color:#F1FAED \">o</strong>  \n",
              "         </strong></td></td></tr></table>"
            ],
            "text/plain": [
              "<IPython.core.display.HTML object>"
            ]
          },
          "metadata": {},
          "output_type": "display_data"
        },
        {
          "data": {
            "text/html": [
              " </select><br/>  \n",
              "        <strong  style=\"color:blue ;padding:5px;font-size: 20px;text-align:left\">Word:</strong><strong style=\"font-size: 15px\">aadhwaryamuloo</strong>\n",
              "        <br/><br/>  <strong  style=\"color:green ;padding:5px;font-size: 20px;text-align:left\">Charecter Focused at Index :</strong><strong style=\"font-size: 15px\">3</strong> \n",
              "        <br/><br/> \n",
              "          <table style=\"border:3px solid black; font-size: 20px;border-collapse:collapse\">\n",
              "           \n",
              "          <tr>\n",
              "          <td scope=\"row\" style=\"border:1px solid black;font-size: 20px;background-color:#3498DB;color:white;padding:5px;text-align:left\"> <strong>Prediction</strong> </td>\n",
              "          <td scope=\"row\" style=\"border:1px solid black;font-size: 20px;background-color:#3498DB;color:white;padding:5px;text-align:left\"> <strong>Attention</strong> </td>\n",
              "           <td scope=\"row\" style=\"border:1px solid black;font-size: 20px;background-color:#3498DB;color:white;padding:5px;text-align:left\"> <strong>Visualisation</strong> </td>\n",
              "\n",
              "          </tr>\n",
              "            \n",
              "        <tr>\n",
              "          <td scope=\"row\" style=\"border:1px solid black;font-size: 20px;color:black;padding:5px;text-align:left\"><div style=\"background-color:#E3FFE7\"><strong style=\"background-color:#FBF7AB\">ఆ</strong> <strong style=\"background-color:#FBF7AB\">ధ</strong> <strong style=\"background-color:#FBF7AB\">్</strong> <strong style=\"color:black\" >వ</strong> <strong style=\"color:black\" >ర</strong> <strong style=\"color:black\" >్</strong> <strong style=\"color:black\" >య</strong> <strong style=\"color:black\" >మ</strong> <strong style=\"color:black\" >ు</strong> <strong style=\"color:black\" >ల</strong> <strong style=\"color:black\" >ో</strong> </div></td>    \n",
              "        <td scope=\"row\" style=\"border:1px solid black;font-size: 20px;color:black;padding:10px;text-align:left\"> <strong>్</strong> </td>\n",
              "\n",
              "        \n",
              "            \n",
              "        \n",
              "          <td scope=\"row\" style=\"border:1px solid black;font-size: 25px;color:black;padding:10px;text-align:left\"><strong style=\"background-color:#E3FFE7\"><strong style=\"background-color:#F1FAED \">a</strong><strong style=\"background-color:#F1FAED \">a</strong><strong style=\"background-color:#F1FAED \">d</strong><strong style=\"background-color:#F1FAED \">h</strong><strong style=\"background-color:#FF5F5F\">w</strong><strong style=\"background-color:#FFB5B5\">a</strong><strong style=\"background-color:#F1FAED \">r</strong><strong style=\"background-color:#F1FAED \">y</strong><strong style=\"background-color:#F1FAED \">a</strong><strong style=\"background-color:#F1FAED \">m</strong><strong style=\"background-color:#F1FAED \">u</strong><strong style=\"background-color:#F1FAED \">l</strong><strong style=\"background-color:#F1FAED \">o</strong><strong style=\"background-color:#F1FAED \">o</strong>  \n",
              "         </strong></td></td></tr></table>"
            ],
            "text/plain": [
              "<IPython.core.display.HTML object>"
            ]
          },
          "metadata": {},
          "output_type": "display_data"
        },
        {
          "data": {
            "text/html": [
              " </select><br/>  \n",
              "        <strong  style=\"color:blue ;padding:5px;font-size: 20px;text-align:left\">Word:</strong><strong style=\"font-size: 15px\">aadhwaryamuloo</strong>\n",
              "        <br/><br/>  <strong  style=\"color:green ;padding:5px;font-size: 20px;text-align:left\">Charecter Focused at Index :</strong><strong style=\"font-size: 15px\">4</strong> \n",
              "        <br/><br/> \n",
              "          <table style=\"border:3px solid black; font-size: 20px;border-collapse:collapse\">\n",
              "           \n",
              "          <tr>\n",
              "          <td scope=\"row\" style=\"border:1px solid black;font-size: 20px;background-color:#3498DB;color:white;padding:5px;text-align:left\"> <strong>Prediction</strong> </td>\n",
              "          <td scope=\"row\" style=\"border:1px solid black;font-size: 20px;background-color:#3498DB;color:white;padding:5px;text-align:left\"> <strong>Attention</strong> </td>\n",
              "           <td scope=\"row\" style=\"border:1px solid black;font-size: 20px;background-color:#3498DB;color:white;padding:5px;text-align:left\"> <strong>Visualisation</strong> </td>\n",
              "\n",
              "          </tr>\n",
              "            \n",
              "        <tr>\n",
              "          <td scope=\"row\" style=\"border:1px solid black;font-size: 20px;color:black;padding:5px;text-align:left\"><div style=\"background-color:#E3FFE7\"><strong style=\"background-color:#FBF7AB\">ఆ</strong> <strong style=\"background-color:#FBF7AB\">ధ</strong> <strong style=\"background-color:#FBF7AB\">్</strong> <strong style=\"background-color:#FBF7AB\">వ</strong> <strong style=\"color:black\" >ర</strong> <strong style=\"color:black\" >్</strong> <strong style=\"color:black\" >య</strong> <strong style=\"color:black\" >మ</strong> <strong style=\"color:black\" >ు</strong> <strong style=\"color:black\" >ల</strong> <strong style=\"color:black\" >ో</strong> </div></td>    \n",
              "        <td scope=\"row\" style=\"border:1px solid black;font-size: 20px;color:black;padding:10px;text-align:left\"> <strong>వ</strong> </td>\n",
              "\n",
              "        \n",
              "            \n",
              "        \n",
              "          <td scope=\"row\" style=\"border:1px solid black;font-size: 25px;color:black;padding:10px;text-align:left\"><strong style=\"background-color:#E3FFE7\"><strong style=\"background-color:#F1FAED \">a</strong><strong style=\"background-color:#F1FAED \">a</strong><strong style=\"background-color:#F1FAED \">d</strong><strong style=\"background-color:#F1FAED \">h</strong><strong style=\"background-color:#F1FAED \">w</strong><strong style=\"background-color:#F1FAED \">a</strong><strong style=\"background-color:#FF5F5F\">r</strong><strong style=\"background-color:#FFB5B5\">y</strong><strong style=\"background-color:#F1FAED \">a</strong><strong style=\"background-color:#F1FAED \">m</strong><strong style=\"background-color:#F1FAED \">u</strong><strong style=\"background-color:#F1FAED \">l</strong><strong style=\"background-color:#F1FAED \">o</strong><strong style=\"background-color:#F1FAED \">o</strong>  \n",
              "         </strong></td></td></tr></table>"
            ],
            "text/plain": [
              "<IPython.core.display.HTML object>"
            ]
          },
          "metadata": {},
          "output_type": "display_data"
        },
        {
          "data": {
            "text/html": [
              " </select><br/>  \n",
              "        <strong  style=\"color:blue ;padding:5px;font-size: 20px;text-align:left\">Word:</strong><strong style=\"font-size: 15px\">aadhwaryamuloo</strong>\n",
              "        <br/><br/>  <strong  style=\"color:green ;padding:5px;font-size: 20px;text-align:left\">Charecter Focused at Index :</strong><strong style=\"font-size: 15px\">5</strong> \n",
              "        <br/><br/> \n",
              "          <table style=\"border:3px solid black; font-size: 20px;border-collapse:collapse\">\n",
              "           \n",
              "          <tr>\n",
              "          <td scope=\"row\" style=\"border:1px solid black;font-size: 20px;background-color:#3498DB;color:white;padding:5px;text-align:left\"> <strong>Prediction</strong> </td>\n",
              "          <td scope=\"row\" style=\"border:1px solid black;font-size: 20px;background-color:#3498DB;color:white;padding:5px;text-align:left\"> <strong>Attention</strong> </td>\n",
              "           <td scope=\"row\" style=\"border:1px solid black;font-size: 20px;background-color:#3498DB;color:white;padding:5px;text-align:left\"> <strong>Visualisation</strong> </td>\n",
              "\n",
              "          </tr>\n",
              "            \n",
              "        <tr>\n",
              "          <td scope=\"row\" style=\"border:1px solid black;font-size: 20px;color:black;padding:5px;text-align:left\"><div style=\"background-color:#E3FFE7\"><strong style=\"background-color:#FBF7AB\">ఆ</strong> <strong style=\"background-color:#FBF7AB\">ధ</strong> <strong style=\"background-color:#FBF7AB\">్</strong> <strong style=\"background-color:#FBF7AB\">వ</strong> <strong style=\"background-color:#FBF7AB\">ర</strong> <strong style=\"color:black\" >్</strong> <strong style=\"color:black\" >య</strong> <strong style=\"color:black\" >మ</strong> <strong style=\"color:black\" >ు</strong> <strong style=\"color:black\" >ల</strong> <strong style=\"color:black\" >ో</strong> </div></td>    \n",
              "        <td scope=\"row\" style=\"border:1px solid black;font-size: 20px;color:black;padding:10px;text-align:left\"> <strong>ర</strong> </td>\n",
              "\n",
              "        \n",
              "            \n",
              "        \n",
              "          <td scope=\"row\" style=\"border:1px solid black;font-size: 25px;color:black;padding:10px;text-align:left\"><strong style=\"background-color:#E3FFE7\"><strong style=\"background-color:#F1FAED \">a</strong><strong style=\"background-color:#F1FAED \">a</strong><strong style=\"background-color:#F1FAED \">d</strong><strong style=\"background-color:#F1FAED \">h</strong><strong style=\"background-color:#F1FAED \">w</strong><strong style=\"background-color:#F1FAED \">a</strong><strong style=\"background-color:#FF5F5F\">r</strong><strong style=\"background-color:#FFB5B5\">y</strong><strong style=\"background-color:#F1FAED \">a</strong><strong style=\"background-color:#F1FAED \">m</strong><strong style=\"background-color:#F1FAED \">u</strong><strong style=\"background-color:#F1FAED \">l</strong><strong style=\"background-color:#F1FAED \">o</strong><strong style=\"background-color:#F1FAED \">o</strong>  \n",
              "         </strong></td></td></tr></table>"
            ],
            "text/plain": [
              "<IPython.core.display.HTML object>"
            ]
          },
          "metadata": {},
          "output_type": "display_data"
        },
        {
          "data": {
            "text/html": [
              " </select><br/>  \n",
              "        <strong  style=\"color:blue ;padding:5px;font-size: 20px;text-align:left\">Word:</strong><strong style=\"font-size: 15px\">aadhwaryamuloo</strong>\n",
              "        <br/><br/>  <strong  style=\"color:green ;padding:5px;font-size: 20px;text-align:left\">Charecter Focused at Index :</strong><strong style=\"font-size: 15px\">6</strong> \n",
              "        <br/><br/> \n",
              "          <table style=\"border:3px solid black; font-size: 20px;border-collapse:collapse\">\n",
              "           \n",
              "          <tr>\n",
              "          <td scope=\"row\" style=\"border:1px solid black;font-size: 20px;background-color:#3498DB;color:white;padding:5px;text-align:left\"> <strong>Prediction</strong> </td>\n",
              "          <td scope=\"row\" style=\"border:1px solid black;font-size: 20px;background-color:#3498DB;color:white;padding:5px;text-align:left\"> <strong>Attention</strong> </td>\n",
              "           <td scope=\"row\" style=\"border:1px solid black;font-size: 20px;background-color:#3498DB;color:white;padding:5px;text-align:left\"> <strong>Visualisation</strong> </td>\n",
              "\n",
              "          </tr>\n",
              "            \n",
              "        <tr>\n",
              "          <td scope=\"row\" style=\"border:1px solid black;font-size: 20px;color:black;padding:5px;text-align:left\"><div style=\"background-color:#E3FFE7\"><strong style=\"background-color:#FBF7AB\">ఆ</strong> <strong style=\"background-color:#FBF7AB\">ధ</strong> <strong style=\"background-color:#FBF7AB\">్</strong> <strong style=\"background-color:#FBF7AB\">వ</strong> <strong style=\"background-color:#FBF7AB\">ర</strong> <strong style=\"background-color:#FBF7AB\">్</strong> <strong style=\"color:black\" >య</strong> <strong style=\"color:black\" >మ</strong> <strong style=\"color:black\" >ు</strong> <strong style=\"color:black\" >ల</strong> <strong style=\"color:black\" >ో</strong> </div></td>    \n",
              "        <td scope=\"row\" style=\"border:1px solid black;font-size: 20px;color:black;padding:10px;text-align:left\"> <strong>్</strong> </td>\n",
              "\n",
              "        \n",
              "            \n",
              "        \n",
              "          <td scope=\"row\" style=\"border:1px solid black;font-size: 25px;color:black;padding:10px;text-align:left\"><strong style=\"background-color:#E3FFE7\"><strong style=\"background-color:#F1FAED \">a</strong><strong style=\"background-color:#F1FAED \">a</strong><strong style=\"background-color:#F1FAED \">d</strong><strong style=\"background-color:#F1FAED \">h</strong><strong style=\"background-color:#F1FAED \">w</strong><strong style=\"background-color:#F1FAED \">a</strong><strong style=\"background-color:#F1FAED \">r</strong><strong style=\"background-color:#FF5F5F\">y</strong><strong style=\"background-color:#FFB5B5\">a</strong><strong style=\"background-color:#F1FAED \">m</strong><strong style=\"background-color:#F1FAED \">u</strong><strong style=\"background-color:#F1FAED \">l</strong><strong style=\"background-color:#F1FAED \">o</strong><strong style=\"background-color:#F1FAED \">o</strong>  \n",
              "         </strong></td></td></tr></table>"
            ],
            "text/plain": [
              "<IPython.core.display.HTML object>"
            ]
          },
          "metadata": {},
          "output_type": "display_data"
        },
        {
          "data": {
            "text/html": [
              " </select><br/>  \n",
              "        <strong  style=\"color:blue ;padding:5px;font-size: 20px;text-align:left\">Word:</strong><strong style=\"font-size: 15px\">aadhwaryamuloo</strong>\n",
              "        <br/><br/>  <strong  style=\"color:green ;padding:5px;font-size: 20px;text-align:left\">Charecter Focused at Index :</strong><strong style=\"font-size: 15px\">7</strong> \n",
              "        <br/><br/> \n",
              "          <table style=\"border:3px solid black; font-size: 20px;border-collapse:collapse\">\n",
              "           \n",
              "          <tr>\n",
              "          <td scope=\"row\" style=\"border:1px solid black;font-size: 20px;background-color:#3498DB;color:white;padding:5px;text-align:left\"> <strong>Prediction</strong> </td>\n",
              "          <td scope=\"row\" style=\"border:1px solid black;font-size: 20px;background-color:#3498DB;color:white;padding:5px;text-align:left\"> <strong>Attention</strong> </td>\n",
              "           <td scope=\"row\" style=\"border:1px solid black;font-size: 20px;background-color:#3498DB;color:white;padding:5px;text-align:left\"> <strong>Visualisation</strong> </td>\n",
              "\n",
              "          </tr>\n",
              "            \n",
              "        <tr>\n",
              "          <td scope=\"row\" style=\"border:1px solid black;font-size: 20px;color:black;padding:5px;text-align:left\"><div style=\"background-color:#E3FFE7\"><strong style=\"background-color:#FBF7AB\">ఆ</strong> <strong style=\"background-color:#FBF7AB\">ధ</strong> <strong style=\"background-color:#FBF7AB\">్</strong> <strong style=\"background-color:#FBF7AB\">వ</strong> <strong style=\"background-color:#FBF7AB\">ర</strong> <strong style=\"background-color:#FBF7AB\">్</strong> <strong style=\"background-color:#FBF7AB\">య</strong> <strong style=\"color:black\" >మ</strong> <strong style=\"color:black\" >ు</strong> <strong style=\"color:black\" >ల</strong> <strong style=\"color:black\" >ో</strong> </div></td>    \n",
              "        <td scope=\"row\" style=\"border:1px solid black;font-size: 20px;color:black;padding:10px;text-align:left\"> <strong>య</strong> </td>\n",
              "\n",
              "        \n",
              "            \n",
              "        \n",
              "          <td scope=\"row\" style=\"border:1px solid black;font-size: 25px;color:black;padding:10px;text-align:left\"><strong style=\"background-color:#E3FFE7\"><strong style=\"background-color:#F1FAED \">a</strong><strong style=\"background-color:#F1FAED \">a</strong><strong style=\"background-color:#F1FAED \">d</strong><strong style=\"background-color:#F1FAED \">h</strong><strong style=\"background-color:#F1FAED \">w</strong><strong style=\"background-color:#F1FAED \">a</strong><strong style=\"background-color:#F1FAED \">r</strong><strong style=\"background-color:#F1FAED \">y</strong><strong style=\"background-color:#F1FAED \">a</strong><strong style=\"background-color:#FFB5B5\">m</strong><strong style=\"background-color:#FF5F5F\">u</strong><strong style=\"background-color:#F1FAED \">l</strong><strong style=\"background-color:#F1FAED \">o</strong><strong style=\"background-color:#F1FAED \">o</strong>  \n",
              "         </strong></td></td></tr></table>"
            ],
            "text/plain": [
              "<IPython.core.display.HTML object>"
            ]
          },
          "metadata": {},
          "output_type": "display_data"
        },
        {
          "data": {
            "text/html": [
              " </select><br/>  \n",
              "        <strong  style=\"color:blue ;padding:5px;font-size: 20px;text-align:left\">Word:</strong><strong style=\"font-size: 15px\">aadhwaryamuloo</strong>\n",
              "        <br/><br/>  <strong  style=\"color:green ;padding:5px;font-size: 20px;text-align:left\">Charecter Focused at Index :</strong><strong style=\"font-size: 15px\">8</strong> \n",
              "        <br/><br/> \n",
              "          <table style=\"border:3px solid black; font-size: 20px;border-collapse:collapse\">\n",
              "           \n",
              "          <tr>\n",
              "          <td scope=\"row\" style=\"border:1px solid black;font-size: 20px;background-color:#3498DB;color:white;padding:5px;text-align:left\"> <strong>Prediction</strong> </td>\n",
              "          <td scope=\"row\" style=\"border:1px solid black;font-size: 20px;background-color:#3498DB;color:white;padding:5px;text-align:left\"> <strong>Attention</strong> </td>\n",
              "           <td scope=\"row\" style=\"border:1px solid black;font-size: 20px;background-color:#3498DB;color:white;padding:5px;text-align:left\"> <strong>Visualisation</strong> </td>\n",
              "\n",
              "          </tr>\n",
              "            \n",
              "        <tr>\n",
              "          <td scope=\"row\" style=\"border:1px solid black;font-size: 20px;color:black;padding:5px;text-align:left\"><div style=\"background-color:#E3FFE7\"><strong style=\"background-color:#FBF7AB\">ఆ</strong> <strong style=\"background-color:#FBF7AB\">ధ</strong> <strong style=\"background-color:#FBF7AB\">్</strong> <strong style=\"background-color:#FBF7AB\">వ</strong> <strong style=\"background-color:#FBF7AB\">ర</strong> <strong style=\"background-color:#FBF7AB\">్</strong> <strong style=\"background-color:#FBF7AB\">య</strong> <strong style=\"background-color:#FBF7AB\">మ</strong> <strong style=\"color:black\" >ు</strong> <strong style=\"color:black\" >ల</strong> <strong style=\"color:black\" >ో</strong> </div></td>    \n",
              "        <td scope=\"row\" style=\"border:1px solid black;font-size: 20px;color:black;padding:10px;text-align:left\"> <strong>మ</strong> </td>\n",
              "\n",
              "        \n",
              "            \n",
              "        \n",
              "          <td scope=\"row\" style=\"border:1px solid black;font-size: 25px;color:black;padding:10px;text-align:left\"><strong style=\"background-color:#E3FFE7\"><strong style=\"background-color:#F1FAED \">a</strong><strong style=\"background-color:#F1FAED \">a</strong><strong style=\"background-color:#F1FAED \">d</strong><strong style=\"background-color:#F1FAED \">h</strong><strong style=\"background-color:#F1FAED \">w</strong><strong style=\"background-color:#F1FAED \">a</strong><strong style=\"background-color:#F1FAED \">r</strong><strong style=\"background-color:#F1FAED \">y</strong><strong style=\"background-color:#F1FAED \">a</strong><strong style=\"background-color:#FF5F5F\">m</strong><strong style=\"background-color:#FFB5B5\">u</strong><strong style=\"background-color:#F1FAED \">l</strong><strong style=\"background-color:#F1FAED \">o</strong><strong style=\"background-color:#F1FAED \">o</strong>  \n",
              "         </strong></td></td></tr></table>"
            ],
            "text/plain": [
              "<IPython.core.display.HTML object>"
            ]
          },
          "metadata": {},
          "output_type": "display_data"
        },
        {
          "data": {
            "text/html": [
              " </select><br/>  \n",
              "        <strong  style=\"color:blue ;padding:5px;font-size: 20px;text-align:left\">Word:</strong><strong style=\"font-size: 15px\">aadhwaryamuloo</strong>\n",
              "        <br/><br/>  <strong  style=\"color:green ;padding:5px;font-size: 20px;text-align:left\">Charecter Focused at Index :</strong><strong style=\"font-size: 15px\">9</strong> \n",
              "        <br/><br/> \n",
              "          <table style=\"border:3px solid black; font-size: 20px;border-collapse:collapse\">\n",
              "           \n",
              "          <tr>\n",
              "          <td scope=\"row\" style=\"border:1px solid black;font-size: 20px;background-color:#3498DB;color:white;padding:5px;text-align:left\"> <strong>Prediction</strong> </td>\n",
              "          <td scope=\"row\" style=\"border:1px solid black;font-size: 20px;background-color:#3498DB;color:white;padding:5px;text-align:left\"> <strong>Attention</strong> </td>\n",
              "           <td scope=\"row\" style=\"border:1px solid black;font-size: 20px;background-color:#3498DB;color:white;padding:5px;text-align:left\"> <strong>Visualisation</strong> </td>\n",
              "\n",
              "          </tr>\n",
              "            \n",
              "        <tr>\n",
              "          <td scope=\"row\" style=\"border:1px solid black;font-size: 20px;color:black;padding:5px;text-align:left\"><div style=\"background-color:#E3FFE7\"><strong style=\"background-color:#FBF7AB\">ఆ</strong> <strong style=\"background-color:#FBF7AB\">ధ</strong> <strong style=\"background-color:#FBF7AB\">్</strong> <strong style=\"background-color:#FBF7AB\">వ</strong> <strong style=\"background-color:#FBF7AB\">ర</strong> <strong style=\"background-color:#FBF7AB\">్</strong> <strong style=\"background-color:#FBF7AB\">య</strong> <strong style=\"background-color:#FBF7AB\">మ</strong> <strong style=\"background-color:#FBF7AB\">ు</strong> <strong style=\"color:black\" >ల</strong> <strong style=\"color:black\" >ో</strong> </div></td>    \n",
              "        <td scope=\"row\" style=\"border:1px solid black;font-size: 20px;color:black;padding:10px;text-align:left\"> <strong>ు</strong> </td>\n",
              "\n",
              "        \n",
              "            \n",
              "        \n",
              "          <td scope=\"row\" style=\"border:1px solid black;font-size: 25px;color:black;padding:10px;text-align:left\"><strong style=\"background-color:#E3FFE7\"><strong style=\"background-color:#F1FAED \">a</strong><strong style=\"background-color:#F1FAED \">a</strong><strong style=\"background-color:#F1FAED \">d</strong><strong style=\"background-color:#F1FAED \">h</strong><strong style=\"background-color:#F1FAED \">w</strong><strong style=\"background-color:#F1FAED \">a</strong><strong style=\"background-color:#F1FAED \">r</strong><strong style=\"background-color:#F1FAED \">y</strong><strong style=\"background-color:#F1FAED \">a</strong><strong style=\"background-color:#F1FAED \">m</strong><strong style=\"background-color:#FFB5B5\">u</strong><strong style=\"background-color:#FF5F5F\">l</strong><strong style=\"background-color:#F1FAED \">o</strong><strong style=\"background-color:#F1FAED \">o</strong>  \n",
              "         </strong></td></td></tr></table>"
            ],
            "text/plain": [
              "<IPython.core.display.HTML object>"
            ]
          },
          "metadata": {},
          "output_type": "display_data"
        },
        {
          "data": {
            "text/html": [
              " </select><br/>  \n",
              "        <strong  style=\"color:blue ;padding:5px;font-size: 20px;text-align:left\">Word:</strong><strong style=\"font-size: 15px\">aadhwaryamuloo</strong>\n",
              "        <br/><br/>  <strong  style=\"color:green ;padding:5px;font-size: 20px;text-align:left\">Charecter Focused at Index :</strong><strong style=\"font-size: 15px\">10</strong> \n",
              "        <br/><br/> \n",
              "          <table style=\"border:3px solid black; font-size: 20px;border-collapse:collapse\">\n",
              "           \n",
              "          <tr>\n",
              "          <td scope=\"row\" style=\"border:1px solid black;font-size: 20px;background-color:#3498DB;color:white;padding:5px;text-align:left\"> <strong>Prediction</strong> </td>\n",
              "          <td scope=\"row\" style=\"border:1px solid black;font-size: 20px;background-color:#3498DB;color:white;padding:5px;text-align:left\"> <strong>Attention</strong> </td>\n",
              "           <td scope=\"row\" style=\"border:1px solid black;font-size: 20px;background-color:#3498DB;color:white;padding:5px;text-align:left\"> <strong>Visualisation</strong> </td>\n",
              "\n",
              "          </tr>\n",
              "            \n",
              "        <tr>\n",
              "          <td scope=\"row\" style=\"border:1px solid black;font-size: 20px;color:black;padding:5px;text-align:left\"><div style=\"background-color:#E3FFE7\"><strong style=\"background-color:#FBF7AB\">ఆ</strong> <strong style=\"background-color:#FBF7AB\">ధ</strong> <strong style=\"background-color:#FBF7AB\">్</strong> <strong style=\"background-color:#FBF7AB\">వ</strong> <strong style=\"background-color:#FBF7AB\">ర</strong> <strong style=\"background-color:#FBF7AB\">్</strong> <strong style=\"background-color:#FBF7AB\">య</strong> <strong style=\"background-color:#FBF7AB\">మ</strong> <strong style=\"background-color:#FBF7AB\">ు</strong> <strong style=\"background-color:#FBF7AB\">ల</strong> <strong style=\"color:black\" >ో</strong> </div></td>    \n",
              "        <td scope=\"row\" style=\"border:1px solid black;font-size: 20px;color:black;padding:10px;text-align:left\"> <strong>ల</strong> </td>\n",
              "\n",
              "        \n",
              "            \n",
              "        \n",
              "          <td scope=\"row\" style=\"border:1px solid black;font-size: 25px;color:black;padding:10px;text-align:left\"><strong style=\"background-color:#E3FFE7\"><strong style=\"background-color:#F1FAED \">a</strong><strong style=\"background-color:#F1FAED \">a</strong><strong style=\"background-color:#F1FAED \">d</strong><strong style=\"background-color:#F1FAED \">h</strong><strong style=\"background-color:#F1FAED \">w</strong><strong style=\"background-color:#F1FAED \">a</strong><strong style=\"background-color:#F1FAED \">r</strong><strong style=\"background-color:#F1FAED \">y</strong><strong style=\"background-color:#F1FAED \">a</strong><strong style=\"background-color:#F1FAED \">m</strong><strong style=\"background-color:#F1FAED \">u</strong><strong style=\"background-color:#FF5F5F\">l</strong><strong style=\"background-color:#FFB5B5\">o</strong><strong style=\"background-color:#F1FAED \">o</strong>  \n",
              "         </strong></td></td></tr></table>"
            ],
            "text/plain": [
              "<IPython.core.display.HTML object>"
            ]
          },
          "metadata": {},
          "output_type": "display_data"
        },
        {
          "data": {
            "text/html": [
              " </select><br/>  \n",
              "        <strong  style=\"color:blue ;padding:5px;font-size: 20px;text-align:left\">Word:</strong><strong style=\"font-size: 15px\">aadhwaryamuloo</strong>\n",
              "        <br/><br/>  <strong  style=\"color:green ;padding:5px;font-size: 20px;text-align:left\">Charecter Focused at Index :</strong><strong style=\"font-size: 15px\">11</strong> \n",
              "        <br/><br/> \n",
              "          <table style=\"border:3px solid black; font-size: 20px;border-collapse:collapse\">\n",
              "           \n",
              "          <tr>\n",
              "          <td scope=\"row\" style=\"border:1px solid black;font-size: 20px;background-color:#3498DB;color:white;padding:5px;text-align:left\"> <strong>Prediction</strong> </td>\n",
              "          <td scope=\"row\" style=\"border:1px solid black;font-size: 20px;background-color:#3498DB;color:white;padding:5px;text-align:left\"> <strong>Attention</strong> </td>\n",
              "           <td scope=\"row\" style=\"border:1px solid black;font-size: 20px;background-color:#3498DB;color:white;padding:5px;text-align:left\"> <strong>Visualisation</strong> </td>\n",
              "\n",
              "          </tr>\n",
              "            \n",
              "        <tr>\n",
              "          <td scope=\"row\" style=\"border:1px solid black;font-size: 20px;color:black;padding:5px;text-align:left\"><div style=\"background-color:#E3FFE7\"><strong style=\"background-color:#FBF7AB\">ఆ</strong> <strong style=\"background-color:#FBF7AB\">ధ</strong> <strong style=\"background-color:#FBF7AB\">్</strong> <strong style=\"background-color:#FBF7AB\">వ</strong> <strong style=\"background-color:#FBF7AB\">ర</strong> <strong style=\"background-color:#FBF7AB\">్</strong> <strong style=\"background-color:#FBF7AB\">య</strong> <strong style=\"background-color:#FBF7AB\">మ</strong> <strong style=\"background-color:#FBF7AB\">ు</strong> <strong style=\"background-color:#FBF7AB\">ల</strong> <strong style=\"background-color:#FBF7AB\">ో</strong> </div></td>    \n",
              "        <td scope=\"row\" style=\"border:1px solid black;font-size: 20px;color:black;padding:10px;text-align:left\"> <strong>ో</strong> </td>\n",
              "\n",
              "        \n",
              "            \n",
              "        \n",
              "          <td scope=\"row\" style=\"border:1px solid black;font-size: 25px;color:black;padding:10px;text-align:left\"><strong style=\"background-color:#E3FFE7\"><strong style=\"background-color:#F1FAED \">a</strong><strong style=\"background-color:#F1FAED \">a</strong><strong style=\"background-color:#F1FAED \">d</strong><strong style=\"background-color:#F1FAED \">h</strong><strong style=\"background-color:#F1FAED \">w</strong><strong style=\"background-color:#F1FAED \">a</strong><strong style=\"background-color:#F1FAED \">r</strong><strong style=\"background-color:#F1FAED \">y</strong><strong style=\"background-color:#F1FAED \">a</strong><strong style=\"background-color:#F1FAED \">m</strong><strong style=\"background-color:#F1FAED \">u</strong><strong style=\"background-color:#F1FAED \">l</strong><strong style=\"background-color:#FF5F5F\">o</strong><strong style=\"background-color:#FFB5B5\">o</strong>  \n",
              "         </strong></td></td></tr></table>"
            ],
            "text/plain": [
              "<IPython.core.display.HTML object>"
            ]
          },
          "metadata": {},
          "output_type": "display_data"
        }
      ],
      "source": [
        "from IPython.display import HTML as html_print\n",
        "from IPython.display import display\n",
        "from IPython.display import clear_output\n",
        "import time\n",
        "def visualiser(word,predict,attention_colour,attention_index):\n",
        "    i=0\n",
        "    for p in predict:\n",
        "        \n",
        "        html_str=\"\"\" </select><br/>  \n",
        "        <strong  style=\"color:blue ;padding:5px;font-size: 20px;text-align:left\">Word:</strong><strong style=\"font-size: 15px\">{}</strong>\n",
        "        <br/><br/>  <strong  style=\"color:green ;padding:5px;font-size: 20px;text-align:left\">Charecter Focused at Index :</strong><strong style=\"font-size: 15px\">{}</strong> \n",
        "        <br/><br/> \n",
        "          <table style=\"border:3px solid black; font-size: 20px;border-collapse:collapse\">\n",
        "           \n",
        "          <tr>\n",
        "          <td scope=\"row\" style=\"border:1px solid black;font-size: 20px;background-color:#3498DB;color:white;padding:5px;text-align:left\"> <strong>Prediction</strong> </td>\n",
        "          <td scope=\"row\" style=\"border:1px solid black;font-size: 20px;background-color:#3498DB;color:white;padding:5px;text-align:left\"> <strong>Attention</strong> </td>\n",
        "           <td scope=\"row\" style=\"border:1px solid black;font-size: 20px;background-color:#3498DB;color:white;padding:5px;text-align:left\"> <strong>Visualisation</strong> </td>\n",
        "\n",
        "          </tr>\n",
        "          \"\"\".format(word,i+1)\n",
        "        html_str+=\"\"\"  \n",
        "        <tr>\n",
        "          <td scope=\"row\" style=\"border:1px solid black;font-size: 20px;color:black;padding:5px;text-align:left\"><div style=\"background-color:#E3FFE7\">\"\"\"\n",
        "        for w in range(len(predict)):\n",
        "         \n",
        "          if(w<=i):\n",
        "            html_str+=\"\"\"<strong style=\"background-color:#FBF7AB\">{}</strong> \"\"\".format(predict[w])\n",
        "          else:\n",
        "            html_str+=\"\"\"<strong style=\"color:black\" >{}</strong> \"\"\".format(predict[w])\n",
        "\n",
        "        html_str+=\"\"\"</div></td>\"\"\"\n",
        "        html_str+=\"\"\"    \n",
        "        <td scope=\"row\" style=\"border:1px solid black;font-size: 20px;color:black;padding:10px;text-align:left\"> <strong>{}</strong> </td>\n",
        "\n",
        "        \n",
        "          \"\"\".format(predict[i])\n",
        "        \n",
        "        html_str+=\"\"\"  \n",
        "        \n",
        "          <td scope=\"row\" style=\"border:1px solid black;font-size: 25px;color:black;padding:10px;text-align:left\"><strong style=\"background-color:#E3FFE7\">\"\"\"\n",
        "        \n",
        "        \n",
        "        for w in range(len(word)):\n",
        "          if(w==attention_index[i][0]):\n",
        "            html_str+=\"\"\"<strong style=\"background-color:{}\">{}</strong>\"\"\".format(attention_colour[i][0],word[w])\n",
        "          elif(w==attention_index[i][1]):\n",
        "            html_str+=\"\"\"<strong style=\"background-color:{}\">{}</strong>\"\"\".format(attention_colour[i][1],word[w])\n",
        "          elif(w==attention_index[i][1]):\n",
        "            html_str+=\"\"\"<strong style=\"background-color:{}\">{}</strong>\"\"\".format(attention_colour[i][2],word[w])\n",
        "          else:\n",
        "             html_str+=\"\"\"<strong style=\"background-color:#F1FAED \">{}</strong>\"\"\".format(word[w])\n",
        "        html_str+=\"\"\"  \n",
        "         </strong></td>\"\"\"\n",
        "        \n",
        "        \n",
        "        html_str+=\"\"\"</td></tr></table>\"\"\"\n",
        "       \n",
        "        display(html_print(html_str)) \n",
        "        \n",
        "        \n",
        "        i+=1\n",
        "visualiser(attention_word[0],attention_pred[0],top_attn_color,top_attn_index)"
      ]
    },
    {
      "cell_type": "code",
      "execution_count": 348,
      "metadata": {
        "id": "0FBeJCRXTobc"
      },
      "outputs": [],
      "source": [
        "\n",
        "df = pd.read_csv('predictions_attention.csv')\n",
        "source=df[\"inputs\"]\n",
        "actual=df[\"targets\"] \n",
        "predict=df[\"outputs\"] \n",
        "\n",
        "\n",
        "\n",
        "df = pd.read_csv('predictions_vanilla.csv')\n",
        "source_vn=df[\"inputs\"]\n",
        "actual_vn=df[\"targets\"] \n",
        "predict_vn=df[\"outputs\"] "
      ]
    },
    {
      "cell_type": "code",
      "execution_count": 346,
      "metadata": {
        "id": "M0R6GEwiUCDW"
      },
      "outputs": [],
      "source": [
        "source_rnd=[]\n",
        "actual_rnd=[]\n",
        "predict_rnd=[]\n",
        "source_rnd_vn=[]\n",
        "actual_rnd_vn=[]\n",
        "predict_rnd_vn=[]\n",
        "i=0\n",
        "for i in range(len(source_vn)):\n",
        "  i+=1\n",
        "  if((actual_vn[i]!=predict_vn[i]) and (actual[i]==predict[i]) ):\n",
        "    source_rnd.append(source[i])\n",
        "    actual_rnd.append(actual[i])\n",
        "    predict_rnd.append(predict[i])\n",
        "    source_rnd_vn.append(source_vn[i])\n",
        "    actual_rnd_vn.append(actual_vn[i])\n",
        "    predict_rnd_vn.append(predict_vn[i])\n",
        "    if(i>10):\n",
        "      break"
      ]
    },
    {
      "cell_type": "code",
      "execution_count": 349,
      "metadata": {
        "colab": {
          "base_uri": "https://localhost:8080/",
          "height": 1000
        },
        "id": "XqqGdzSOWXkB",
        "outputId": "549d981e-a79b-4e83-845e-4b8937f9a632"
      },
      "outputs": [
        {
          "data": {
            "text/html": [
              "\n",
              "    <br>  \n",
              "    <h2 style=\"color:#3A363B  ;padding:10px;text-align:left\">Prediction Without Attention</h2> \n",
              "    <br>  \n",
              "    <strong  style=\"color:blue ;padding:10px;text-align:left\">WORD:</strong><strong>ankela</strong> \n",
              "     \n",
              "    <strong  style=\"color:green ;padding:10px;text-align:left\">ACTUAL:</strong><strong>అంకెల</strong> \n",
              "     <strong  style=\"color:red ;padding:10px;text-align:left\">PREDICTED:</strong><strong>అంకేలా</strong> \n",
              "      <br>\n",
              "      <table style=\"border:2px solid black; border-collapse:collapse\">\n",
              "      <tr>\n",
              "      <td scope=\"row\" style=\"border:1px solid black;background-color:#3498DB;color:white;padding:10px;text-align:left\"> <strong>అంకెల</strong> </td>\n",
              "      <td scope=\"row\" style=\"background-color:#E3FFE7 ;border:1px solid black;padding:15px;text-align:left\"> <strong>అ</strong> </td><td scope=\"row\" style=\"background-color:#E3FFE7 ;border:1px solid black;padding:15px;text-align:left\"> <strong>ం</strong> </td><td scope=\"row\" style=\"background-color:#E3FFE7 ;border:1px solid black;padding:15px;text-align:left\"> <strong>క</strong> </td> <td scope=\"row\" style=\"background-color:#FFF6F7 ; border:1px solid black;padding:15px;text-align:left\"> <strong>ే</strong> </td><td scope=\"row\" style=\"background-color:#E3FFE7 ;border:1px solid black;padding:15px;text-align:left\"> <strong>ల</strong> </td><td scope=\"row\" style=\"background-color: #FFF6F7 ; border:1px solid black;padding:15px;text-align:left\"> <strong>ా </strong></td></tr><tr>\n",
              "      <td scope=\"row\" style=\"border:1px solid black;background-color:#3498DB;padding:15px;color:white;text-align:left\"> <strong>అంకేలా </strong></td><td scope=\"row\" style=\"background-color:#E3FFE7 ;border:1px solid black;padding:15px;text-align:left\"><strong> అ </strong></td><td scope=\"row\" style=\"background-color:#E3FFE7 ;border:1px solid black;padding:15px;text-align:left\"><strong> ం </strong></td><td scope=\"row\" style=\"background-color:#E3FFE7 ;border:1px solid black;padding:15px;text-align:left\"><strong> క </strong></td><td scope=\"row\" style=\"background-color:#FFF6F7 ; border:1px solid black;padding:15px;text-align:left\"> <strong>ె</strong> </td><td scope=\"row\" style=\"background-color:#E3FFE7 ;border:1px solid black;padding:15px;text-align:left\"><strong> ల </strong></td><td scope=\"row\" style=\"background-color:#FFF6F7  ; border:1px solid black;padding:15px;text-align:left\"><strong> </strong> </td></tr><tr>\n",
              "      <td scope=\"row\" style=\"border:1px solid black;background-color:#3498DB;padding:15px;color:white;text-align:left\"> <strong>ankela </strong></td><td scope=\"row\" style=\"border:1px solid black;padding:15px;text-align:left\">&#x2705; </td><td scope=\"row\" style=\"border:1px solid black;padding:15px;text-align:left\">&#x2705; </td><td scope=\"row\" style=\"border:1px solid black;padding:15px;text-align:left\">&#x2705; </td> <td scope=\"row\" style=\" border:1px solid black;padding:15px;text-align:left\"> &#x274C; </td><td scope=\"row\" style=\"border:1px solid black;padding:15px;text-align:left\">&#x2705; </td><td scope=\"row\" style=\"border:1px solid black;padding:15px;text-align:left\"> &#x274C; </td></tr>"
            ],
            "text/plain": [
              "<IPython.core.display.HTML object>"
            ]
          },
          "metadata": {},
          "output_type": "display_data"
        },
        {
          "data": {
            "text/html": [
              "\n",
              "    <br>  \n",
              "    <h2 style=\"color:#3A363B  ;padding:10px;text-align:left\">Prediction With Attention</h2> \n",
              "    <br>  \n",
              "    <strong  style=\"color:blue ;padding:10px;text-align:left\">WORD:</strong><strong>ankela</strong> \n",
              "     \n",
              "    <strong  style=\"color:green ;padding:10px;text-align:left\">ACTUAL:</strong><strong>అంకెల</strong> \n",
              "     <strong  style=\"color:red ;padding:10px;text-align:left\">PREDICTED:</strong><strong>అంకెల</strong> \n",
              "      <br>\n",
              "      <table style=\"border:2px solid black; border-collapse:collapse\">\n",
              "      <tr>\n",
              "      <td scope=\"row\" style=\"border:1px solid black;background-color:#3498DB;color:white;padding:10px;text-align:left\"> <strong>అంకెల</strong> </td>\n",
              "      <td scope=\"row\" style=\"background-color:#E3FFE7 ;border:1px solid black;padding:15px;text-align:left\"> <strong>అ</strong> </td><td scope=\"row\" style=\"background-color:#E3FFE7 ;border:1px solid black;padding:15px;text-align:left\"> <strong>ం</strong> </td><td scope=\"row\" style=\"background-color:#E3FFE7 ;border:1px solid black;padding:15px;text-align:left\"> <strong>క</strong> </td><td scope=\"row\" style=\"background-color:#E3FFE7 ;border:1px solid black;padding:15px;text-align:left\"> <strong>ె</strong> </td><td scope=\"row\" style=\"background-color:#E3FFE7 ;border:1px solid black;padding:15px;text-align:left\"> <strong>ల</strong> </td></tr><tr>\n",
              "      <td scope=\"row\" style=\"border:1px solid black;background-color:#3498DB;padding:15px;color:white;text-align:left\"> <strong>అంకెల </strong></td><td scope=\"row\" style=\"background-color:#E3FFE7 ;border:1px solid black;padding:15px;text-align:left\"><strong> అ </strong></td><td scope=\"row\" style=\"background-color:#E3FFE7 ;border:1px solid black;padding:15px;text-align:left\"><strong> ం </strong></td><td scope=\"row\" style=\"background-color:#E3FFE7 ;border:1px solid black;padding:15px;text-align:left\"><strong> క </strong></td><td scope=\"row\" style=\"background-color:#E3FFE7 ;border:1px solid black;padding:15px;text-align:left\"><strong> ె </strong></td><td scope=\"row\" style=\"background-color:#E3FFE7 ;border:1px solid black;padding:15px;text-align:left\"><strong> ల </strong></td></tr><tr>\n",
              "      <td scope=\"row\" style=\"border:1px solid black;background-color:#3498DB;padding:15px;color:white;text-align:left\"> <strong>ankela </strong></td><td scope=\"row\" style=\"border:1px solid black;padding:15px;text-align:left\">&#x2705; </td><td scope=\"row\" style=\"border:1px solid black;padding:15px;text-align:left\">&#x2705; </td><td scope=\"row\" style=\"border:1px solid black;padding:15px;text-align:left\">&#x2705; </td><td scope=\"row\" style=\"border:1px solid black;padding:15px;text-align:left\">&#x2705; </td><td scope=\"row\" style=\"border:1px solid black;padding:15px;text-align:left\">&#x2705; </td></tr>"
            ],
            "text/plain": [
              "<IPython.core.display.HTML object>"
            ]
          },
          "metadata": {},
          "output_type": "display_data"
        },
        {
          "data": {
            "text/html": [
              "\n",
              "    <br>  \n",
              "    <h2 style=\"color:#3A363B  ;padding:10px;text-align:left\">Prediction Without Attention</h2> \n",
              "    <br>  \n",
              "    <strong  style=\"color:blue ;padding:10px;text-align:left\">WORD:</strong><strong>amgiikarimchaadu</strong> \n",
              "     \n",
              "    <strong  style=\"color:green ;padding:10px;text-align:left\">ACTUAL:</strong><strong>అంగీకరించాడు</strong> \n",
              "     <strong  style=\"color:red ;padding:10px;text-align:left\">PREDICTED:</strong><strong>అంగీకరించదు</strong> \n",
              "      <br>\n",
              "      <table style=\"border:2px solid black; border-collapse:collapse\">\n",
              "      <tr>\n",
              "      <td scope=\"row\" style=\"border:1px solid black;background-color:#3498DB;color:white;padding:10px;text-align:left\"> <strong>అంగీకరించాడు</strong> </td>\n",
              "      <td scope=\"row\" style=\"background-color:#E3FFE7 ;border:1px solid black;padding:15px;text-align:left\"> <strong>అ</strong> </td><td scope=\"row\" style=\"background-color:#E3FFE7 ;border:1px solid black;padding:15px;text-align:left\"> <strong>ం</strong> </td><td scope=\"row\" style=\"background-color:#E3FFE7 ;border:1px solid black;padding:15px;text-align:left\"> <strong>గ</strong> </td><td scope=\"row\" style=\"background-color:#E3FFE7 ;border:1px solid black;padding:15px;text-align:left\"> <strong>ీ</strong> </td><td scope=\"row\" style=\"background-color:#E3FFE7 ;border:1px solid black;padding:15px;text-align:left\"> <strong>క</strong> </td><td scope=\"row\" style=\"background-color:#E3FFE7 ;border:1px solid black;padding:15px;text-align:left\"> <strong>ర</strong> </td><td scope=\"row\" style=\"background-color:#E3FFE7 ;border:1px solid black;padding:15px;text-align:left\"> <strong>ి</strong> </td><td scope=\"row\" style=\"background-color:#E3FFE7 ;border:1px solid black;padding:15px;text-align:left\"> <strong>ం</strong> </td><td scope=\"row\" style=\"background-color:#E3FFE7 ;border:1px solid black;padding:15px;text-align:left\"> <strong>చ</strong> </td> <td scope=\"row\" style=\"background-color:#FFF6F7 ; border:1px solid black;padding:15px;text-align:left\"> <strong>ా</strong> </td> <td scope=\"row\" style=\"background-color:#FFF6F7 ; border:1px solid black;padding:15px;text-align:left\"> <strong>డ</strong> </td><td scope=\"row\" style=\"background-color:#E3FFE7 ;border:1px solid black;padding:15px;text-align:left\"> <strong>ు</strong> </td></tr><tr>\n",
              "      <td scope=\"row\" style=\"border:1px solid black;background-color:#3498DB;padding:15px;color:white;text-align:left\"> <strong>అంగీకరించదు </strong></td><td scope=\"row\" style=\"background-color:#E3FFE7 ;border:1px solid black;padding:15px;text-align:left\"><strong> అ </strong></td><td scope=\"row\" style=\"background-color:#E3FFE7 ;border:1px solid black;padding:15px;text-align:left\"><strong> ం </strong></td><td scope=\"row\" style=\"background-color:#E3FFE7 ;border:1px solid black;padding:15px;text-align:left\"><strong> గ </strong></td><td scope=\"row\" style=\"background-color:#E3FFE7 ;border:1px solid black;padding:15px;text-align:left\"><strong> ీ </strong></td><td scope=\"row\" style=\"background-color:#E3FFE7 ;border:1px solid black;padding:15px;text-align:left\"><strong> క </strong></td><td scope=\"row\" style=\"background-color:#E3FFE7 ;border:1px solid black;padding:15px;text-align:left\"><strong> ర </strong></td><td scope=\"row\" style=\"background-color:#E3FFE7 ;border:1px solid black;padding:15px;text-align:left\"><strong> ి </strong></td><td scope=\"row\" style=\"background-color:#E3FFE7 ;border:1px solid black;padding:15px;text-align:left\"><strong> ం </strong></td><td scope=\"row\" style=\"background-color:#E3FFE7 ;border:1px solid black;padding:15px;text-align:left\"><strong> చ </strong></td><td scope=\"row\" style=\"background-color:#FFF6F7 ; border:1px solid black;padding:15px;text-align:left\"> <strong>ద</strong> </td><td scope=\"row\" style=\"background-color:#FFF6F7 ; border:1px solid black;padding:15px;text-align:left\"> <strong> </strong> </td><td scope=\"row\" style=\"background-color:#E3FFE7 ;border:1px solid black;padding:15px;text-align:left\"><strong> ు </strong></td></tr><tr>\n",
              "      <td scope=\"row\" style=\"border:1px solid black;background-color:#3498DB;padding:15px;color:white;text-align:left\"> <strong>amgiikarimchaadu </strong></td><td scope=\"row\" style=\"border:1px solid black;padding:15px;text-align:left\">&#x2705; </td><td scope=\"row\" style=\"border:1px solid black;padding:15px;text-align:left\">&#x2705; </td><td scope=\"row\" style=\"border:1px solid black;padding:15px;text-align:left\">&#x2705; </td><td scope=\"row\" style=\"border:1px solid black;padding:15px;text-align:left\">&#x2705; </td><td scope=\"row\" style=\"border:1px solid black;padding:15px;text-align:left\">&#x2705; </td><td scope=\"row\" style=\"border:1px solid black;padding:15px;text-align:left\">&#x2705; </td><td scope=\"row\" style=\"border:1px solid black;padding:15px;text-align:left\">&#x2705; </td><td scope=\"row\" style=\"border:1px solid black;padding:15px;text-align:left\">&#x2705; </td><td scope=\"row\" style=\"border:1px solid black;padding:15px;text-align:left\">&#x2705; </td> <td scope=\"row\" style=\" border:1px solid black;padding:15px;text-align:left\"> &#x274C; </td><td scope=\"row\" style=\"border:1px solid black;padding:15px;text-align:left\"> &#x274C; </td><td scope=\"row\" style=\"border:1px solid black;padding:15px;text-align:left\">&#x2705; </td></tr>"
            ],
            "text/plain": [
              "<IPython.core.display.HTML object>"
            ]
          },
          "metadata": {},
          "output_type": "display_data"
        },
        {
          "data": {
            "text/html": [
              "\n",
              "    <br>  \n",
              "    <h2 style=\"color:#3A363B  ;padding:10px;text-align:left\">Prediction With Attention</h2> \n",
              "    <br>  \n",
              "    <strong  style=\"color:blue ;padding:10px;text-align:left\">WORD:</strong><strong>amgiikarimchaadu</strong> \n",
              "     \n",
              "    <strong  style=\"color:green ;padding:10px;text-align:left\">ACTUAL:</strong><strong>అంగీకరించాడు</strong> \n",
              "     <strong  style=\"color:red ;padding:10px;text-align:left\">PREDICTED:</strong><strong>అంగీకరించాడు</strong> \n",
              "      <br>\n",
              "      <table style=\"border:2px solid black; border-collapse:collapse\">\n",
              "      <tr>\n",
              "      <td scope=\"row\" style=\"border:1px solid black;background-color:#3498DB;color:white;padding:10px;text-align:left\"> <strong>అంగీకరించాడు</strong> </td>\n",
              "      <td scope=\"row\" style=\"background-color:#E3FFE7 ;border:1px solid black;padding:15px;text-align:left\"> <strong>అ</strong> </td><td scope=\"row\" style=\"background-color:#E3FFE7 ;border:1px solid black;padding:15px;text-align:left\"> <strong>ం</strong> </td><td scope=\"row\" style=\"background-color:#E3FFE7 ;border:1px solid black;padding:15px;text-align:left\"> <strong>గ</strong> </td><td scope=\"row\" style=\"background-color:#E3FFE7 ;border:1px solid black;padding:15px;text-align:left\"> <strong>ీ</strong> </td><td scope=\"row\" style=\"background-color:#E3FFE7 ;border:1px solid black;padding:15px;text-align:left\"> <strong>క</strong> </td><td scope=\"row\" style=\"background-color:#E3FFE7 ;border:1px solid black;padding:15px;text-align:left\"> <strong>ర</strong> </td><td scope=\"row\" style=\"background-color:#E3FFE7 ;border:1px solid black;padding:15px;text-align:left\"> <strong>ి</strong> </td><td scope=\"row\" style=\"background-color:#E3FFE7 ;border:1px solid black;padding:15px;text-align:left\"> <strong>ం</strong> </td><td scope=\"row\" style=\"background-color:#E3FFE7 ;border:1px solid black;padding:15px;text-align:left\"> <strong>చ</strong> </td><td scope=\"row\" style=\"background-color:#E3FFE7 ;border:1px solid black;padding:15px;text-align:left\"> <strong>ా</strong> </td><td scope=\"row\" style=\"background-color:#E3FFE7 ;border:1px solid black;padding:15px;text-align:left\"> <strong>డ</strong> </td><td scope=\"row\" style=\"background-color:#E3FFE7 ;border:1px solid black;padding:15px;text-align:left\"> <strong>ు</strong> </td></tr><tr>\n",
              "      <td scope=\"row\" style=\"border:1px solid black;background-color:#3498DB;padding:15px;color:white;text-align:left\"> <strong>అంగీకరించాడు </strong></td><td scope=\"row\" style=\"background-color:#E3FFE7 ;border:1px solid black;padding:15px;text-align:left\"><strong> అ </strong></td><td scope=\"row\" style=\"background-color:#E3FFE7 ;border:1px solid black;padding:15px;text-align:left\"><strong> ం </strong></td><td scope=\"row\" style=\"background-color:#E3FFE7 ;border:1px solid black;padding:15px;text-align:left\"><strong> గ </strong></td><td scope=\"row\" style=\"background-color:#E3FFE7 ;border:1px solid black;padding:15px;text-align:left\"><strong> ీ </strong></td><td scope=\"row\" style=\"background-color:#E3FFE7 ;border:1px solid black;padding:15px;text-align:left\"><strong> క </strong></td><td scope=\"row\" style=\"background-color:#E3FFE7 ;border:1px solid black;padding:15px;text-align:left\"><strong> ర </strong></td><td scope=\"row\" style=\"background-color:#E3FFE7 ;border:1px solid black;padding:15px;text-align:left\"><strong> ి </strong></td><td scope=\"row\" style=\"background-color:#E3FFE7 ;border:1px solid black;padding:15px;text-align:left\"><strong> ం </strong></td><td scope=\"row\" style=\"background-color:#E3FFE7 ;border:1px solid black;padding:15px;text-align:left\"><strong> చ </strong></td><td scope=\"row\" style=\"background-color:#E3FFE7 ;border:1px solid black;padding:15px;text-align:left\"><strong> ా </strong></td><td scope=\"row\" style=\"background-color:#E3FFE7 ;border:1px solid black;padding:15px;text-align:left\"><strong> డ </strong></td><td scope=\"row\" style=\"background-color:#E3FFE7 ;border:1px solid black;padding:15px;text-align:left\"><strong> ు </strong></td></tr><tr>\n",
              "      <td scope=\"row\" style=\"border:1px solid black;background-color:#3498DB;padding:15px;color:white;text-align:left\"> <strong>amgiikarimchaadu </strong></td><td scope=\"row\" style=\"border:1px solid black;padding:15px;text-align:left\">&#x2705; </td><td scope=\"row\" style=\"border:1px solid black;padding:15px;text-align:left\">&#x2705; </td><td scope=\"row\" style=\"border:1px solid black;padding:15px;text-align:left\">&#x2705; </td><td scope=\"row\" style=\"border:1px solid black;padding:15px;text-align:left\">&#x2705; </td><td scope=\"row\" style=\"border:1px solid black;padding:15px;text-align:left\">&#x2705; </td><td scope=\"row\" style=\"border:1px solid black;padding:15px;text-align:left\">&#x2705; </td><td scope=\"row\" style=\"border:1px solid black;padding:15px;text-align:left\">&#x2705; </td><td scope=\"row\" style=\"border:1px solid black;padding:15px;text-align:left\">&#x2705; </td><td scope=\"row\" style=\"border:1px solid black;padding:15px;text-align:left\">&#x2705; </td><td scope=\"row\" style=\"border:1px solid black;padding:15px;text-align:left\">&#x2705; </td><td scope=\"row\" style=\"border:1px solid black;padding:15px;text-align:left\">&#x2705; </td><td scope=\"row\" style=\"border:1px solid black;padding:15px;text-align:left\">&#x2705; </td></tr>"
            ],
            "text/plain": [
              "<IPython.core.display.HTML object>"
            ]
          },
          "metadata": {},
          "output_type": "display_data"
        },
        {
          "data": {
            "text/html": [
              "\n",
              "    <br>  \n",
              "    <h2 style=\"color:#3A363B  ;padding:10px;text-align:left\">Prediction Without Attention</h2> \n",
              "    <br>  \n",
              "    <strong  style=\"color:blue ;padding:10px;text-align:left\">WORD:</strong><strong>angeekarinchaadu</strong> \n",
              "     \n",
              "    <strong  style=\"color:green ;padding:10px;text-align:left\">ACTUAL:</strong><strong>అంగీకరించాడు</strong> \n",
              "     <strong  style=\"color:red ;padding:10px;text-align:left\">PREDICTED:</strong><strong>అంగీకరించదు</strong> \n",
              "      <br>\n",
              "      <table style=\"border:2px solid black; border-collapse:collapse\">\n",
              "      <tr>\n",
              "      <td scope=\"row\" style=\"border:1px solid black;background-color:#3498DB;color:white;padding:10px;text-align:left\"> <strong>అంగీకరించాడు</strong> </td>\n",
              "      <td scope=\"row\" style=\"background-color:#E3FFE7 ;border:1px solid black;padding:15px;text-align:left\"> <strong>అ</strong> </td><td scope=\"row\" style=\"background-color:#E3FFE7 ;border:1px solid black;padding:15px;text-align:left\"> <strong>ం</strong> </td><td scope=\"row\" style=\"background-color:#E3FFE7 ;border:1px solid black;padding:15px;text-align:left\"> <strong>గ</strong> </td><td scope=\"row\" style=\"background-color:#E3FFE7 ;border:1px solid black;padding:15px;text-align:left\"> <strong>ీ</strong> </td><td scope=\"row\" style=\"background-color:#E3FFE7 ;border:1px solid black;padding:15px;text-align:left\"> <strong>క</strong> </td><td scope=\"row\" style=\"background-color:#E3FFE7 ;border:1px solid black;padding:15px;text-align:left\"> <strong>ర</strong> </td><td scope=\"row\" style=\"background-color:#E3FFE7 ;border:1px solid black;padding:15px;text-align:left\"> <strong>ి</strong> </td><td scope=\"row\" style=\"background-color:#E3FFE7 ;border:1px solid black;padding:15px;text-align:left\"> <strong>ం</strong> </td><td scope=\"row\" style=\"background-color:#E3FFE7 ;border:1px solid black;padding:15px;text-align:left\"> <strong>చ</strong> </td> <td scope=\"row\" style=\"background-color:#FFF6F7 ; border:1px solid black;padding:15px;text-align:left\"> <strong>ా</strong> </td> <td scope=\"row\" style=\"background-color:#FFF6F7 ; border:1px solid black;padding:15px;text-align:left\"> <strong>డ</strong> </td><td scope=\"row\" style=\"background-color:#E3FFE7 ;border:1px solid black;padding:15px;text-align:left\"> <strong>ు</strong> </td></tr><tr>\n",
              "      <td scope=\"row\" style=\"border:1px solid black;background-color:#3498DB;padding:15px;color:white;text-align:left\"> <strong>అంగీకరించదు </strong></td><td scope=\"row\" style=\"background-color:#E3FFE7 ;border:1px solid black;padding:15px;text-align:left\"><strong> అ </strong></td><td scope=\"row\" style=\"background-color:#E3FFE7 ;border:1px solid black;padding:15px;text-align:left\"><strong> ం </strong></td><td scope=\"row\" style=\"background-color:#E3FFE7 ;border:1px solid black;padding:15px;text-align:left\"><strong> గ </strong></td><td scope=\"row\" style=\"background-color:#E3FFE7 ;border:1px solid black;padding:15px;text-align:left\"><strong> ీ </strong></td><td scope=\"row\" style=\"background-color:#E3FFE7 ;border:1px solid black;padding:15px;text-align:left\"><strong> క </strong></td><td scope=\"row\" style=\"background-color:#E3FFE7 ;border:1px solid black;padding:15px;text-align:left\"><strong> ర </strong></td><td scope=\"row\" style=\"background-color:#E3FFE7 ;border:1px solid black;padding:15px;text-align:left\"><strong> ి </strong></td><td scope=\"row\" style=\"background-color:#E3FFE7 ;border:1px solid black;padding:15px;text-align:left\"><strong> ం </strong></td><td scope=\"row\" style=\"background-color:#E3FFE7 ;border:1px solid black;padding:15px;text-align:left\"><strong> చ </strong></td><td scope=\"row\" style=\"background-color:#FFF6F7 ; border:1px solid black;padding:15px;text-align:left\"> <strong>ద</strong> </td><td scope=\"row\" style=\"background-color:#FFF6F7 ; border:1px solid black;padding:15px;text-align:left\"> <strong> </strong> </td><td scope=\"row\" style=\"background-color:#E3FFE7 ;border:1px solid black;padding:15px;text-align:left\"><strong> ు </strong></td></tr><tr>\n",
              "      <td scope=\"row\" style=\"border:1px solid black;background-color:#3498DB;padding:15px;color:white;text-align:left\"> <strong>angeekarinchaadu </strong></td><td scope=\"row\" style=\"border:1px solid black;padding:15px;text-align:left\">&#x2705; </td><td scope=\"row\" style=\"border:1px solid black;padding:15px;text-align:left\">&#x2705; </td><td scope=\"row\" style=\"border:1px solid black;padding:15px;text-align:left\">&#x2705; </td><td scope=\"row\" style=\"border:1px solid black;padding:15px;text-align:left\">&#x2705; </td><td scope=\"row\" style=\"border:1px solid black;padding:15px;text-align:left\">&#x2705; </td><td scope=\"row\" style=\"border:1px solid black;padding:15px;text-align:left\">&#x2705; </td><td scope=\"row\" style=\"border:1px solid black;padding:15px;text-align:left\">&#x2705; </td><td scope=\"row\" style=\"border:1px solid black;padding:15px;text-align:left\">&#x2705; </td><td scope=\"row\" style=\"border:1px solid black;padding:15px;text-align:left\">&#x2705; </td> <td scope=\"row\" style=\" border:1px solid black;padding:15px;text-align:left\"> &#x274C; </td><td scope=\"row\" style=\"border:1px solid black;padding:15px;text-align:left\"> &#x274C; </td><td scope=\"row\" style=\"border:1px solid black;padding:15px;text-align:left\">&#x2705; </td></tr>"
            ],
            "text/plain": [
              "<IPython.core.display.HTML object>"
            ]
          },
          "metadata": {},
          "output_type": "display_data"
        },
        {
          "data": {
            "text/html": [
              "\n",
              "    <br>  \n",
              "    <h2 style=\"color:#3A363B  ;padding:10px;text-align:left\">Prediction With Attention</h2> \n",
              "    <br>  \n",
              "    <strong  style=\"color:blue ;padding:10px;text-align:left\">WORD:</strong><strong>angeekarinchaadu</strong> \n",
              "     \n",
              "    <strong  style=\"color:green ;padding:10px;text-align:left\">ACTUAL:</strong><strong>అంగీకరించాడు</strong> \n",
              "     <strong  style=\"color:red ;padding:10px;text-align:left\">PREDICTED:</strong><strong>అంగీకరించాడు</strong> \n",
              "      <br>\n",
              "      <table style=\"border:2px solid black; border-collapse:collapse\">\n",
              "      <tr>\n",
              "      <td scope=\"row\" style=\"border:1px solid black;background-color:#3498DB;color:white;padding:10px;text-align:left\"> <strong>అంగీకరించాడు</strong> </td>\n",
              "      <td scope=\"row\" style=\"background-color:#E3FFE7 ;border:1px solid black;padding:15px;text-align:left\"> <strong>అ</strong> </td><td scope=\"row\" style=\"background-color:#E3FFE7 ;border:1px solid black;padding:15px;text-align:left\"> <strong>ం</strong> </td><td scope=\"row\" style=\"background-color:#E3FFE7 ;border:1px solid black;padding:15px;text-align:left\"> <strong>గ</strong> </td><td scope=\"row\" style=\"background-color:#E3FFE7 ;border:1px solid black;padding:15px;text-align:left\"> <strong>ీ</strong> </td><td scope=\"row\" style=\"background-color:#E3FFE7 ;border:1px solid black;padding:15px;text-align:left\"> <strong>క</strong> </td><td scope=\"row\" style=\"background-color:#E3FFE7 ;border:1px solid black;padding:15px;text-align:left\"> <strong>ర</strong> </td><td scope=\"row\" style=\"background-color:#E3FFE7 ;border:1px solid black;padding:15px;text-align:left\"> <strong>ి</strong> </td><td scope=\"row\" style=\"background-color:#E3FFE7 ;border:1px solid black;padding:15px;text-align:left\"> <strong>ం</strong> </td><td scope=\"row\" style=\"background-color:#E3FFE7 ;border:1px solid black;padding:15px;text-align:left\"> <strong>చ</strong> </td><td scope=\"row\" style=\"background-color:#E3FFE7 ;border:1px solid black;padding:15px;text-align:left\"> <strong>ా</strong> </td><td scope=\"row\" style=\"background-color:#E3FFE7 ;border:1px solid black;padding:15px;text-align:left\"> <strong>డ</strong> </td><td scope=\"row\" style=\"background-color:#E3FFE7 ;border:1px solid black;padding:15px;text-align:left\"> <strong>ు</strong> </td></tr><tr>\n",
              "      <td scope=\"row\" style=\"border:1px solid black;background-color:#3498DB;padding:15px;color:white;text-align:left\"> <strong>అంగీకరించాడు </strong></td><td scope=\"row\" style=\"background-color:#E3FFE7 ;border:1px solid black;padding:15px;text-align:left\"><strong> అ </strong></td><td scope=\"row\" style=\"background-color:#E3FFE7 ;border:1px solid black;padding:15px;text-align:left\"><strong> ం </strong></td><td scope=\"row\" style=\"background-color:#E3FFE7 ;border:1px solid black;padding:15px;text-align:left\"><strong> గ </strong></td><td scope=\"row\" style=\"background-color:#E3FFE7 ;border:1px solid black;padding:15px;text-align:left\"><strong> ీ </strong></td><td scope=\"row\" style=\"background-color:#E3FFE7 ;border:1px solid black;padding:15px;text-align:left\"><strong> క </strong></td><td scope=\"row\" style=\"background-color:#E3FFE7 ;border:1px solid black;padding:15px;text-align:left\"><strong> ర </strong></td><td scope=\"row\" style=\"background-color:#E3FFE7 ;border:1px solid black;padding:15px;text-align:left\"><strong> ి </strong></td><td scope=\"row\" style=\"background-color:#E3FFE7 ;border:1px solid black;padding:15px;text-align:left\"><strong> ం </strong></td><td scope=\"row\" style=\"background-color:#E3FFE7 ;border:1px solid black;padding:15px;text-align:left\"><strong> చ </strong></td><td scope=\"row\" style=\"background-color:#E3FFE7 ;border:1px solid black;padding:15px;text-align:left\"><strong> ా </strong></td><td scope=\"row\" style=\"background-color:#E3FFE7 ;border:1px solid black;padding:15px;text-align:left\"><strong> డ </strong></td><td scope=\"row\" style=\"background-color:#E3FFE7 ;border:1px solid black;padding:15px;text-align:left\"><strong> ు </strong></td></tr><tr>\n",
              "      <td scope=\"row\" style=\"border:1px solid black;background-color:#3498DB;padding:15px;color:white;text-align:left\"> <strong>angeekarinchaadu </strong></td><td scope=\"row\" style=\"border:1px solid black;padding:15px;text-align:left\">&#x2705; </td><td scope=\"row\" style=\"border:1px solid black;padding:15px;text-align:left\">&#x2705; </td><td scope=\"row\" style=\"border:1px solid black;padding:15px;text-align:left\">&#x2705; </td><td scope=\"row\" style=\"border:1px solid black;padding:15px;text-align:left\">&#x2705; </td><td scope=\"row\" style=\"border:1px solid black;padding:15px;text-align:left\">&#x2705; </td><td scope=\"row\" style=\"border:1px solid black;padding:15px;text-align:left\">&#x2705; </td><td scope=\"row\" style=\"border:1px solid black;padding:15px;text-align:left\">&#x2705; </td><td scope=\"row\" style=\"border:1px solid black;padding:15px;text-align:left\">&#x2705; </td><td scope=\"row\" style=\"border:1px solid black;padding:15px;text-align:left\">&#x2705; </td><td scope=\"row\" style=\"border:1px solid black;padding:15px;text-align:left\">&#x2705; </td><td scope=\"row\" style=\"border:1px solid black;padding:15px;text-align:left\">&#x2705; </td><td scope=\"row\" style=\"border:1px solid black;padding:15px;text-align:left\">&#x2705; </td></tr>"
            ],
            "text/plain": [
              "<IPython.core.display.HTML object>"
            ]
          },
          "metadata": {},
          "output_type": "display_data"
        },
        {
          "data": {
            "text/html": [
              "\n",
              "    <br>  \n",
              "    <h2 style=\"color:#3A363B  ;padding:10px;text-align:left\">Prediction Without Attention</h2> \n",
              "    <br>  \n",
              "    <strong  style=\"color:blue ;padding:10px;text-align:left\">WORD:</strong><strong>angiikarinchaadu</strong> \n",
              "     \n",
              "    <strong  style=\"color:green ;padding:10px;text-align:left\">ACTUAL:</strong><strong>అంగీకరించాడు</strong> \n",
              "     <strong  style=\"color:red ;padding:10px;text-align:left\">PREDICTED:</strong><strong>అంగీకరించదు</strong> \n",
              "      <br>\n",
              "      <table style=\"border:2px solid black; border-collapse:collapse\">\n",
              "      <tr>\n",
              "      <td scope=\"row\" style=\"border:1px solid black;background-color:#3498DB;color:white;padding:10px;text-align:left\"> <strong>అంగీకరించాడు</strong> </td>\n",
              "      <td scope=\"row\" style=\"background-color:#E3FFE7 ;border:1px solid black;padding:15px;text-align:left\"> <strong>అ</strong> </td><td scope=\"row\" style=\"background-color:#E3FFE7 ;border:1px solid black;padding:15px;text-align:left\"> <strong>ం</strong> </td><td scope=\"row\" style=\"background-color:#E3FFE7 ;border:1px solid black;padding:15px;text-align:left\"> <strong>గ</strong> </td><td scope=\"row\" style=\"background-color:#E3FFE7 ;border:1px solid black;padding:15px;text-align:left\"> <strong>ీ</strong> </td><td scope=\"row\" style=\"background-color:#E3FFE7 ;border:1px solid black;padding:15px;text-align:left\"> <strong>క</strong> </td><td scope=\"row\" style=\"background-color:#E3FFE7 ;border:1px solid black;padding:15px;text-align:left\"> <strong>ర</strong> </td><td scope=\"row\" style=\"background-color:#E3FFE7 ;border:1px solid black;padding:15px;text-align:left\"> <strong>ి</strong> </td><td scope=\"row\" style=\"background-color:#E3FFE7 ;border:1px solid black;padding:15px;text-align:left\"> <strong>ం</strong> </td><td scope=\"row\" style=\"background-color:#E3FFE7 ;border:1px solid black;padding:15px;text-align:left\"> <strong>చ</strong> </td> <td scope=\"row\" style=\"background-color:#FFF6F7 ; border:1px solid black;padding:15px;text-align:left\"> <strong>ా</strong> </td> <td scope=\"row\" style=\"background-color:#FFF6F7 ; border:1px solid black;padding:15px;text-align:left\"> <strong>డ</strong> </td><td scope=\"row\" style=\"background-color:#E3FFE7 ;border:1px solid black;padding:15px;text-align:left\"> <strong>ు</strong> </td></tr><tr>\n",
              "      <td scope=\"row\" style=\"border:1px solid black;background-color:#3498DB;padding:15px;color:white;text-align:left\"> <strong>అంగీకరించదు </strong></td><td scope=\"row\" style=\"background-color:#E3FFE7 ;border:1px solid black;padding:15px;text-align:left\"><strong> అ </strong></td><td scope=\"row\" style=\"background-color:#E3FFE7 ;border:1px solid black;padding:15px;text-align:left\"><strong> ం </strong></td><td scope=\"row\" style=\"background-color:#E3FFE7 ;border:1px solid black;padding:15px;text-align:left\"><strong> గ </strong></td><td scope=\"row\" style=\"background-color:#E3FFE7 ;border:1px solid black;padding:15px;text-align:left\"><strong> ీ </strong></td><td scope=\"row\" style=\"background-color:#E3FFE7 ;border:1px solid black;padding:15px;text-align:left\"><strong> క </strong></td><td scope=\"row\" style=\"background-color:#E3FFE7 ;border:1px solid black;padding:15px;text-align:left\"><strong> ర </strong></td><td scope=\"row\" style=\"background-color:#E3FFE7 ;border:1px solid black;padding:15px;text-align:left\"><strong> ి </strong></td><td scope=\"row\" style=\"background-color:#E3FFE7 ;border:1px solid black;padding:15px;text-align:left\"><strong> ం </strong></td><td scope=\"row\" style=\"background-color:#E3FFE7 ;border:1px solid black;padding:15px;text-align:left\"><strong> చ </strong></td><td scope=\"row\" style=\"background-color:#FFF6F7 ; border:1px solid black;padding:15px;text-align:left\"> <strong>ద</strong> </td><td scope=\"row\" style=\"background-color:#FFF6F7 ; border:1px solid black;padding:15px;text-align:left\"> <strong> </strong> </td><td scope=\"row\" style=\"background-color:#E3FFE7 ;border:1px solid black;padding:15px;text-align:left\"><strong> ు </strong></td></tr><tr>\n",
              "      <td scope=\"row\" style=\"border:1px solid black;background-color:#3498DB;padding:15px;color:white;text-align:left\"> <strong>angiikarinchaadu </strong></td><td scope=\"row\" style=\"border:1px solid black;padding:15px;text-align:left\">&#x2705; </td><td scope=\"row\" style=\"border:1px solid black;padding:15px;text-align:left\">&#x2705; </td><td scope=\"row\" style=\"border:1px solid black;padding:15px;text-align:left\">&#x2705; </td><td scope=\"row\" style=\"border:1px solid black;padding:15px;text-align:left\">&#x2705; </td><td scope=\"row\" style=\"border:1px solid black;padding:15px;text-align:left\">&#x2705; </td><td scope=\"row\" style=\"border:1px solid black;padding:15px;text-align:left\">&#x2705; </td><td scope=\"row\" style=\"border:1px solid black;padding:15px;text-align:left\">&#x2705; </td><td scope=\"row\" style=\"border:1px solid black;padding:15px;text-align:left\">&#x2705; </td><td scope=\"row\" style=\"border:1px solid black;padding:15px;text-align:left\">&#x2705; </td> <td scope=\"row\" style=\" border:1px solid black;padding:15px;text-align:left\"> &#x274C; </td><td scope=\"row\" style=\"border:1px solid black;padding:15px;text-align:left\"> &#x274C; </td><td scope=\"row\" style=\"border:1px solid black;padding:15px;text-align:left\">&#x2705; </td></tr>"
            ],
            "text/plain": [
              "<IPython.core.display.HTML object>"
            ]
          },
          "metadata": {},
          "output_type": "display_data"
        },
        {
          "data": {
            "text/html": [
              "\n",
              "    <br>  \n",
              "    <h2 style=\"color:#3A363B  ;padding:10px;text-align:left\">Prediction With Attention</h2> \n",
              "    <br>  \n",
              "    <strong  style=\"color:blue ;padding:10px;text-align:left\">WORD:</strong><strong>angiikarinchaadu</strong> \n",
              "     \n",
              "    <strong  style=\"color:green ;padding:10px;text-align:left\">ACTUAL:</strong><strong>అంగీకరించాడు</strong> \n",
              "     <strong  style=\"color:red ;padding:10px;text-align:left\">PREDICTED:</strong><strong>అంగీకరించాడు</strong> \n",
              "      <br>\n",
              "      <table style=\"border:2px solid black; border-collapse:collapse\">\n",
              "      <tr>\n",
              "      <td scope=\"row\" style=\"border:1px solid black;background-color:#3498DB;color:white;padding:10px;text-align:left\"> <strong>అంగీకరించాడు</strong> </td>\n",
              "      <td scope=\"row\" style=\"background-color:#E3FFE7 ;border:1px solid black;padding:15px;text-align:left\"> <strong>అ</strong> </td><td scope=\"row\" style=\"background-color:#E3FFE7 ;border:1px solid black;padding:15px;text-align:left\"> <strong>ం</strong> </td><td scope=\"row\" style=\"background-color:#E3FFE7 ;border:1px solid black;padding:15px;text-align:left\"> <strong>గ</strong> </td><td scope=\"row\" style=\"background-color:#E3FFE7 ;border:1px solid black;padding:15px;text-align:left\"> <strong>ీ</strong> </td><td scope=\"row\" style=\"background-color:#E3FFE7 ;border:1px solid black;padding:15px;text-align:left\"> <strong>క</strong> </td><td scope=\"row\" style=\"background-color:#E3FFE7 ;border:1px solid black;padding:15px;text-align:left\"> <strong>ర</strong> </td><td scope=\"row\" style=\"background-color:#E3FFE7 ;border:1px solid black;padding:15px;text-align:left\"> <strong>ి</strong> </td><td scope=\"row\" style=\"background-color:#E3FFE7 ;border:1px solid black;padding:15px;text-align:left\"> <strong>ం</strong> </td><td scope=\"row\" style=\"background-color:#E3FFE7 ;border:1px solid black;padding:15px;text-align:left\"> <strong>చ</strong> </td><td scope=\"row\" style=\"background-color:#E3FFE7 ;border:1px solid black;padding:15px;text-align:left\"> <strong>ా</strong> </td><td scope=\"row\" style=\"background-color:#E3FFE7 ;border:1px solid black;padding:15px;text-align:left\"> <strong>డ</strong> </td><td scope=\"row\" style=\"background-color:#E3FFE7 ;border:1px solid black;padding:15px;text-align:left\"> <strong>ు</strong> </td></tr><tr>\n",
              "      <td scope=\"row\" style=\"border:1px solid black;background-color:#3498DB;padding:15px;color:white;text-align:left\"> <strong>అంగీకరించాడు </strong></td><td scope=\"row\" style=\"background-color:#E3FFE7 ;border:1px solid black;padding:15px;text-align:left\"><strong> అ </strong></td><td scope=\"row\" style=\"background-color:#E3FFE7 ;border:1px solid black;padding:15px;text-align:left\"><strong> ం </strong></td><td scope=\"row\" style=\"background-color:#E3FFE7 ;border:1px solid black;padding:15px;text-align:left\"><strong> గ </strong></td><td scope=\"row\" style=\"background-color:#E3FFE7 ;border:1px solid black;padding:15px;text-align:left\"><strong> ీ </strong></td><td scope=\"row\" style=\"background-color:#E3FFE7 ;border:1px solid black;padding:15px;text-align:left\"><strong> క </strong></td><td scope=\"row\" style=\"background-color:#E3FFE7 ;border:1px solid black;padding:15px;text-align:left\"><strong> ర </strong></td><td scope=\"row\" style=\"background-color:#E3FFE7 ;border:1px solid black;padding:15px;text-align:left\"><strong> ి </strong></td><td scope=\"row\" style=\"background-color:#E3FFE7 ;border:1px solid black;padding:15px;text-align:left\"><strong> ం </strong></td><td scope=\"row\" style=\"background-color:#E3FFE7 ;border:1px solid black;padding:15px;text-align:left\"><strong> చ </strong></td><td scope=\"row\" style=\"background-color:#E3FFE7 ;border:1px solid black;padding:15px;text-align:left\"><strong> ా </strong></td><td scope=\"row\" style=\"background-color:#E3FFE7 ;border:1px solid black;padding:15px;text-align:left\"><strong> డ </strong></td><td scope=\"row\" style=\"background-color:#E3FFE7 ;border:1px solid black;padding:15px;text-align:left\"><strong> ు </strong></td></tr><tr>\n",
              "      <td scope=\"row\" style=\"border:1px solid black;background-color:#3498DB;padding:15px;color:white;text-align:left\"> <strong>angiikarinchaadu </strong></td><td scope=\"row\" style=\"border:1px solid black;padding:15px;text-align:left\">&#x2705; </td><td scope=\"row\" style=\"border:1px solid black;padding:15px;text-align:left\">&#x2705; </td><td scope=\"row\" style=\"border:1px solid black;padding:15px;text-align:left\">&#x2705; </td><td scope=\"row\" style=\"border:1px solid black;padding:15px;text-align:left\">&#x2705; </td><td scope=\"row\" style=\"border:1px solid black;padding:15px;text-align:left\">&#x2705; </td><td scope=\"row\" style=\"border:1px solid black;padding:15px;text-align:left\">&#x2705; </td><td scope=\"row\" style=\"border:1px solid black;padding:15px;text-align:left\">&#x2705; </td><td scope=\"row\" style=\"border:1px solid black;padding:15px;text-align:left\">&#x2705; </td><td scope=\"row\" style=\"border:1px solid black;padding:15px;text-align:left\">&#x2705; </td><td scope=\"row\" style=\"border:1px solid black;padding:15px;text-align:left\">&#x2705; </td><td scope=\"row\" style=\"border:1px solid black;padding:15px;text-align:left\">&#x2705; </td><td scope=\"row\" style=\"border:1px solid black;padding:15px;text-align:left\">&#x2705; </td></tr>"
            ],
            "text/plain": [
              "<IPython.core.display.HTML object>"
            ]
          },
          "metadata": {},
          "output_type": "display_data"
        },
        {
          "data": {
            "text/html": [
              "\n",
              "    <br>  \n",
              "    <h2 style=\"color:#3A363B  ;padding:10px;text-align:left\">Prediction Without Attention</h2> \n",
              "    <br>  \n",
              "    <strong  style=\"color:blue ;padding:10px;text-align:left\">WORD:</strong><strong>angeekarinchaali</strong> \n",
              "     \n",
              "    <strong  style=\"color:green ;padding:10px;text-align:left\">ACTUAL:</strong><strong>అంగీకరించాలి</strong> \n",
              "     <strong  style=\"color:red ;padding:10px;text-align:left\">PREDICTED:</strong><strong>అంగీకరించలి</strong> \n",
              "      <br>\n",
              "      <table style=\"border:2px solid black; border-collapse:collapse\">\n",
              "      <tr>\n",
              "      <td scope=\"row\" style=\"border:1px solid black;background-color:#3498DB;color:white;padding:10px;text-align:left\"> <strong>అంగీకరించాలి</strong> </td>\n",
              "      <td scope=\"row\" style=\"background-color:#E3FFE7 ;border:1px solid black;padding:15px;text-align:left\"> <strong>అ</strong> </td><td scope=\"row\" style=\"background-color:#E3FFE7 ;border:1px solid black;padding:15px;text-align:left\"> <strong>ం</strong> </td><td scope=\"row\" style=\"background-color:#E3FFE7 ;border:1px solid black;padding:15px;text-align:left\"> <strong>గ</strong> </td><td scope=\"row\" style=\"background-color:#E3FFE7 ;border:1px solid black;padding:15px;text-align:left\"> <strong>ీ</strong> </td><td scope=\"row\" style=\"background-color:#E3FFE7 ;border:1px solid black;padding:15px;text-align:left\"> <strong>క</strong> </td><td scope=\"row\" style=\"background-color:#E3FFE7 ;border:1px solid black;padding:15px;text-align:left\"> <strong>ర</strong> </td><td scope=\"row\" style=\"background-color:#E3FFE7 ;border:1px solid black;padding:15px;text-align:left\"> <strong>ి</strong> </td><td scope=\"row\" style=\"background-color:#E3FFE7 ;border:1px solid black;padding:15px;text-align:left\"> <strong>ం</strong> </td><td scope=\"row\" style=\"background-color:#E3FFE7 ;border:1px solid black;padding:15px;text-align:left\"> <strong>చ</strong> </td> <td scope=\"row\" style=\"background-color:#FFF6F7 ; border:1px solid black;padding:15px;text-align:left\"> <strong>ా</strong> </td><td scope=\"row\" style=\"background-color:#E3FFE7 ;border:1px solid black;padding:15px;text-align:left\"> <strong>ల</strong> </td><td scope=\"row\" style=\"background-color:#E3FFE7 ;border:1px solid black;padding:15px;text-align:left\"> <strong>ి</strong> </td></tr><tr>\n",
              "      <td scope=\"row\" style=\"border:1px solid black;background-color:#3498DB;padding:15px;color:white;text-align:left\"> <strong>అంగీకరించలి </strong></td><td scope=\"row\" style=\"background-color:#E3FFE7 ;border:1px solid black;padding:15px;text-align:left\"><strong> అ </strong></td><td scope=\"row\" style=\"background-color:#E3FFE7 ;border:1px solid black;padding:15px;text-align:left\"><strong> ం </strong></td><td scope=\"row\" style=\"background-color:#E3FFE7 ;border:1px solid black;padding:15px;text-align:left\"><strong> గ </strong></td><td scope=\"row\" style=\"background-color:#E3FFE7 ;border:1px solid black;padding:15px;text-align:left\"><strong> ీ </strong></td><td scope=\"row\" style=\"background-color:#E3FFE7 ;border:1px solid black;padding:15px;text-align:left\"><strong> క </strong></td><td scope=\"row\" style=\"background-color:#E3FFE7 ;border:1px solid black;padding:15px;text-align:left\"><strong> ర </strong></td><td scope=\"row\" style=\"background-color:#E3FFE7 ;border:1px solid black;padding:15px;text-align:left\"><strong> ి </strong></td><td scope=\"row\" style=\"background-color:#E3FFE7 ;border:1px solid black;padding:15px;text-align:left\"><strong> ం </strong></td><td scope=\"row\" style=\"background-color:#E3FFE7 ;border:1px solid black;padding:15px;text-align:left\"><strong> చ </strong></td><td scope=\"row\" style=\"background-color:#FFF6F7 ; border:1px solid black;padding:15px;text-align:left\"> <strong> </strong> </td><td scope=\"row\" style=\"background-color:#E3FFE7 ;border:1px solid black;padding:15px;text-align:left\"><strong> ల </strong></td><td scope=\"row\" style=\"background-color:#E3FFE7 ;border:1px solid black;padding:15px;text-align:left\"><strong> ి </strong></td></tr><tr>\n",
              "      <td scope=\"row\" style=\"border:1px solid black;background-color:#3498DB;padding:15px;color:white;text-align:left\"> <strong>angeekarinchaali </strong></td><td scope=\"row\" style=\"border:1px solid black;padding:15px;text-align:left\">&#x2705; </td><td scope=\"row\" style=\"border:1px solid black;padding:15px;text-align:left\">&#x2705; </td><td scope=\"row\" style=\"border:1px solid black;padding:15px;text-align:left\">&#x2705; </td><td scope=\"row\" style=\"border:1px solid black;padding:15px;text-align:left\">&#x2705; </td><td scope=\"row\" style=\"border:1px solid black;padding:15px;text-align:left\">&#x2705; </td><td scope=\"row\" style=\"border:1px solid black;padding:15px;text-align:left\">&#x2705; </td><td scope=\"row\" style=\"border:1px solid black;padding:15px;text-align:left\">&#x2705; </td><td scope=\"row\" style=\"border:1px solid black;padding:15px;text-align:left\">&#x2705; </td><td scope=\"row\" style=\"border:1px solid black;padding:15px;text-align:left\">&#x2705; </td><td scope=\"row\" style=\"border:1px solid black;padding:15px;text-align:left\"> &#x274C; </td><td scope=\"row\" style=\"border:1px solid black;padding:15px;text-align:left\">&#x2705; </td><td scope=\"row\" style=\"border:1px solid black;padding:15px;text-align:left\">&#x2705; </td></tr>"
            ],
            "text/plain": [
              "<IPython.core.display.HTML object>"
            ]
          },
          "metadata": {},
          "output_type": "display_data"
        },
        {
          "data": {
            "text/html": [
              "\n",
              "    <br>  \n",
              "    <h2 style=\"color:#3A363B  ;padding:10px;text-align:left\">Prediction With Attention</h2> \n",
              "    <br>  \n",
              "    <strong  style=\"color:blue ;padding:10px;text-align:left\">WORD:</strong><strong>angeekarinchaali</strong> \n",
              "     \n",
              "    <strong  style=\"color:green ;padding:10px;text-align:left\">ACTUAL:</strong><strong>అంగీకరించాలి</strong> \n",
              "     <strong  style=\"color:red ;padding:10px;text-align:left\">PREDICTED:</strong><strong>అంగీకరించాలి</strong> \n",
              "      <br>\n",
              "      <table style=\"border:2px solid black; border-collapse:collapse\">\n",
              "      <tr>\n",
              "      <td scope=\"row\" style=\"border:1px solid black;background-color:#3498DB;color:white;padding:10px;text-align:left\"> <strong>అంగీకరించాలి</strong> </td>\n",
              "      <td scope=\"row\" style=\"background-color:#E3FFE7 ;border:1px solid black;padding:15px;text-align:left\"> <strong>అ</strong> </td><td scope=\"row\" style=\"background-color:#E3FFE7 ;border:1px solid black;padding:15px;text-align:left\"> <strong>ం</strong> </td><td scope=\"row\" style=\"background-color:#E3FFE7 ;border:1px solid black;padding:15px;text-align:left\"> <strong>గ</strong> </td><td scope=\"row\" style=\"background-color:#E3FFE7 ;border:1px solid black;padding:15px;text-align:left\"> <strong>ీ</strong> </td><td scope=\"row\" style=\"background-color:#E3FFE7 ;border:1px solid black;padding:15px;text-align:left\"> <strong>క</strong> </td><td scope=\"row\" style=\"background-color:#E3FFE7 ;border:1px solid black;padding:15px;text-align:left\"> <strong>ర</strong> </td><td scope=\"row\" style=\"background-color:#E3FFE7 ;border:1px solid black;padding:15px;text-align:left\"> <strong>ి</strong> </td><td scope=\"row\" style=\"background-color:#E3FFE7 ;border:1px solid black;padding:15px;text-align:left\"> <strong>ం</strong> </td><td scope=\"row\" style=\"background-color:#E3FFE7 ;border:1px solid black;padding:15px;text-align:left\"> <strong>చ</strong> </td><td scope=\"row\" style=\"background-color:#E3FFE7 ;border:1px solid black;padding:15px;text-align:left\"> <strong>ా</strong> </td><td scope=\"row\" style=\"background-color:#E3FFE7 ;border:1px solid black;padding:15px;text-align:left\"> <strong>ల</strong> </td><td scope=\"row\" style=\"background-color:#E3FFE7 ;border:1px solid black;padding:15px;text-align:left\"> <strong>ి</strong> </td></tr><tr>\n",
              "      <td scope=\"row\" style=\"border:1px solid black;background-color:#3498DB;padding:15px;color:white;text-align:left\"> <strong>అంగీకరించాలి </strong></td><td scope=\"row\" style=\"background-color:#E3FFE7 ;border:1px solid black;padding:15px;text-align:left\"><strong> అ </strong></td><td scope=\"row\" style=\"background-color:#E3FFE7 ;border:1px solid black;padding:15px;text-align:left\"><strong> ం </strong></td><td scope=\"row\" style=\"background-color:#E3FFE7 ;border:1px solid black;padding:15px;text-align:left\"><strong> గ </strong></td><td scope=\"row\" style=\"background-color:#E3FFE7 ;border:1px solid black;padding:15px;text-align:left\"><strong> ీ </strong></td><td scope=\"row\" style=\"background-color:#E3FFE7 ;border:1px solid black;padding:15px;text-align:left\"><strong> క </strong></td><td scope=\"row\" style=\"background-color:#E3FFE7 ;border:1px solid black;padding:15px;text-align:left\"><strong> ర </strong></td><td scope=\"row\" style=\"background-color:#E3FFE7 ;border:1px solid black;padding:15px;text-align:left\"><strong> ి </strong></td><td scope=\"row\" style=\"background-color:#E3FFE7 ;border:1px solid black;padding:15px;text-align:left\"><strong> ం </strong></td><td scope=\"row\" style=\"background-color:#E3FFE7 ;border:1px solid black;padding:15px;text-align:left\"><strong> చ </strong></td><td scope=\"row\" style=\"background-color:#E3FFE7 ;border:1px solid black;padding:15px;text-align:left\"><strong> ా </strong></td><td scope=\"row\" style=\"background-color:#E3FFE7 ;border:1px solid black;padding:15px;text-align:left\"><strong> ల </strong></td><td scope=\"row\" style=\"background-color:#E3FFE7 ;border:1px solid black;padding:15px;text-align:left\"><strong> ి </strong></td></tr><tr>\n",
              "      <td scope=\"row\" style=\"border:1px solid black;background-color:#3498DB;padding:15px;color:white;text-align:left\"> <strong>angeekarinchaali </strong></td><td scope=\"row\" style=\"border:1px solid black;padding:15px;text-align:left\">&#x2705; </td><td scope=\"row\" style=\"border:1px solid black;padding:15px;text-align:left\">&#x2705; </td><td scope=\"row\" style=\"border:1px solid black;padding:15px;text-align:left\">&#x2705; </td><td scope=\"row\" style=\"border:1px solid black;padding:15px;text-align:left\">&#x2705; </td><td scope=\"row\" style=\"border:1px solid black;padding:15px;text-align:left\">&#x2705; </td><td scope=\"row\" style=\"border:1px solid black;padding:15px;text-align:left\">&#x2705; </td><td scope=\"row\" style=\"border:1px solid black;padding:15px;text-align:left\">&#x2705; </td><td scope=\"row\" style=\"border:1px solid black;padding:15px;text-align:left\">&#x2705; </td><td scope=\"row\" style=\"border:1px solid black;padding:15px;text-align:left\">&#x2705; </td><td scope=\"row\" style=\"border:1px solid black;padding:15px;text-align:left\">&#x2705; </td><td scope=\"row\" style=\"border:1px solid black;padding:15px;text-align:left\">&#x2705; </td><td scope=\"row\" style=\"border:1px solid black;padding:15px;text-align:left\">&#x2705; </td></tr>"
            ],
            "text/plain": [
              "<IPython.core.display.HTML object>"
            ]
          },
          "metadata": {},
          "output_type": "display_data"
        }
      ],
      "source": [
        "for i in range(len(actual_rnd_vn)):\n",
        "  compare_result(predict_rnd_vn[i],actual_rnd_vn[i],source_rnd_vn[i],'Prediction Without Attention')\n",
        "  compare_result(predict_rnd[i],actual_rnd[i],source_rnd[i],'Prediction With Attention')"
      ]
    }
  ],
  "metadata": {
    "accelerator": "GPU",
    "colab": {
      "collapsed_sections": [
        "Y2vkvje2XA3r",
        "yCVhhqPMWkuS",
        "wxZRkdDOWQo8",
        "-qULETfYvjFe",
        "kf3H6G78vejQ"
      ],
      "machine_shape": "hm",
      "name": "DL_Assignment3_bestmodel_Attention.ipynb",
      "provenance": []
    },
    "kernelspec": {
      "display_name": "Python 3",
      "name": "python3"
    },
    "language_info": {
      "name": "python"
    }
  },
  "nbformat": 4,
  "nbformat_minor": 0
}
