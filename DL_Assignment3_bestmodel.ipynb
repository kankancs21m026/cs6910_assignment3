{
  "cells": [
    {
      "cell_type": "markdown",
      "metadata": {
        "id": "Y2vkvje2XA3r"
      },
      "source": [
        "# Import package"
      ]
    },
    {
      "cell_type": "code",
      "execution_count": 1,
      "metadata": {
        "colab": {
          "base_uri": "https://localhost:8080/"
        },
        "id": "u0qCvgqBxzLo",
        "outputId": "ac403614-2621-43e1-85e3-909fecb8e953"
      },
      "outputs": [
        {
          "output_type": "stream",
          "name": "stdout",
          "text": [
            "Collecting xtarfile\n",
            "  Downloading xtarfile-0.1.0.tar.gz (3.4 kB)\n",
            "Building wheels for collected packages: xtarfile\n",
            "  Building wheel for xtarfile (setup.py) ... \u001b[?25l\u001b[?25hdone\n",
            "  Created wheel for xtarfile: filename=xtarfile-0.1.0-py3-none-any.whl size=3862 sha256=7e428b7eb90b123e366fc7440aee8b9c8160941da20c7d5e8051b2df594314db\n",
            "  Stored in directory: /root/.cache/pip/wheels/14/ed/96/b06b7600d9d2eb6068fed8ded4282aeb3addf5b213dfe48819\n",
            "Successfully built xtarfile\n",
            "Installing collected packages: xtarfile\n",
            "Successfully installed xtarfile-0.1.0\n"
          ]
        }
      ],
      "source": [
        "\n",
        "!pip install xtarfile"
      ]
    },
    {
      "cell_type": "code",
      "execution_count": 2,
      "metadata": {
        "id": "6xAqFEssB1RJ"
      },
      "outputs": [],
      "source": [
        "START_TOKEN=\"\\t\"\n",
        "END_TOKEN=\"\\n\""
      ]
    },
    {
      "cell_type": "code",
      "execution_count": 3,
      "metadata": {
        "id": "s6xB0KDuy95e"
      },
      "outputs": [],
      "source": [
        "import os\n",
        "import random\n",
        "import time\n",
        "import re, string\n",
        "import numpy as np\n",
        "import pandas as pd \n",
        "import matplotlib as mpl\n",
        "import matplotlib.pyplot as plt\n",
        "from matplotlib.font_manager import FontProperties\n",
        "from wordcloud import WordCloud, STOPWORDS\n",
        "from collections import Counter\n",
        "\n",
        "\n",
        "import os\n",
        "from os.path import exists\n",
        "import matplotlib.pyplot as plt\n",
        "import matplotlib.image as mpimg\n",
        "import random \n",
        "import numpy as np\n",
        "import keras\n",
        "import tensorflow as tf\n",
        "import csv\n",
        "\n",
        "from tensorflow.keras import layers\n",
        "import tensorflow.keras.backend as K\n",
        "\n",
        "\n"
      ]
    },
    {
      "cell_type": "code",
      "execution_count": 4,
      "metadata": {
        "id": "d1J0s1-UsYaC"
      },
      "outputs": [],
      "source": [
        "import tensorflow as tf\n",
        "from tensorflow.keras import layers\n",
        "import tensorflow.keras.backend as K\n",
        "\n",
        "\n",
        "\"\"\"\n",
        "This package have two attention type implemented\n",
        "-Luong Attention\n",
        "-Bahdanau Attention\n",
        "\n",
        "References -\n",
        "https://medium.com/deep-learning-with-keras/seq2seq-part-c-basic-encoder-decoder-a7f536f5f510\n",
        "\n",
        "\"\"\"\n",
        "\n",
        "\"\"\"\n",
        "Luong Attention\n",
        "\"\"\"\n",
        "class LuongAttention(tf.keras.layers.Layer):\n",
        "  def __init__(self, units):\n",
        "    super(LuongAttention, self).__init__()\n",
        "    self.W1 = tf.keras.layers.Dense(units)\n",
        "    self.W2 = tf.keras.layers.Dense(units)\n",
        "    self.V = tf.keras.layers.Dense(1)\n",
        "\n",
        "  def call(self, query, values):\n",
        "\n",
        "    #  broadcast addition along the time axis to calculate the score\n",
        "    query_with_time_axis = tf.expand_dims(query, 1)\n",
        "    values_transposed = tf.transpose(values, perm=[0, 2, 1])\n",
        "\n",
        "\n",
        "    #perform LUONGH Dot-product\n",
        "    score = tf.transpose(tf.matmul(query_with_time_axis, values_transposed) , perm=[0, 2, 1])\n",
        "\n",
        "    attention_weights = tf.nn.softmax(score, axis=1)\n",
        "    \n",
        "    # context_vector shape after sum == (batch_size, hidden_size)\n",
        "    context_vector = attention_weights * values\n",
        "    \n",
        "    context_vector = tf.reduce_sum(context_vector, axis=1)\n",
        "\n",
        "    return context_vector, attention_weights\n",
        "\n",
        "\"\"\"\n",
        "Bahdanau Attention\n",
        "\"\"\"\n",
        "class BahdanauAttention(tf.keras.layers.Layer):\n",
        "  def __init__(self, units, verbose=0):\n",
        "    super(BahdanauAttention, self).__init__()\n",
        "    #Define weights\n",
        "    self.W1 = tf.keras.layers.Dense(units)\n",
        "    self.W2 = tf.keras.layers.Dense(units)\n",
        "    self.V = tf.keras.layers.Dense(1)\n",
        "    self.verbose= verbose\n",
        "\n",
        "  def call(self, query, values):\n",
        "\n",
        "    # we are doing this to broadcast addition along the time axis to calculate the score\n",
        "    query_with_time_axis = tf.expand_dims(query, 1)\n",
        "    \n",
        "\n",
        "    # we get 1 at the last axis because we are applying score to self.V\n",
        "    # the shape of the tensor before applying self.V is (batch_size, max_length, units)\n",
        "    score = self.V(tf.nn.tanh(\n",
        "        self.W1(query_with_time_axis) + self.W2(values)))\n",
        "    # attention_weights shape == (batch_size, max_length, 1)\n",
        "    attention_weights = tf.nn.softmax(score, axis=1)\n",
        "    # context_vector shape after sum == (batch_size, hidden_size)\n",
        "    context_vector = attention_weights * values\n",
        "    context_vector = tf.reduce_sum(context_vector, axis=1)\n",
        "    return context_vector, attention_weights\n"
      ]
    },
    {
      "cell_type": "code",
      "execution_count": 5,
      "metadata": {
        "id": "Y6IBnMjRsCHd"
      },
      "outputs": [],
      "source": [
        "import tensorflow as tf\n",
        "import random \n",
        "import numpy as np\n",
        "import os\n",
        "\n",
        "from os.path import exists\n",
        "import xtarfile as tarfile\n",
        "import pandas as pd \n",
        "import keras\n",
        "START_TOKEN=\"\\t\"\n",
        "END_TOKEN=\"\\n\"\n",
        "\n",
        "\n",
        "def downloadDataSet():\n",
        "   cwd = os.getcwd()\n",
        "  \n",
        "   file_exists = exists('./dakshina_dataset_v1.0.tar')\n",
        "   if(file_exists==False):\n",
        "     print('downloading....')\n",
        "     os.system('curl -SL https://storage.googleapis.com/gresearch/dakshina/dakshina_dataset_v1.0.tar > dakshina_dataset_v1.0.tar')\n",
        "     print('download Complete')\n",
        "   extract_exists = exists('./dakshina_dataset_v1.0/')   \n",
        "   if(extract_exists==False): \n",
        "     print('Extracting..') \n",
        "     with tarfile.open('dakshina_dataset_v1.0.tar', 'r') as archive:\n",
        "         archive.extractall()\n",
        "     print('Complete')\n",
        "   print('You are all set')\n",
        "def get_files(language):\n",
        "\n",
        "  train_dir='./dakshina_dataset_v1.0/'+language+'/lexicons/'+language+'.translit.sampled.train.tsv'\n",
        "  val_dir='./dakshina_dataset_v1.0/'+language+'/lexicons/'+language+'.translit.sampled.dev.tsv'\n",
        "  test_dir='./dakshina_dataset_v1.0/'+language+'/lexicons/'+language+'.translit.sampled.test.tsv'\n",
        "  \n",
        "  return train_dir, val_dir, test_dir\n",
        "\n",
        "def tokenize(lang,tokenizer=None):\n",
        "    \"\"\" Uses tf.keras tokenizer to tokenize the data/words into characters\n",
        "    \"\"\"\n",
        "    if(tokenizer==None):\n",
        "        tokenizer = tf.keras.preprocessing.text.Tokenizer(char_level=True)\n",
        "        tokenizer.fit_on_texts(lang)\n",
        "        lang_tensor = tokenizer.texts_to_sequences(lang)\n",
        "        lang_tensor = tf.keras.preprocessing.sequence.pad_sequences(lang_tensor,\n",
        "                                                            padding='post')\n",
        "    else:\n",
        "  \n",
        "        lang_tensor = tokenizer.texts_to_sequences(lang)\n",
        "        lang_tensor = tf.keras.preprocessing.sequence.pad_sequences(lang_tensor,\n",
        "                                                        padding='post')\n",
        "\n",
        "    return lang_tensor, tokenizer\n",
        "def preprocess_data(fpath,ip_tokenizer=None, tgt_tokenizer=None):\n",
        "   \n",
        "    #Read data from files\n",
        "    df = pd.read_csv(fpath, sep=\"\\t\", header=None)\n",
        "\n",
        "    #Add start and end token\n",
        "    df[0] = df[0].apply( lambda x:START_TOKEN+x+END_TOKEN) \n",
        "    ip_tensor, ip_tokenizer = tokenize(df[1].astype(str).tolist(), tokenizer=ip_tokenizer)\n",
        "    \n",
        "    tgt_tensor, tgt_tokenizer = tokenize(df[0].astype(str).tolist(), tokenizer=tgt_tokenizer) \n",
        "    \n",
        "    dataset = tf.data.Dataset.from_tensor_slices((ip_tensor, tgt_tensor))\n",
        "    dataset = dataset.shuffle(len(dataset))\n",
        "    \n",
        "    return dataset, ip_tokenizer, tgt_tokenizer\n",
        "\n",
        "\n",
        "\n"
      ]
    },
    {
      "cell_type": "code",
      "execution_count": 6,
      "metadata": {
        "id": "ty-yWidXsJyD"
      },
      "outputs": [],
      "source": [
        "class Parameters():\n",
        "  def  __init__(self,  language='te',encoder_layers=1,decoder_layers=1,embedding_dim=128,\\\n",
        "                layer_type='lstm', units=128, dropout=0.5, attention=False,attention_type=\"Luong\",batch_size=128,\\\n",
        "                apply_beam_search=False,apply_teacher_forcing=False,teacher_forcing_ratio=1,\\\n",
        "                 save_outputs=None,epochs=5,wandb=None,beamWidth=5,restoreBestModel=True,\\\n",
        "                 patience=2,encoder_vocab_size=64,decoder_vocab_size=64):\n",
        "        self.language = language\n",
        "        self.embedding_dim = embedding_dim\n",
        "        self.encoder_layers=encoder_layers\n",
        "        self.decoder_layers=decoder_layers\n",
        "        self.layer_type = layer_type\n",
        "        self.units = units\n",
        "        self.dropout = dropout\n",
        "        self.attention = attention\n",
        "        self.stats = []\n",
        "        self.wandb=wandb\n",
        "        self.epochs=epochs\n",
        "        self.batch_size = 128\n",
        "        self.apply_beam_search = apply_beam_search\n",
        "        self.batch_size = batch_size\n",
        "        self.apply_teacher_forcing=apply_teacher_forcing\n",
        "        self.save_outputs=save_outputs\n",
        "        self.restoreBestModel=restoreBestModel\n",
        "        self.attention_type=attention_type\n",
        "        self.patience=patience\n",
        "        self.encoder_vocab_size=encoder_vocab_size\n",
        "        self.decoder_vocab_size=decoder_vocab_size\n",
        "        self.teacher_forcing_ratio=teacher_forcing_ratio"
      ]
    },
    {
      "cell_type": "code",
      "execution_count": 7,
      "metadata": {
        "id": "KQSzzTVAsEX0"
      },
      "outputs": [],
      "source": [
        "import tensorflow as tf\n",
        "from tensorflow.keras import layers\n",
        "\n",
        "\"\"\"This class contain all funtion to add Encoder layers\n",
        "Input: Param \n",
        "This variable contain all configuration details.But most focus goes on following attributes:\n",
        "- layer_type\n",
        "- encoder_layers\n",
        "- units\n",
        "- dropout\n",
        "\"\"\"\n",
        "class Encoder(tf.keras.Model):\n",
        "    def __init__(self, param):\n",
        "        #Configurations\n",
        "        super(Encoder, self).__init__()\n",
        "        self.layer_type = param.layer_type\n",
        "        self.n_layers = param.encoder_layers\n",
        "        self.units = param.units\n",
        "        self.dropout = param.dropout\n",
        "        self.embedding = tf.keras.layers.Embedding(param.encoder_vocab_size, param.embedding_dim,trainable=True)\n",
        "\n",
        "        #Create Recurrant Layers\n",
        "        self.create_rnn_layers()\n",
        "\n",
        "    def call(self, x, hidden):\n",
        "        x = self.embedding(x)\n",
        "        x = self.rnn_layers[0](x, initial_state=hidden)\n",
        "\n",
        "        #Get returned output and state value\n",
        "        for layer in self.rnn_layers[1:]:\n",
        "            x = layer(x)\n",
        "\n",
        "        output, state = x[0], x[1:]\n",
        "\n",
        "        return output, state\n",
        "    \"Create Encoder layer\"\n",
        "    def create_rnn_layers(self):\n",
        "        self.rnn_layers = []\n",
        "        #Add one or more encoder layers\n",
        "        for i in range(self.n_layers):\n",
        "            self.rnn_layers.append(get_layer(self.layer_type, self.units, self.dropout,\n",
        "                                                return_sequences=True,\n",
        "                                                return_state=True))\n",
        "\n",
        "\n",
        "    def initialize_hidden_state(self, batch_size):\n",
        "\n",
        "        if self.layer_type != \"lstm\":\n",
        "            return [tf.zeros((batch_size, self.units))]\n",
        "        else:\n",
        "            return [tf.zeros((batch_size, self.units))]*2\n",
        "\n",
        "\n",
        "\n",
        "    "
      ]
    },
    {
      "cell_type": "code",
      "execution_count": 8,
      "metadata": {
        "id": "NQHJ8JtysOCX"
      },
      "outputs": [],
      "source": [
        "\n",
        "import tensorflow as tf\n",
        "from tensorflow.keras import layers\n",
        "\n",
        "\n",
        "\"\"\"This class contain all funtion to add Decoder layers\n",
        "Input: Param \n",
        "This variable contain all configuration details.But most focus goes on following attrib\n",
        "- layer_type\n",
        "- encoder_layers\n",
        "- units\n",
        "- dropout\n",
        "- Attention [True,False]\n",
        "-  attention_type [Luong,Bahdanau]\n",
        "\"\"\"\n",
        "\n",
        "\n",
        "class Decoder(tf.keras.Model):\n",
        "    def __init__(self,param):\n",
        "\n",
        "        super(Decoder, self).__init__()\n",
        "\n",
        "        #Basic configurations\n",
        "        self.layer_type = param.layer_type\n",
        "        self.n_layers = param.decoder_layers\n",
        "        self.units =param. units\n",
        "        self.dropout = param.dropout\n",
        "\n",
        "        #Following configuration useful in case of attention enabled model\n",
        "        # attention_type = [Luong,Bahdanau]\n",
        "        self.attention = param.attention\n",
        "        self.attention_type=param.attention_type\n",
        "\n",
        "        #Add embedding layers \n",
        "        self.embedding_layer = layers.Embedding(input_dim=param.decoder_vocab_size, \n",
        "                                                output_dim=param.embedding_dim,trainable=True)\n",
        "        \n",
        "        self.dense = layers.Dense(param.decoder_vocab_size, activation=\"softmax\")\n",
        "        self.flatten = layers.Flatten()\n",
        "\n",
        "        #Verify If want to add attention layers \n",
        "        #it could be either Luong or Bahdanau attention\n",
        "    \n",
        "        if self.attention:\n",
        "          if(self.attention_type==\"Luong\"):\n",
        "            self.attention_layer = LuongAttention(self.units)\n",
        "          else:\n",
        "            self.attention_layer = BahdanauAttention(self.units)\n",
        "\n",
        "        #Add one/more recurrant layers based on confugurations\n",
        "        self.create_rnn_layers()\n",
        "\n",
        "    def call(self, x, hidden, enc_out=None):\n",
        "        #Add embedding input layer\n",
        "        x = self.embedding_layer(x)\n",
        "\n",
        "        #Verify if attention layer need to be added\n",
        "        if self.attention:\n",
        "            context_vector, attention_weights = self.attention_layer(hidden, enc_out)\n",
        "            x = tf.concat([tf.expand_dims(context_vector, 1), x], -1)\n",
        "        else:\n",
        "            attention_weights = None\n",
        "\n",
        "        \n",
        "        x = self.rnn_layers[0](x, initial_state=hidden)\n",
        "\n",
        "        #Get returned output and state value\n",
        "        for layer in self.rnn_layers[1:]:\n",
        "            x = layer(x)\n",
        "\n",
        "        output, state = x[0], x[1:]\n",
        "\n",
        "        output = self.dense(self.flatten(output))\n",
        "        \n",
        "        return output, state, attention_weights\n",
        "    #Create decoder layesr\n",
        "    def create_rnn_layers(self):\n",
        "        self.rnn_layers = []   \n",
        "\n",
        "        #Add one or more decoder layers\n",
        "\n",
        "        for i in range(self.n_layers - 1):\n",
        "            self.rnn_layers.append(get_layer(self.layer_type, self.units, self.dropout,\n",
        "                                                return_sequences=True,\n",
        "                                                return_state=True))\n",
        "        \n",
        "        self.rnn_layers.append(get_layer(self.layer_type, self.units, self.dropout,\n",
        "                                            return_sequences=False,\n",
        "                                            return_state=True))"
      ]
    },
    {
      "cell_type": "code",
      "execution_count": 9,
      "metadata": {
        "id": "Pa0XPzaFsSkW"
      },
      "outputs": [],
      "source": [
        "import tensorflow as tf\n",
        "from tensorflow.keras import layers\n",
        "import tensorflow.keras.backend as K\n",
        "from tensorflow.keras.preprocessing.text import Tokenizer\n",
        "\n",
        "from tqdm import tqdm\n",
        "import random \n",
        "import time \n",
        "import numpy as np\n",
        "import pandas as pd\n",
        "class SequenceTOSequence():\n",
        "    def __init__(self, parameters):\n",
        "\n",
        "        #Basic configurations\n",
        "        self.param=parameters\n",
        "        self.embedding_dim = parameters.embedding_dim\n",
        "        self.encoder_layers = parameters.encoder_layers\n",
        "        self.decoder_layers = parameters.decoder_layers\n",
        "        self.layer_type = parameters.layer_type\n",
        "        self.units = parameters.units\n",
        "        self.dropout = parameters.dropout\n",
        "        self.batch_size = parameters.batch_size\n",
        "\n",
        "        #Add information regarding attention layer\n",
        "        self.attention = parameters.attention\n",
        "        self.attention_type = parameters.attention_type\n",
        "\n",
        "        self.stats = []\n",
        "      \n",
        "        self.apply_beam_search = parameters.apply_beam_search\n",
        "        \n",
        "        #Early stop conditions\n",
        "        self.patience=parameters.patience\n",
        "        self.restoreBestModel=parameters.restoreBestModel\n",
        "\n",
        "        #teacher forcing\n",
        "        self.apply_teacher_forcing=parameters.apply_teacher_forcing    \n",
        "        self.teacher_forcing_ratio=parameters.teacher_forcing_ratio\n",
        "\n",
        "    #Build model Add specific optimizers    \n",
        "    def build(self, loss, metric,optimizer='adam',lr=0.001):\n",
        "        self.loss = loss\n",
        "\n",
        "        #Select specific optimizer\n",
        "        if(optimizer=='adam'):\n",
        "          self.optimizer=tf.keras.optimizers.Adam(learning_rate=lr)\n",
        "        if(optimizer=='nadam'):\n",
        "          self.optimizer=tf.keras.optimizers.Nadam(learning_rate=lr)\n",
        "        else:\n",
        "          self.optimizer=tf.keras.optimizers.RMSprop(learning_rate=lr)\n",
        "         \n",
        "        self.metric = metric\n",
        "\n",
        "    def set_vocabulary(self, input_tokenizer, targ_tokenizer):\n",
        "        self.input_tokenizer = input_tokenizer\n",
        "        self.targ_tokenizer = targ_tokenizer\n",
        "        self.create_model()\n",
        "    \n",
        "    \"\"\"This procedure used to define Encoder Decoder Layer\"\"\"\n",
        "    def create_model(self):\n",
        "\n",
        "        encoder_vocab_size = len(self.input_tokenizer.word_index) + 1\n",
        "        decoder_vocab_size = len(self.targ_tokenizer.word_index) + 1\n",
        "        self.param.encoder_vocab_size=encoder_vocab_size\n",
        "        self.param.decoder_vocab_size=decoder_vocab_size\n",
        "        #Add Encoder layer\n",
        "\n",
        "        self.encoder = Encoder(self.param)\n",
        "\n",
        "        #Create decode with or without any attention layer\n",
        "        #Check following properties to add attention\n",
        "        # self.attention\n",
        "        # self.attention_type\n",
        "        self.decoder = Decoder(self.param)\n",
        "                \n",
        "\n",
        "    @tf.function\n",
        "    def train(self, input, target, enc_state):\n",
        "\n",
        "        loss = 0 \n",
        "\n",
        "        with tf.GradientTape() as tape: \n",
        "\n",
        "            enc_out, enc_state = self.encoder(input, enc_state)\n",
        "\n",
        "            dec_state = enc_state\n",
        "            dec_input = tf.expand_dims([self.targ_tokenizer.word_index[\"\\t\"]]*self.batch_size ,1)\n",
        "\n",
        "            apply_teacher_forcing=False\n",
        "            #decide whether to use teacher forcing\n",
        "            if random.random() < self.teacher_forcing_ratio:\n",
        "              apply_teacher_forcing=True\n",
        "            ## We use Teacher forcing to train the network\n",
        "            ## Each target at timestep t is passed as input for timestep t + 1\n",
        "            if  (apply_teacher_forcing==True):\n",
        "                #Apply teacher forcing\n",
        "                for t in range(1, target.shape[1]):\n",
        "\n",
        "                    preds, dec_state, _ = self.decoder(dec_input, dec_state, enc_out)\n",
        "                    loss += self.loss(target[:,t], preds)\n",
        "                    self.metric.update_state(target[:,t], preds)\n",
        "                    #As teacher forcing  applied we pass next target as decoder input\n",
        "                    dec_input = tf.expand_dims(target[:,t], 1)\n",
        "            \n",
        "            else:\n",
        "                #Without teacher forcing\n",
        "\n",
        "                for t in range(1, target.shape[1]):\n",
        "\n",
        "                    preds, dec_state, _ = self.decoder(dec_input, dec_state, enc_out)\n",
        "                    loss += self.loss(target[:,t], preds)\n",
        "                    self.metric.update_state(target[:,t], preds)\n",
        "                    #As teacher forcing not applied we pass decoder input as whatever we predict\n",
        "                    preds = tf.argmax(preds, 1)\n",
        "                    dec_input = tf.expand_dims(preds, 1)\n",
        "\n",
        "\n",
        "            batch_loss = loss / target.shape[1]\n",
        "\n",
        "            variables = self.encoder.variables + self.decoder.variables\n",
        "            gradients = tape.gradient(loss, variables)\n",
        "\n",
        "            self.optimizer.apply_gradients(zip(gradients, variables))\n",
        "\n",
        "        return batch_loss, self.metric.result()\n",
        "\n",
        "    \n",
        "  \n",
        "\n",
        "    def fit(self, dataset, val_dataset, batch_size=128, epochs=5, wandb=None,apply_teacher_forcing=True, teacher_forcing_ratio=0.7):\n",
        "\n",
        "        self.batch_size = batch_size\n",
        "        self.apply_teacher_forcing = apply_teacher_forcing\n",
        "        self.teacher_forcing_ratio=teacher_forcing_ratio\n",
        "        #Prepare chunk of data based on batch size provided\n",
        "        steps_per_epoch = len(dataset) // self.batch_size\n",
        "        #steps_per_epoch_val = len(val_dataset) // self.batch_size\n",
        "        \n",
        "        dataset = dataset.batch(self.batch_size, drop_remainder=False)\n",
        "        #val_dataset = val_dataset.batch(self.batch_size, drop_remainder=False)\n",
        "\n",
        "      \n",
        "        sample_inp, sample_targ = next(iter(dataset))\n",
        "        self.max_target_len = sample_targ.shape[1]\n",
        "        self.max_input_len = sample_inp.shape[1]\n",
        "\n",
        "        #Store Encoder ,decoder details in case model get good accuracy\n",
        "        #Will be useful to restore best model\n",
        "        self.bestEncoder=self.encoder\n",
        "        self.bestDecoder=self.decoder\n",
        "        self.bestoptimizer=self.optimizer\n",
        "        \n",
        "        accuracyDegradePatience=0\n",
        "        self.oldaccuracy=0\n",
        "        for epoch in  tqdm(range(1, epochs+1), total = epochs,desc=\"Epochs \"):\n",
        "             \n",
        "            if(accuracyDegradePatience>=self.patience):\n",
        "                if(self.restoreBestModel==True):\n",
        "                    self.encoder=self.bestEncoder\n",
        "                    self.decoder=self.bestDecoder\n",
        "                    self.optimizer=self.bestoptimizer\n",
        "                break\n",
        "            ## Training loop ##\n",
        "            total_loss = 0\n",
        "            total_acc = 0\n",
        "            self.metric.reset_states()\n",
        "\n",
        "            starting_time = time.time()\n",
        "            enc_state = self.encoder.initialize_hidden_state(self.batch_size)\n",
        "\n",
        "            \n",
        "           \n",
        "            for batch, (input, target) in enumerate(dataset.take(steps_per_epoch)):\n",
        "                #Accumulate loss and accurecy for each batch\n",
        "                batch_loss, acc = self.train(input, target, enc_state)\n",
        "                total_loss += batch_loss\n",
        "                total_acc += acc\n",
        "            #Calculate validation accurecy for current Epoch\n",
        "          \n",
        "            avg_acc = total_acc / steps_per_epoch\n",
        "            avg_loss = total_loss / steps_per_epoch\n",
        "\n",
        "            # Validation loop ##\n",
        "            total_val_loss = 0\n",
        "            total_val_acc = 0\n",
        "            self.metric.reset_states()\n",
        "\n",
        "            enc_state = self.encoder.initialize_hidden_state(self.batch_size)\n",
        "\n",
        "            #Process data in batches\n",
        "            \n",
        "            avg_val_loss, avg_val_acc = self.evaluate(val_dataset,batch_size=self.batch_size)\n",
        "              \n",
        "\n",
        "           \n",
        "            #Verify if model performance degrading.add()\n",
        "            #In case train accurecy improved but no significant imprrovement in validation\n",
        "            #Add condition for early stopping\n",
        "            #Restore best model based on the input\n",
        "            if(self.oldaccuracy>avg_val_acc):\n",
        "              accuracyDegradePatience+=1\n",
        "            else:\n",
        "              self.bestEncoder=self.encoder\n",
        "              self.bestDecoder=self.decoder\n",
        "              self.bestoptimizer=self.optimizer\n",
        "              self.oldaccuracy=avg_val_acc\n",
        "              accuracyDegradePatience=0\n",
        "            print( \"\\nTrain Loss: {0:.4f} Train Accuracy: {1:.4f} Validation Loss: {2:.4f} Validation Accuracy: {3:.4f}\".format(avg_loss, avg_acc*100, avg_val_loss, avg_val_acc*100))\n",
        "            \n",
        "            time_taken = time.time() - starting_time\n",
        "\n",
        "            #Add logs for WanDb\n",
        "            self.stats.append({\"epoch\": epoch,\n",
        "                            \"train_loss\": avg_loss,\n",
        "                            \"val_loss\": avg_val_loss,\n",
        "                            \"train_acc\": avg_acc*100,\n",
        "                            \"val_acc\": avg_val_acc*100,\n",
        "                            \"training time\": time_taken})\n",
        "            \n",
        "            #Log to wanDB\n",
        "            if not (wandb is None):\n",
        "                wandb.log(self.stats[-1])\n",
        "            \n",
        "            print(f\"\\nTime taken for the epoch {time_taken:.4f}\")\n",
        "           \n",
        "        \n",
        "        print(\"\\nModel trained successfully !!\")\n",
        "    @tf.function\n",
        "    def validation(self, inp, trgt, encoder_state):\n",
        "        #Custom validation\n",
        "\n",
        "        loss = 0\n",
        "        #encoder input\n",
        "        encoder_output, encoder_state = self.encoder(inp, encoder_state)\n",
        "\n",
        "        #Set initial state of decoder from encoder state\n",
        "        decoder_state = encoder_state\n",
        "        decoder_input = tf.expand_dims([self.targ_tokenizer.word_index[\"\\t\"]]*self.batch_size ,1)\n",
        "\n",
        "        for t in range(1, trgt.shape[1]):\n",
        "            #Get decoder prediction\n",
        "            prediction, decoder_state, _ = self.decoder(decoder_input, decoder_state, encoder_output)\n",
        "            loss += self.loss(trgt[:,t], prediction)\n",
        "            self.metric.update_state(trgt[:,t], prediction)\n",
        "\n",
        "            prediction = tf.argmax(prediction, 1)\n",
        "            decoder_input = tf.expand_dims(prediction, 1)\n",
        "\n",
        "        batch_loss = loss / trgt.shape[1]\n",
        "        \n",
        "        return batch_loss, self.metric.result()    \n",
        "    def evaluate(self, test_dataset, batch_size=None):\n",
        "        \"\"\"Evaluate our model on test data\"\"\"\n",
        "        if batch_size is not None:\n",
        "            self.batch_size = batch_size\n",
        "\n",
        "        #prepare chuck of data based on the batch size\n",
        "        steps_per_epoch_test = len(test_dataset) // batch_size\n",
        "        test_dataset = test_dataset.batch(batch_size, drop_remainder=True)\n",
        "        \n",
        "        total_test_loss = 0\n",
        "        total_test_acc = 0\n",
        "        self.metric.reset_states()\n",
        "\n",
        "        enc_state = self.encoder.initialize_hidden_state(self.batch_size)\n",
        "\n",
        "        #print(\"\\nRunning test dataset through the model...\\n\")\n",
        "        #Run in batches based on the input batch size\n",
        "        for batch, (input, target) in enumerate(test_dataset.take(steps_per_epoch_test)):\n",
        "            batch_loss, acc = self.validation(input, target, enc_state)\n",
        "            total_test_loss += batch_loss\n",
        "            total_test_acc += acc\n",
        "\n",
        "        #Caculate avarage  test accuracy and loss\n",
        "        avg_test_acc = total_test_acc / steps_per_epoch_test\n",
        "        avg_test_loss = total_test_loss / steps_per_epoch_test\n",
        "\n",
        "        #Display details\n",
        "        #print(f\"Test Loss: {avg_test_loss:.4f} Test Accuracy: {avg_test_acc:.4f}\")\n",
        "\n",
        "        return avg_test_loss, avg_test_acc\n",
        "\n",
        "    \"\"\" This function used to translate english world to respective language\"\"\"\n",
        "\n",
        "    def translate(self, word, get_heatmap=False):\n",
        "        #start and end token for input word\n",
        "        start=\"\\t\"\n",
        "        end=\"\\n\"\n",
        "        word =start  + word + end\n",
        "\n",
        "        #Tokenize input and perform  preprocessing  \n",
        "        inputs = self.input_tokenizer.texts_to_sequences([word])\n",
        "        inputs = tf.keras.preprocessing.sequence.pad_sequences(inputs,\n",
        "                                                               maxlen=self.max_input_len,\n",
        "                                                               padding=\"post\")\n",
        "\n",
        "        result = \"\"\n",
        "        att_wts = []\n",
        "\n",
        "        #Process input through encoder\n",
        "        enc_state = self.encoder.initialize_hidden_state(1)\n",
        "        enc_out, enc_state = self.encoder(inputs, enc_state)\n",
        "\n",
        "        # Set initial decoder sate to encoder state\n",
        "        dec_state = enc_state\n",
        "        dec_input = tf.expand_dims([self.targ_tokenizer.word_index[start]]*1, 1)\n",
        "\n",
        "        #Run the loop for maximum word size the target language can have\n",
        "        #We get this data during training \n",
        "        for t in range(1, self.max_target_len):\n",
        "\n",
        "            preds, dec_state, attention_weights = self.decoder(dec_input, dec_state, enc_out)\n",
        "            \n",
        "            #Add attention weights which is useful for generating attention heatmaps\n",
        "            if get_heatmap:\n",
        "                att_wts.append(attention_weights)\n",
        "            \n",
        "            #Pass the current prediction as input to next iteration\n",
        "            preds = tf.argmax(preds, 1)\n",
        "\n",
        "            #Accumulate target words\n",
        "            if(preds.numpy().item()!=0):\n",
        "              next_char = self.targ_tokenizer.index_word[preds.numpy().item()]\n",
        "              result += next_char\n",
        "            else:\n",
        "              break\n",
        "            #If we receive end token stop the loop\n",
        "            if next_char == end:\n",
        "                break\n",
        "         \n",
        "\n",
        "            #Decoder input for next iteration\n",
        "            dec_input = tf.expand_dims(preds, 1)\n",
        "        return result[:-1], att_wts[:-1]\n",
        "\n",
        "    "
      ]
    },
    {
      "cell_type": "code",
      "execution_count": 10,
      "metadata": {
        "id": "rT-bKfIIWcES"
      },
      "outputs": [],
      "source": [
        "\n",
        "from tensorflow.keras import layers\n",
        "from tqdm import tqdm\n",
        "def get_layer(name, units, dropout, return_state=False, return_sequences=False):\n",
        "\n",
        "    if name==\"rnn\":\n",
        "        return layers.SimpleRNN(units=units, dropout=dropout, \n",
        "                                return_state=return_state,\n",
        "                                return_sequences=return_sequences)\n",
        "\n",
        "    if name==\"gru\":\n",
        "        return layers.GRU(units=units, dropout=dropout, \n",
        "                          return_state=return_state,\n",
        "                          return_sequences=return_sequences)\n",
        "\n",
        "    if name==\"lstm\":\n",
        "        return layers.LSTM(units=units, dropout=dropout, \n",
        "                           return_state=return_state,\n",
        "                           return_sequences=return_sequences)\n"
      ]
    },
    {
      "cell_type": "code",
      "execution_count": 10,
      "metadata": {
        "id": "PX2KkdCyqyyh"
      },
      "outputs": [],
      "source": [
        ""
      ]
    },
    {
      "cell_type": "markdown",
      "metadata": {
        "id": "yCVhhqPMWkuS"
      },
      "source": [
        "# Data Preprocessing"
      ]
    },
    {
      "cell_type": "code",
      "execution_count": 17,
      "metadata": {
        "id": "p5Bt3Bf-_JhQ"
      },
      "outputs": [],
      "source": [
        "\n",
        "START_TOKEN=\"\\t\"\n",
        "END_TOKEN=\"\\n\"\n"
      ]
    },
    {
      "cell_type": "code",
      "execution_count": 18,
      "metadata": {
        "colab": {
          "base_uri": "https://localhost:8080/"
        },
        "id": "wvLxKF2Ty2HR",
        "outputId": "5b92cbc4-1fac-4f57-9443-a1cdc6a0a591"
      },
      "outputs": [
        {
          "output_type": "stream",
          "name": "stdout",
          "text": [
            "You are all set\n"
          ]
        }
      ],
      "source": [
        "downloadDataSet()"
      ]
    },
    {
      "cell_type": "code",
      "execution_count": 19,
      "metadata": {
        "id": "6ji0OxT0yxRA"
      },
      "outputs": [],
      "source": [
        "language=\"te\"\n",
        "train_dir, val_dir, test_dir = get_files(language)\n",
        "\n",
        "dataset, input_tokenizer, targ_tokenizer = preprocess_data(train_dir)\n",
        "val_dataset, _, _ = preprocess_data(val_dir,input_tokenizer,targ_tokenizer)\n"
      ]
    },
    {
      "cell_type": "code",
      "execution_count": 20,
      "metadata": {
        "id": "A57aPT6P6uyg"
      },
      "outputs": [],
      "source": [
        "#train data \n",
        "dataset, input_tokenizer, targ_tokenizer = preprocess_data(train_dir)"
      ]
    },
    {
      "cell_type": "markdown",
      "metadata": {
        "id": "dlbXxZXZjpEq"
      },
      "source": [
        "#Train "
      ]
    },
    {
      "cell_type": "code",
      "execution_count": 21,
      "metadata": {
        "colab": {
          "base_uri": "https://localhost:8080/"
        },
        "id": "2dt9LTQAzZHh",
        "outputId": "ff3ecccb-0158-4467-8f1e-f570af3ae9d8"
      },
      "outputs": [
        {
          "output_type": "stream",
          "name": "stderr",
          "text": [
            "Epochs :   4%|▍         | 1/25 [01:10<28:17, 70.72s/it]"
          ]
        },
        {
          "output_type": "stream",
          "name": "stdout",
          "text": [
            "\n",
            "Train Loss: 1.1439 Train Accuracy: 63.7038 Validation Loss: 2.0983 Validation Accuracy: 60.3456\n",
            "\n",
            "Time taken for the epoch 70.7155\n"
          ]
        },
        {
          "output_type": "stream",
          "name": "stderr",
          "text": [
            "\rEpochs :   8%|▊         | 2/25 [01:30<15:33, 40.58s/it]"
          ]
        },
        {
          "output_type": "stream",
          "name": "stdout",
          "text": [
            "\n",
            "Train Loss: 0.8341 Train Accuracy: 73.8186 Validation Loss: 2.6784 Validation Accuracy: 58.5481\n",
            "\n",
            "Time taken for the epoch 19.4826\n"
          ]
        },
        {
          "output_type": "stream",
          "name": "stderr",
          "text": [
            "\rEpochs :  12%|█▏        | 3/25 [01:49<11:20, 30.91s/it]"
          ]
        },
        {
          "output_type": "stream",
          "name": "stdout",
          "text": [
            "\n",
            "Train Loss: 0.6263 Train Accuracy: 79.5889 Validation Loss: 2.3568 Validation Accuracy: 65.5878\n",
            "\n",
            "Time taken for the epoch 19.3982\n"
          ]
        },
        {
          "output_type": "stream",
          "name": "stderr",
          "text": [
            "\rEpochs :  16%|█▌        | 4/25 [02:08<09:09, 26.19s/it]"
          ]
        },
        {
          "output_type": "stream",
          "name": "stdout",
          "text": [
            "\n",
            "Train Loss: 0.4410 Train Accuracy: 85.0917 Validation Loss: 3.0559 Validation Accuracy: 66.1498\n",
            "\n",
            "Time taken for the epoch 18.9465\n"
          ]
        },
        {
          "output_type": "stream",
          "name": "stderr",
          "text": [
            "\rEpochs :  20%|██        | 5/25 [02:27<07:52, 23.61s/it]"
          ]
        },
        {
          "output_type": "stream",
          "name": "stdout",
          "text": [
            "\n",
            "Train Loss: 0.3084 Train Accuracy: 89.4699 Validation Loss: 2.1286 Validation Accuracy: 74.8371\n",
            "\n",
            "Time taken for the epoch 19.0305\n"
          ]
        },
        {
          "output_type": "stream",
          "name": "stderr",
          "text": [
            "\rEpochs :  24%|██▍       | 6/25 [02:46<07:00, 22.11s/it]"
          ]
        },
        {
          "output_type": "stream",
          "name": "stdout",
          "text": [
            "\n",
            "Train Loss: 0.2233 Train Accuracy: 92.5595 Validation Loss: 1.4347 Validation Accuracy: 82.4310\n",
            "\n",
            "Time taken for the epoch 19.1856\n"
          ]
        },
        {
          "output_type": "stream",
          "name": "stderr",
          "text": [
            "\rEpochs :  28%|██▊       | 7/25 [03:05<06:19, 21.11s/it]"
          ]
        },
        {
          "output_type": "stream",
          "name": "stdout",
          "text": [
            "\n",
            "Train Loss: 0.1686 Train Accuracy: 94.4656 Validation Loss: 1.4819 Validation Accuracy: 83.8982\n",
            "\n",
            "Time taken for the epoch 19.0513\n"
          ]
        },
        {
          "output_type": "stream",
          "name": "stderr",
          "text": [
            "\rEpochs :  32%|███▏      | 8/25 [03:24<05:47, 20.43s/it]"
          ]
        },
        {
          "output_type": "stream",
          "name": "stdout",
          "text": [
            "\n",
            "Train Loss: 0.1328 Train Accuracy: 95.7415 Validation Loss: 1.2957 Validation Accuracy: 85.6391\n",
            "\n",
            "Time taken for the epoch 18.9717\n"
          ]
        },
        {
          "output_type": "stream",
          "name": "stderr",
          "text": [
            "\rEpochs :  36%|███▌      | 9/25 [03:43<05:20, 20.01s/it]"
          ]
        },
        {
          "output_type": "stream",
          "name": "stdout",
          "text": [
            "\n",
            "Train Loss: 0.1074 Train Accuracy: 96.6774 Validation Loss: 1.2875 Validation Accuracy: 86.4991\n",
            "\n",
            "Time taken for the epoch 19.0707\n"
          ]
        },
        {
          "output_type": "stream",
          "name": "stderr",
          "text": [
            "\rEpochs :  40%|████      | 10/25 [04:03<04:56, 19.74s/it]"
          ]
        },
        {
          "output_type": "stream",
          "name": "stdout",
          "text": [
            "\n",
            "Train Loss: 0.0887 Train Accuracy: 97.3044 Validation Loss: 1.1934 Validation Accuracy: 87.1607\n",
            "\n",
            "Time taken for the epoch 19.1297\n"
          ]
        },
        {
          "output_type": "stream",
          "name": "stderr",
          "text": [
            "\rEpochs :  44%|████▍     | 11/25 [04:22<04:33, 19.51s/it]"
          ]
        },
        {
          "output_type": "stream",
          "name": "stdout",
          "text": [
            "\n",
            "Train Loss: 0.0743 Train Accuracy: 97.8085 Validation Loss: 1.0881 Validation Accuracy: 88.3329\n",
            "\n",
            "Time taken for the epoch 18.9964\n"
          ]
        },
        {
          "output_type": "stream",
          "name": "stderr",
          "text": [
            "\rEpochs :  48%|████▊     | 12/25 [04:41<04:12, 19.40s/it]"
          ]
        },
        {
          "output_type": "stream",
          "name": "stdout",
          "text": [
            "\n",
            "Train Loss: 0.0626 Train Accuracy: 98.1811 Validation Loss: 1.1002 Validation Accuracy: 88.5214\n",
            "\n",
            "Time taken for the epoch 19.1260\n"
          ]
        },
        {
          "output_type": "stream",
          "name": "stderr",
          "text": [
            "\rEpochs :  52%|█████▏    | 13/25 [05:00<03:51, 19.27s/it]"
          ]
        },
        {
          "output_type": "stream",
          "name": "stdout",
          "text": [
            "\n",
            "Train Loss: 0.0530 Train Accuracy: 98.5072 Validation Loss: 1.0474 Validation Accuracy: 89.1918\n",
            "\n",
            "Time taken for the epoch 18.9764\n"
          ]
        },
        {
          "output_type": "stream",
          "name": "stderr",
          "text": [
            "\rEpochs :  56%|█████▌    | 14/25 [05:19<03:31, 19.22s/it]"
          ]
        },
        {
          "output_type": "stream",
          "name": "stdout",
          "text": [
            "\n",
            "Train Loss: 0.0451 Train Accuracy: 98.7442 Validation Loss: 1.1628 Validation Accuracy: 88.5459\n",
            "\n",
            "Time taken for the epoch 19.1065\n"
          ]
        },
        {
          "output_type": "stream",
          "name": "stderr",
          "text": [
            "\rEpochs :  60%|██████    | 15/25 [05:38<03:12, 19.21s/it]"
          ]
        },
        {
          "output_type": "stream",
          "name": "stdout",
          "text": [
            "\n",
            "Train Loss: 0.0383 Train Accuracy: 98.9643 Validation Loss: 1.0697 Validation Accuracy: 89.3475\n",
            "\n",
            "Time taken for the epoch 19.1685\n"
          ]
        },
        {
          "output_type": "stream",
          "name": "stderr",
          "text": [
            "\rEpochs :  64%|██████▍   | 16/25 [05:57<02:53, 19.27s/it]"
          ]
        },
        {
          "output_type": "stream",
          "name": "stdout",
          "text": [
            "\n",
            "Train Loss: 0.0327 Train Accuracy: 99.1530 Validation Loss: 1.1236 Validation Accuracy: 89.4462\n",
            "\n",
            "Time taken for the epoch 19.4150\n"
          ]
        },
        {
          "output_type": "stream",
          "name": "stderr",
          "text": [
            "\rEpochs :  68%|██████▊   | 17/25 [06:17<02:34, 19.33s/it]"
          ]
        },
        {
          "output_type": "stream",
          "name": "stdout",
          "text": [
            "\n",
            "Train Loss: 0.0280 Train Accuracy: 99.2865 Validation Loss: 1.1914 Validation Accuracy: 89.2382\n",
            "\n",
            "Time taken for the epoch 19.4785\n"
          ]
        },
        {
          "output_type": "stream",
          "name": "stderr",
          "text": [
            "\rEpochs :  72%|███████▏  | 18/25 [06:36<02:15, 19.35s/it]"
          ]
        },
        {
          "output_type": "stream",
          "name": "stdout",
          "text": [
            "\n",
            "Train Loss: 0.0240 Train Accuracy: 99.4010 Validation Loss: 1.1270 Validation Accuracy: 89.6894\n",
            "\n",
            "Time taken for the epoch 19.3687\n"
          ]
        },
        {
          "output_type": "stream",
          "name": "stderr",
          "text": [
            "\rEpochs :  76%|███████▌  | 19/25 [06:56<01:56, 19.39s/it]"
          ]
        },
        {
          "output_type": "stream",
          "name": "stdout",
          "text": [
            "\n",
            "Train Loss: 0.0207 Train Accuracy: 99.4858 Validation Loss: 1.1682 Validation Accuracy: 89.1648\n",
            "\n",
            "Time taken for the epoch 19.4830\n"
          ]
        },
        {
          "output_type": "stream",
          "name": "stderr",
          "text": [
            "\rEpochs :  80%|████████  | 20/25 [07:15<01:37, 19.43s/it]"
          ]
        },
        {
          "output_type": "stream",
          "name": "stdout",
          "text": [
            "\n",
            "Train Loss: 0.0181 Train Accuracy: 99.5611 Validation Loss: 1.1604 Validation Accuracy: 89.4826\n",
            "\n",
            "Time taken for the epoch 19.5331\n"
          ]
        },
        {
          "output_type": "stream",
          "name": "stderr",
          "text": [
            "\rEpochs :  84%|████████▍ | 21/25 [07:35<01:17, 19.48s/it]"
          ]
        },
        {
          "output_type": "stream",
          "name": "stdout",
          "text": [
            "\n",
            "Train Loss: 0.0160 Train Accuracy: 99.6210 Validation Loss: 1.2857 Validation Accuracy: 89.0583\n",
            "\n",
            "Time taken for the epoch 19.5798\n"
          ]
        },
        {
          "output_type": "stream",
          "name": "stderr",
          "text": [
            "\rEpochs :  88%|████████▊ | 22/25 [07:54<00:58, 19.48s/it]"
          ]
        },
        {
          "output_type": "stream",
          "name": "stdout",
          "text": [
            "\n",
            "Train Loss: 0.0143 Train Accuracy: 99.6810 Validation Loss: 1.2585 Validation Accuracy: 89.4516\n",
            "\n",
            "Time taken for the epoch 19.4684\n"
          ]
        },
        {
          "output_type": "stream",
          "name": "stderr",
          "text": [
            "\rEpochs :  92%|█████████▏| 23/25 [08:14<00:39, 19.51s/it]"
          ]
        },
        {
          "output_type": "stream",
          "name": "stdout",
          "text": [
            "\n",
            "Train Loss: 0.0129 Train Accuracy: 99.7026 Validation Loss: 1.1995 Validation Accuracy: 89.7763\n",
            "\n",
            "Time taken for the epoch 19.5913\n"
          ]
        },
        {
          "output_type": "stream",
          "name": "stderr",
          "text": [
            "\rEpochs :  96%|█████████▌| 24/25 [08:33<00:19, 19.53s/it]"
          ]
        },
        {
          "output_type": "stream",
          "name": "stdout",
          "text": [
            "\n",
            "Train Loss: 0.0118 Train Accuracy: 99.7263 Validation Loss: 1.3045 Validation Accuracy: 89.0111\n",
            "\n",
            "Time taken for the epoch 19.5562\n"
          ]
        },
        {
          "output_type": "stream",
          "name": "stderr",
          "text": [
            "Epochs : 100%|██████████| 25/25 [08:53<00:00, 21.34s/it]"
          ]
        },
        {
          "output_type": "stream",
          "name": "stdout",
          "text": [
            "\n",
            "Train Loss: 0.0109 Train Accuracy: 99.7465 Validation Loss: 1.3436 Validation Accuracy: 89.1109\n",
            "\n",
            "Time taken for the epoch 19.5587\n",
            "\n",
            "Model trained successfully !!\n"
          ]
        },
        {
          "output_type": "stream",
          "name": "stderr",
          "text": [
            "\n"
          ]
        }
      ],
      "source": [
        "param=Parameters(language=\"te\",\\\n",
        "                    embedding_dim=256,\\\n",
        "                    encoder_layers=2,\\\n",
        "                    decoder_layers=1,\\\n",
        "                    layer_type='lstm',\\\n",
        "                    units=256,\\\n",
        "                    dropout=0.5,\\\n",
        "                    epochs=25,\\\n",
        "             batch_size=128\\\n",
        "               )\n",
        "param.apply_teacher_forcing=True\n",
        "param.teacher_forcing_ratio=1\n",
        "param.patience=7\n",
        "model = SequenceTOSequence(param)\n",
        "model.set_vocabulary(input_tokenizer, targ_tokenizer)\n",
        "model.build(loss=tf.keras.losses.SparseCategoricalCrossentropy(),\\\n",
        "            metric = tf.keras.metrics.SparseCategoricalAccuracy(),\\\n",
        "            optimizer = 'rmsprop',\\\n",
        "            lr=0.0005\\\n",
        "            )\n",
        "model.fit(dataset, val_dataset, epochs=param.epochs, wandb=None,teacher_forcing_ratio=param.teacher_forcing_ratio)       \n",
        "    \n"
      ]
    },
    {
      "cell_type": "markdown",
      "metadata": {
        "id": "wxZRkdDOWQo8"
      },
      "source": [
        "# Evaluate Model"
      ]
    },
    {
      "cell_type": "code",
      "execution_count": 22,
      "metadata": {
        "id": "_M8W0LE9WSQU"
      },
      "outputs": [],
      "source": [
        "\n",
        "def evaluate_samples(model, n=0):\n",
        "\n",
        "    df = pd.read_csv(test_dir, sep=\"\\t\", header=None)\n",
        "\n",
        "    printLine=True\n",
        "    source=[]\n",
        "    actual=[]\n",
        "    predict=[]\n",
        "    if(n==0):\n",
        "      print(f\"Evaluating the model on all words\\n\")\n",
        "      n=len(df)\n",
        "      printLine=False\n",
        "    else:\n",
        "      df = df.sample(n=n).reset_index(drop=False)\n",
        "      #print(f\"Randomly evaluating the model on {n} words\\n\")\n",
        "\n",
        "    for i in range(n):\n",
        "        word = str(df[1][i])\n",
        "        source.append(word)\n",
        "        actual.append(str(df[0][i]))\n",
        "        predict.append(model.translate(word)[0])\n",
        "        \"\"\"if(printLine):\n",
        "          print(f\"Input word: {word}\")\n",
        "          print(f\"Actual translation: {str(df[0][i])}\")\n",
        "          print(f\"Model translation: {predict[-1]}\\n\")\"\"\"\n",
        "    return source,actual,predict\n",
        "    "
      ]
    },
    {
      "cell_type": "code",
      "execution_count": null,
      "metadata": {
        "id": "WNCWb5YtWT2K"
      },
      "outputs": [],
      "source": [
        "source,actual,predict=evaluate_samples(model)"
      ]
    },
    {
      "cell_type": "code",
      "execution_count": null,
      "metadata": {
        "colab": {
          "base_uri": "https://localhost:8080/"
        },
        "id": "AfGmBTb0dIDJ",
        "outputId": "7d7124bc-ab35-485b-d9fc-e8d81cfd8ecc"
      },
      "outputs": [
        {
          "name": "stdout",
          "output_type": "stream",
          "text": [
            "word level accuracy 45.03219070819558\n"
          ]
        }
      ],
      "source": [
        "match=0\n",
        "total=0\n",
        "for i,j in zip(actual,predict):\n",
        "  total+=1\n",
        "  if(i==j):\n",
        "    match+=1\n",
        "\n",
        "print('word level accuracy '+str(match*100/total))"
      ]
    },
    {
      "cell_type": "code",
      "execution_count": null,
      "metadata": {
        "id": "wU4n493sq37w"
      },
      "outputs": [],
      "source": [
        "\n",
        "save=\"predictions_vanilla.csv\"\n",
        "df = pd.DataFrame()\n",
        "df[\"inputs\"] =source\n",
        "df[\"targets\"] = actual\n",
        "df[\"outputs\"] = predict\n",
        "df.to_csv(save)"
      ]
    },
    {
      "cell_type": "code",
      "execution_count": null,
      "metadata": {
        "id": "5q8PEQvrrAEk"
      },
      "outputs": [],
      "source": [
        "\n",
        "df = pd.read_csv('predictions_vanilla.csv')"
      ]
    },
    {
      "cell_type": "code",
      "execution_count": null,
      "metadata": {
        "id": "v-pYI0burEW_"
      },
      "outputs": [],
      "source": [
        "source=df[\"inputs\"]\n",
        "actual=df[\"targets\"] \n",
        "predict=df[\"outputs\"] "
      ]
    },
    {
      "cell_type": "markdown",
      "metadata": {
        "id": "m3S9ALuOWVwZ"
      },
      "source": [
        "# report"
      ]
    },
    {
      "cell_type": "code",
      "execution_count": 28,
      "metadata": {
        "id": "JlCuAKLUWW_Q"
      },
      "outputs": [],
      "source": [
        "from IPython.display import HTML as html_print\n",
        "from IPython.display import display\n",
        "def compare_result(predict,actual,word):\n",
        "    string1=list(actual)\n",
        "    string2=list(predict)\n",
        "    maxstr=None\n",
        "    \n",
        "    minstr=None\n",
        "    if(len(string1)>len(string2)):\n",
        "      maxstr=string1\n",
        "      minstr=string2\n",
        "    else:\n",
        "      maxstr=string2\n",
        "      minstr=string1\n",
        "   \n",
        "    shift=0\n",
        "    html_str = \"\"\"\n",
        "    <br>\n",
        "      <table style=\"border:2px solid black; border-collapse:collapse\">\n",
        "      <tr>\n",
        "      <td scope=\"row\" style=\"border:1px solid black;background-color:#3498DB;color:white;padding:10px;text-align:left\"> <strong>{}</strong> </td>\n",
        "      \"\"\".format(actual)\n",
        "    maxlen=len(maxstr)\n",
        "    minlen=len(minstr)\n",
        "    char_html=\"\"\n",
        "    j=0\n",
        "    for i in range(maxlen):\n",
        "    \n",
        "        if(j<minlen):\n",
        "          if(maxstr[i]==minstr[j]):\n",
        "              char_html+=\"\"\"<td scope=\"row\" style=\"background-color:#E3FFE7 ;border:1px solid black;padding:15px;text-align:left\"> <strong>{}</strong> </td>\"\"\".format(maxstr[i] )\n",
        "              j+=1\n",
        "          else:\n",
        "             if(i+1<maxlen and  maxstr[i+1]==minstr[j]):\n",
        "                char_html+=\"\"\" <td scope=\"row\" style=\"background-color:#FFF6F7 ; border:1px solid black;padding:15px;text-align:left\"> <strong>{}</strong> </td>\"\"\".format(maxstr[i] )\n",
        "                continue\n",
        "             else:\n",
        "              j+=1\n",
        "              char_html+=\"\"\" <td scope=\"row\" style=\"background-color:#FFF6F7 ; border:1px solid black;padding:15px;text-align:left\"> <strong>{}</strong> </td>\"\"\".format(maxstr[i] )\n",
        "        else:\n",
        "          char_html+=\"\"\"<td scope=\"row\" style=\"background-color: #FFF6F7 ; border:1px solid black;padding:15px;text-align:left\"> <strong>{} </strong></td>\"\"\".format(maxstr[i] )   \n",
        "\n",
        "    char_html+=\"\"\"</tr>\"\"\"\n",
        "    char_html+=\"\"\"<tr>\n",
        "      <td scope=\"row\" style=\"border:1px solid black;background-color:#3498DB;padding:15px;color:white;text-align:left\"> <strong>{} </strong></td>\"\"\".format(predict)\n",
        "\n",
        "    j=0\n",
        "    for i in range(maxlen):\n",
        "\n",
        "        if(j<minlen):\n",
        "        \n",
        "          if(maxstr[i]==minstr[j]):\n",
        "            char_html+=\"\"\"<td scope=\"row\" style=\"background-color:#E3FFE7 ;border:1px solid black;padding:15px;text-align:left\"><strong> {} </strong></td>\"\"\".format(minstr[j] )\n",
        "            j+=1\n",
        "          else:\n",
        "             if(i+1<maxlen and  maxstr[i+1]==minstr[j]):\n",
        "                char_html+=\"\"\"<td scope=\"row\" style=\"background-color:#FFF6F7 ; border:1px solid black;padding:15px;text-align:left\"> <strong>{}</strong> </td>\"\"\".format(' ' )\n",
        "                continue\n",
        "             else:\n",
        "                \n",
        "                char_html+=\"\"\"<td scope=\"row\" style=\"background-color:#FFF6F7 ; border:1px solid black;padding:15px;text-align:left\"> <strong>{}</strong> </td>\"\"\".format(minstr[j] )\n",
        "                j+=1\n",
        "        else:\n",
        "          char_html+=\"\"\"<td scope=\"row\" style=\"background-color:#FFF6F7  ; border:1px solid black;padding:15px;text-align:left\"><strong> {}</strong> </td>\"\"\".format('' )\n",
        "\n",
        "\n",
        "\n",
        "    char_html+=\"\"\"</tr>\"\"\"\n",
        "\n",
        "    char_html+=\"\"\"<tr>\n",
        "      <td scope=\"row\" style=\"border:1px solid black;background-color:#3498DB;padding:15px;color:white;text-align:left\"> <strong>{} </strong></td>\"\"\".format(word)\n",
        "\n",
        "\n",
        "    j=0\n",
        "    for i in range(maxlen):\n",
        "    \n",
        "        if(j<minlen):\n",
        "          if(maxstr[i]==minstr[j]):\n",
        "              char_html+=\"\"\"<td scope=\"row\" style=\"border:1px solid black;padding:15px;text-align:left\">&#x2705; </td>\"\"\"\n",
        "              j+=1\n",
        "          else:\n",
        "              if(i+1<maxlen and  maxstr[i+1]==minstr[j]):\n",
        "                char_html+=\"\"\"<td scope=\"row\" style=\"border:1px solid black;padding:15px;text-align:left\"> &#x274C; </td>\"\"\" \n",
        "                continue\n",
        "              else:\n",
        "                j+=1\n",
        "                char_html+=\"\"\" <td scope=\"row\" style=\" border:1px solid black;padding:15px;text-align:left\"> &#x274C; </td>\"\"\"\n",
        "        else:\n",
        "          char_html+=\"\"\"<td scope=\"row\" style=\"border:1px solid black;padding:15px;text-align:left\"> &#x274C; </td>\"\"\" \n",
        "\n",
        "\n",
        "    char_html+=\"\"\"</tr>\"\"\"\n",
        "    html_str+=char_html\n",
        "    display(html_print(html_str)) "
      ]
    },
    {
      "cell_type": "code",
      "execution_count": null,
      "metadata": {
        "colab": {
          "base_uri": "https://localhost:8080/",
          "height": 1000
        },
        "id": "IAqSJapXcqz4",
        "outputId": "32c41fa8-9003-44a1-836c-50bce80ea83a"
      },
      "outputs": [
        {
          "data": {
            "text/html": [
              "\n",
              "    <br>\n",
              "      <table style=\"border:2px solid black; border-collapse:collapse\">\n",
              "      <tr>\n",
              "      <td scope=\"row\" style=\"border:1px solid black;background-color:#3498DB;color:white;padding:10px;text-align:left\"> <strong>అంకేళ</strong> </td>\n",
              "      <td scope=\"row\" style=\"background-color:#E3FFE7 ;border:1px solid black;padding:15px;text-align:left\"> <strong>అ</strong> </td><td scope=\"row\" style=\"background-color:#E3FFE7 ;border:1px solid black;padding:15px;text-align:left\"> <strong>ం</strong> </td><td scope=\"row\" style=\"background-color:#E3FFE7 ;border:1px solid black;padding:15px;text-align:left\"> <strong>క</strong> </td> <td scope=\"row\" style=\"background-color:#FFF6F7 ; border:1px solid black;padding:15px;text-align:left\"> <strong>ె</strong> </td> <td scope=\"row\" style=\"background-color:#FFF6F7 ; border:1px solid black;padding:15px;text-align:left\"> <strong>ల</strong> </td></tr><tr>\n",
              "      <td scope=\"row\" style=\"border:1px solid black;background-color:#3498DB;padding:15px;color:white;text-align:left\"> <strong>అంకెల </strong></td><td scope=\"row\" style=\"background-color:#E3FFE7 ;border:1px solid black;padding:15px;text-align:left\"><strong> అ </strong></td><td scope=\"row\" style=\"background-color:#E3FFE7 ;border:1px solid black;padding:15px;text-align:left\"><strong> ం </strong></td><td scope=\"row\" style=\"background-color:#E3FFE7 ;border:1px solid black;padding:15px;text-align:left\"><strong> క </strong></td><td scope=\"row\" style=\"background-color:#FFF6F7 ; border:1px solid black;padding:15px;text-align:left\"> <strong>ే</strong> </td><td scope=\"row\" style=\"background-color:#FFF6F7 ; border:1px solid black;padding:15px;text-align:left\"> <strong>ళ</strong> </td></tr><tr>\n",
              "      <td scope=\"row\" style=\"border:1px solid black;background-color:#3498DB;padding:15px;color:white;text-align:left\"> <strong>ankela </strong></td><td scope=\"row\" style=\"border:1px solid black;padding:15px;text-align:left\">&#x2705; </td><td scope=\"row\" style=\"border:1px solid black;padding:15px;text-align:left\">&#x2705; </td><td scope=\"row\" style=\"border:1px solid black;padding:15px;text-align:left\">&#x2705; </td> <td scope=\"row\" style=\" border:1px solid black;padding:15px;text-align:left\"> &#x274C; </td> <td scope=\"row\" style=\" border:1px solid black;padding:15px;text-align:left\"> &#x274C; </td></tr>"
            ],
            "text/plain": [
              "<IPython.core.display.HTML object>"
            ]
          },
          "metadata": {},
          "output_type": "display_data"
        },
        {
          "data": {
            "text/html": [
              "\n",
              "    <br>\n",
              "      <table style=\"border:2px solid black; border-collapse:collapse\">\n",
              "      <tr>\n",
              "      <td scope=\"row\" style=\"border:1px solid black;background-color:#3498DB;color:white;padding:10px;text-align:left\"> <strong>అంకేణున</strong> </td>\n",
              "      <td scope=\"row\" style=\"background-color:#E3FFE7 ;border:1px solid black;padding:15px;text-align:left\"> <strong>అ</strong> </td><td scope=\"row\" style=\"background-color:#E3FFE7 ;border:1px solid black;padding:15px;text-align:left\"> <strong>ం</strong> </td><td scope=\"row\" style=\"background-color:#E3FFE7 ;border:1px solid black;padding:15px;text-align:left\"> <strong>క</strong> </td> <td scope=\"row\" style=\"background-color:#FFF6F7 ; border:1px solid black;padding:15px;text-align:left\"> <strong>ె</strong> </td> <td scope=\"row\" style=\"background-color:#FFF6F7 ; border:1px solid black;padding:15px;text-align:left\"> <strong>ల</strong> </td> <td scope=\"row\" style=\"background-color:#FFF6F7 ; border:1px solid black;padding:15px;text-align:left\"> <strong>న</strong> </td><td scope=\"row\" style=\"background-color:#E3FFE7 ;border:1px solid black;padding:15px;text-align:left\"> <strong>ు</strong> </td></tr><tr>\n",
              "      <td scope=\"row\" style=\"border:1px solid black;background-color:#3498DB;padding:15px;color:white;text-align:left\"> <strong>అంకెలను </strong></td><td scope=\"row\" style=\"background-color:#E3FFE7 ;border:1px solid black;padding:15px;text-align:left\"><strong> అ </strong></td><td scope=\"row\" style=\"background-color:#E3FFE7 ;border:1px solid black;padding:15px;text-align:left\"><strong> ం </strong></td><td scope=\"row\" style=\"background-color:#E3FFE7 ;border:1px solid black;padding:15px;text-align:left\"><strong> క </strong></td><td scope=\"row\" style=\"background-color:#FFF6F7 ; border:1px solid black;padding:15px;text-align:left\"> <strong>ే</strong> </td><td scope=\"row\" style=\"background-color:#FFF6F7 ; border:1px solid black;padding:15px;text-align:left\"> <strong>ణ</strong> </td><td scope=\"row\" style=\"background-color:#FFF6F7 ; border:1px solid black;padding:15px;text-align:left\"> <strong> </strong> </td><td scope=\"row\" style=\"background-color:#E3FFE7 ;border:1px solid black;padding:15px;text-align:left\"><strong> ు </strong></td></tr><tr>\n",
              "      <td scope=\"row\" style=\"border:1px solid black;background-color:#3498DB;padding:15px;color:white;text-align:left\"> <strong>ankelanu </strong></td><td scope=\"row\" style=\"border:1px solid black;padding:15px;text-align:left\">&#x2705; </td><td scope=\"row\" style=\"border:1px solid black;padding:15px;text-align:left\">&#x2705; </td><td scope=\"row\" style=\"border:1px solid black;padding:15px;text-align:left\">&#x2705; </td> <td scope=\"row\" style=\" border:1px solid black;padding:15px;text-align:left\"> &#x274C; </td> <td scope=\"row\" style=\" border:1px solid black;padding:15px;text-align:left\"> &#x274C; </td><td scope=\"row\" style=\"border:1px solid black;padding:15px;text-align:left\"> &#x274C; </td><td scope=\"row\" style=\"border:1px solid black;padding:15px;text-align:left\">&#x2705; </td></tr>"
            ],
            "text/plain": [
              "<IPython.core.display.HTML object>"
            ]
          },
          "metadata": {},
          "output_type": "display_data"
        },
        {
          "data": {
            "text/html": [
              "\n",
              "    <br>\n",
              "      <table style=\"border:2px solid black; border-collapse:collapse\">\n",
              "      <tr>\n",
              "      <td scope=\"row\" style=\"border:1px solid black;background-color:#3498DB;color:white;padding:10px;text-align:left\"> <strong>అంగీకరించ</strong> </td>\n",
              "      <td scope=\"row\" style=\"background-color:#E3FFE7 ;border:1px solid black;padding:15px;text-align:left\"> <strong>అ</strong> </td><td scope=\"row\" style=\"background-color:#E3FFE7 ;border:1px solid black;padding:15px;text-align:left\"> <strong>ం</strong> </td><td scope=\"row\" style=\"background-color:#E3FFE7 ;border:1px solid black;padding:15px;text-align:left\"> <strong>గ</strong> </td><td scope=\"row\" style=\"background-color:#E3FFE7 ;border:1px solid black;padding:15px;text-align:left\"> <strong>ీ</strong> </td><td scope=\"row\" style=\"background-color:#E3FFE7 ;border:1px solid black;padding:15px;text-align:left\"> <strong>క</strong> </td><td scope=\"row\" style=\"background-color:#E3FFE7 ;border:1px solid black;padding:15px;text-align:left\"> <strong>ర</strong> </td><td scope=\"row\" style=\"background-color:#E3FFE7 ;border:1px solid black;padding:15px;text-align:left\"> <strong>ి</strong> </td><td scope=\"row\" style=\"background-color:#E3FFE7 ;border:1px solid black;padding:15px;text-align:left\"> <strong>ం</strong> </td><td scope=\"row\" style=\"background-color:#E3FFE7 ;border:1px solid black;padding:15px;text-align:left\"> <strong>చ</strong> </td><td scope=\"row\" style=\"background-color: #FFF6F7 ; border:1px solid black;padding:15px;text-align:left\"> <strong>క </strong></td></tr><tr>\n",
              "      <td scope=\"row\" style=\"border:1px solid black;background-color:#3498DB;padding:15px;color:white;text-align:left\"> <strong>అంగీకరించక </strong></td><td scope=\"row\" style=\"background-color:#E3FFE7 ;border:1px solid black;padding:15px;text-align:left\"><strong> అ </strong></td><td scope=\"row\" style=\"background-color:#E3FFE7 ;border:1px solid black;padding:15px;text-align:left\"><strong> ం </strong></td><td scope=\"row\" style=\"background-color:#E3FFE7 ;border:1px solid black;padding:15px;text-align:left\"><strong> గ </strong></td><td scope=\"row\" style=\"background-color:#E3FFE7 ;border:1px solid black;padding:15px;text-align:left\"><strong> ీ </strong></td><td scope=\"row\" style=\"background-color:#E3FFE7 ;border:1px solid black;padding:15px;text-align:left\"><strong> క </strong></td><td scope=\"row\" style=\"background-color:#E3FFE7 ;border:1px solid black;padding:15px;text-align:left\"><strong> ర </strong></td><td scope=\"row\" style=\"background-color:#E3FFE7 ;border:1px solid black;padding:15px;text-align:left\"><strong> ి </strong></td><td scope=\"row\" style=\"background-color:#E3FFE7 ;border:1px solid black;padding:15px;text-align:left\"><strong> ం </strong></td><td scope=\"row\" style=\"background-color:#E3FFE7 ;border:1px solid black;padding:15px;text-align:left\"><strong> చ </strong></td><td scope=\"row\" style=\"background-color:#FFF6F7  ; border:1px solid black;padding:15px;text-align:left\"><strong> </strong> </td></tr><tr>\n",
              "      <td scope=\"row\" style=\"border:1px solid black;background-color:#3498DB;padding:15px;color:white;text-align:left\"> <strong>angeekarinchaka </strong></td><td scope=\"row\" style=\"border:1px solid black;padding:15px;text-align:left\">&#x2705; </td><td scope=\"row\" style=\"border:1px solid black;padding:15px;text-align:left\">&#x2705; </td><td scope=\"row\" style=\"border:1px solid black;padding:15px;text-align:left\">&#x2705; </td><td scope=\"row\" style=\"border:1px solid black;padding:15px;text-align:left\">&#x2705; </td><td scope=\"row\" style=\"border:1px solid black;padding:15px;text-align:left\">&#x2705; </td><td scope=\"row\" style=\"border:1px solid black;padding:15px;text-align:left\">&#x2705; </td><td scope=\"row\" style=\"border:1px solid black;padding:15px;text-align:left\">&#x2705; </td><td scope=\"row\" style=\"border:1px solid black;padding:15px;text-align:left\">&#x2705; </td><td scope=\"row\" style=\"border:1px solid black;padding:15px;text-align:left\">&#x2705; </td><td scope=\"row\" style=\"border:1px solid black;padding:15px;text-align:left\"> &#x274C; </td></tr>"
            ],
            "text/plain": [
              "<IPython.core.display.HTML object>"
            ]
          },
          "metadata": {},
          "output_type": "display_data"
        },
        {
          "data": {
            "text/html": [
              "\n",
              "    <br>\n",
              "      <table style=\"border:2px solid black; border-collapse:collapse\">\n",
              "      <tr>\n",
              "      <td scope=\"row\" style=\"border:1px solid black;background-color:#3498DB;color:white;padding:10px;text-align:left\"> <strong>అంటారాని</strong> </td>\n",
              "      <td scope=\"row\" style=\"background-color:#E3FFE7 ;border:1px solid black;padding:15px;text-align:left\"> <strong>అ</strong> </td><td scope=\"row\" style=\"background-color:#E3FFE7 ;border:1px solid black;padding:15px;text-align:left\"> <strong>ం</strong> </td><td scope=\"row\" style=\"background-color:#E3FFE7 ;border:1px solid black;padding:15px;text-align:left\"> <strong>ట</strong> </td><td scope=\"row\" style=\"background-color:#E3FFE7 ;border:1px solid black;padding:15px;text-align:left\"> <strong>ా</strong> </td><td scope=\"row\" style=\"background-color:#E3FFE7 ;border:1px solid black;padding:15px;text-align:left\"> <strong>ర</strong> </td> <td scope=\"row\" style=\"background-color:#FFF6F7 ; border:1px solid black;padding:15px;text-align:left\"> <strong>ా</strong> </td><td scope=\"row\" style=\"background-color:#E3FFE7 ;border:1px solid black;padding:15px;text-align:left\"> <strong>న</strong> </td><td scope=\"row\" style=\"background-color:#E3FFE7 ;border:1px solid black;padding:15px;text-align:left\"> <strong>ి</strong> </td></tr><tr>\n",
              "      <td scope=\"row\" style=\"border:1px solid black;background-color:#3498DB;padding:15px;color:white;text-align:left\"> <strong>అంటారని </strong></td><td scope=\"row\" style=\"background-color:#E3FFE7 ;border:1px solid black;padding:15px;text-align:left\"><strong> అ </strong></td><td scope=\"row\" style=\"background-color:#E3FFE7 ;border:1px solid black;padding:15px;text-align:left\"><strong> ం </strong></td><td scope=\"row\" style=\"background-color:#E3FFE7 ;border:1px solid black;padding:15px;text-align:left\"><strong> ట </strong></td><td scope=\"row\" style=\"background-color:#E3FFE7 ;border:1px solid black;padding:15px;text-align:left\"><strong> ా </strong></td><td scope=\"row\" style=\"background-color:#E3FFE7 ;border:1px solid black;padding:15px;text-align:left\"><strong> ర </strong></td><td scope=\"row\" style=\"background-color:#FFF6F7 ; border:1px solid black;padding:15px;text-align:left\"> <strong> </strong> </td><td scope=\"row\" style=\"background-color:#E3FFE7 ;border:1px solid black;padding:15px;text-align:left\"><strong> న </strong></td><td scope=\"row\" style=\"background-color:#E3FFE7 ;border:1px solid black;padding:15px;text-align:left\"><strong> ి </strong></td></tr><tr>\n",
              "      <td scope=\"row\" style=\"border:1px solid black;background-color:#3498DB;padding:15px;color:white;text-align:left\"> <strong>antaarani </strong></td><td scope=\"row\" style=\"border:1px solid black;padding:15px;text-align:left\">&#x2705; </td><td scope=\"row\" style=\"border:1px solid black;padding:15px;text-align:left\">&#x2705; </td><td scope=\"row\" style=\"border:1px solid black;padding:15px;text-align:left\">&#x2705; </td><td scope=\"row\" style=\"border:1px solid black;padding:15px;text-align:left\">&#x2705; </td><td scope=\"row\" style=\"border:1px solid black;padding:15px;text-align:left\">&#x2705; </td><td scope=\"row\" style=\"border:1px solid black;padding:15px;text-align:left\"> &#x274C; </td><td scope=\"row\" style=\"border:1px solid black;padding:15px;text-align:left\">&#x2705; </td><td scope=\"row\" style=\"border:1px solid black;padding:15px;text-align:left\">&#x2705; </td></tr>"
            ],
            "text/plain": [
              "<IPython.core.display.HTML object>"
            ]
          },
          "metadata": {},
          "output_type": "display_data"
        },
        {
          "data": {
            "text/html": [
              "\n",
              "    <br>\n",
              "      <table style=\"border:2px solid black; border-collapse:collapse\">\n",
              "      <tr>\n",
              "      <td scope=\"row\" style=\"border:1px solid black;background-color:#3498DB;color:white;padding:10px;text-align:left\"> <strong>అంటరాని</strong> </td>\n",
              "      <td scope=\"row\" style=\"background-color:#E3FFE7 ;border:1px solid black;padding:15px;text-align:left\"> <strong>అ</strong> </td><td scope=\"row\" style=\"background-color:#E3FFE7 ;border:1px solid black;padding:15px;text-align:left\"> <strong>ం</strong> </td><td scope=\"row\" style=\"background-color:#E3FFE7 ;border:1px solid black;padding:15px;text-align:left\"> <strong>ట</strong> </td> <td scope=\"row\" style=\"background-color:#FFF6F7 ; border:1px solid black;padding:15px;text-align:left\"> <strong>ా</strong> </td><td scope=\"row\" style=\"background-color:#E3FFE7 ;border:1px solid black;padding:15px;text-align:left\"> <strong>ర</strong> </td> <td scope=\"row\" style=\"background-color:#FFF6F7 ; border:1px solid black;padding:15px;text-align:left\"> <strong>న</strong> </td> <td scope=\"row\" style=\"background-color:#FFF6F7 ; border:1px solid black;padding:15px;text-align:left\"> <strong>ి</strong> </td></tr><tr>\n",
              "      <td scope=\"row\" style=\"border:1px solid black;background-color:#3498DB;padding:15px;color:white;text-align:left\"> <strong>అంటారని </strong></td><td scope=\"row\" style=\"background-color:#E3FFE7 ;border:1px solid black;padding:15px;text-align:left\"><strong> అ </strong></td><td scope=\"row\" style=\"background-color:#E3FFE7 ;border:1px solid black;padding:15px;text-align:left\"><strong> ం </strong></td><td scope=\"row\" style=\"background-color:#E3FFE7 ;border:1px solid black;padding:15px;text-align:left\"><strong> ట </strong></td><td scope=\"row\" style=\"background-color:#FFF6F7 ; border:1px solid black;padding:15px;text-align:left\"> <strong> </strong> </td><td scope=\"row\" style=\"background-color:#E3FFE7 ;border:1px solid black;padding:15px;text-align:left\"><strong> ర </strong></td><td scope=\"row\" style=\"background-color:#FFF6F7 ; border:1px solid black;padding:15px;text-align:left\"> <strong>ా</strong> </td><td scope=\"row\" style=\"background-color:#FFF6F7 ; border:1px solid black;padding:15px;text-align:left\"> <strong>న</strong> </td></tr><tr>\n",
              "      <td scope=\"row\" style=\"border:1px solid black;background-color:#3498DB;padding:15px;color:white;text-align:left\"> <strong>antarani </strong></td><td scope=\"row\" style=\"border:1px solid black;padding:15px;text-align:left\">&#x2705; </td><td scope=\"row\" style=\"border:1px solid black;padding:15px;text-align:left\">&#x2705; </td><td scope=\"row\" style=\"border:1px solid black;padding:15px;text-align:left\">&#x2705; </td><td scope=\"row\" style=\"border:1px solid black;padding:15px;text-align:left\"> &#x274C; </td><td scope=\"row\" style=\"border:1px solid black;padding:15px;text-align:left\">&#x2705; </td> <td scope=\"row\" style=\" border:1px solid black;padding:15px;text-align:left\"> &#x274C; </td> <td scope=\"row\" style=\" border:1px solid black;padding:15px;text-align:left\"> &#x274C; </td></tr>"
            ],
            "text/plain": [
              "<IPython.core.display.HTML object>"
            ]
          },
          "metadata": {},
          "output_type": "display_data"
        },
        {
          "data": {
            "text/html": [
              "\n",
              "    <br>\n",
              "      <table style=\"border:2px solid black; border-collapse:collapse\">\n",
              "      <tr>\n",
              "      <td scope=\"row\" style=\"border:1px solid black;background-color:#3498DB;color:white;padding:10px;text-align:left\"> <strong>అంతవ</strong> </td>\n",
              "      <td scope=\"row\" style=\"background-color:#E3FFE7 ;border:1px solid black;padding:15px;text-align:left\"> <strong>అ</strong> </td><td scope=\"row\" style=\"background-color:#E3FFE7 ;border:1px solid black;padding:15px;text-align:left\"> <strong>ం</strong> </td> <td scope=\"row\" style=\"background-color:#FFF6F7 ; border:1px solid black;padding:15px;text-align:left\"> <strong>ట</strong> </td> <td scope=\"row\" style=\"background-color:#FFF6F7 ; border:1px solid black;padding:15px;text-align:left\"> <strong>ా</strong> </td><td scope=\"row\" style=\"background-color:#E3FFE7 ;border:1px solid black;padding:15px;text-align:left\"> <strong>వ</strong> </td><td scope=\"row\" style=\"background-color: #FFF6F7 ; border:1px solid black;padding:15px;text-align:left\"> <strong>ా </strong></td></tr><tr>\n",
              "      <td scope=\"row\" style=\"border:1px solid black;background-color:#3498DB;padding:15px;color:white;text-align:left\"> <strong>అంటావా </strong></td><td scope=\"row\" style=\"background-color:#E3FFE7 ;border:1px solid black;padding:15px;text-align:left\"><strong> అ </strong></td><td scope=\"row\" style=\"background-color:#E3FFE7 ;border:1px solid black;padding:15px;text-align:left\"><strong> ం </strong></td><td scope=\"row\" style=\"background-color:#FFF6F7 ; border:1px solid black;padding:15px;text-align:left\"> <strong>త</strong> </td><td scope=\"row\" style=\"background-color:#FFF6F7 ; border:1px solid black;padding:15px;text-align:left\"> <strong> </strong> </td><td scope=\"row\" style=\"background-color:#E3FFE7 ;border:1px solid black;padding:15px;text-align:left\"><strong> వ </strong></td><td scope=\"row\" style=\"background-color:#FFF6F7  ; border:1px solid black;padding:15px;text-align:left\"><strong> </strong> </td></tr><tr>\n",
              "      <td scope=\"row\" style=\"border:1px solid black;background-color:#3498DB;padding:15px;color:white;text-align:left\"> <strong>antava </strong></td><td scope=\"row\" style=\"border:1px solid black;padding:15px;text-align:left\">&#x2705; </td><td scope=\"row\" style=\"border:1px solid black;padding:15px;text-align:left\">&#x2705; </td> <td scope=\"row\" style=\" border:1px solid black;padding:15px;text-align:left\"> &#x274C; </td><td scope=\"row\" style=\"border:1px solid black;padding:15px;text-align:left\"> &#x274C; </td><td scope=\"row\" style=\"border:1px solid black;padding:15px;text-align:left\">&#x2705; </td><td scope=\"row\" style=\"border:1px solid black;padding:15px;text-align:left\"> &#x274C; </td></tr>"
            ],
            "text/plain": [
              "<IPython.core.display.HTML object>"
            ]
          },
          "metadata": {},
          "output_type": "display_data"
        },
        {
          "data": {
            "text/html": [
              "\n",
              "    <br>\n",
              "      <table style=\"border:2px solid black; border-collapse:collapse\">\n",
              "      <tr>\n",
              "      <td scope=\"row\" style=\"border:1px solid black;background-color:#3498DB;color:white;padding:10px;text-align:left\"> <strong>వంరెర్</strong> </td>\n",
              "       <td scope=\"row\" style=\"background-color:#FFF6F7 ; border:1px solid black;padding:15px;text-align:left\"> <strong>వ</strong> </td><td scope=\"row\" style=\"background-color:#E3FFE7 ;border:1px solid black;padding:15px;text-align:left\"> <strong>ం</strong> </td> <td scope=\"row\" style=\"background-color:#FFF6F7 ; border:1px solid black;padding:15px;text-align:left\"> <strong>ర</strong> </td> <td scope=\"row\" style=\"background-color:#FFF6F7 ; border:1px solid black;padding:15px;text-align:left\"> <strong>ె</strong> </td><td scope=\"row\" style=\"background-color:#E3FFE7 ;border:1px solid black;padding:15px;text-align:left\"> <strong>ర</strong> </td><td scope=\"row\" style=\"background-color:#E3FFE7 ;border:1px solid black;padding:15px;text-align:left\"> <strong>్</strong> </td></tr><tr>\n",
              "      <td scope=\"row\" style=\"border:1px solid black;background-color:#3498DB;padding:15px;color:white;text-align:left\"> <strong>అండర్ </strong></td><td scope=\"row\" style=\"background-color:#FFF6F7 ; border:1px solid black;padding:15px;text-align:left\"> <strong>అ</strong> </td><td scope=\"row\" style=\"background-color:#E3FFE7 ;border:1px solid black;padding:15px;text-align:left\"><strong> ం </strong></td><td scope=\"row\" style=\"background-color:#FFF6F7 ; border:1px solid black;padding:15px;text-align:left\"> <strong>డ</strong> </td><td scope=\"row\" style=\"background-color:#FFF6F7 ; border:1px solid black;padding:15px;text-align:left\"> <strong> </strong> </td><td scope=\"row\" style=\"background-color:#E3FFE7 ;border:1px solid black;padding:15px;text-align:left\"><strong> ర </strong></td><td scope=\"row\" style=\"background-color:#E3FFE7 ;border:1px solid black;padding:15px;text-align:left\"><strong> ్ </strong></td></tr><tr>\n",
              "      <td scope=\"row\" style=\"border:1px solid black;background-color:#3498DB;padding:15px;color:white;text-align:left\"> <strong>undar </strong></td> <td scope=\"row\" style=\" border:1px solid black;padding:15px;text-align:left\"> &#x274C; </td><td scope=\"row\" style=\"border:1px solid black;padding:15px;text-align:left\">&#x2705; </td> <td scope=\"row\" style=\" border:1px solid black;padding:15px;text-align:left\"> &#x274C; </td><td scope=\"row\" style=\"border:1px solid black;padding:15px;text-align:left\"> &#x274C; </td><td scope=\"row\" style=\"border:1px solid black;padding:15px;text-align:left\">&#x2705; </td><td scope=\"row\" style=\"border:1px solid black;padding:15px;text-align:left\">&#x2705; </td></tr>"
            ],
            "text/plain": [
              "<IPython.core.display.HTML object>"
            ]
          },
          "metadata": {},
          "output_type": "display_data"
        },
        {
          "data": {
            "text/html": [
              "\n",
              "    <br>\n",
              "      <table style=\"border:2px solid black; border-collapse:collapse\">\n",
              "      <tr>\n",
              "      <td scope=\"row\" style=\"border:1px solid black;background-color:#3498DB;color:white;padding:10px;text-align:left\"> <strong>ఎండర్</strong> </td>\n",
              "       <td scope=\"row\" style=\"background-color:#FFF6F7 ; border:1px solid black;padding:15px;text-align:left\"> <strong>అ</strong> </td><td scope=\"row\" style=\"background-color:#E3FFE7 ;border:1px solid black;padding:15px;text-align:left\"> <strong>ం</strong> </td><td scope=\"row\" style=\"background-color:#E3FFE7 ;border:1px solid black;padding:15px;text-align:left\"> <strong>డ</strong> </td><td scope=\"row\" style=\"background-color:#E3FFE7 ;border:1px solid black;padding:15px;text-align:left\"> <strong>ర</strong> </td><td scope=\"row\" style=\"background-color:#E3FFE7 ;border:1px solid black;padding:15px;text-align:left\"> <strong>్</strong> </td></tr><tr>\n",
              "      <td scope=\"row\" style=\"border:1px solid black;background-color:#3498DB;padding:15px;color:white;text-align:left\"> <strong>అండర్ </strong></td><td scope=\"row\" style=\"background-color:#FFF6F7 ; border:1px solid black;padding:15px;text-align:left\"> <strong>ఎ</strong> </td><td scope=\"row\" style=\"background-color:#E3FFE7 ;border:1px solid black;padding:15px;text-align:left\"><strong> ం </strong></td><td scope=\"row\" style=\"background-color:#E3FFE7 ;border:1px solid black;padding:15px;text-align:left\"><strong> డ </strong></td><td scope=\"row\" style=\"background-color:#E3FFE7 ;border:1px solid black;padding:15px;text-align:left\"><strong> ర </strong></td><td scope=\"row\" style=\"background-color:#E3FFE7 ;border:1px solid black;padding:15px;text-align:left\"><strong> ్ </strong></td></tr><tr>\n",
              "      <td scope=\"row\" style=\"border:1px solid black;background-color:#3498DB;padding:15px;color:white;text-align:left\"> <strong>under </strong></td> <td scope=\"row\" style=\" border:1px solid black;padding:15px;text-align:left\"> &#x274C; </td><td scope=\"row\" style=\"border:1px solid black;padding:15px;text-align:left\">&#x2705; </td><td scope=\"row\" style=\"border:1px solid black;padding:15px;text-align:left\">&#x2705; </td><td scope=\"row\" style=\"border:1px solid black;padding:15px;text-align:left\">&#x2705; </td><td scope=\"row\" style=\"border:1px solid black;padding:15px;text-align:left\">&#x2705; </td></tr>"
            ],
            "text/plain": [
              "<IPython.core.display.HTML object>"
            ]
          },
          "metadata": {},
          "output_type": "display_data"
        },
        {
          "data": {
            "text/html": [
              "\n",
              "    <br>\n",
              "      <table style=\"border:2px solid black; border-collapse:collapse\">\n",
              "      <tr>\n",
              "      <td scope=\"row\" style=\"border:1px solid black;background-color:#3498DB;color:white;padding:10px;text-align:left\"> <strong>అంటగా</strong> </td>\n",
              "      <td scope=\"row\" style=\"background-color:#E3FFE7 ;border:1px solid black;padding:15px;text-align:left\"> <strong>అ</strong> </td><td scope=\"row\" style=\"background-color:#E3FFE7 ;border:1px solid black;padding:15px;text-align:left\"> <strong>ం</strong> </td> <td scope=\"row\" style=\"background-color:#FFF6F7 ; border:1px solid black;padding:15px;text-align:left\"> <strong>త</strong> </td><td scope=\"row\" style=\"background-color:#E3FFE7 ;border:1px solid black;padding:15px;text-align:left\"> <strong>గ</strong> </td><td scope=\"row\" style=\"background-color:#E3FFE7 ;border:1px solid black;padding:15px;text-align:left\"> <strong>ా</strong> </td></tr><tr>\n",
              "      <td scope=\"row\" style=\"border:1px solid black;background-color:#3498DB;padding:15px;color:white;text-align:left\"> <strong>అంతగా </strong></td><td scope=\"row\" style=\"background-color:#E3FFE7 ;border:1px solid black;padding:15px;text-align:left\"><strong> అ </strong></td><td scope=\"row\" style=\"background-color:#E3FFE7 ;border:1px solid black;padding:15px;text-align:left\"><strong> ం </strong></td><td scope=\"row\" style=\"background-color:#FFF6F7 ; border:1px solid black;padding:15px;text-align:left\"> <strong>ట</strong> </td><td scope=\"row\" style=\"background-color:#E3FFE7 ;border:1px solid black;padding:15px;text-align:left\"><strong> గ </strong></td><td scope=\"row\" style=\"background-color:#E3FFE7 ;border:1px solid black;padding:15px;text-align:left\"><strong> ా </strong></td></tr><tr>\n",
              "      <td scope=\"row\" style=\"border:1px solid black;background-color:#3498DB;padding:15px;color:white;text-align:left\"> <strong>amtagaa </strong></td><td scope=\"row\" style=\"border:1px solid black;padding:15px;text-align:left\">&#x2705; </td><td scope=\"row\" style=\"border:1px solid black;padding:15px;text-align:left\">&#x2705; </td> <td scope=\"row\" style=\" border:1px solid black;padding:15px;text-align:left\"> &#x274C; </td><td scope=\"row\" style=\"border:1px solid black;padding:15px;text-align:left\">&#x2705; </td><td scope=\"row\" style=\"border:1px solid black;padding:15px;text-align:left\">&#x2705; </td></tr>"
            ],
            "text/plain": [
              "<IPython.core.display.HTML object>"
            ]
          },
          "metadata": {},
          "output_type": "display_data"
        },
        {
          "data": {
            "text/html": [
              "\n",
              "    <br>\n",
              "      <table style=\"border:2px solid black; border-collapse:collapse\">\n",
              "      <tr>\n",
              "      <td scope=\"row\" style=\"border:1px solid black;background-color:#3498DB;color:white;padding:10px;text-align:left\"> <strong>అంతవంతుడుతో</strong> </td>\n",
              "      <td scope=\"row\" style=\"background-color:#E3FFE7 ;border:1px solid black;padding:15px;text-align:left\"> <strong>అ</strong> </td><td scope=\"row\" style=\"background-color:#E3FFE7 ;border:1px solid black;padding:15px;text-align:left\"> <strong>ం</strong> </td><td scope=\"row\" style=\"background-color:#E3FFE7 ;border:1px solid black;padding:15px;text-align:left\"> <strong>త</strong> </td> <td scope=\"row\" style=\"background-color:#FFF6F7 ; border:1px solid black;padding:15px;text-align:left\"> <strong>మ</strong> </td><td scope=\"row\" style=\"background-color:#E3FFE7 ;border:1px solid black;padding:15px;text-align:left\"> <strong>వ</strong> </td> <td scope=\"row\" style=\"background-color:#FFF6F7 ; border:1px solid black;padding:15px;text-align:left\"> <strong>ు</strong> </td><td scope=\"row\" style=\"background-color:#E3FFE7 ;border:1px solid black;padding:15px;text-align:left\"> <strong>త</strong> </td><td scope=\"row\" style=\"background-color:#E3FFE7 ;border:1px solid black;padding:15px;text-align:left\"> <strong>ు</strong> </td> <td scope=\"row\" style=\"background-color:#FFF6F7 ; border:1px solid black;padding:15px;text-align:left\"> <strong>ం</strong> </td> <td scope=\"row\" style=\"background-color:#FFF6F7 ; border:1px solid black;padding:15px;text-align:left\"> <strong>ద</strong> </td> <td scope=\"row\" style=\"background-color:#FFF6F7 ; border:1px solid black;padding:15px;text-align:left\"> <strong>ి</strong> </td></tr><tr>\n",
              "      <td scope=\"row\" style=\"border:1px solid black;background-color:#3498DB;padding:15px;color:white;text-align:left\"> <strong>అంతమవుతుంది </strong></td><td scope=\"row\" style=\"background-color:#E3FFE7 ;border:1px solid black;padding:15px;text-align:left\"><strong> అ </strong></td><td scope=\"row\" style=\"background-color:#E3FFE7 ;border:1px solid black;padding:15px;text-align:left\"><strong> ం </strong></td><td scope=\"row\" style=\"background-color:#E3FFE7 ;border:1px solid black;padding:15px;text-align:left\"><strong> త </strong></td><td scope=\"row\" style=\"background-color:#FFF6F7 ; border:1px solid black;padding:15px;text-align:left\"> <strong> </strong> </td><td scope=\"row\" style=\"background-color:#E3FFE7 ;border:1px solid black;padding:15px;text-align:left\"><strong> వ </strong></td><td scope=\"row\" style=\"background-color:#FFF6F7 ; border:1px solid black;padding:15px;text-align:left\"> <strong>ం</strong> </td><td scope=\"row\" style=\"background-color:#E3FFE7 ;border:1px solid black;padding:15px;text-align:left\"><strong> త </strong></td><td scope=\"row\" style=\"background-color:#E3FFE7 ;border:1px solid black;padding:15px;text-align:left\"><strong> ు </strong></td><td scope=\"row\" style=\"background-color:#FFF6F7 ; border:1px solid black;padding:15px;text-align:left\"> <strong>డ</strong> </td><td scope=\"row\" style=\"background-color:#FFF6F7 ; border:1px solid black;padding:15px;text-align:left\"> <strong>ు</strong> </td><td scope=\"row\" style=\"background-color:#FFF6F7 ; border:1px solid black;padding:15px;text-align:left\"> <strong>త</strong> </td></tr><tr>\n",
              "      <td scope=\"row\" style=\"border:1px solid black;background-color:#3498DB;padding:15px;color:white;text-align:left\"> <strong>antamavutondi </strong></td><td scope=\"row\" style=\"border:1px solid black;padding:15px;text-align:left\">&#x2705; </td><td scope=\"row\" style=\"border:1px solid black;padding:15px;text-align:left\">&#x2705; </td><td scope=\"row\" style=\"border:1px solid black;padding:15px;text-align:left\">&#x2705; </td><td scope=\"row\" style=\"border:1px solid black;padding:15px;text-align:left\"> &#x274C; </td><td scope=\"row\" style=\"border:1px solid black;padding:15px;text-align:left\">&#x2705; </td> <td scope=\"row\" style=\" border:1px solid black;padding:15px;text-align:left\"> &#x274C; </td><td scope=\"row\" style=\"border:1px solid black;padding:15px;text-align:left\">&#x2705; </td><td scope=\"row\" style=\"border:1px solid black;padding:15px;text-align:left\">&#x2705; </td> <td scope=\"row\" style=\" border:1px solid black;padding:15px;text-align:left\"> &#x274C; </td> <td scope=\"row\" style=\" border:1px solid black;padding:15px;text-align:left\"> &#x274C; </td> <td scope=\"row\" style=\" border:1px solid black;padding:15px;text-align:left\"> &#x274C; </td></tr>"
            ],
            "text/plain": [
              "<IPython.core.display.HTML object>"
            ]
          },
          "metadata": {},
          "output_type": "display_data"
        },
        {
          "data": {
            "text/html": [
              "\n",
              "    <br>\n",
              "      <table style=\"border:2px solid black; border-collapse:collapse\">\n",
              "      <tr>\n",
              "      <td scope=\"row\" style=\"border:1px solid black;background-color:#3498DB;color:white;padding:10px;text-align:left\"> <strong>అంటావుతముది</strong> </td>\n",
              "      <td scope=\"row\" style=\"background-color:#E3FFE7 ;border:1px solid black;padding:15px;text-align:left\"> <strong>అ</strong> </td><td scope=\"row\" style=\"background-color:#E3FFE7 ;border:1px solid black;padding:15px;text-align:left\"> <strong>ం</strong> </td> <td scope=\"row\" style=\"background-color:#FFF6F7 ; border:1px solid black;padding:15px;text-align:left\"> <strong>త</strong> </td> <td scope=\"row\" style=\"background-color:#FFF6F7 ; border:1px solid black;padding:15px;text-align:left\"> <strong>మ</strong> </td><td scope=\"row\" style=\"background-color:#E3FFE7 ;border:1px solid black;padding:15px;text-align:left\"> <strong>వ</strong> </td><td scope=\"row\" style=\"background-color:#E3FFE7 ;border:1px solid black;padding:15px;text-align:left\"> <strong>ు</strong> </td><td scope=\"row\" style=\"background-color:#E3FFE7 ;border:1px solid black;padding:15px;text-align:left\"> <strong>త</strong> </td> <td scope=\"row\" style=\"background-color:#FFF6F7 ; border:1px solid black;padding:15px;text-align:left\"> <strong>ు</strong> </td> <td scope=\"row\" style=\"background-color:#FFF6F7 ; border:1px solid black;padding:15px;text-align:left\"> <strong>ం</strong> </td><td scope=\"row\" style=\"background-color:#E3FFE7 ;border:1px solid black;padding:15px;text-align:left\"> <strong>ద</strong> </td><td scope=\"row\" style=\"background-color:#E3FFE7 ;border:1px solid black;padding:15px;text-align:left\"> <strong>ి</strong> </td></tr><tr>\n",
              "      <td scope=\"row\" style=\"border:1px solid black;background-color:#3498DB;padding:15px;color:white;text-align:left\"> <strong>అంతమవుతుంది </strong></td><td scope=\"row\" style=\"background-color:#E3FFE7 ;border:1px solid black;padding:15px;text-align:left\"><strong> అ </strong></td><td scope=\"row\" style=\"background-color:#E3FFE7 ;border:1px solid black;padding:15px;text-align:left\"><strong> ం </strong></td><td scope=\"row\" style=\"background-color:#FFF6F7 ; border:1px solid black;padding:15px;text-align:left\"> <strong>ట</strong> </td><td scope=\"row\" style=\"background-color:#FFF6F7 ; border:1px solid black;padding:15px;text-align:left\"> <strong>ా</strong> </td><td scope=\"row\" style=\"background-color:#E3FFE7 ;border:1px solid black;padding:15px;text-align:left\"><strong> వ </strong></td><td scope=\"row\" style=\"background-color:#E3FFE7 ;border:1px solid black;padding:15px;text-align:left\"><strong> ు </strong></td><td scope=\"row\" style=\"background-color:#E3FFE7 ;border:1px solid black;padding:15px;text-align:left\"><strong> త </strong></td><td scope=\"row\" style=\"background-color:#FFF6F7 ; border:1px solid black;padding:15px;text-align:left\"> <strong>మ</strong> </td><td scope=\"row\" style=\"background-color:#FFF6F7 ; border:1px solid black;padding:15px;text-align:left\"> <strong>ు</strong> </td><td scope=\"row\" style=\"background-color:#E3FFE7 ;border:1px solid black;padding:15px;text-align:left\"><strong> ద </strong></td><td scope=\"row\" style=\"background-color:#E3FFE7 ;border:1px solid black;padding:15px;text-align:left\"><strong> ి </strong></td></tr><tr>\n",
              "      <td scope=\"row\" style=\"border:1px solid black;background-color:#3498DB;padding:15px;color:white;text-align:left\"> <strong>antamavutundi </strong></td><td scope=\"row\" style=\"border:1px solid black;padding:15px;text-align:left\">&#x2705; </td><td scope=\"row\" style=\"border:1px solid black;padding:15px;text-align:left\">&#x2705; </td> <td scope=\"row\" style=\" border:1px solid black;padding:15px;text-align:left\"> &#x274C; </td> <td scope=\"row\" style=\" border:1px solid black;padding:15px;text-align:left\"> &#x274C; </td><td scope=\"row\" style=\"border:1px solid black;padding:15px;text-align:left\">&#x2705; </td><td scope=\"row\" style=\"border:1px solid black;padding:15px;text-align:left\">&#x2705; </td><td scope=\"row\" style=\"border:1px solid black;padding:15px;text-align:left\">&#x2705; </td> <td scope=\"row\" style=\" border:1px solid black;padding:15px;text-align:left\"> &#x274C; </td> <td scope=\"row\" style=\" border:1px solid black;padding:15px;text-align:left\"> &#x274C; </td><td scope=\"row\" style=\"border:1px solid black;padding:15px;text-align:left\">&#x2705; </td><td scope=\"row\" style=\"border:1px solid black;padding:15px;text-align:left\">&#x2705; </td></tr>"
            ],
            "text/plain": [
              "<IPython.core.display.HTML object>"
            ]
          },
          "metadata": {},
          "output_type": "display_data"
        },
        {
          "data": {
            "text/html": [
              "\n",
              "    <br>\n",
              "      <table style=\"border:2px solid black; border-collapse:collapse\">\n",
              "      <tr>\n",
              "      <td scope=\"row\" style=\"border:1px solid black;background-color:#3498DB;color:white;padding:10px;text-align:left\"> <strong>అంతవంతోపడింది</strong> </td>\n",
              "      <td scope=\"row\" style=\"background-color:#E3FFE7 ;border:1px solid black;padding:15px;text-align:left\"> <strong>అ</strong> </td><td scope=\"row\" style=\"background-color:#E3FFE7 ;border:1px solid black;padding:15px;text-align:left\"> <strong>ం</strong> </td><td scope=\"row\" style=\"background-color:#E3FFE7 ;border:1px solid black;padding:15px;text-align:left\"> <strong>త</strong> </td> <td scope=\"row\" style=\"background-color:#FFF6F7 ; border:1px solid black;padding:15px;text-align:left\"> <strong>వ</strong> </td> <td scope=\"row\" style=\"background-color:#FFF6F7 ; border:1px solid black;padding:15px;text-align:left\"> <strong>ం</strong> </td> <td scope=\"row\" style=\"background-color:#FFF6F7 ; border:1px solid black;padding:15px;text-align:left\"> <strong>త</strong> </td> <td scope=\"row\" style=\"background-color:#FFF6F7 ; border:1px solid black;padding:15px;text-align:left\"> <strong>ో</strong> </td> <td scope=\"row\" style=\"background-color:#FFF6F7 ; border:1px solid black;padding:15px;text-align:left\"> <strong>ప</strong> </td> <td scope=\"row\" style=\"background-color:#FFF6F7 ; border:1px solid black;padding:15px;text-align:left\"> <strong>డ</strong> </td> <td scope=\"row\" style=\"background-color:#FFF6F7 ; border:1px solid black;padding:15px;text-align:left\"> <strong>ి</strong> </td> <td scope=\"row\" style=\"background-color:#FFF6F7 ; border:1px solid black;padding:15px;text-align:left\"> <strong>ం</strong> </td><td scope=\"row\" style=\"background-color: #FFF6F7 ; border:1px solid black;padding:15px;text-align:left\"> <strong>ద </strong></td><td scope=\"row\" style=\"background-color: #FFF6F7 ; border:1px solid black;padding:15px;text-align:left\"> <strong>ి </strong></td></tr><tr>\n",
              "      <td scope=\"row\" style=\"border:1px solid black;background-color:#3498DB;padding:15px;color:white;text-align:left\"> <strong>అంతమవుతుంది </strong></td><td scope=\"row\" style=\"background-color:#E3FFE7 ;border:1px solid black;padding:15px;text-align:left\"><strong> అ </strong></td><td scope=\"row\" style=\"background-color:#E3FFE7 ;border:1px solid black;padding:15px;text-align:left\"><strong> ం </strong></td><td scope=\"row\" style=\"background-color:#E3FFE7 ;border:1px solid black;padding:15px;text-align:left\"><strong> త </strong></td><td scope=\"row\" style=\"background-color:#FFF6F7 ; border:1px solid black;padding:15px;text-align:left\"> <strong>మ</strong> </td><td scope=\"row\" style=\"background-color:#FFF6F7 ; border:1px solid black;padding:15px;text-align:left\"> <strong>వ</strong> </td><td scope=\"row\" style=\"background-color:#FFF6F7 ; border:1px solid black;padding:15px;text-align:left\"> <strong>ు</strong> </td><td scope=\"row\" style=\"background-color:#FFF6F7 ; border:1px solid black;padding:15px;text-align:left\"> <strong>త</strong> </td><td scope=\"row\" style=\"background-color:#FFF6F7 ; border:1px solid black;padding:15px;text-align:left\"> <strong>ు</strong> </td><td scope=\"row\" style=\"background-color:#FFF6F7 ; border:1px solid black;padding:15px;text-align:left\"> <strong>ం</strong> </td><td scope=\"row\" style=\"background-color:#FFF6F7 ; border:1px solid black;padding:15px;text-align:left\"> <strong>ద</strong> </td><td scope=\"row\" style=\"background-color:#FFF6F7 ; border:1px solid black;padding:15px;text-align:left\"> <strong>ి</strong> </td><td scope=\"row\" style=\"background-color:#FFF6F7  ; border:1px solid black;padding:15px;text-align:left\"><strong> </strong> </td><td scope=\"row\" style=\"background-color:#FFF6F7  ; border:1px solid black;padding:15px;text-align:left\"><strong> </strong> </td></tr><tr>\n",
              "      <td scope=\"row\" style=\"border:1px solid black;background-color:#3498DB;padding:15px;color:white;text-align:left\"> <strong>anthamavuthondi </strong></td><td scope=\"row\" style=\"border:1px solid black;padding:15px;text-align:left\">&#x2705; </td><td scope=\"row\" style=\"border:1px solid black;padding:15px;text-align:left\">&#x2705; </td><td scope=\"row\" style=\"border:1px solid black;padding:15px;text-align:left\">&#x2705; </td> <td scope=\"row\" style=\" border:1px solid black;padding:15px;text-align:left\"> &#x274C; </td> <td scope=\"row\" style=\" border:1px solid black;padding:15px;text-align:left\"> &#x274C; </td> <td scope=\"row\" style=\" border:1px solid black;padding:15px;text-align:left\"> &#x274C; </td> <td scope=\"row\" style=\" border:1px solid black;padding:15px;text-align:left\"> &#x274C; </td> <td scope=\"row\" style=\" border:1px solid black;padding:15px;text-align:left\"> &#x274C; </td> <td scope=\"row\" style=\" border:1px solid black;padding:15px;text-align:left\"> &#x274C; </td> <td scope=\"row\" style=\" border:1px solid black;padding:15px;text-align:left\"> &#x274C; </td> <td scope=\"row\" style=\" border:1px solid black;padding:15px;text-align:left\"> &#x274C; </td><td scope=\"row\" style=\"border:1px solid black;padding:15px;text-align:left\"> &#x274C; </td><td scope=\"row\" style=\"border:1px solid black;padding:15px;text-align:left\"> &#x274C; </td></tr>"
            ],
            "text/plain": [
              "<IPython.core.display.HTML object>"
            ]
          },
          "metadata": {},
          "output_type": "display_data"
        },
        {
          "data": {
            "text/html": [
              "\n",
              "    <br>\n",
              "      <table style=\"border:2px solid black; border-collapse:collapse\">\n",
              "      <tr>\n",
              "      <td scope=\"row\" style=\"border:1px solid black;background-color:#3498DB;color:white;padding:10px;text-align:left\"> <strong>అంతవంతుముడి</strong> </td>\n",
              "      <td scope=\"row\" style=\"background-color:#E3FFE7 ;border:1px solid black;padding:15px;text-align:left\"> <strong>అ</strong> </td><td scope=\"row\" style=\"background-color:#E3FFE7 ;border:1px solid black;padding:15px;text-align:left\"> <strong>ం</strong> </td><td scope=\"row\" style=\"background-color:#E3FFE7 ;border:1px solid black;padding:15px;text-align:left\"> <strong>త</strong> </td> <td scope=\"row\" style=\"background-color:#FFF6F7 ; border:1px solid black;padding:15px;text-align:left\"> <strong>మ</strong> </td><td scope=\"row\" style=\"background-color:#E3FFE7 ;border:1px solid black;padding:15px;text-align:left\"> <strong>వ</strong> </td> <td scope=\"row\" style=\"background-color:#FFF6F7 ; border:1px solid black;padding:15px;text-align:left\"> <strong>ు</strong> </td><td scope=\"row\" style=\"background-color:#E3FFE7 ;border:1px solid black;padding:15px;text-align:left\"> <strong>త</strong> </td><td scope=\"row\" style=\"background-color:#E3FFE7 ;border:1px solid black;padding:15px;text-align:left\"> <strong>ు</strong> </td> <td scope=\"row\" style=\"background-color:#FFF6F7 ; border:1px solid black;padding:15px;text-align:left\"> <strong>ం</strong> </td> <td scope=\"row\" style=\"background-color:#FFF6F7 ; border:1px solid black;padding:15px;text-align:left\"> <strong>ద</strong> </td> <td scope=\"row\" style=\"background-color:#FFF6F7 ; border:1px solid black;padding:15px;text-align:left\"> <strong>ి</strong> </td></tr><tr>\n",
              "      <td scope=\"row\" style=\"border:1px solid black;background-color:#3498DB;padding:15px;color:white;text-align:left\"> <strong>అంతమవుతుంది </strong></td><td scope=\"row\" style=\"background-color:#E3FFE7 ;border:1px solid black;padding:15px;text-align:left\"><strong> అ </strong></td><td scope=\"row\" style=\"background-color:#E3FFE7 ;border:1px solid black;padding:15px;text-align:left\"><strong> ం </strong></td><td scope=\"row\" style=\"background-color:#E3FFE7 ;border:1px solid black;padding:15px;text-align:left\"><strong> త </strong></td><td scope=\"row\" style=\"background-color:#FFF6F7 ; border:1px solid black;padding:15px;text-align:left\"> <strong> </strong> </td><td scope=\"row\" style=\"background-color:#E3FFE7 ;border:1px solid black;padding:15px;text-align:left\"><strong> వ </strong></td><td scope=\"row\" style=\"background-color:#FFF6F7 ; border:1px solid black;padding:15px;text-align:left\"> <strong>ం</strong> </td><td scope=\"row\" style=\"background-color:#E3FFE7 ;border:1px solid black;padding:15px;text-align:left\"><strong> త </strong></td><td scope=\"row\" style=\"background-color:#E3FFE7 ;border:1px solid black;padding:15px;text-align:left\"><strong> ు </strong></td><td scope=\"row\" style=\"background-color:#FFF6F7 ; border:1px solid black;padding:15px;text-align:left\"> <strong>మ</strong> </td><td scope=\"row\" style=\"background-color:#FFF6F7 ; border:1px solid black;padding:15px;text-align:left\"> <strong>ు</strong> </td><td scope=\"row\" style=\"background-color:#FFF6F7 ; border:1px solid black;padding:15px;text-align:left\"> <strong>డ</strong> </td></tr><tr>\n",
              "      <td scope=\"row\" style=\"border:1px solid black;background-color:#3498DB;padding:15px;color:white;text-align:left\"> <strong>anthamavuthundhi </strong></td><td scope=\"row\" style=\"border:1px solid black;padding:15px;text-align:left\">&#x2705; </td><td scope=\"row\" style=\"border:1px solid black;padding:15px;text-align:left\">&#x2705; </td><td scope=\"row\" style=\"border:1px solid black;padding:15px;text-align:left\">&#x2705; </td><td scope=\"row\" style=\"border:1px solid black;padding:15px;text-align:left\"> &#x274C; </td><td scope=\"row\" style=\"border:1px solid black;padding:15px;text-align:left\">&#x2705; </td> <td scope=\"row\" style=\" border:1px solid black;padding:15px;text-align:left\"> &#x274C; </td><td scope=\"row\" style=\"border:1px solid black;padding:15px;text-align:left\">&#x2705; </td><td scope=\"row\" style=\"border:1px solid black;padding:15px;text-align:left\">&#x2705; </td> <td scope=\"row\" style=\" border:1px solid black;padding:15px;text-align:left\"> &#x274C; </td> <td scope=\"row\" style=\" border:1px solid black;padding:15px;text-align:left\"> &#x274C; </td> <td scope=\"row\" style=\" border:1px solid black;padding:15px;text-align:left\"> &#x274C; </td></tr>"
            ],
            "text/plain": [
              "<IPython.core.display.HTML object>"
            ]
          },
          "metadata": {},
          "output_type": "display_data"
        },
        {
          "data": {
            "text/html": [
              "\n",
              "    <br>\n",
              "      <table style=\"border:2px solid black; border-collapse:collapse\">\n",
              "      <tr>\n",
              "      <td scope=\"row\" style=\"border:1px solid black;background-color:#3498DB;color:white;padding:10px;text-align:left\"> <strong>అంటూ</strong> </td>\n",
              "      <td scope=\"row\" style=\"background-color:#E3FFE7 ;border:1px solid black;padding:15px;text-align:left\"> <strong>అ</strong> </td><td scope=\"row\" style=\"background-color:#E3FFE7 ;border:1px solid black;padding:15px;text-align:left\"> <strong>ం</strong> </td> <td scope=\"row\" style=\"background-color:#FFF6F7 ; border:1px solid black;padding:15px;text-align:left\"> <strong>త</strong> </td> <td scope=\"row\" style=\"background-color:#FFF6F7 ; border:1px solid black;padding:15px;text-align:left\"> <strong>ు</strong> </td></tr><tr>\n",
              "      <td scope=\"row\" style=\"border:1px solid black;background-color:#3498DB;padding:15px;color:white;text-align:left\"> <strong>అంతు </strong></td><td scope=\"row\" style=\"background-color:#E3FFE7 ;border:1px solid black;padding:15px;text-align:left\"><strong> అ </strong></td><td scope=\"row\" style=\"background-color:#E3FFE7 ;border:1px solid black;padding:15px;text-align:left\"><strong> ం </strong></td><td scope=\"row\" style=\"background-color:#FFF6F7 ; border:1px solid black;padding:15px;text-align:left\"> <strong>ట</strong> </td><td scope=\"row\" style=\"background-color:#FFF6F7 ; border:1px solid black;padding:15px;text-align:left\"> <strong>ూ</strong> </td></tr><tr>\n",
              "      <td scope=\"row\" style=\"border:1px solid black;background-color:#3498DB;padding:15px;color:white;text-align:left\"> <strong>amtu </strong></td><td scope=\"row\" style=\"border:1px solid black;padding:15px;text-align:left\">&#x2705; </td><td scope=\"row\" style=\"border:1px solid black;padding:15px;text-align:left\">&#x2705; </td> <td scope=\"row\" style=\" border:1px solid black;padding:15px;text-align:left\"> &#x274C; </td> <td scope=\"row\" style=\" border:1px solid black;padding:15px;text-align:left\"> &#x274C; </td></tr>"
            ],
            "text/plain": [
              "<IPython.core.display.HTML object>"
            ]
          },
          "metadata": {},
          "output_type": "display_data"
        },
        {
          "data": {
            "text/html": [
              "\n",
              "    <br>\n",
              "      <table style=\"border:2px solid black; border-collapse:collapse\">\n",
              "      <tr>\n",
              "      <td scope=\"row\" style=\"border:1px solid black;background-color:#3498DB;color:white;padding:10px;text-align:left\"> <strong>ఉంపర్</strong> </td>\n",
              "       <td scope=\"row\" style=\"background-color:#FFF6F7 ; border:1px solid black;padding:15px;text-align:left\"> <strong>అ</strong> </td><td scope=\"row\" style=\"background-color:#E3FFE7 ;border:1px solid black;padding:15px;text-align:left\"> <strong>ం</strong> </td><td scope=\"row\" style=\"background-color:#E3FFE7 ;border:1px solid black;padding:15px;text-align:left\"> <strong>ప</strong> </td> <td scope=\"row\" style=\"background-color:#FFF6F7 ; border:1px solid black;padding:15px;text-align:left\"> <strong>ై</strong> </td><td scope=\"row\" style=\"background-color:#E3FFE7 ;border:1px solid black;padding:15px;text-align:left\"> <strong>ర</strong> </td><td scope=\"row\" style=\"background-color:#E3FFE7 ;border:1px solid black;padding:15px;text-align:left\"> <strong>్</strong> </td></tr><tr>\n",
              "      <td scope=\"row\" style=\"border:1px solid black;background-color:#3498DB;padding:15px;color:white;text-align:left\"> <strong>అంపైర్ </strong></td><td scope=\"row\" style=\"background-color:#FFF6F7 ; border:1px solid black;padding:15px;text-align:left\"> <strong>ఉ</strong> </td><td scope=\"row\" style=\"background-color:#E3FFE7 ;border:1px solid black;padding:15px;text-align:left\"><strong> ం </strong></td><td scope=\"row\" style=\"background-color:#E3FFE7 ;border:1px solid black;padding:15px;text-align:left\"><strong> ప </strong></td><td scope=\"row\" style=\"background-color:#FFF6F7 ; border:1px solid black;padding:15px;text-align:left\"> <strong> </strong> </td><td scope=\"row\" style=\"background-color:#E3FFE7 ;border:1px solid black;padding:15px;text-align:left\"><strong> ర </strong></td><td scope=\"row\" style=\"background-color:#E3FFE7 ;border:1px solid black;padding:15px;text-align:left\"><strong> ్ </strong></td></tr><tr>\n",
              "      <td scope=\"row\" style=\"border:1px solid black;background-color:#3498DB;padding:15px;color:white;text-align:left\"> <strong>umpair </strong></td> <td scope=\"row\" style=\" border:1px solid black;padding:15px;text-align:left\"> &#x274C; </td><td scope=\"row\" style=\"border:1px solid black;padding:15px;text-align:left\">&#x2705; </td><td scope=\"row\" style=\"border:1px solid black;padding:15px;text-align:left\">&#x2705; </td><td scope=\"row\" style=\"border:1px solid black;padding:15px;text-align:left\"> &#x274C; </td><td scope=\"row\" style=\"border:1px solid black;padding:15px;text-align:left\">&#x2705; </td><td scope=\"row\" style=\"border:1px solid black;padding:15px;text-align:left\">&#x2705; </td></tr>"
            ],
            "text/plain": [
              "<IPython.core.display.HTML object>"
            ]
          },
          "metadata": {},
          "output_type": "display_data"
        },
        {
          "data": {
            "text/html": [
              "\n",
              "    <br>\n",
              "      <table style=\"border:2px solid black; border-collapse:collapse\">\n",
              "      <tr>\n",
              "      <td scope=\"row\" style=\"border:1px solid black;background-color:#3498DB;color:white;padding:10px;text-align:left\"> <strong>అంకంలో</strong> </td>\n",
              "      <td scope=\"row\" style=\"background-color:#E3FFE7 ;border:1px solid black;padding:15px;text-align:left\"> <strong>అ</strong> </td><td scope=\"row\" style=\"background-color:#E3FFE7 ;border:1px solid black;padding:15px;text-align:left\"> <strong>ం</strong> </td><td scope=\"row\" style=\"background-color:#E3FFE7 ;border:1px solid black;padding:15px;text-align:left\"> <strong>క</strong> </td><td scope=\"row\" style=\"background-color:#E3FFE7 ;border:1px solid black;padding:15px;text-align:left\"> <strong>ం</strong> </td><td scope=\"row\" style=\"background-color:#E3FFE7 ;border:1px solid black;padding:15px;text-align:left\"> <strong>ల</strong> </td><td scope=\"row\" style=\"background-color:#E3FFE7 ;border:1px solid black;padding:15px;text-align:left\"> <strong>ో</strong> </td></tr><tr>\n",
              "      <td scope=\"row\" style=\"border:1px solid black;background-color:#3498DB;padding:15px;color:white;text-align:left\"> <strong>అంకంలో </strong></td><td scope=\"row\" style=\"background-color:#E3FFE7 ;border:1px solid black;padding:15px;text-align:left\"><strong> అ </strong></td><td scope=\"row\" style=\"background-color:#E3FFE7 ;border:1px solid black;padding:15px;text-align:left\"><strong> ం </strong></td><td scope=\"row\" style=\"background-color:#E3FFE7 ;border:1px solid black;padding:15px;text-align:left\"><strong> క </strong></td><td scope=\"row\" style=\"background-color:#E3FFE7 ;border:1px solid black;padding:15px;text-align:left\"><strong> ం </strong></td><td scope=\"row\" style=\"background-color:#E3FFE7 ;border:1px solid black;padding:15px;text-align:left\"><strong> ల </strong></td><td scope=\"row\" style=\"background-color:#E3FFE7 ;border:1px solid black;padding:15px;text-align:left\"><strong> ో </strong></td></tr><tr>\n",
              "      <td scope=\"row\" style=\"border:1px solid black;background-color:#3498DB;padding:15px;color:white;text-align:left\"> <strong>amkamlo </strong></td><td scope=\"row\" style=\"border:1px solid black;padding:15px;text-align:left\">&#x2705; </td><td scope=\"row\" style=\"border:1px solid black;padding:15px;text-align:left\">&#x2705; </td><td scope=\"row\" style=\"border:1px solid black;padding:15px;text-align:left\">&#x2705; </td><td scope=\"row\" style=\"border:1px solid black;padding:15px;text-align:left\">&#x2705; </td><td scope=\"row\" style=\"border:1px solid black;padding:15px;text-align:left\">&#x2705; </td><td scope=\"row\" style=\"border:1px solid black;padding:15px;text-align:left\">&#x2705; </td></tr>"
            ],
            "text/plain": [
              "<IPython.core.display.HTML object>"
            ]
          },
          "metadata": {},
          "output_type": "display_data"
        },
        {
          "data": {
            "text/html": [
              "\n",
              "    <br>\n",
              "      <table style=\"border:2px solid black; border-collapse:collapse\">\n",
              "      <tr>\n",
              "      <td scope=\"row\" style=\"border:1px solid black;background-color:#3498DB;color:white;padding:10px;text-align:left\"> <strong>అంకంలో</strong> </td>\n",
              "      <td scope=\"row\" style=\"background-color:#E3FFE7 ;border:1px solid black;padding:15px;text-align:left\"> <strong>అ</strong> </td><td scope=\"row\" style=\"background-color:#E3FFE7 ;border:1px solid black;padding:15px;text-align:left\"> <strong>ం</strong> </td><td scope=\"row\" style=\"background-color:#E3FFE7 ;border:1px solid black;padding:15px;text-align:left\"> <strong>క</strong> </td><td scope=\"row\" style=\"background-color:#E3FFE7 ;border:1px solid black;padding:15px;text-align:left\"> <strong>ం</strong> </td><td scope=\"row\" style=\"background-color:#E3FFE7 ;border:1px solid black;padding:15px;text-align:left\"> <strong>ల</strong> </td><td scope=\"row\" style=\"background-color:#E3FFE7 ;border:1px solid black;padding:15px;text-align:left\"> <strong>ో</strong> </td></tr><tr>\n",
              "      <td scope=\"row\" style=\"border:1px solid black;background-color:#3498DB;padding:15px;color:white;text-align:left\"> <strong>అంకంలో </strong></td><td scope=\"row\" style=\"background-color:#E3FFE7 ;border:1px solid black;padding:15px;text-align:left\"><strong> అ </strong></td><td scope=\"row\" style=\"background-color:#E3FFE7 ;border:1px solid black;padding:15px;text-align:left\"><strong> ం </strong></td><td scope=\"row\" style=\"background-color:#E3FFE7 ;border:1px solid black;padding:15px;text-align:left\"><strong> క </strong></td><td scope=\"row\" style=\"background-color:#E3FFE7 ;border:1px solid black;padding:15px;text-align:left\"><strong> ం </strong></td><td scope=\"row\" style=\"background-color:#E3FFE7 ;border:1px solid black;padding:15px;text-align:left\"><strong> ల </strong></td><td scope=\"row\" style=\"background-color:#E3FFE7 ;border:1px solid black;padding:15px;text-align:left\"><strong> ో </strong></td></tr><tr>\n",
              "      <td scope=\"row\" style=\"border:1px solid black;background-color:#3498DB;padding:15px;color:white;text-align:left\"> <strong>ankamlo </strong></td><td scope=\"row\" style=\"border:1px solid black;padding:15px;text-align:left\">&#x2705; </td><td scope=\"row\" style=\"border:1px solid black;padding:15px;text-align:left\">&#x2705; </td><td scope=\"row\" style=\"border:1px solid black;padding:15px;text-align:left\">&#x2705; </td><td scope=\"row\" style=\"border:1px solid black;padding:15px;text-align:left\">&#x2705; </td><td scope=\"row\" style=\"border:1px solid black;padding:15px;text-align:left\">&#x2705; </td><td scope=\"row\" style=\"border:1px solid black;padding:15px;text-align:left\">&#x2705; </td></tr>"
            ],
            "text/plain": [
              "<IPython.core.display.HTML object>"
            ]
          },
          "metadata": {},
          "output_type": "display_data"
        },
        {
          "data": {
            "text/html": [
              "\n",
              "    <br>\n",
              "      <table style=\"border:2px solid black; border-collapse:collapse\">\n",
              "      <tr>\n",
              "      <td scope=\"row\" style=\"border:1px solid black;background-color:#3498DB;color:white;padding:10px;text-align:left\"> <strong>అంకంలో</strong> </td>\n",
              "      <td scope=\"row\" style=\"background-color:#E3FFE7 ;border:1px solid black;padding:15px;text-align:left\"> <strong>అ</strong> </td><td scope=\"row\" style=\"background-color:#E3FFE7 ;border:1px solid black;padding:15px;text-align:left\"> <strong>ం</strong> </td><td scope=\"row\" style=\"background-color:#E3FFE7 ;border:1px solid black;padding:15px;text-align:left\"> <strong>క</strong> </td><td scope=\"row\" style=\"background-color:#E3FFE7 ;border:1px solid black;padding:15px;text-align:left\"> <strong>ం</strong> </td><td scope=\"row\" style=\"background-color:#E3FFE7 ;border:1px solid black;padding:15px;text-align:left\"> <strong>ల</strong> </td><td scope=\"row\" style=\"background-color:#E3FFE7 ;border:1px solid black;padding:15px;text-align:left\"> <strong>ో</strong> </td></tr><tr>\n",
              "      <td scope=\"row\" style=\"border:1px solid black;background-color:#3498DB;padding:15px;color:white;text-align:left\"> <strong>అంకంలో </strong></td><td scope=\"row\" style=\"background-color:#E3FFE7 ;border:1px solid black;padding:15px;text-align:left\"><strong> అ </strong></td><td scope=\"row\" style=\"background-color:#E3FFE7 ;border:1px solid black;padding:15px;text-align:left\"><strong> ం </strong></td><td scope=\"row\" style=\"background-color:#E3FFE7 ;border:1px solid black;padding:15px;text-align:left\"><strong> క </strong></td><td scope=\"row\" style=\"background-color:#E3FFE7 ;border:1px solid black;padding:15px;text-align:left\"><strong> ం </strong></td><td scope=\"row\" style=\"background-color:#E3FFE7 ;border:1px solid black;padding:15px;text-align:left\"><strong> ల </strong></td><td scope=\"row\" style=\"background-color:#E3FFE7 ;border:1px solid black;padding:15px;text-align:left\"><strong> ో </strong></td></tr><tr>\n",
              "      <td scope=\"row\" style=\"border:1px solid black;background-color:#3498DB;padding:15px;color:white;text-align:left\"> <strong>ankamloo </strong></td><td scope=\"row\" style=\"border:1px solid black;padding:15px;text-align:left\">&#x2705; </td><td scope=\"row\" style=\"border:1px solid black;padding:15px;text-align:left\">&#x2705; </td><td scope=\"row\" style=\"border:1px solid black;padding:15px;text-align:left\">&#x2705; </td><td scope=\"row\" style=\"border:1px solid black;padding:15px;text-align:left\">&#x2705; </td><td scope=\"row\" style=\"border:1px solid black;padding:15px;text-align:left\">&#x2705; </td><td scope=\"row\" style=\"border:1px solid black;padding:15px;text-align:left\">&#x2705; </td></tr>"
            ],
            "text/plain": [
              "<IPython.core.display.HTML object>"
            ]
          },
          "metadata": {},
          "output_type": "display_data"
        },
        {
          "data": {
            "text/html": [
              "\n",
              "    <br>\n",
              "      <table style=\"border:2px solid black; border-collapse:collapse\">\n",
              "      <tr>\n",
              "      <td scope=\"row\" style=\"border:1px solid black;background-color:#3498DB;color:white;padding:10px;text-align:left\"> <strong>అంకితమై</strong> </td>\n",
              "      <td scope=\"row\" style=\"background-color:#E3FFE7 ;border:1px solid black;padding:15px;text-align:left\"> <strong>అ</strong> </td><td scope=\"row\" style=\"background-color:#E3FFE7 ;border:1px solid black;padding:15px;text-align:left\"> <strong>ం</strong> </td><td scope=\"row\" style=\"background-color:#E3FFE7 ;border:1px solid black;padding:15px;text-align:left\"> <strong>క</strong> </td><td scope=\"row\" style=\"background-color:#E3FFE7 ;border:1px solid black;padding:15px;text-align:left\"> <strong>ి</strong> </td><td scope=\"row\" style=\"background-color:#E3FFE7 ;border:1px solid black;padding:15px;text-align:left\"> <strong>త</strong> </td><td scope=\"row\" style=\"background-color:#E3FFE7 ;border:1px solid black;padding:15px;text-align:left\"> <strong>మ</strong> </td><td scope=\"row\" style=\"background-color:#E3FFE7 ;border:1px solid black;padding:15px;text-align:left\"> <strong>ై</strong> </td></tr><tr>\n",
              "      <td scope=\"row\" style=\"border:1px solid black;background-color:#3498DB;padding:15px;color:white;text-align:left\"> <strong>అంకితమై </strong></td><td scope=\"row\" style=\"background-color:#E3FFE7 ;border:1px solid black;padding:15px;text-align:left\"><strong> అ </strong></td><td scope=\"row\" style=\"background-color:#E3FFE7 ;border:1px solid black;padding:15px;text-align:left\"><strong> ం </strong></td><td scope=\"row\" style=\"background-color:#E3FFE7 ;border:1px solid black;padding:15px;text-align:left\"><strong> క </strong></td><td scope=\"row\" style=\"background-color:#E3FFE7 ;border:1px solid black;padding:15px;text-align:left\"><strong> ి </strong></td><td scope=\"row\" style=\"background-color:#E3FFE7 ;border:1px solid black;padding:15px;text-align:left\"><strong> త </strong></td><td scope=\"row\" style=\"background-color:#E3FFE7 ;border:1px solid black;padding:15px;text-align:left\"><strong> మ </strong></td><td scope=\"row\" style=\"background-color:#E3FFE7 ;border:1px solid black;padding:15px;text-align:left\"><strong> ై </strong></td></tr><tr>\n",
              "      <td scope=\"row\" style=\"border:1px solid black;background-color:#3498DB;padding:15px;color:white;text-align:left\"> <strong>amkitamai </strong></td><td scope=\"row\" style=\"border:1px solid black;padding:15px;text-align:left\">&#x2705; </td><td scope=\"row\" style=\"border:1px solid black;padding:15px;text-align:left\">&#x2705; </td><td scope=\"row\" style=\"border:1px solid black;padding:15px;text-align:left\">&#x2705; </td><td scope=\"row\" style=\"border:1px solid black;padding:15px;text-align:left\">&#x2705; </td><td scope=\"row\" style=\"border:1px solid black;padding:15px;text-align:left\">&#x2705; </td><td scope=\"row\" style=\"border:1px solid black;padding:15px;text-align:left\">&#x2705; </td><td scope=\"row\" style=\"border:1px solid black;padding:15px;text-align:left\">&#x2705; </td></tr>"
            ],
            "text/plain": [
              "<IPython.core.display.HTML object>"
            ]
          },
          "metadata": {},
          "output_type": "display_data"
        },
        {
          "data": {
            "text/html": [
              "\n",
              "    <br>\n",
              "      <table style=\"border:2px solid black; border-collapse:collapse\">\n",
              "      <tr>\n",
              "      <td scope=\"row\" style=\"border:1px solid black;background-color:#3498DB;color:white;padding:10px;text-align:left\"> <strong>అంకితమై</strong> </td>\n",
              "      <td scope=\"row\" style=\"background-color:#E3FFE7 ;border:1px solid black;padding:15px;text-align:left\"> <strong>అ</strong> </td><td scope=\"row\" style=\"background-color:#E3FFE7 ;border:1px solid black;padding:15px;text-align:left\"> <strong>ం</strong> </td><td scope=\"row\" style=\"background-color:#E3FFE7 ;border:1px solid black;padding:15px;text-align:left\"> <strong>క</strong> </td><td scope=\"row\" style=\"background-color:#E3FFE7 ;border:1px solid black;padding:15px;text-align:left\"> <strong>ి</strong> </td><td scope=\"row\" style=\"background-color:#E3FFE7 ;border:1px solid black;padding:15px;text-align:left\"> <strong>త</strong> </td><td scope=\"row\" style=\"background-color:#E3FFE7 ;border:1px solid black;padding:15px;text-align:left\"> <strong>మ</strong> </td><td scope=\"row\" style=\"background-color:#E3FFE7 ;border:1px solid black;padding:15px;text-align:left\"> <strong>ై</strong> </td></tr><tr>\n",
              "      <td scope=\"row\" style=\"border:1px solid black;background-color:#3498DB;padding:15px;color:white;text-align:left\"> <strong>అంకితమై </strong></td><td scope=\"row\" style=\"background-color:#E3FFE7 ;border:1px solid black;padding:15px;text-align:left\"><strong> అ </strong></td><td scope=\"row\" style=\"background-color:#E3FFE7 ;border:1px solid black;padding:15px;text-align:left\"><strong> ం </strong></td><td scope=\"row\" style=\"background-color:#E3FFE7 ;border:1px solid black;padding:15px;text-align:left\"><strong> క </strong></td><td scope=\"row\" style=\"background-color:#E3FFE7 ;border:1px solid black;padding:15px;text-align:left\"><strong> ి </strong></td><td scope=\"row\" style=\"background-color:#E3FFE7 ;border:1px solid black;padding:15px;text-align:left\"><strong> త </strong></td><td scope=\"row\" style=\"background-color:#E3FFE7 ;border:1px solid black;padding:15px;text-align:left\"><strong> మ </strong></td><td scope=\"row\" style=\"background-color:#E3FFE7 ;border:1px solid black;padding:15px;text-align:left\"><strong> ై </strong></td></tr><tr>\n",
              "      <td scope=\"row\" style=\"border:1px solid black;background-color:#3498DB;padding:15px;color:white;text-align:left\"> <strong>ankitamai </strong></td><td scope=\"row\" style=\"border:1px solid black;padding:15px;text-align:left\">&#x2705; </td><td scope=\"row\" style=\"border:1px solid black;padding:15px;text-align:left\">&#x2705; </td><td scope=\"row\" style=\"border:1px solid black;padding:15px;text-align:left\">&#x2705; </td><td scope=\"row\" style=\"border:1px solid black;padding:15px;text-align:left\">&#x2705; </td><td scope=\"row\" style=\"border:1px solid black;padding:15px;text-align:left\">&#x2705; </td><td scope=\"row\" style=\"border:1px solid black;padding:15px;text-align:left\">&#x2705; </td><td scope=\"row\" style=\"border:1px solid black;padding:15px;text-align:left\">&#x2705; </td></tr>"
            ],
            "text/plain": [
              "<IPython.core.display.HTML object>"
            ]
          },
          "metadata": {},
          "output_type": "display_data"
        },
        {
          "data": {
            "text/html": [
              "\n",
              "    <br>\n",
              "      <table style=\"border:2px solid black; border-collapse:collapse\">\n",
              "      <tr>\n",
              "      <td scope=\"row\" style=\"border:1px solid black;background-color:#3498DB;color:white;padding:10px;text-align:left\"> <strong>అంగీకరించాడు</strong> </td>\n",
              "      <td scope=\"row\" style=\"background-color:#E3FFE7 ;border:1px solid black;padding:15px;text-align:left\"> <strong>అ</strong> </td><td scope=\"row\" style=\"background-color:#E3FFE7 ;border:1px solid black;padding:15px;text-align:left\"> <strong>ం</strong> </td><td scope=\"row\" style=\"background-color:#E3FFE7 ;border:1px solid black;padding:15px;text-align:left\"> <strong>గ</strong> </td><td scope=\"row\" style=\"background-color:#E3FFE7 ;border:1px solid black;padding:15px;text-align:left\"> <strong>ీ</strong> </td><td scope=\"row\" style=\"background-color:#E3FFE7 ;border:1px solid black;padding:15px;text-align:left\"> <strong>క</strong> </td><td scope=\"row\" style=\"background-color:#E3FFE7 ;border:1px solid black;padding:15px;text-align:left\"> <strong>ర</strong> </td><td scope=\"row\" style=\"background-color:#E3FFE7 ;border:1px solid black;padding:15px;text-align:left\"> <strong>ి</strong> </td><td scope=\"row\" style=\"background-color:#E3FFE7 ;border:1px solid black;padding:15px;text-align:left\"> <strong>ం</strong> </td><td scope=\"row\" style=\"background-color:#E3FFE7 ;border:1px solid black;padding:15px;text-align:left\"> <strong>చ</strong> </td><td scope=\"row\" style=\"background-color:#E3FFE7 ;border:1px solid black;padding:15px;text-align:left\"> <strong>ా</strong> </td><td scope=\"row\" style=\"background-color:#E3FFE7 ;border:1px solid black;padding:15px;text-align:left\"> <strong>డ</strong> </td><td scope=\"row\" style=\"background-color:#E3FFE7 ;border:1px solid black;padding:15px;text-align:left\"> <strong>ు</strong> </td></tr><tr>\n",
              "      <td scope=\"row\" style=\"border:1px solid black;background-color:#3498DB;padding:15px;color:white;text-align:left\"> <strong>అంగీకరించాడు </strong></td><td scope=\"row\" style=\"background-color:#E3FFE7 ;border:1px solid black;padding:15px;text-align:left\"><strong> అ </strong></td><td scope=\"row\" style=\"background-color:#E3FFE7 ;border:1px solid black;padding:15px;text-align:left\"><strong> ం </strong></td><td scope=\"row\" style=\"background-color:#E3FFE7 ;border:1px solid black;padding:15px;text-align:left\"><strong> గ </strong></td><td scope=\"row\" style=\"background-color:#E3FFE7 ;border:1px solid black;padding:15px;text-align:left\"><strong> ీ </strong></td><td scope=\"row\" style=\"background-color:#E3FFE7 ;border:1px solid black;padding:15px;text-align:left\"><strong> క </strong></td><td scope=\"row\" style=\"background-color:#E3FFE7 ;border:1px solid black;padding:15px;text-align:left\"><strong> ర </strong></td><td scope=\"row\" style=\"background-color:#E3FFE7 ;border:1px solid black;padding:15px;text-align:left\"><strong> ి </strong></td><td scope=\"row\" style=\"background-color:#E3FFE7 ;border:1px solid black;padding:15px;text-align:left\"><strong> ం </strong></td><td scope=\"row\" style=\"background-color:#E3FFE7 ;border:1px solid black;padding:15px;text-align:left\"><strong> చ </strong></td><td scope=\"row\" style=\"background-color:#E3FFE7 ;border:1px solid black;padding:15px;text-align:left\"><strong> ా </strong></td><td scope=\"row\" style=\"background-color:#E3FFE7 ;border:1px solid black;padding:15px;text-align:left\"><strong> డ </strong></td><td scope=\"row\" style=\"background-color:#E3FFE7 ;border:1px solid black;padding:15px;text-align:left\"><strong> ు </strong></td></tr><tr>\n",
              "      <td scope=\"row\" style=\"border:1px solid black;background-color:#3498DB;padding:15px;color:white;text-align:left\"> <strong>amgiikarimchaadu </strong></td><td scope=\"row\" style=\"border:1px solid black;padding:15px;text-align:left\">&#x2705; </td><td scope=\"row\" style=\"border:1px solid black;padding:15px;text-align:left\">&#x2705; </td><td scope=\"row\" style=\"border:1px solid black;padding:15px;text-align:left\">&#x2705; </td><td scope=\"row\" style=\"border:1px solid black;padding:15px;text-align:left\">&#x2705; </td><td scope=\"row\" style=\"border:1px solid black;padding:15px;text-align:left\">&#x2705; </td><td scope=\"row\" style=\"border:1px solid black;padding:15px;text-align:left\">&#x2705; </td><td scope=\"row\" style=\"border:1px solid black;padding:15px;text-align:left\">&#x2705; </td><td scope=\"row\" style=\"border:1px solid black;padding:15px;text-align:left\">&#x2705; </td><td scope=\"row\" style=\"border:1px solid black;padding:15px;text-align:left\">&#x2705; </td><td scope=\"row\" style=\"border:1px solid black;padding:15px;text-align:left\">&#x2705; </td><td scope=\"row\" style=\"border:1px solid black;padding:15px;text-align:left\">&#x2705; </td><td scope=\"row\" style=\"border:1px solid black;padding:15px;text-align:left\">&#x2705; </td></tr>"
            ],
            "text/plain": [
              "<IPython.core.display.HTML object>"
            ]
          },
          "metadata": {},
          "output_type": "display_data"
        }
      ],
      "source": [
        "source_rnd=[]\n",
        "actual_rnd=[]\n",
        "predict_rnd=[]\n",
        "count=0\n",
        "for i,j,k in zip(source,actual,predict):\n",
        "  if(j!=k and count<15):\n",
        "    source_rnd.append(i)\n",
        "    actual_rnd.append(j)\n",
        "    predict_rnd.append(k)\n",
        "    count+=1\n",
        "count=0\n",
        "for i,j,k in zip(source,actual,predict):\n",
        "  if(j==k and count<6):\n",
        "    source_rnd.append(i)\n",
        "    actual_rnd.append(j)\n",
        "    predict_rnd.append(k)\n",
        "    count+=1\n",
        "\n",
        "\n",
        "\n",
        "for i,j,k in zip(source_rnd,actual_rnd,predict_rnd):\n",
        "    compare_result(j,k,i)"
      ]
    },
    {
      "cell_type": "code",
      "execution_count": 23,
      "metadata": {
        "id": "b7uYwEpLcuwn"
      },
      "outputs": [],
      "source": [
        "def Charecterlevelaccuracy(mode):\n",
        "        sampleinput=[]\n",
        "        sampleop=[]\n",
        "        test_dataset, _, _ = preprocess_data(test_dir, model.input_tokenizer, model.targ_tokenizer)\n",
        "        test_loss, test_acc = model.evaluate(test_dataset, batch_size=25)\n",
        "        #Custom validation\n",
        "        steps_per_epoch_test = len(test_dataset) //25\n",
        "        test_dataset = test_dataset.batch(25, drop_remainder=True)\n",
        "        \n",
        "        total_test_loss = 0\n",
        "        total_test_acc = 0\n",
        "        model.metric.reset_states()\n",
        "\n",
        "        encoder_state = model.encoder.initialize_hidden_state(25)\n",
        "      \n",
        "        \n",
        "        test_ds = test_dataset.batch(10, drop_remainder=True)\n",
        "        \n",
        "        total_test_loss = 0\n",
        "        total_test_acc = 0\n",
        "        model.metric.reset_states()\n",
        "\n",
        "    \n",
        "       \n",
        "        #print(\"\\nRunning test dataset through the model...\\n\")\n",
        "        #Run in batches based on the input batch size\n",
        "        itr=0\n",
        "        for batch, (input, target) in enumerate(test_dataset.take(steps_per_epoch_test)):\n",
        "           \n",
        "            encoder_output, encoder_state = model.encoder(input, encoder_state)        \n",
        "            decoder_state = encoder_state\n",
        "            decoder_input = tf.expand_dims([model.targ_tokenizer.word_index['\\t']]*25 ,1)\n",
        "            for t in range(1, target.shape[1]):\n",
        "                #Get decoder prediction\n",
        "                prediction, decoder_state, _ = model.decoder(decoder_input, decoder_state, encoder_output)\n",
        "                \n",
        "                for i in range(1,target.shape[0]):\n",
        "                    max=np.argmax(prediction[i].numpy())\n",
        "                    maxt=target[i,t].numpy()\n",
        "                    if(max>0 and maxt>0 ):\n",
        "                      sampleinput.append(targ_tokenizer.index_word[max])\n",
        "                      sampleop.append(targ_tokenizer.index_word[maxt])\n",
        "                    \n",
        "                prediction = tf.argmax(prediction, 1)\n",
        "                \n",
        "                decoder_input = tf.expand_dims(prediction, 1)\n",
        "            return sampleinput,sampleop\n",
        "            \n",
        "           \n",
        "       \n",
        "        \n",
        "predchar,tgtchar=Charecterlevelaccuracy(model)      "
      ]
    },
    {
      "cell_type": "code",
      "execution_count": 24,
      "metadata": {
        "id": "sQ5O5vYvc8sd"
      },
      "outputs": [],
      "source": [
        "labels={}\n",
        "labelsTot={}\n",
        "labelswrong={}\n",
        "for i in targ_tokenizer.word_index:\n",
        "  labels[i]=0\n",
        "  labelsTot[i]=0\n",
        "  labelswrong[i]=set()\n"
      ]
    },
    {
      "cell_type": "code",
      "execution_count": 25,
      "metadata": {
        "id": "TDyjMiScc_46"
      },
      "outputs": [],
      "source": [
        "\n",
        "for i,j in zip(predchar,tgtchar):\n",
        "  \n",
        "  if( i.strip()!='' and i==j):\n",
        "    labels[i]+=1\n",
        "    labelsTot[i]+=1\n",
        "  elif( i.strip()!=''):\n",
        "    if((i not in (0,1)) and(j not in (0,1))):\n",
        "      labelswrong[i].add(j)\n",
        "      labelsTot[i]+=1\n"
      ]
    },
    {
      "cell_type": "code",
      "execution_count": 29,
      "metadata": {
        "colab": {
          "base_uri": "https://localhost:8080/",
          "height": 804
        },
        "id": "KuJ9_pHZdCB9",
        "outputId": "66af256d-b384-4cdd-ee73-c109b3252347"
      },
      "outputs": [
        {
          "output_type": "display_data",
          "data": {
            "text/plain": [
              "<IPython.core.display.HTML object>"
            ],
            "text/html": [
              "\n",
              "    <br>\n",
              "      <table style=\"border:2px solid black; border-collapse:collapse\">\n",
              "      <tr>\n",
              "      <th scope=\"row\" style=\"border:1px solid black;background-color:#3498DB;color:white;padding:10px;text-align:left\"> <strong>Charecter</strong> </th>\n",
              "      <th scope=\"row\" style=\"border:1px solid black;background-color:#3498DB;color:white;padding:10px;text-align:left\"> <strong>Accurecy</strong> </th>\n",
              "      <th scope=\"row\" style=\"border:1px solid black;background-color:#3498DB;color:white;padding:10px;text-align:left\"> <strong>Confused with</strong> </th></tr>\n",
              "      <tr> <td scope=\"row\" style=\"border:1px solid black;padding:10px;text-align:left\"> <strong>్</strong> </th>\n",
              "      <td scope=\"row\" style=\"border:1px solid black;padding:10px;text-align:left\"> <strong>72.22</strong> </td>\n",
              "      <td scope=\"row\" style=\"border:1px solid black;padding:10px;text-align:left\"> <strong>స  ,  ి  ,  ర  ,  ట  ,  </strong> </td>\n",
              "      </tr>\n",
              "      <tr> <td scope=\"row\" style=\"border:1px solid black;padding:10px;text-align:left\"> <strong>ా</strong> </th>\n",
              "      <td scope=\"row\" style=\"border:1px solid black;padding:10px;text-align:left\"> <strong>80.00</strong> </td>\n",
              "      <td scope=\"row\" style=\"border:1px solid black;padding:10px;text-align:left\"> <strong>ం  ,  ూ  ,  ర  ,  </strong> </td>\n",
              "      </tr>\n",
              "      <tr> <td scope=\"row\" style=\"border:1px solid black;padding:10px;text-align:left\"> <strong>ు</strong> </th>\n",
              "      <td scope=\"row\" style=\"border:1px solid black;padding:10px;text-align:left\"> <strong>83.33</strong> </td>\n",
              "      <td scope=\"row\" style=\"border:1px solid black;padding:10px;text-align:left\"> <strong>ొ  ,  న  ,  </strong> </td>\n",
              "      </tr>\n",
              "      <tr> <td scope=\"row\" style=\"border:1px solid black;padding:10px;text-align:left\"> <strong>ర</strong> </th>\n",
              "      <td scope=\"row\" style=\"border:1px solid black;padding:10px;text-align:left\"> <strong>84.62</strong> </td>\n",
              "      <td scope=\"row\" style=\"border:1px solid black;padding:10px;text-align:left\"> <strong>ణ  ,  ా  ,  </strong> </td>\n",
              "      </tr>\n",
              "      <tr> <td scope=\"row\" style=\"border:1px solid black;padding:10px;text-align:left\"> <strong>న</strong> </th>\n",
              "      <td scope=\"row\" style=\"border:1px solid black;padding:10px;text-align:left\"> <strong>80.00</strong> </td>\n",
              "      <td scope=\"row\" style=\"border:1px solid black;padding:10px;text-align:left\"> <strong>్  ,  ో  ,  \n",
              "  ,  </strong> </td>\n",
              "      </tr>\n",
              "      <tr> <td scope=\"row\" style=\"border:1px solid black;padding:10px;text-align:left\"> <strong>ల</strong> </th>\n",
              "      <td scope=\"row\" style=\"border:1px solid black;padding:10px;text-align:left\"> <strong>71.43</strong> </td>\n",
              "      <td scope=\"row\" style=\"border:1px solid black;padding:10px;text-align:left\"> <strong>ు  ,  ొ  ,  \n",
              "  ,  మ  ,  </strong> </td>\n",
              "      </tr>\n",
              "      <tr> <td scope=\"row\" style=\"border:1px solid black;padding:10px;text-align:left\"> <strong>ం</strong> </th>\n",
              "      <td scope=\"row\" style=\"border:1px solid black;padding:10px;text-align:left\"> <strong>83.33</strong> </td>\n",
              "      <td scope=\"row\" style=\"border:1px solid black;padding:10px;text-align:left\"> <strong>్  ,  </strong> </td>\n",
              "      </tr>\n",
              "      <tr> <td scope=\"row\" style=\"border:1px solid black;padding:10px;text-align:left\"> <strong>క</strong> </th>\n",
              "      <td scope=\"row\" style=\"border:1px solid black;padding:10px;text-align:left\"> <strong>83.33</strong> </td>\n",
              "      <td scope=\"row\" style=\"border:1px solid black;padding:10px;text-align:left\"> <strong>య  ,  </strong> </td>\n",
              "      </tr>\n",
              "      <tr> <td scope=\"row\" style=\"border:1px solid black;padding:10px;text-align:left\"> <strong>త</strong> </th>\n",
              "      <td scope=\"row\" style=\"border:1px solid black;padding:10px;text-align:left\"> <strong>90.00</strong> </td>\n",
              "      <td scope=\"row\" style=\"border:1px solid black;padding:10px;text-align:left\"> <strong>థ  ,  </strong> </td>\n",
              "      </tr>\n",
              "      <tr> <td scope=\"row\" style=\"border:1px solid black;padding:10px;text-align:left\"> <strong>స</strong> </th>\n",
              "      <td scope=\"row\" style=\"border:1px solid black;padding:10px;text-align:left\"> <strong>75.00</strong> </td>\n",
              "      <td scope=\"row\" style=\"border:1px solid black;padding:10px;text-align:left\"> <strong>ె  ,  క  ,  </strong> </td>\n",
              "      </tr>\n",
              "      <tr> <td scope=\"row\" style=\"border:1px solid black;padding:10px;text-align:left\"> <strong>మ</strong> </th>\n",
              "      <td scope=\"row\" style=\"border:1px solid black;padding:10px;text-align:left\"> <strong>90.00</strong> </td>\n",
              "      <td scope=\"row\" style=\"border:1px solid black;padding:10px;text-align:left\"> <strong>్  ,  </strong> </td>\n",
              "      </tr>\n",
              "      <tr> <td scope=\"row\" style=\"border:1px solid black;padding:10px;text-align:left\"> <strong>ద</strong> </th>\n",
              "      <td scope=\"row\" style=\"border:1px solid black;padding:10px;text-align:left\"> <strong>75.00</strong> </td>\n",
              "      <td scope=\"row\" style=\"border:1px solid black;padding:10px;text-align:left\"> <strong>డ  ,  </strong> </td>\n",
              "      </tr>\n",
              "      <tr> <td scope=\"row\" style=\"border:1px solid black;padding:10px;text-align:left\"> <strong>య</strong> </th>\n",
              "      <td scope=\"row\" style=\"border:1px solid black;padding:10px;text-align:left\"> <strong>66.67</strong> </td>\n",
              "      <td scope=\"row\" style=\"border:1px solid black;padding:10px;text-align:left\"> <strong>ల  ,  </strong> </td>\n",
              "      </tr>\n",
              "      <tr> <td scope=\"row\" style=\"border:1px solid black;padding:10px;text-align:left\"> <strong>ో</strong> </th>\n",
              "      <td scope=\"row\" style=\"border:1px solid black;padding:10px;text-align:left\"> <strong>33.33</strong> </td>\n",
              "      <td scope=\"row\" style=\"border:1px solid black;padding:10px;text-align:left\"> <strong>ల  ,  మ  ,  </strong> </td>\n",
              "      </tr>\n",
              "      <tr> <td scope=\"row\" style=\"border:1px solid black;padding:10px;text-align:left\"> <strong>చ</strong> </th>\n",
              "      <td scope=\"row\" style=\"border:1px solid black;padding:10px;text-align:left\"> <strong>80.00</strong> </td>\n",
              "      <td scope=\"row\" style=\"border:1px solid black;padding:10px;text-align:left\"> <strong>క  ,  </strong> </td>\n",
              "      </tr>\n",
              "      <tr> <td scope=\"row\" style=\"border:1px solid black;padding:10px;text-align:left\"> <strong>ే</strong> </th>\n",
              "      <td scope=\"row\" style=\"border:1px solid black;padding:10px;text-align:left\"> <strong>57.14</strong> </td>\n",
              "      <td scope=\"row\" style=\"border:1px solid black;padding:10px;text-align:left\"> <strong>ె  ,  ా  ,  చ  ,  </strong> </td>\n",
              "      </tr>\n",
              "      <tr> <td scope=\"row\" style=\"border:1px solid black;padding:10px;text-align:left\"> <strong>ట</strong> </th>\n",
              "      <td scope=\"row\" style=\"border:1px solid black;padding:10px;text-align:left\"> <strong>33.33</strong> </td>\n",
              "      <td scope=\"row\" style=\"border:1px solid black;padding:10px;text-align:left\"> <strong>్  ,  ల  ,  </strong> </td>\n",
              "      </tr>\n",
              "      <tr> <td scope=\"row\" style=\"border:1px solid black;padding:10px;text-align:left\"> <strong>ూ</strong> </th>\n",
              "      <td scope=\"row\" style=\"border:1px solid black;padding:10px;text-align:left\"> <strong>50.00</strong> </td>\n",
              "      <td scope=\"row\" style=\"border:1px solid black;padding:10px;text-align:left\"> <strong>్  ,  ౌ  ,  </strong> </td>\n",
              "      </tr>\n",
              "      <tr> <td scope=\"row\" style=\"border:1px solid black;padding:10px;text-align:left\"> <strong>ష</strong> </th>\n",
              "      <td scope=\"row\" style=\"border:1px solid black;padding:10px;text-align:left\"> <strong>50.00</strong> </td>\n",
              "      <td scope=\"row\" style=\"border:1px solid black;padding:10px;text-align:left\"> <strong>ల  ,  </strong> </td>\n",
              "      </tr>\n",
              "      </tr></table>"
            ]
          },
          "metadata": {}
        }
      ],
      "source": [
        "\n",
        "html_str = \"\"\"\n",
        "    <br>\n",
        "      <table style=\"border:2px solid black; border-collapse:collapse\">\n",
        "      <tr>\n",
        "      <th scope=\"row\" style=\"border:1px solid black;background-color:#3498DB;color:white;padding:10px;text-align:left\"> <strong>Charecter</strong> </th>\n",
        "      <th scope=\"row\" style=\"border:1px solid black;background-color:#3498DB;color:white;padding:10px;text-align:left\"> <strong>Accurecy</strong> </th>\n",
        "      <th scope=\"row\" style=\"border:1px solid black;background-color:#3498DB;color:white;padding:10px;text-align:left\"> <strong>Confused with</strong> </th></tr>\n",
        "      \"\"\"\n",
        "\n",
        "\n",
        "\n",
        "for k, v in labels.items():\n",
        "    \n",
        "  if(v!=0 and len(labelswrong[k])>0):\n",
        "    pred=\"\"\n",
        "    for j in labelswrong[k]:\n",
        "      pred+=j+\"  ,  \"\n",
        "\n",
        "    html_str+=\"\"\"<tr> <td scope=\"row\" style=\"border:1px solid black;padding:10px;text-align:left\"> <strong>{}</strong> </th>\n",
        "      <td scope=\"row\" style=\"border:1px solid black;padding:10px;text-align:left\"> <strong>{}</strong> </td>\n",
        "      <td scope=\"row\" style=\"border:1px solid black;padding:10px;text-align:left\"> <strong>{}</strong> </td>\n",
        "      </tr>\n",
        "      \"\"\".format( str(k),str(\"{:.2f}\".format(((labels[k]/labelsTot[k])*100))),pred)\n",
        "html_str += \"\"\"</tr></table>\"\"\"\n",
        "display(html_print(html_str)) \n",
        "  "
      ]
    },
    {
      "cell_type": "code",
      "execution_count": null,
      "metadata": {
        "colab": {
          "base_uri": "https://localhost:8080/",
          "height": 1000
        },
        "id": "GaqQ_f9Ify3G",
        "outputId": "91078494-cf9f-4de8-9c90-09b27681892f"
      },
      "outputs": [
        {
          "data": {
            "image/png": "[encoded data removed]",
            "text/plain": [
              "<Figure size 2880x2880 with 2 Axes>"
            ]
          },
          "metadata": {
            "needs_background": "light"
          },
          "output_type": "display_data"
        }
      ],
      "source": [
        "from sklearn.metrics import confusion_matrix\n",
        "import pandas as pd\n",
        "import seaborn as sn\n",
        "import matplotlib.pyplot as plt\n",
        "labelspred=[]\n",
        "labelstrue=[]\n",
        "for i,j in zip(predchar,tgtchar):\n",
        "  if( i.strip()!=''  )  :\n",
        "    labelspred.append(i)\n",
        "    labelstrue.append(j)\n",
        "import matplotlib.ticker as mticker\n",
        "from matplotlib.font_manager import FontProperties\n",
        "hindi_font = FontProperties(fname = 'Nirmala.ttf')\n",
        "fontdict = {'fontsize': 30}\n",
        "data = confusion_matrix(labelspred,labelstrue)\n",
        "\n",
        "\n",
        "import seaborn as sns\n",
        "fig = plt.figure(figsize=(40,40))\n",
        "ax = sns.heatmap(data, annot=True, cmap='Blues')\n",
        "\n",
        "ax.set_title('Confusion Matrix\\n\\n');\n",
        "ax.set_xlabel('\\nPredicted Values')\n",
        "ax.set_ylabel('Actual Values ');\n",
        "## Ticket labels - List must be in alphabetical order\n",
        "ax.set_xticklabels(np.unique(labelstrue+labelspred),fontdict=fontdict,fontproperties=hindi_font)\n",
        "ax.set_yticklabels(np.unique(labelstrue+labelspred),fontdict=fontdict,fontproperties=hindi_font)\n",
        "\n",
        "## Display the visualization of the Confusion Matrix.\n",
        "plt.show()"
      ]
    },
    {
      "cell_type": "code",
      "execution_count": 32,
      "metadata": {
        "id": "R6-B1snmWZE_"
      },
      "outputs": [],
      "source": [
        "maxlengthword=0\n",
        "for i in actual:\n",
        "  if(len(i)>maxlengthword):\n",
        "    maxlengthword=len(i)\n"
      ]
    },
    {
      "cell_type": "code",
      "execution_count": 33,
      "metadata": {
        "colab": {
          "base_uri": "https://localhost:8080/",
          "height": 727
        },
        "id": "5f2uyLdWWadk",
        "outputId": "7978e0bf-1659-4e15-eb21-ae37a9ca86e3"
      },
      "outputs": [
        {
          "output_type": "display_data",
          "data": {
            "text/plain": [
              "<IPython.core.display.HTML object>"
            ],
            "text/html": [
              "\n",
              "    <br>\n",
              "      <table style=\"border:2px solid black; border-collapse:collapse\">\n",
              "      <tr>\n",
              "      <th scope=\"row\" style=\"border:1px solid black;background-color:#3498DB;color:white;padding:10px;text-align:left\"> <strong>Word Length</strong> </th>\n",
              "      <th scope=\"row\" style=\"border:1px solid black;background-color:#3498DB;color:white;padding:10px;text-align:left\"> <strong>Total Words</strong> </th>\n",
              "      <th scope=\"row\" style=\"border:1px solid black;background-color:#3498DB;color:white;padding:10px;text-align:left\"> <strong>Accuracy</strong> </th></tr>\n",
              "      <tr> <td scope=\"row\" style=\"border:1px solid black;padding:10px;text-align:left\"> <strong>1</strong> </th>\n",
              "      <th scope=\"row\" style=\"border:1px solid black;padding:10px;text-align:left\"> <strong>5</strong> </th>\n",
              "      <th scope=\"row\" style=\"border:1px solid black;padding:10px;text-align:left\"> <strong>0.00</strong> </th></tr>\n",
              "      <tr> <td scope=\"row\" style=\"border:1px solid black;padding:10px;text-align:left\"> <strong>2</strong> </th>\n",
              "      <th scope=\"row\" style=\"border:1px solid black;padding:10px;text-align:left\"> <strong>13</strong> </th>\n",
              "      <th scope=\"row\" style=\"border:1px solid black;padding:10px;text-align:left\"> <strong>38.46</strong> </th></tr>\n",
              "      <tr> <td scope=\"row\" style=\"border:1px solid black;padding:10px;text-align:left\"> <strong>3</strong> </th>\n",
              "      <th scope=\"row\" style=\"border:1px solid black;padding:10px;text-align:left\"> <strong>102</strong> </th>\n",
              "      <th scope=\"row\" style=\"border:1px solid black;padding:10px;text-align:left\"> <strong>26.47</strong> </th></tr>\n",
              "      <tr> <td scope=\"row\" style=\"border:1px solid black;padding:10px;text-align:left\"> <strong>4</strong> </th>\n",
              "      <th scope=\"row\" style=\"border:1px solid black;padding:10px;text-align:left\"> <strong>496</strong> </th>\n",
              "      <th scope=\"row\" style=\"border:1px solid black;padding:10px;text-align:left\"> <strong>38.31</strong> </th></tr>\n",
              "      <tr> <td scope=\"row\" style=\"border:1px solid black;padding:10px;text-align:left\"> <strong>5</strong> </th>\n",
              "      <th scope=\"row\" style=\"border:1px solid black;padding:10px;text-align:left\"> <strong>581</strong> </th>\n",
              "      <th scope=\"row\" style=\"border:1px solid black;padding:10px;text-align:left\"> <strong>42.00</strong> </th></tr>\n",
              "      <tr> <td scope=\"row\" style=\"border:1px solid black;padding:10px;text-align:left\"> <strong>6</strong> </th>\n",
              "      <th scope=\"row\" style=\"border:1px solid black;padding:10px;text-align:left\"> <strong>1050</strong> </th>\n",
              "      <th scope=\"row\" style=\"border:1px solid black;padding:10px;text-align:left\"> <strong>46.95</strong> </th></tr>\n",
              "      <tr> <td scope=\"row\" style=\"border:1px solid black;padding:10px;text-align:left\"> <strong>7</strong> </th>\n",
              "      <th scope=\"row\" style=\"border:1px solid black;padding:10px;text-align:left\"> <strong>897</strong> </th>\n",
              "      <th scope=\"row\" style=\"border:1px solid black;padding:10px;text-align:left\"> <strong>48.27</strong> </th></tr>\n",
              "      <tr> <td scope=\"row\" style=\"border:1px solid black;padding:10px;text-align:left\"> <strong>8</strong> </th>\n",
              "      <th scope=\"row\" style=\"border:1px solid black;padding:10px;text-align:left\"> <strong>789</strong> </th>\n",
              "      <th scope=\"row\" style=\"border:1px solid black;padding:10px;text-align:left\"> <strong>47.15</strong> </th></tr>\n",
              "      <tr> <td scope=\"row\" style=\"border:1px solid black;padding:10px;text-align:left\"> <strong>9</strong> </th>\n",
              "      <th scope=\"row\" style=\"border:1px solid black;padding:10px;text-align:left\"> <strong>630</strong> </th>\n",
              "      <th scope=\"row\" style=\"border:1px solid black;padding:10px;text-align:left\"> <strong>50.48</strong> </th></tr>\n",
              "      <tr> <td scope=\"row\" style=\"border:1px solid black;padding:10px;text-align:left\"> <strong>10</strong> </th>\n",
              "      <th scope=\"row\" style=\"border:1px solid black;padding:10px;text-align:left\"> <strong>461</strong> </th>\n",
              "      <th scope=\"row\" style=\"border:1px solid black;padding:10px;text-align:left\"> <strong>51.63</strong> </th></tr>\n",
              "      <tr> <td scope=\"row\" style=\"border:1px solid black;padding:10px;text-align:left\"> <strong>11</strong> </th>\n",
              "      <th scope=\"row\" style=\"border:1px solid black;padding:10px;text-align:left\"> <strong>324</strong> </th>\n",
              "      <th scope=\"row\" style=\"border:1px solid black;padding:10px;text-align:left\"> <strong>49.38</strong> </th></tr>\n",
              "      <tr> <td scope=\"row\" style=\"border:1px solid black;padding:10px;text-align:left\"> <strong>12</strong> </th>\n",
              "      <th scope=\"row\" style=\"border:1px solid black;padding:10px;text-align:left\"> <strong>184</strong> </th>\n",
              "      <th scope=\"row\" style=\"border:1px solid black;padding:10px;text-align:left\"> <strong>39.67</strong> </th></tr>\n",
              "      <tr> <td scope=\"row\" style=\"border:1px solid black;padding:10px;text-align:left\"> <strong>13</strong> </th>\n",
              "      <th scope=\"row\" style=\"border:1px solid black;padding:10px;text-align:left\"> <strong>90</strong> </th>\n",
              "      <th scope=\"row\" style=\"border:1px solid black;padding:10px;text-align:left\"> <strong>42.22</strong> </th></tr>\n",
              "      <tr> <td scope=\"row\" style=\"border:1px solid black;padding:10px;text-align:left\"> <strong>14</strong> </th>\n",
              "      <th scope=\"row\" style=\"border:1px solid black;padding:10px;text-align:left\"> <strong>62</strong> </th>\n",
              "      <th scope=\"row\" style=\"border:1px solid black;padding:10px;text-align:left\"> <strong>29.03</strong> </th></tr>\n",
              "      <tr> <td scope=\"row\" style=\"border:1px solid black;padding:10px;text-align:left\"> <strong>15</strong> </th>\n",
              "      <th scope=\"row\" style=\"border:1px solid black;padding:10px;text-align:left\"> <strong>48</strong> </th>\n",
              "      <th scope=\"row\" style=\"border:1px solid black;padding:10px;text-align:left\"> <strong>33.33</strong> </th></tr>\n",
              "      <tr> <td scope=\"row\" style=\"border:1px solid black;padding:10px;text-align:left\"> <strong>16</strong> </th>\n",
              "      <th scope=\"row\" style=\"border:1px solid black;padding:10px;text-align:left\"> <strong>6</strong> </th>\n",
              "      <th scope=\"row\" style=\"border:1px solid black;padding:10px;text-align:left\"> <strong>50.00</strong> </th></tr>\n",
              "      <tr> <td scope=\"row\" style=\"border:1px solid black;padding:10px;text-align:left\"> <strong>17</strong> </th>\n",
              "      <th scope=\"row\" style=\"border:1px solid black;padding:10px;text-align:left\"> <strong>8</strong> </th>\n",
              "      <th scope=\"row\" style=\"border:1px solid black;padding:10px;text-align:left\"> <strong>0.00</strong> </th></tr>\n",
              "      </tr></table>"
            ]
          },
          "metadata": {}
        }
      ],
      "source": [
        "\n",
        "total_words=np.zeros(maxlengthword+1)\n",
        "total_correct=np.zeros(maxlengthword+1)\n",
        "total_wrong=np.zeros(maxlengthword+1)\n",
        "\n",
        "html_str = \"\"\"\n",
        "    <br>\n",
        "      <table style=\"border:2px solid black; border-collapse:collapse\">\n",
        "      <tr>\n",
        "      <th scope=\"row\" style=\"border:1px solid black;background-color:#3498DB;color:white;padding:10px;text-align:left\"> <strong>Word Length</strong> </th>\n",
        "      <th scope=\"row\" style=\"border:1px solid black;background-color:#3498DB;color:white;padding:10px;text-align:left\"> <strong>Total Words</strong> </th>\n",
        "      <th scope=\"row\" style=\"border:1px solid black;background-color:#3498DB;color:white;padding:10px;text-align:left\"> <strong>Accuracy</strong> </th></tr>\n",
        "      \"\"\"\n",
        "for (i,j) in zip(actual,predict):\n",
        "  total_words[len(i)]+=1\n",
        "  if(i==j):\n",
        "    total_correct[len(i)]+=1\n",
        "  else:\n",
        "    total_wrong[len(i)]+=1\n",
        "\n",
        "for i in range(maxlengthword):\n",
        "  \n",
        "  if(total_words[i]!=0):\n",
        "    html_str+=\"\"\"<tr> <td scope=\"row\" style=\"border:1px solid black;padding:10px;text-align:left\"> <strong>{}</strong> </th>\n",
        "      <th scope=\"row\" style=\"border:1px solid black;padding:10px;text-align:left\"> <strong>{}</strong> </th>\n",
        "      <th scope=\"row\" style=\"border:1px solid black;padding:10px;text-align:left\"> <strong>{}</strong> </th></tr>\n",
        "      \"\"\".format( str(i),str(int(total_words[i])),str(\"{:.2f}\".format(total_correct[i]*100/total_words[i])))\n",
        "html_str += \"\"\"</tr></table>\"\"\"\n",
        "\n",
        "display(html_print(html_str)) \n"
      ]
    }
  ],
  "metadata": {
    "accelerator": "GPU",
    "colab": {
      "collapsed_sections": [
        "Y2vkvje2XA3r",
        "yCVhhqPMWkuS"
      ],
      "machine_shape": "hm",
      "name": "DL_Assignment3_bestmodel.ipynb",
      "provenance": []
    },
    "kernelspec": {
      "display_name": "Python 3",
      "name": "python3"
    },
    "language_info": {
      "name": "python"
    }
  },
  "nbformat": 4,
  "nbformat_minor": 0
}