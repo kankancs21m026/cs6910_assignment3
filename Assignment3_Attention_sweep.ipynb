{
  "nbformat": 4,
  "nbformat_minor": 0,
  "metadata": {
    "colab": {
      "name": "Assignment3_Attention_sweep.ipynb",
      "provenance": [],
      "collapsed_sections": [],
      "machine_shape": "hm"
    },
    "kernelspec": {
      "name": "python3",
      "display_name": "Python 3"
    },
    "language_info": {
      "name": "python"
    },
    "accelerator": "GPU",
    "widgets": {
      "application/vnd.jupyter.widget-state+json": {
        "fed1d3b138ec4e3e8be5c112226e11c6": {
          "model_module": "@jupyter-widgets/controls",
          "model_name": "VBoxModel",
          "model_module_version": "1.5.0",
          "state": {
            "_dom_classes": [],
            "_model_module": "@jupyter-widgets/controls",
            "_model_module_version": "1.5.0",
            "_model_name": "VBoxModel",
            "_view_count": null,
            "_view_module": "@jupyter-widgets/controls",
            "_view_module_version": "1.5.0",
            "_view_name": "VBoxView",
            "box_style": "",
            "children": [
              "IPY_MODEL_8fcd2b4d926840cb99057f1aa3a203ba",
              "IPY_MODEL_9783a9e99a8a4c74b73e6e138209ea4d"
            ],
            "layout": "IPY_MODEL_24c5c2111def45c7b9c5a486942e667f"
          }
        },
        "8fcd2b4d926840cb99057f1aa3a203ba": {
          "model_module": "@jupyter-widgets/controls",
          "model_name": "LabelModel",
          "model_module_version": "1.5.0",
          "state": {
            "_dom_classes": [],
            "_model_module": "@jupyter-widgets/controls",
            "_model_module_version": "1.5.0",
            "_model_name": "LabelModel",
            "_view_count": null,
            "_view_module": "@jupyter-widgets/controls",
            "_view_module_version": "1.5.0",
            "_view_name": "LabelView",
            "description": "",
            "description_tooltip": null,
            "layout": "IPY_MODEL_4e3267d9d4324264b936cd7b85cd8c4a",
            "placeholder": "​",
            "style": "IPY_MODEL_70c6e8f33e504f319d6f86c9d2743384",
            "value": "58.136 MB of 58.136 MB uploaded (0.000 MB deduped)\r"
          }
        },
        "9783a9e99a8a4c74b73e6e138209ea4d": {
          "model_module": "@jupyter-widgets/controls",
          "model_name": "FloatProgressModel",
          "model_module_version": "1.5.0",
          "state": {
            "_dom_classes": [],
            "_model_module": "@jupyter-widgets/controls",
            "_model_module_version": "1.5.0",
            "_model_name": "FloatProgressModel",
            "_view_count": null,
            "_view_module": "@jupyter-widgets/controls",
            "_view_module_version": "1.5.0",
            "_view_name": "ProgressView",
            "bar_style": "",
            "description": "",
            "description_tooltip": null,
            "layout": "IPY_MODEL_8ac54395b82a44f1b8fd978ec21d7197",
            "max": 1,
            "min": 0,
            "orientation": "horizontal",
            "style": "IPY_MODEL_3b81229e17184e03abd9f05c94dcadb0",
            "value": 1
          }
        },
        "24c5c2111def45c7b9c5a486942e667f": {
          "model_module": "@jupyter-widgets/base",
          "model_name": "LayoutModel",
          "model_module_version": "1.2.0",
          "state": {
            "_model_module": "@jupyter-widgets/base",
            "_model_module_version": "1.2.0",
            "_model_name": "LayoutModel",
            "_view_count": null,
            "_view_module": "@jupyter-widgets/base",
            "_view_module_version": "1.2.0",
            "_view_name": "LayoutView",
            "align_content": null,
            "align_items": null,
            "align_self": null,
            "border": null,
            "bottom": null,
            "display": null,
            "flex": null,
            "flex_flow": null,
            "grid_area": null,
            "grid_auto_columns": null,
            "grid_auto_flow": null,
            "grid_auto_rows": null,
            "grid_column": null,
            "grid_gap": null,
            "grid_row": null,
            "grid_template_areas": null,
            "grid_template_columns": null,
            "grid_template_rows": null,
            "height": null,
            "justify_content": null,
            "justify_items": null,
            "left": null,
            "margin": null,
            "max_height": null,
            "max_width": null,
            "min_height": null,
            "min_width": null,
            "object_fit": null,
            "object_position": null,
            "order": null,
            "overflow": null,
            "overflow_x": null,
            "overflow_y": null,
            "padding": null,
            "right": null,
            "top": null,
            "visibility": null,
            "width": null
          }
        },
        "4e3267d9d4324264b936cd7b85cd8c4a": {
          "model_module": "@jupyter-widgets/base",
          "model_name": "LayoutModel",
          "model_module_version": "1.2.0",
          "state": {
            "_model_module": "@jupyter-widgets/base",
            "_model_module_version": "1.2.0",
            "_model_name": "LayoutModel",
            "_view_count": null,
            "_view_module": "@jupyter-widgets/base",
            "_view_module_version": "1.2.0",
            "_view_name": "LayoutView",
            "align_content": null,
            "align_items": null,
            "align_self": null,
            "border": null,
            "bottom": null,
            "display": null,
            "flex": null,
            "flex_flow": null,
            "grid_area": null,
            "grid_auto_columns": null,
            "grid_auto_flow": null,
            "grid_auto_rows": null,
            "grid_column": null,
            "grid_gap": null,
            "grid_row": null,
            "grid_template_areas": null,
            "grid_template_columns": null,
            "grid_template_rows": null,
            "height": null,
            "justify_content": null,
            "justify_items": null,
            "left": null,
            "margin": null,
            "max_height": null,
            "max_width": null,
            "min_height": null,
            "min_width": null,
            "object_fit": null,
            "object_position": null,
            "order": null,
            "overflow": null,
            "overflow_x": null,
            "overflow_y": null,
            "padding": null,
            "right": null,
            "top": null,
            "visibility": null,
            "width": null
          }
        },
        "70c6e8f33e504f319d6f86c9d2743384": {
          "model_module": "@jupyter-widgets/controls",
          "model_name": "DescriptionStyleModel",
          "model_module_version": "1.5.0",
          "state": {
            "_model_module": "@jupyter-widgets/controls",
            "_model_module_version": "1.5.0",
            "_model_name": "DescriptionStyleModel",
            "_view_count": null,
            "_view_module": "@jupyter-widgets/base",
            "_view_module_version": "1.2.0",
            "_view_name": "StyleView",
            "description_width": ""
          }
        },
        "8ac54395b82a44f1b8fd978ec21d7197": {
          "model_module": "@jupyter-widgets/base",
          "model_name": "LayoutModel",
          "model_module_version": "1.2.0",
          "state": {
            "_model_module": "@jupyter-widgets/base",
            "_model_module_version": "1.2.0",
            "_model_name": "LayoutModel",
            "_view_count": null,
            "_view_module": "@jupyter-widgets/base",
            "_view_module_version": "1.2.0",
            "_view_name": "LayoutView",
            "align_content": null,
            "align_items": null,
            "align_self": null,
            "border": null,
            "bottom": null,
            "display": null,
            "flex": null,
            "flex_flow": null,
            "grid_area": null,
            "grid_auto_columns": null,
            "grid_auto_flow": null,
            "grid_auto_rows": null,
            "grid_column": null,
            "grid_gap": null,
            "grid_row": null,
            "grid_template_areas": null,
            "grid_template_columns": null,
            "grid_template_rows": null,
            "height": null,
            "justify_content": null,
            "justify_items": null,
            "left": null,
            "margin": null,
            "max_height": null,
            "max_width": null,
            "min_height": null,
            "min_width": null,
            "object_fit": null,
            "object_position": null,
            "order": null,
            "overflow": null,
            "overflow_x": null,
            "overflow_y": null,
            "padding": null,
            "right": null,
            "top": null,
            "visibility": null,
            "width": null
          }
        },
        "3b81229e17184e03abd9f05c94dcadb0": {
          "model_module": "@jupyter-widgets/controls",
          "model_name": "ProgressStyleModel",
          "model_module_version": "1.5.0",
          "state": {
            "_model_module": "@jupyter-widgets/controls",
            "_model_module_version": "1.5.0",
            "_model_name": "ProgressStyleModel",
            "_view_count": null,
            "_view_module": "@jupyter-widgets/base",
            "_view_module_version": "1.2.0",
            "_view_name": "StyleView",
            "bar_color": null,
            "description_width": ""
          }
        },
        "6b35573c25854afab16522df3c9464f4": {
          "model_module": "@jupyter-widgets/controls",
          "model_name": "VBoxModel",
          "model_module_version": "1.5.0",
          "state": {
            "_dom_classes": [],
            "_model_module": "@jupyter-widgets/controls",
            "_model_module_version": "1.5.0",
            "_model_name": "VBoxModel",
            "_view_count": null,
            "_view_module": "@jupyter-widgets/controls",
            "_view_module_version": "1.5.0",
            "_view_name": "VBoxView",
            "box_style": "",
            "children": [
              "IPY_MODEL_bdcc7c2837cf41bba77b700d47036c4b",
              "IPY_MODEL_a83e14a850ea4a4f924848115f74589b"
            ],
            "layout": "IPY_MODEL_e71920bfc03048a6baa08b2b707f456d"
          }
        },
        "bdcc7c2837cf41bba77b700d47036c4b": {
          "model_module": "@jupyter-widgets/controls",
          "model_name": "LabelModel",
          "model_module_version": "1.5.0",
          "state": {
            "_dom_classes": [],
            "_model_module": "@jupyter-widgets/controls",
            "_model_module_version": "1.5.0",
            "_model_name": "LabelModel",
            "_view_count": null,
            "_view_module": "@jupyter-widgets/controls",
            "_view_module_version": "1.5.0",
            "_view_name": "LabelView",
            "description": "",
            "description_tooltip": null,
            "layout": "IPY_MODEL_2a2d4462af5d4e38a644978075523169",
            "placeholder": "​",
            "style": "IPY_MODEL_c55c82b5c6d04d7483eca626a65f5241",
            "value": "223.989 MB of 223.989 MB uploaded (0.000 MB deduped)\r"
          }
        },
        "a83e14a850ea4a4f924848115f74589b": {
          "model_module": "@jupyter-widgets/controls",
          "model_name": "FloatProgressModel",
          "model_module_version": "1.5.0",
          "state": {
            "_dom_classes": [],
            "_model_module": "@jupyter-widgets/controls",
            "_model_module_version": "1.5.0",
            "_model_name": "FloatProgressModel",
            "_view_count": null,
            "_view_module": "@jupyter-widgets/controls",
            "_view_module_version": "1.5.0",
            "_view_name": "ProgressView",
            "bar_style": "",
            "description": "",
            "description_tooltip": null,
            "layout": "IPY_MODEL_fcd4f9bf3a57443ab69d52bbb538bb3e",
            "max": 1,
            "min": 0,
            "orientation": "horizontal",
            "style": "IPY_MODEL_e8a6232d788848f1922ffdc633e6059e",
            "value": 1
          }
        },
        "e71920bfc03048a6baa08b2b707f456d": {
          "model_module": "@jupyter-widgets/base",
          "model_name": "LayoutModel",
          "model_module_version": "1.2.0",
          "state": {
            "_model_module": "@jupyter-widgets/base",
            "_model_module_version": "1.2.0",
            "_model_name": "LayoutModel",
            "_view_count": null,
            "_view_module": "@jupyter-widgets/base",
            "_view_module_version": "1.2.0",
            "_view_name": "LayoutView",
            "align_content": null,
            "align_items": null,
            "align_self": null,
            "border": null,
            "bottom": null,
            "display": null,
            "flex": null,
            "flex_flow": null,
            "grid_area": null,
            "grid_auto_columns": null,
            "grid_auto_flow": null,
            "grid_auto_rows": null,
            "grid_column": null,
            "grid_gap": null,
            "grid_row": null,
            "grid_template_areas": null,
            "grid_template_columns": null,
            "grid_template_rows": null,
            "height": null,
            "justify_content": null,
            "justify_items": null,
            "left": null,
            "margin": null,
            "max_height": null,
            "max_width": null,
            "min_height": null,
            "min_width": null,
            "object_fit": null,
            "object_position": null,
            "order": null,
            "overflow": null,
            "overflow_x": null,
            "overflow_y": null,
            "padding": null,
            "right": null,
            "top": null,
            "visibility": null,
            "width": null
          }
        },
        "2a2d4462af5d4e38a644978075523169": {
          "model_module": "@jupyter-widgets/base",
          "model_name": "LayoutModel",
          "model_module_version": "1.2.0",
          "state": {
            "_model_module": "@jupyter-widgets/base",
            "_model_module_version": "1.2.0",
            "_model_name": "LayoutModel",
            "_view_count": null,
            "_view_module": "@jupyter-widgets/base",
            "_view_module_version": "1.2.0",
            "_view_name": "LayoutView",
            "align_content": null,
            "align_items": null,
            "align_self": null,
            "border": null,
            "bottom": null,
            "display": null,
            "flex": null,
            "flex_flow": null,
            "grid_area": null,
            "grid_auto_columns": null,
            "grid_auto_flow": null,
            "grid_auto_rows": null,
            "grid_column": null,
            "grid_gap": null,
            "grid_row": null,
            "grid_template_areas": null,
            "grid_template_columns": null,
            "grid_template_rows": null,
            "height": null,
            "justify_content": null,
            "justify_items": null,
            "left": null,
            "margin": null,
            "max_height": null,
            "max_width": null,
            "min_height": null,
            "min_width": null,
            "object_fit": null,
            "object_position": null,
            "order": null,
            "overflow": null,
            "overflow_x": null,
            "overflow_y": null,
            "padding": null,
            "right": null,
            "top": null,
            "visibility": null,
            "width": null
          }
        },
        "c55c82b5c6d04d7483eca626a65f5241": {
          "model_module": "@jupyter-widgets/controls",
          "model_name": "DescriptionStyleModel",
          "model_module_version": "1.5.0",
          "state": {
            "_model_module": "@jupyter-widgets/controls",
            "_model_module_version": "1.5.0",
            "_model_name": "DescriptionStyleModel",
            "_view_count": null,
            "_view_module": "@jupyter-widgets/base",
            "_view_module_version": "1.2.0",
            "_view_name": "StyleView",
            "description_width": ""
          }
        },
        "fcd4f9bf3a57443ab69d52bbb538bb3e": {
          "model_module": "@jupyter-widgets/base",
          "model_name": "LayoutModel",
          "model_module_version": "1.2.0",
          "state": {
            "_model_module": "@jupyter-widgets/base",
            "_model_module_version": "1.2.0",
            "_model_name": "LayoutModel",
            "_view_count": null,
            "_view_module": "@jupyter-widgets/base",
            "_view_module_version": "1.2.0",
            "_view_name": "LayoutView",
            "align_content": null,
            "align_items": null,
            "align_self": null,
            "border": null,
            "bottom": null,
            "display": null,
            "flex": null,
            "flex_flow": null,
            "grid_area": null,
            "grid_auto_columns": null,
            "grid_auto_flow": null,
            "grid_auto_rows": null,
            "grid_column": null,
            "grid_gap": null,
            "grid_row": null,
            "grid_template_areas": null,
            "grid_template_columns": null,
            "grid_template_rows": null,
            "height": null,
            "justify_content": null,
            "justify_items": null,
            "left": null,
            "margin": null,
            "max_height": null,
            "max_width": null,
            "min_height": null,
            "min_width": null,
            "object_fit": null,
            "object_position": null,
            "order": null,
            "overflow": null,
            "overflow_x": null,
            "overflow_y": null,
            "padding": null,
            "right": null,
            "top": null,
            "visibility": null,
            "width": null
          }
        },
        "e8a6232d788848f1922ffdc633e6059e": {
          "model_module": "@jupyter-widgets/controls",
          "model_name": "ProgressStyleModel",
          "model_module_version": "1.5.0",
          "state": {
            "_model_module": "@jupyter-widgets/controls",
            "_model_module_version": "1.5.0",
            "_model_name": "ProgressStyleModel",
            "_view_count": null,
            "_view_module": "@jupyter-widgets/base",
            "_view_module_version": "1.2.0",
            "_view_name": "StyleView",
            "bar_color": null,
            "description_width": ""
          }
        },
        "1cd9ba73f9d343f39242a1a67a91ecde": {
          "model_module": "@jupyter-widgets/controls",
          "model_name": "VBoxModel",
          "model_module_version": "1.5.0",
          "state": {
            "_dom_classes": [],
            "_model_module": "@jupyter-widgets/controls",
            "_model_module_version": "1.5.0",
            "_model_name": "VBoxModel",
            "_view_count": null,
            "_view_module": "@jupyter-widgets/controls",
            "_view_module_version": "1.5.0",
            "_view_name": "VBoxView",
            "box_style": "",
            "children": [
              "IPY_MODEL_85e2fe4d745e429887e36850e4ec4dcb",
              "IPY_MODEL_77eeb68e96d64b3db822a457f0ecff70"
            ],
            "layout": "IPY_MODEL_e99d1fa77ca448f99c32e6a5880899c5"
          }
        },
        "85e2fe4d745e429887e36850e4ec4dcb": {
          "model_module": "@jupyter-widgets/controls",
          "model_name": "LabelModel",
          "model_module_version": "1.5.0",
          "state": {
            "_dom_classes": [],
            "_model_module": "@jupyter-widgets/controls",
            "_model_module_version": "1.5.0",
            "_model_name": "LabelModel",
            "_view_count": null,
            "_view_module": "@jupyter-widgets/controls",
            "_view_module_version": "1.5.0",
            "_view_name": "LabelView",
            "description": "",
            "description_tooltip": null,
            "layout": "IPY_MODEL_f2105df12f764d43934430bd19464f44",
            "placeholder": "​",
            "style": "IPY_MODEL_ae401fdf17d7453c9b3ff49a3f78606b",
            "value": "224.005 MB of 224.005 MB uploaded (0.000 MB deduped)\r"
          }
        },
        "77eeb68e96d64b3db822a457f0ecff70": {
          "model_module": "@jupyter-widgets/controls",
          "model_name": "FloatProgressModel",
          "model_module_version": "1.5.0",
          "state": {
            "_dom_classes": [],
            "_model_module": "@jupyter-widgets/controls",
            "_model_module_version": "1.5.0",
            "_model_name": "FloatProgressModel",
            "_view_count": null,
            "_view_module": "@jupyter-widgets/controls",
            "_view_module_version": "1.5.0",
            "_view_name": "ProgressView",
            "bar_style": "",
            "description": "",
            "description_tooltip": null,
            "layout": "IPY_MODEL_c8b518527ad14ba5b29f9f221eb9a7ce",
            "max": 1,
            "min": 0,
            "orientation": "horizontal",
            "style": "IPY_MODEL_2485b4c5dd8d429882ee3eb0c926a431",
            "value": 1
          }
        },
        "e99d1fa77ca448f99c32e6a5880899c5": {
          "model_module": "@jupyter-widgets/base",
          "model_name": "LayoutModel",
          "model_module_version": "1.2.0",
          "state": {
            "_model_module": "@jupyter-widgets/base",
            "_model_module_version": "1.2.0",
            "_model_name": "LayoutModel",
            "_view_count": null,
            "_view_module": "@jupyter-widgets/base",
            "_view_module_version": "1.2.0",
            "_view_name": "LayoutView",
            "align_content": null,
            "align_items": null,
            "align_self": null,
            "border": null,
            "bottom": null,
            "display": null,
            "flex": null,
            "flex_flow": null,
            "grid_area": null,
            "grid_auto_columns": null,
            "grid_auto_flow": null,
            "grid_auto_rows": null,
            "grid_column": null,
            "grid_gap": null,
            "grid_row": null,
            "grid_template_areas": null,
            "grid_template_columns": null,
            "grid_template_rows": null,
            "height": null,
            "justify_content": null,
            "justify_items": null,
            "left": null,
            "margin": null,
            "max_height": null,
            "max_width": null,
            "min_height": null,
            "min_width": null,
            "object_fit": null,
            "object_position": null,
            "order": null,
            "overflow": null,
            "overflow_x": null,
            "overflow_y": null,
            "padding": null,
            "right": null,
            "top": null,
            "visibility": null,
            "width": null
          }
        },
        "f2105df12f764d43934430bd19464f44": {
          "model_module": "@jupyter-widgets/base",
          "model_name": "LayoutModel",
          "model_module_version": "1.2.0",
          "state": {
            "_model_module": "@jupyter-widgets/base",
            "_model_module_version": "1.2.0",
            "_model_name": "LayoutModel",
            "_view_count": null,
            "_view_module": "@jupyter-widgets/base",
            "_view_module_version": "1.2.0",
            "_view_name": "LayoutView",
            "align_content": null,
            "align_items": null,
            "align_self": null,
            "border": null,
            "bottom": null,
            "display": null,
            "flex": null,
            "flex_flow": null,
            "grid_area": null,
            "grid_auto_columns": null,
            "grid_auto_flow": null,
            "grid_auto_rows": null,
            "grid_column": null,
            "grid_gap": null,
            "grid_row": null,
            "grid_template_areas": null,
            "grid_template_columns": null,
            "grid_template_rows": null,
            "height": null,
            "justify_content": null,
            "justify_items": null,
            "left": null,
            "margin": null,
            "max_height": null,
            "max_width": null,
            "min_height": null,
            "min_width": null,
            "object_fit": null,
            "object_position": null,
            "order": null,
            "overflow": null,
            "overflow_x": null,
            "overflow_y": null,
            "padding": null,
            "right": null,
            "top": null,
            "visibility": null,
            "width": null
          }
        },
        "ae401fdf17d7453c9b3ff49a3f78606b": {
          "model_module": "@jupyter-widgets/controls",
          "model_name": "DescriptionStyleModel",
          "model_module_version": "1.5.0",
          "state": {
            "_model_module": "@jupyter-widgets/controls",
            "_model_module_version": "1.5.0",
            "_model_name": "DescriptionStyleModel",
            "_view_count": null,
            "_view_module": "@jupyter-widgets/base",
            "_view_module_version": "1.2.0",
            "_view_name": "StyleView",
            "description_width": ""
          }
        },
        "c8b518527ad14ba5b29f9f221eb9a7ce": {
          "model_module": "@jupyter-widgets/base",
          "model_name": "LayoutModel",
          "model_module_version": "1.2.0",
          "state": {
            "_model_module": "@jupyter-widgets/base",
            "_model_module_version": "1.2.0",
            "_model_name": "LayoutModel",
            "_view_count": null,
            "_view_module": "@jupyter-widgets/base",
            "_view_module_version": "1.2.0",
            "_view_name": "LayoutView",
            "align_content": null,
            "align_items": null,
            "align_self": null,
            "border": null,
            "bottom": null,
            "display": null,
            "flex": null,
            "flex_flow": null,
            "grid_area": null,
            "grid_auto_columns": null,
            "grid_auto_flow": null,
            "grid_auto_rows": null,
            "grid_column": null,
            "grid_gap": null,
            "grid_row": null,
            "grid_template_areas": null,
            "grid_template_columns": null,
            "grid_template_rows": null,
            "height": null,
            "justify_content": null,
            "justify_items": null,
            "left": null,
            "margin": null,
            "max_height": null,
            "max_width": null,
            "min_height": null,
            "min_width": null,
            "object_fit": null,
            "object_position": null,
            "order": null,
            "overflow": null,
            "overflow_x": null,
            "overflow_y": null,
            "padding": null,
            "right": null,
            "top": null,
            "visibility": null,
            "width": null
          }
        },
        "2485b4c5dd8d429882ee3eb0c926a431": {
          "model_module": "@jupyter-widgets/controls",
          "model_name": "ProgressStyleModel",
          "model_module_version": "1.5.0",
          "state": {
            "_model_module": "@jupyter-widgets/controls",
            "_model_module_version": "1.5.0",
            "_model_name": "ProgressStyleModel",
            "_view_count": null,
            "_view_module": "@jupyter-widgets/base",
            "_view_module_version": "1.2.0",
            "_view_name": "StyleView",
            "bar_color": null,
            "description_width": ""
          }
        },
        "fa0f01fead244230a6b7ff9381821831": {
          "model_module": "@jupyter-widgets/controls",
          "model_name": "VBoxModel",
          "model_module_version": "1.5.0",
          "state": {
            "_dom_classes": [],
            "_model_module": "@jupyter-widgets/controls",
            "_model_module_version": "1.5.0",
            "_model_name": "VBoxModel",
            "_view_count": null,
            "_view_module": "@jupyter-widgets/controls",
            "_view_module_version": "1.5.0",
            "_view_name": "VBoxView",
            "box_style": "",
            "children": [
              "IPY_MODEL_59f1a014255e4b4b909ce5cb7e322984",
              "IPY_MODEL_9fa897e4dfc940ba8e4b6509f0523118"
            ],
            "layout": "IPY_MODEL_8651a06802004da0aadce22b3f619006"
          }
        },
        "59f1a014255e4b4b909ce5cb7e322984": {
          "model_module": "@jupyter-widgets/controls",
          "model_name": "LabelModel",
          "model_module_version": "1.5.0",
          "state": {
            "_dom_classes": [],
            "_model_module": "@jupyter-widgets/controls",
            "_model_module_version": "1.5.0",
            "_model_name": "LabelModel",
            "_view_count": null,
            "_view_module": "@jupyter-widgets/controls",
            "_view_module_version": "1.5.0",
            "_view_name": "LabelView",
            "description": "",
            "description_tooltip": null,
            "layout": "IPY_MODEL_7a1df7eccf5a46b4bead44a1fb61a5b1",
            "placeholder": "​",
            "style": "IPY_MODEL_78919ce8807c4cb58d053debf2c7d66a",
            "value": "224.019 MB of 224.019 MB uploaded (0.000 MB deduped)\r"
          }
        },
        "9fa897e4dfc940ba8e4b6509f0523118": {
          "model_module": "@jupyter-widgets/controls",
          "model_name": "FloatProgressModel",
          "model_module_version": "1.5.0",
          "state": {
            "_dom_classes": [],
            "_model_module": "@jupyter-widgets/controls",
            "_model_module_version": "1.5.0",
            "_model_name": "FloatProgressModel",
            "_view_count": null,
            "_view_module": "@jupyter-widgets/controls",
            "_view_module_version": "1.5.0",
            "_view_name": "ProgressView",
            "bar_style": "",
            "description": "",
            "description_tooltip": null,
            "layout": "IPY_MODEL_b9e13989329649c799590e83fefbe4a7",
            "max": 1,
            "min": 0,
            "orientation": "horizontal",
            "style": "IPY_MODEL_626f944b16ad433397e9b26204af3462",
            "value": 1
          }
        },
        "8651a06802004da0aadce22b3f619006": {
          "model_module": "@jupyter-widgets/base",
          "model_name": "LayoutModel",
          "model_module_version": "1.2.0",
          "state": {
            "_model_module": "@jupyter-widgets/base",
            "_model_module_version": "1.2.0",
            "_model_name": "LayoutModel",
            "_view_count": null,
            "_view_module": "@jupyter-widgets/base",
            "_view_module_version": "1.2.0",
            "_view_name": "LayoutView",
            "align_content": null,
            "align_items": null,
            "align_self": null,
            "border": null,
            "bottom": null,
            "display": null,
            "flex": null,
            "flex_flow": null,
            "grid_area": null,
            "grid_auto_columns": null,
            "grid_auto_flow": null,
            "grid_auto_rows": null,
            "grid_column": null,
            "grid_gap": null,
            "grid_row": null,
            "grid_template_areas": null,
            "grid_template_columns": null,
            "grid_template_rows": null,
            "height": null,
            "justify_content": null,
            "justify_items": null,
            "left": null,
            "margin": null,
            "max_height": null,
            "max_width": null,
            "min_height": null,
            "min_width": null,
            "object_fit": null,
            "object_position": null,
            "order": null,
            "overflow": null,
            "overflow_x": null,
            "overflow_y": null,
            "padding": null,
            "right": null,
            "top": null,
            "visibility": null,
            "width": null
          }
        },
        "7a1df7eccf5a46b4bead44a1fb61a5b1": {
          "model_module": "@jupyter-widgets/base",
          "model_name": "LayoutModel",
          "model_module_version": "1.2.0",
          "state": {
            "_model_module": "@jupyter-widgets/base",
            "_model_module_version": "1.2.0",
            "_model_name": "LayoutModel",
            "_view_count": null,
            "_view_module": "@jupyter-widgets/base",
            "_view_module_version": "1.2.0",
            "_view_name": "LayoutView",
            "align_content": null,
            "align_items": null,
            "align_self": null,
            "border": null,
            "bottom": null,
            "display": null,
            "flex": null,
            "flex_flow": null,
            "grid_area": null,
            "grid_auto_columns": null,
            "grid_auto_flow": null,
            "grid_auto_rows": null,
            "grid_column": null,
            "grid_gap": null,
            "grid_row": null,
            "grid_template_areas": null,
            "grid_template_columns": null,
            "grid_template_rows": null,
            "height": null,
            "justify_content": null,
            "justify_items": null,
            "left": null,
            "margin": null,
            "max_height": null,
            "max_width": null,
            "min_height": null,
            "min_width": null,
            "object_fit": null,
            "object_position": null,
            "order": null,
            "overflow": null,
            "overflow_x": null,
            "overflow_y": null,
            "padding": null,
            "right": null,
            "top": null,
            "visibility": null,
            "width": null
          }
        },
        "78919ce8807c4cb58d053debf2c7d66a": {
          "model_module": "@jupyter-widgets/controls",
          "model_name": "DescriptionStyleModel",
          "model_module_version": "1.5.0",
          "state": {
            "_model_module": "@jupyter-widgets/controls",
            "_model_module_version": "1.5.0",
            "_model_name": "DescriptionStyleModel",
            "_view_count": null,
            "_view_module": "@jupyter-widgets/base",
            "_view_module_version": "1.2.0",
            "_view_name": "StyleView",
            "description_width": ""
          }
        },
        "b9e13989329649c799590e83fefbe4a7": {
          "model_module": "@jupyter-widgets/base",
          "model_name": "LayoutModel",
          "model_module_version": "1.2.0",
          "state": {
            "_model_module": "@jupyter-widgets/base",
            "_model_module_version": "1.2.0",
            "_model_name": "LayoutModel",
            "_view_count": null,
            "_view_module": "@jupyter-widgets/base",
            "_view_module_version": "1.2.0",
            "_view_name": "LayoutView",
            "align_content": null,
            "align_items": null,
            "align_self": null,
            "border": null,
            "bottom": null,
            "display": null,
            "flex": null,
            "flex_flow": null,
            "grid_area": null,
            "grid_auto_columns": null,
            "grid_auto_flow": null,
            "grid_auto_rows": null,
            "grid_column": null,
            "grid_gap": null,
            "grid_row": null,
            "grid_template_areas": null,
            "grid_template_columns": null,
            "grid_template_rows": null,
            "height": null,
            "justify_content": null,
            "justify_items": null,
            "left": null,
            "margin": null,
            "max_height": null,
            "max_width": null,
            "min_height": null,
            "min_width": null,
            "object_fit": null,
            "object_position": null,
            "order": null,
            "overflow": null,
            "overflow_x": null,
            "overflow_y": null,
            "padding": null,
            "right": null,
            "top": null,
            "visibility": null,
            "width": null
          }
        },
        "626f944b16ad433397e9b26204af3462": {
          "model_module": "@jupyter-widgets/controls",
          "model_name": "ProgressStyleModel",
          "model_module_version": "1.5.0",
          "state": {
            "_model_module": "@jupyter-widgets/controls",
            "_model_module_version": "1.5.0",
            "_model_name": "ProgressStyleModel",
            "_view_count": null,
            "_view_module": "@jupyter-widgets/base",
            "_view_module_version": "1.2.0",
            "_view_name": "StyleView",
            "bar_color": null,
            "description_width": ""
          }
        },
        "3f7307d5f43f495f86ab98b23a6820ea": {
          "model_module": "@jupyter-widgets/controls",
          "model_name": "VBoxModel",
          "model_module_version": "1.5.0",
          "state": {
            "_dom_classes": [],
            "_model_module": "@jupyter-widgets/controls",
            "_model_module_version": "1.5.0",
            "_model_name": "VBoxModel",
            "_view_count": null,
            "_view_module": "@jupyter-widgets/controls",
            "_view_module_version": "1.5.0",
            "_view_name": "VBoxView",
            "box_style": "",
            "children": [
              "IPY_MODEL_21829609b051478fa6f3d8ac9e8a9f0f",
              "IPY_MODEL_7fa32a35e65a49869eafe81933a4fb35"
            ],
            "layout": "IPY_MODEL_287f9bf87741425d834566afb09b9cde"
          }
        },
        "21829609b051478fa6f3d8ac9e8a9f0f": {
          "model_module": "@jupyter-widgets/controls",
          "model_name": "LabelModel",
          "model_module_version": "1.5.0",
          "state": {
            "_dom_classes": [],
            "_model_module": "@jupyter-widgets/controls",
            "_model_module_version": "1.5.0",
            "_model_name": "LabelModel",
            "_view_count": null,
            "_view_module": "@jupyter-widgets/controls",
            "_view_module_version": "1.5.0",
            "_view_name": "LabelView",
            "description": "",
            "description_tooltip": null,
            "layout": "IPY_MODEL_70ebbcf2f4374158bb61bc9dfa07f39d",
            "placeholder": "​",
            "style": "IPY_MODEL_a665ae07431a494bbba83601f58b74bf",
            "value": "58.195 MB of 58.195 MB uploaded (0.000 MB deduped)\r"
          }
        },
        "7fa32a35e65a49869eafe81933a4fb35": {
          "model_module": "@jupyter-widgets/controls",
          "model_name": "FloatProgressModel",
          "model_module_version": "1.5.0",
          "state": {
            "_dom_classes": [],
            "_model_module": "@jupyter-widgets/controls",
            "_model_module_version": "1.5.0",
            "_model_name": "FloatProgressModel",
            "_view_count": null,
            "_view_module": "@jupyter-widgets/controls",
            "_view_module_version": "1.5.0",
            "_view_name": "ProgressView",
            "bar_style": "",
            "description": "",
            "description_tooltip": null,
            "layout": "IPY_MODEL_4fec1f30ecc942f3a60ed375b08e0030",
            "max": 1,
            "min": 0,
            "orientation": "horizontal",
            "style": "IPY_MODEL_863360f776ca4a919ec7aa9692b23fcb",
            "value": 1
          }
        },
        "287f9bf87741425d834566afb09b9cde": {
          "model_module": "@jupyter-widgets/base",
          "model_name": "LayoutModel",
          "model_module_version": "1.2.0",
          "state": {
            "_model_module": "@jupyter-widgets/base",
            "_model_module_version": "1.2.0",
            "_model_name": "LayoutModel",
            "_view_count": null,
            "_view_module": "@jupyter-widgets/base",
            "_view_module_version": "1.2.0",
            "_view_name": "LayoutView",
            "align_content": null,
            "align_items": null,
            "align_self": null,
            "border": null,
            "bottom": null,
            "display": null,
            "flex": null,
            "flex_flow": null,
            "grid_area": null,
            "grid_auto_columns": null,
            "grid_auto_flow": null,
            "grid_auto_rows": null,
            "grid_column": null,
            "grid_gap": null,
            "grid_row": null,
            "grid_template_areas": null,
            "grid_template_columns": null,
            "grid_template_rows": null,
            "height": null,
            "justify_content": null,
            "justify_items": null,
            "left": null,
            "margin": null,
            "max_height": null,
            "max_width": null,
            "min_height": null,
            "min_width": null,
            "object_fit": null,
            "object_position": null,
            "order": null,
            "overflow": null,
            "overflow_x": null,
            "overflow_y": null,
            "padding": null,
            "right": null,
            "top": null,
            "visibility": null,
            "width": null
          }
        },
        "70ebbcf2f4374158bb61bc9dfa07f39d": {
          "model_module": "@jupyter-widgets/base",
          "model_name": "LayoutModel",
          "model_module_version": "1.2.0",
          "state": {
            "_model_module": "@jupyter-widgets/base",
            "_model_module_version": "1.2.0",
            "_model_name": "LayoutModel",
            "_view_count": null,
            "_view_module": "@jupyter-widgets/base",
            "_view_module_version": "1.2.0",
            "_view_name": "LayoutView",
            "align_content": null,
            "align_items": null,
            "align_self": null,
            "border": null,
            "bottom": null,
            "display": null,
            "flex": null,
            "flex_flow": null,
            "grid_area": null,
            "grid_auto_columns": null,
            "grid_auto_flow": null,
            "grid_auto_rows": null,
            "grid_column": null,
            "grid_gap": null,
            "grid_row": null,
            "grid_template_areas": null,
            "grid_template_columns": null,
            "grid_template_rows": null,
            "height": null,
            "justify_content": null,
            "justify_items": null,
            "left": null,
            "margin": null,
            "max_height": null,
            "max_width": null,
            "min_height": null,
            "min_width": null,
            "object_fit": null,
            "object_position": null,
            "order": null,
            "overflow": null,
            "overflow_x": null,
            "overflow_y": null,
            "padding": null,
            "right": null,
            "top": null,
            "visibility": null,
            "width": null
          }
        },
        "a665ae07431a494bbba83601f58b74bf": {
          "model_module": "@jupyter-widgets/controls",
          "model_name": "DescriptionStyleModel",
          "model_module_version": "1.5.0",
          "state": {
            "_model_module": "@jupyter-widgets/controls",
            "_model_module_version": "1.5.0",
            "_model_name": "DescriptionStyleModel",
            "_view_count": null,
            "_view_module": "@jupyter-widgets/base",
            "_view_module_version": "1.2.0",
            "_view_name": "StyleView",
            "description_width": ""
          }
        },
        "4fec1f30ecc942f3a60ed375b08e0030": {
          "model_module": "@jupyter-widgets/base",
          "model_name": "LayoutModel",
          "model_module_version": "1.2.0",
          "state": {
            "_model_module": "@jupyter-widgets/base",
            "_model_module_version": "1.2.0",
            "_model_name": "LayoutModel",
            "_view_count": null,
            "_view_module": "@jupyter-widgets/base",
            "_view_module_version": "1.2.0",
            "_view_name": "LayoutView",
            "align_content": null,
            "align_items": null,
            "align_self": null,
            "border": null,
            "bottom": null,
            "display": null,
            "flex": null,
            "flex_flow": null,
            "grid_area": null,
            "grid_auto_columns": null,
            "grid_auto_flow": null,
            "grid_auto_rows": null,
            "grid_column": null,
            "grid_gap": null,
            "grid_row": null,
            "grid_template_areas": null,
            "grid_template_columns": null,
            "grid_template_rows": null,
            "height": null,
            "justify_content": null,
            "justify_items": null,
            "left": null,
            "margin": null,
            "max_height": null,
            "max_width": null,
            "min_height": null,
            "min_width": null,
            "object_fit": null,
            "object_position": null,
            "order": null,
            "overflow": null,
            "overflow_x": null,
            "overflow_y": null,
            "padding": null,
            "right": null,
            "top": null,
            "visibility": null,
            "width": null
          }
        },
        "863360f776ca4a919ec7aa9692b23fcb": {
          "model_module": "@jupyter-widgets/controls",
          "model_name": "ProgressStyleModel",
          "model_module_version": "1.5.0",
          "state": {
            "_model_module": "@jupyter-widgets/controls",
            "_model_module_version": "1.5.0",
            "_model_name": "ProgressStyleModel",
            "_view_count": null,
            "_view_module": "@jupyter-widgets/base",
            "_view_module_version": "1.2.0",
            "_view_name": "StyleView",
            "bar_color": null,
            "description_width": ""
          }
        },
        "d09976bea9fd423088ba0559ba86828a": {
          "model_module": "@jupyter-widgets/controls",
          "model_name": "VBoxModel",
          "model_module_version": "1.5.0",
          "state": {
            "_dom_classes": [],
            "_model_module": "@jupyter-widgets/controls",
            "_model_module_version": "1.5.0",
            "_model_name": "VBoxModel",
            "_view_count": null,
            "_view_module": "@jupyter-widgets/controls",
            "_view_module_version": "1.5.0",
            "_view_name": "VBoxView",
            "box_style": "",
            "children": [
              "IPY_MODEL_56a51af6820748a5a50533f5f46605eb",
              "IPY_MODEL_693916e6334644c7a30579d5b50b5d24"
            ],
            "layout": "IPY_MODEL_3016e1973ee14561b84373f9d5ef1fec"
          }
        },
        "56a51af6820748a5a50533f5f46605eb": {
          "model_module": "@jupyter-widgets/controls",
          "model_name": "LabelModel",
          "model_module_version": "1.5.0",
          "state": {
            "_dom_classes": [],
            "_model_module": "@jupyter-widgets/controls",
            "_model_module_version": "1.5.0",
            "_model_name": "LabelModel",
            "_view_count": null,
            "_view_module": "@jupyter-widgets/controls",
            "_view_module_version": "1.5.0",
            "_view_name": "LabelView",
            "description": "",
            "description_tooltip": null,
            "layout": "IPY_MODEL_cfdfd7fecca04818ac2b33e033b01053",
            "placeholder": "​",
            "style": "IPY_MODEL_3d274ca110954c578e587fb6fd4eb28a",
            "value": "58.210 MB of 58.210 MB uploaded (0.000 MB deduped)\r"
          }
        },
        "693916e6334644c7a30579d5b50b5d24": {
          "model_module": "@jupyter-widgets/controls",
          "model_name": "FloatProgressModel",
          "model_module_version": "1.5.0",
          "state": {
            "_dom_classes": [],
            "_model_module": "@jupyter-widgets/controls",
            "_model_module_version": "1.5.0",
            "_model_name": "FloatProgressModel",
            "_view_count": null,
            "_view_module": "@jupyter-widgets/controls",
            "_view_module_version": "1.5.0",
            "_view_name": "ProgressView",
            "bar_style": "",
            "description": "",
            "description_tooltip": null,
            "layout": "IPY_MODEL_67030f2f372b4d079bfbc6cd0acee44c",
            "max": 1,
            "min": 0,
            "orientation": "horizontal",
            "style": "IPY_MODEL_16a97fe309b44cb7b1c4433c96ed0871",
            "value": 1
          }
        },
        "3016e1973ee14561b84373f9d5ef1fec": {
          "model_module": "@jupyter-widgets/base",
          "model_name": "LayoutModel",
          "model_module_version": "1.2.0",
          "state": {
            "_model_module": "@jupyter-widgets/base",
            "_model_module_version": "1.2.0",
            "_model_name": "LayoutModel",
            "_view_count": null,
            "_view_module": "@jupyter-widgets/base",
            "_view_module_version": "1.2.0",
            "_view_name": "LayoutView",
            "align_content": null,
            "align_items": null,
            "align_self": null,
            "border": null,
            "bottom": null,
            "display": null,
            "flex": null,
            "flex_flow": null,
            "grid_area": null,
            "grid_auto_columns": null,
            "grid_auto_flow": null,
            "grid_auto_rows": null,
            "grid_column": null,
            "grid_gap": null,
            "grid_row": null,
            "grid_template_areas": null,
            "grid_template_columns": null,
            "grid_template_rows": null,
            "height": null,
            "justify_content": null,
            "justify_items": null,
            "left": null,
            "margin": null,
            "max_height": null,
            "max_width": null,
            "min_height": null,
            "min_width": null,
            "object_fit": null,
            "object_position": null,
            "order": null,
            "overflow": null,
            "overflow_x": null,
            "overflow_y": null,
            "padding": null,
            "right": null,
            "top": null,
            "visibility": null,
            "width": null
          }
        },
        "cfdfd7fecca04818ac2b33e033b01053": {
          "model_module": "@jupyter-widgets/base",
          "model_name": "LayoutModel",
          "model_module_version": "1.2.0",
          "state": {
            "_model_module": "@jupyter-widgets/base",
            "_model_module_version": "1.2.0",
            "_model_name": "LayoutModel",
            "_view_count": null,
            "_view_module": "@jupyter-widgets/base",
            "_view_module_version": "1.2.0",
            "_view_name": "LayoutView",
            "align_content": null,
            "align_items": null,
            "align_self": null,
            "border": null,
            "bottom": null,
            "display": null,
            "flex": null,
            "flex_flow": null,
            "grid_area": null,
            "grid_auto_columns": null,
            "grid_auto_flow": null,
            "grid_auto_rows": null,
            "grid_column": null,
            "grid_gap": null,
            "grid_row": null,
            "grid_template_areas": null,
            "grid_template_columns": null,
            "grid_template_rows": null,
            "height": null,
            "justify_content": null,
            "justify_items": null,
            "left": null,
            "margin": null,
            "max_height": null,
            "max_width": null,
            "min_height": null,
            "min_width": null,
            "object_fit": null,
            "object_position": null,
            "order": null,
            "overflow": null,
            "overflow_x": null,
            "overflow_y": null,
            "padding": null,
            "right": null,
            "top": null,
            "visibility": null,
            "width": null
          }
        },
        "3d274ca110954c578e587fb6fd4eb28a": {
          "model_module": "@jupyter-widgets/controls",
          "model_name": "DescriptionStyleModel",
          "model_module_version": "1.5.0",
          "state": {
            "_model_module": "@jupyter-widgets/controls",
            "_model_module_version": "1.5.0",
            "_model_name": "DescriptionStyleModel",
            "_view_count": null,
            "_view_module": "@jupyter-widgets/base",
            "_view_module_version": "1.2.0",
            "_view_name": "StyleView",
            "description_width": ""
          }
        },
        "67030f2f372b4d079bfbc6cd0acee44c": {
          "model_module": "@jupyter-widgets/base",
          "model_name": "LayoutModel",
          "model_module_version": "1.2.0",
          "state": {
            "_model_module": "@jupyter-widgets/base",
            "_model_module_version": "1.2.0",
            "_model_name": "LayoutModel",
            "_view_count": null,
            "_view_module": "@jupyter-widgets/base",
            "_view_module_version": "1.2.0",
            "_view_name": "LayoutView",
            "align_content": null,
            "align_items": null,
            "align_self": null,
            "border": null,
            "bottom": null,
            "display": null,
            "flex": null,
            "flex_flow": null,
            "grid_area": null,
            "grid_auto_columns": null,
            "grid_auto_flow": null,
            "grid_auto_rows": null,
            "grid_column": null,
            "grid_gap": null,
            "grid_row": null,
            "grid_template_areas": null,
            "grid_template_columns": null,
            "grid_template_rows": null,
            "height": null,
            "justify_content": null,
            "justify_items": null,
            "left": null,
            "margin": null,
            "max_height": null,
            "max_width": null,
            "min_height": null,
            "min_width": null,
            "object_fit": null,
            "object_position": null,
            "order": null,
            "overflow": null,
            "overflow_x": null,
            "overflow_y": null,
            "padding": null,
            "right": null,
            "top": null,
            "visibility": null,
            "width": null
          }
        },
        "16a97fe309b44cb7b1c4433c96ed0871": {
          "model_module": "@jupyter-widgets/controls",
          "model_name": "ProgressStyleModel",
          "model_module_version": "1.5.0",
          "state": {
            "_model_module": "@jupyter-widgets/controls",
            "_model_module_version": "1.5.0",
            "_model_name": "ProgressStyleModel",
            "_view_count": null,
            "_view_module": "@jupyter-widgets/base",
            "_view_module_version": "1.2.0",
            "_view_name": "StyleView",
            "bar_color": null,
            "description_width": ""
          }
        },
        "bd3d8182111842748ef3c1656b3bd7f4": {
          "model_module": "@jupyter-widgets/controls",
          "model_name": "VBoxModel",
          "model_module_version": "1.5.0",
          "state": {
            "_dom_classes": [],
            "_model_module": "@jupyter-widgets/controls",
            "_model_module_version": "1.5.0",
            "_model_name": "VBoxModel",
            "_view_count": null,
            "_view_module": "@jupyter-widgets/controls",
            "_view_module_version": "1.5.0",
            "_view_name": "VBoxView",
            "box_style": "",
            "children": [
              "IPY_MODEL_22293ce815464a7a8b0434700048ef62",
              "IPY_MODEL_f75cc9276ecb43e89e962323fe1e9a58"
            ],
            "layout": "IPY_MODEL_4e6b899ec87b42ec9f66bdad3b67e170"
          }
        },
        "22293ce815464a7a8b0434700048ef62": {
          "model_module": "@jupyter-widgets/controls",
          "model_name": "LabelModel",
          "model_module_version": "1.5.0",
          "state": {
            "_dom_classes": [],
            "_model_module": "@jupyter-widgets/controls",
            "_model_module_version": "1.5.0",
            "_model_name": "LabelModel",
            "_view_count": null,
            "_view_module": "@jupyter-widgets/controls",
            "_view_module_version": "1.5.0",
            "_view_name": "LabelView",
            "description": "",
            "description_tooltip": null,
            "layout": "IPY_MODEL_5b066e8a2dd74c6ea2af08d845002e95",
            "placeholder": "​",
            "style": "IPY_MODEL_daed6613bfc74967b31188d177215e81",
            "value": "58.224 MB of 58.224 MB uploaded (0.000 MB deduped)\r"
          }
        },
        "f75cc9276ecb43e89e962323fe1e9a58": {
          "model_module": "@jupyter-widgets/controls",
          "model_name": "FloatProgressModel",
          "model_module_version": "1.5.0",
          "state": {
            "_dom_classes": [],
            "_model_module": "@jupyter-widgets/controls",
            "_model_module_version": "1.5.0",
            "_model_name": "FloatProgressModel",
            "_view_count": null,
            "_view_module": "@jupyter-widgets/controls",
            "_view_module_version": "1.5.0",
            "_view_name": "ProgressView",
            "bar_style": "",
            "description": "",
            "description_tooltip": null,
            "layout": "IPY_MODEL_75a93c3e3a284f78a65be94f08d81df0",
            "max": 1,
            "min": 0,
            "orientation": "horizontal",
            "style": "IPY_MODEL_576853f18fc6491c8f0421d0ce2c2930",
            "value": 1
          }
        },
        "4e6b899ec87b42ec9f66bdad3b67e170": {
          "model_module": "@jupyter-widgets/base",
          "model_name": "LayoutModel",
          "model_module_version": "1.2.0",
          "state": {
            "_model_module": "@jupyter-widgets/base",
            "_model_module_version": "1.2.0",
            "_model_name": "LayoutModel",
            "_view_count": null,
            "_view_module": "@jupyter-widgets/base",
            "_view_module_version": "1.2.0",
            "_view_name": "LayoutView",
            "align_content": null,
            "align_items": null,
            "align_self": null,
            "border": null,
            "bottom": null,
            "display": null,
            "flex": null,
            "flex_flow": null,
            "grid_area": null,
            "grid_auto_columns": null,
            "grid_auto_flow": null,
            "grid_auto_rows": null,
            "grid_column": null,
            "grid_gap": null,
            "grid_row": null,
            "grid_template_areas": null,
            "grid_template_columns": null,
            "grid_template_rows": null,
            "height": null,
            "justify_content": null,
            "justify_items": null,
            "left": null,
            "margin": null,
            "max_height": null,
            "max_width": null,
            "min_height": null,
            "min_width": null,
            "object_fit": null,
            "object_position": null,
            "order": null,
            "overflow": null,
            "overflow_x": null,
            "overflow_y": null,
            "padding": null,
            "right": null,
            "top": null,
            "visibility": null,
            "width": null
          }
        },
        "5b066e8a2dd74c6ea2af08d845002e95": {
          "model_module": "@jupyter-widgets/base",
          "model_name": "LayoutModel",
          "model_module_version": "1.2.0",
          "state": {
            "_model_module": "@jupyter-widgets/base",
            "_model_module_version": "1.2.0",
            "_model_name": "LayoutModel",
            "_view_count": null,
            "_view_module": "@jupyter-widgets/base",
            "_view_module_version": "1.2.0",
            "_view_name": "LayoutView",
            "align_content": null,
            "align_items": null,
            "align_self": null,
            "border": null,
            "bottom": null,
            "display": null,
            "flex": null,
            "flex_flow": null,
            "grid_area": null,
            "grid_auto_columns": null,
            "grid_auto_flow": null,
            "grid_auto_rows": null,
            "grid_column": null,
            "grid_gap": null,
            "grid_row": null,
            "grid_template_areas": null,
            "grid_template_columns": null,
            "grid_template_rows": null,
            "height": null,
            "justify_content": null,
            "justify_items": null,
            "left": null,
            "margin": null,
            "max_height": null,
            "max_width": null,
            "min_height": null,
            "min_width": null,
            "object_fit": null,
            "object_position": null,
            "order": null,
            "overflow": null,
            "overflow_x": null,
            "overflow_y": null,
            "padding": null,
            "right": null,
            "top": null,
            "visibility": null,
            "width": null
          }
        },
        "daed6613bfc74967b31188d177215e81": {
          "model_module": "@jupyter-widgets/controls",
          "model_name": "DescriptionStyleModel",
          "model_module_version": "1.5.0",
          "state": {
            "_model_module": "@jupyter-widgets/controls",
            "_model_module_version": "1.5.0",
            "_model_name": "DescriptionStyleModel",
            "_view_count": null,
            "_view_module": "@jupyter-widgets/base",
            "_view_module_version": "1.2.0",
            "_view_name": "StyleView",
            "description_width": ""
          }
        },
        "75a93c3e3a284f78a65be94f08d81df0": {
          "model_module": "@jupyter-widgets/base",
          "model_name": "LayoutModel",
          "model_module_version": "1.2.0",
          "state": {
            "_model_module": "@jupyter-widgets/base",
            "_model_module_version": "1.2.0",
            "_model_name": "LayoutModel",
            "_view_count": null,
            "_view_module": "@jupyter-widgets/base",
            "_view_module_version": "1.2.0",
            "_view_name": "LayoutView",
            "align_content": null,
            "align_items": null,
            "align_self": null,
            "border": null,
            "bottom": null,
            "display": null,
            "flex": null,
            "flex_flow": null,
            "grid_area": null,
            "grid_auto_columns": null,
            "grid_auto_flow": null,
            "grid_auto_rows": null,
            "grid_column": null,
            "grid_gap": null,
            "grid_row": null,
            "grid_template_areas": null,
            "grid_template_columns": null,
            "grid_template_rows": null,
            "height": null,
            "justify_content": null,
            "justify_items": null,
            "left": null,
            "margin": null,
            "max_height": null,
            "max_width": null,
            "min_height": null,
            "min_width": null,
            "object_fit": null,
            "object_position": null,
            "order": null,
            "overflow": null,
            "overflow_x": null,
            "overflow_y": null,
            "padding": null,
            "right": null,
            "top": null,
            "visibility": null,
            "width": null
          }
        },
        "576853f18fc6491c8f0421d0ce2c2930": {
          "model_module": "@jupyter-widgets/controls",
          "model_name": "ProgressStyleModel",
          "model_module_version": "1.5.0",
          "state": {
            "_model_module": "@jupyter-widgets/controls",
            "_model_module_version": "1.5.0",
            "_model_name": "ProgressStyleModel",
            "_view_count": null,
            "_view_module": "@jupyter-widgets/base",
            "_view_module_version": "1.2.0",
            "_view_name": "StyleView",
            "bar_color": null,
            "description_width": ""
          }
        },
        "a600c4e7fe414dd896ad75f67ce5cc77": {
          "model_module": "@jupyter-widgets/controls",
          "model_name": "VBoxModel",
          "model_module_version": "1.5.0",
          "state": {
            "_dom_classes": [],
            "_model_module": "@jupyter-widgets/controls",
            "_model_module_version": "1.5.0",
            "_model_name": "VBoxModel",
            "_view_count": null,
            "_view_module": "@jupyter-widgets/controls",
            "_view_module_version": "1.5.0",
            "_view_name": "VBoxView",
            "box_style": "",
            "children": [
              "IPY_MODEL_827ecd02418d434c858993be439cd279",
              "IPY_MODEL_cc089729eb9e4102a12992bddd2d8658"
            ],
            "layout": "IPY_MODEL_35a12a73496a459fbfb2b8da9923d6a1"
          }
        },
        "827ecd02418d434c858993be439cd279": {
          "model_module": "@jupyter-widgets/controls",
          "model_name": "LabelModel",
          "model_module_version": "1.5.0",
          "state": {
            "_dom_classes": [],
            "_model_module": "@jupyter-widgets/controls",
            "_model_module_version": "1.5.0",
            "_model_name": "LabelModel",
            "_view_count": null,
            "_view_module": "@jupyter-widgets/controls",
            "_view_module_version": "1.5.0",
            "_view_name": "LabelView",
            "description": "",
            "description_tooltip": null,
            "layout": "IPY_MODEL_fb706ef921374bdd9f33d1ba9bb97f3b",
            "placeholder": "​",
            "style": "IPY_MODEL_cbfa0a7c807a411bb45b8f68f26f1b4c",
            "value": "58.239 MB of 58.239 MB uploaded (0.000 MB deduped)\r"
          }
        },
        "cc089729eb9e4102a12992bddd2d8658": {
          "model_module": "@jupyter-widgets/controls",
          "model_name": "FloatProgressModel",
          "model_module_version": "1.5.0",
          "state": {
            "_dom_classes": [],
            "_model_module": "@jupyter-widgets/controls",
            "_model_module_version": "1.5.0",
            "_model_name": "FloatProgressModel",
            "_view_count": null,
            "_view_module": "@jupyter-widgets/controls",
            "_view_module_version": "1.5.0",
            "_view_name": "ProgressView",
            "bar_style": "",
            "description": "",
            "description_tooltip": null,
            "layout": "IPY_MODEL_ef785abc88c3458ab3db915227dc053b",
            "max": 1,
            "min": 0,
            "orientation": "horizontal",
            "style": "IPY_MODEL_09c932bc0f884894aefcbaab55799b92",
            "value": 1
          }
        },
        "35a12a73496a459fbfb2b8da9923d6a1": {
          "model_module": "@jupyter-widgets/base",
          "model_name": "LayoutModel",
          "model_module_version": "1.2.0",
          "state": {
            "_model_module": "@jupyter-widgets/base",
            "_model_module_version": "1.2.0",
            "_model_name": "LayoutModel",
            "_view_count": null,
            "_view_module": "@jupyter-widgets/base",
            "_view_module_version": "1.2.0",
            "_view_name": "LayoutView",
            "align_content": null,
            "align_items": null,
            "align_self": null,
            "border": null,
            "bottom": null,
            "display": null,
            "flex": null,
            "flex_flow": null,
            "grid_area": null,
            "grid_auto_columns": null,
            "grid_auto_flow": null,
            "grid_auto_rows": null,
            "grid_column": null,
            "grid_gap": null,
            "grid_row": null,
            "grid_template_areas": null,
            "grid_template_columns": null,
            "grid_template_rows": null,
            "height": null,
            "justify_content": null,
            "justify_items": null,
            "left": null,
            "margin": null,
            "max_height": null,
            "max_width": null,
            "min_height": null,
            "min_width": null,
            "object_fit": null,
            "object_position": null,
            "order": null,
            "overflow": null,
            "overflow_x": null,
            "overflow_y": null,
            "padding": null,
            "right": null,
            "top": null,
            "visibility": null,
            "width": null
          }
        },
        "fb706ef921374bdd9f33d1ba9bb97f3b": {
          "model_module": "@jupyter-widgets/base",
          "model_name": "LayoutModel",
          "model_module_version": "1.2.0",
          "state": {
            "_model_module": "@jupyter-widgets/base",
            "_model_module_version": "1.2.0",
            "_model_name": "LayoutModel",
            "_view_count": null,
            "_view_module": "@jupyter-widgets/base",
            "_view_module_version": "1.2.0",
            "_view_name": "LayoutView",
            "align_content": null,
            "align_items": null,
            "align_self": null,
            "border": null,
            "bottom": null,
            "display": null,
            "flex": null,
            "flex_flow": null,
            "grid_area": null,
            "grid_auto_columns": null,
            "grid_auto_flow": null,
            "grid_auto_rows": null,
            "grid_column": null,
            "grid_gap": null,
            "grid_row": null,
            "grid_template_areas": null,
            "grid_template_columns": null,
            "grid_template_rows": null,
            "height": null,
            "justify_content": null,
            "justify_items": null,
            "left": null,
            "margin": null,
            "max_height": null,
            "max_width": null,
            "min_height": null,
            "min_width": null,
            "object_fit": null,
            "object_position": null,
            "order": null,
            "overflow": null,
            "overflow_x": null,
            "overflow_y": null,
            "padding": null,
            "right": null,
            "top": null,
            "visibility": null,
            "width": null
          }
        },
        "cbfa0a7c807a411bb45b8f68f26f1b4c": {
          "model_module": "@jupyter-widgets/controls",
          "model_name": "DescriptionStyleModel",
          "model_module_version": "1.5.0",
          "state": {
            "_model_module": "@jupyter-widgets/controls",
            "_model_module_version": "1.5.0",
            "_model_name": "DescriptionStyleModel",
            "_view_count": null,
            "_view_module": "@jupyter-widgets/base",
            "_view_module_version": "1.2.0",
            "_view_name": "StyleView",
            "description_width": ""
          }
        },
        "ef785abc88c3458ab3db915227dc053b": {
          "model_module": "@jupyter-widgets/base",
          "model_name": "LayoutModel",
          "model_module_version": "1.2.0",
          "state": {
            "_model_module": "@jupyter-widgets/base",
            "_model_module_version": "1.2.0",
            "_model_name": "LayoutModel",
            "_view_count": null,
            "_view_module": "@jupyter-widgets/base",
            "_view_module_version": "1.2.0",
            "_view_name": "LayoutView",
            "align_content": null,
            "align_items": null,
            "align_self": null,
            "border": null,
            "bottom": null,
            "display": null,
            "flex": null,
            "flex_flow": null,
            "grid_area": null,
            "grid_auto_columns": null,
            "grid_auto_flow": null,
            "grid_auto_rows": null,
            "grid_column": null,
            "grid_gap": null,
            "grid_row": null,
            "grid_template_areas": null,
            "grid_template_columns": null,
            "grid_template_rows": null,
            "height": null,
            "justify_content": null,
            "justify_items": null,
            "left": null,
            "margin": null,
            "max_height": null,
            "max_width": null,
            "min_height": null,
            "min_width": null,
            "object_fit": null,
            "object_position": null,
            "order": null,
            "overflow": null,
            "overflow_x": null,
            "overflow_y": null,
            "padding": null,
            "right": null,
            "top": null,
            "visibility": null,
            "width": null
          }
        },
        "09c932bc0f884894aefcbaab55799b92": {
          "model_module": "@jupyter-widgets/controls",
          "model_name": "ProgressStyleModel",
          "model_module_version": "1.5.0",
          "state": {
            "_model_module": "@jupyter-widgets/controls",
            "_model_module_version": "1.5.0",
            "_model_name": "ProgressStyleModel",
            "_view_count": null,
            "_view_module": "@jupyter-widgets/base",
            "_view_module_version": "1.2.0",
            "_view_name": "StyleView",
            "bar_color": null,
            "description_width": ""
          }
        },
        "a9cbd7632ab444bf8b2b6b0fc4f1473f": {
          "model_module": "@jupyter-widgets/controls",
          "model_name": "VBoxModel",
          "model_module_version": "1.5.0",
          "state": {
            "_dom_classes": [],
            "_model_module": "@jupyter-widgets/controls",
            "_model_module_version": "1.5.0",
            "_model_name": "VBoxModel",
            "_view_count": null,
            "_view_module": "@jupyter-widgets/controls",
            "_view_module_version": "1.5.0",
            "_view_name": "VBoxView",
            "box_style": "",
            "children": [
              "IPY_MODEL_9da14d5d08b7408ca7f9186525cc21b1",
              "IPY_MODEL_46a985d43b1e4758ae86b36f0c36ed2c"
            ],
            "layout": "IPY_MODEL_a3d0fe4407664b40bbb8ea943a1909f8"
          }
        },
        "9da14d5d08b7408ca7f9186525cc21b1": {
          "model_module": "@jupyter-widgets/controls",
          "model_name": "LabelModel",
          "model_module_version": "1.5.0",
          "state": {
            "_dom_classes": [],
            "_model_module": "@jupyter-widgets/controls",
            "_model_module_version": "1.5.0",
            "_model_name": "LabelModel",
            "_view_count": null,
            "_view_module": "@jupyter-widgets/controls",
            "_view_module_version": "1.5.0",
            "_view_name": "LabelView",
            "description": "",
            "description_tooltip": null,
            "layout": "IPY_MODEL_b9915e8d091348a494310a51a53abfec",
            "placeholder": "​",
            "style": "IPY_MODEL_79a40047605c430697641d6110d303fa",
            "value": "0.258 MB of 0.258 MB uploaded (0.000 MB deduped)\r"
          }
        },
        "46a985d43b1e4758ae86b36f0c36ed2c": {
          "model_module": "@jupyter-widgets/controls",
          "model_name": "FloatProgressModel",
          "model_module_version": "1.5.0",
          "state": {
            "_dom_classes": [],
            "_model_module": "@jupyter-widgets/controls",
            "_model_module_version": "1.5.0",
            "_model_name": "FloatProgressModel",
            "_view_count": null,
            "_view_module": "@jupyter-widgets/controls",
            "_view_module_version": "1.5.0",
            "_view_name": "ProgressView",
            "bar_style": "",
            "description": "",
            "description_tooltip": null,
            "layout": "IPY_MODEL_53e9768eb91a48b7a76e67fbad980599",
            "max": 1,
            "min": 0,
            "orientation": "horizontal",
            "style": "IPY_MODEL_a9534ae9a8594af9bbfa606955a8fbcf",
            "value": 1
          }
        },
        "a3d0fe4407664b40bbb8ea943a1909f8": {
          "model_module": "@jupyter-widgets/base",
          "model_name": "LayoutModel",
          "model_module_version": "1.2.0",
          "state": {
            "_model_module": "@jupyter-widgets/base",
            "_model_module_version": "1.2.0",
            "_model_name": "LayoutModel",
            "_view_count": null,
            "_view_module": "@jupyter-widgets/base",
            "_view_module_version": "1.2.0",
            "_view_name": "LayoutView",
            "align_content": null,
            "align_items": null,
            "align_self": null,
            "border": null,
            "bottom": null,
            "display": null,
            "flex": null,
            "flex_flow": null,
            "grid_area": null,
            "grid_auto_columns": null,
            "grid_auto_flow": null,
            "grid_auto_rows": null,
            "grid_column": null,
            "grid_gap": null,
            "grid_row": null,
            "grid_template_areas": null,
            "grid_template_columns": null,
            "grid_template_rows": null,
            "height": null,
            "justify_content": null,
            "justify_items": null,
            "left": null,
            "margin": null,
            "max_height": null,
            "max_width": null,
            "min_height": null,
            "min_width": null,
            "object_fit": null,
            "object_position": null,
            "order": null,
            "overflow": null,
            "overflow_x": null,
            "overflow_y": null,
            "padding": null,
            "right": null,
            "top": null,
            "visibility": null,
            "width": null
          }
        },
        "b9915e8d091348a494310a51a53abfec": {
          "model_module": "@jupyter-widgets/base",
          "model_name": "LayoutModel",
          "model_module_version": "1.2.0",
          "state": {
            "_model_module": "@jupyter-widgets/base",
            "_model_module_version": "1.2.0",
            "_model_name": "LayoutModel",
            "_view_count": null,
            "_view_module": "@jupyter-widgets/base",
            "_view_module_version": "1.2.0",
            "_view_name": "LayoutView",
            "align_content": null,
            "align_items": null,
            "align_self": null,
            "border": null,
            "bottom": null,
            "display": null,
            "flex": null,
            "flex_flow": null,
            "grid_area": null,
            "grid_auto_columns": null,
            "grid_auto_flow": null,
            "grid_auto_rows": null,
            "grid_column": null,
            "grid_gap": null,
            "grid_row": null,
            "grid_template_areas": null,
            "grid_template_columns": null,
            "grid_template_rows": null,
            "height": null,
            "justify_content": null,
            "justify_items": null,
            "left": null,
            "margin": null,
            "max_height": null,
            "max_width": null,
            "min_height": null,
            "min_width": null,
            "object_fit": null,
            "object_position": null,
            "order": null,
            "overflow": null,
            "overflow_x": null,
            "overflow_y": null,
            "padding": null,
            "right": null,
            "top": null,
            "visibility": null,
            "width": null
          }
        },
        "79a40047605c430697641d6110d303fa": {
          "model_module": "@jupyter-widgets/controls",
          "model_name": "DescriptionStyleModel",
          "model_module_version": "1.5.0",
          "state": {
            "_model_module": "@jupyter-widgets/controls",
            "_model_module_version": "1.5.0",
            "_model_name": "DescriptionStyleModel",
            "_view_count": null,
            "_view_module": "@jupyter-widgets/base",
            "_view_module_version": "1.2.0",
            "_view_name": "StyleView",
            "description_width": ""
          }
        },
        "53e9768eb91a48b7a76e67fbad980599": {
          "model_module": "@jupyter-widgets/base",
          "model_name": "LayoutModel",
          "model_module_version": "1.2.0",
          "state": {
            "_model_module": "@jupyter-widgets/base",
            "_model_module_version": "1.2.0",
            "_model_name": "LayoutModel",
            "_view_count": null,
            "_view_module": "@jupyter-widgets/base",
            "_view_module_version": "1.2.0",
            "_view_name": "LayoutView",
            "align_content": null,
            "align_items": null,
            "align_self": null,
            "border": null,
            "bottom": null,
            "display": null,
            "flex": null,
            "flex_flow": null,
            "grid_area": null,
            "grid_auto_columns": null,
            "grid_auto_flow": null,
            "grid_auto_rows": null,
            "grid_column": null,
            "grid_gap": null,
            "grid_row": null,
            "grid_template_areas": null,
            "grid_template_columns": null,
            "grid_template_rows": null,
            "height": null,
            "justify_content": null,
            "justify_items": null,
            "left": null,
            "margin": null,
            "max_height": null,
            "max_width": null,
            "min_height": null,
            "min_width": null,
            "object_fit": null,
            "object_position": null,
            "order": null,
            "overflow": null,
            "overflow_x": null,
            "overflow_y": null,
            "padding": null,
            "right": null,
            "top": null,
            "visibility": null,
            "width": null
          }
        },
        "a9534ae9a8594af9bbfa606955a8fbcf": {
          "model_module": "@jupyter-widgets/controls",
          "model_name": "ProgressStyleModel",
          "model_module_version": "1.5.0",
          "state": {
            "_model_module": "@jupyter-widgets/controls",
            "_model_module_version": "1.5.0",
            "_model_name": "ProgressStyleModel",
            "_view_count": null,
            "_view_module": "@jupyter-widgets/base",
            "_view_module_version": "1.2.0",
            "_view_name": "StyleView",
            "bar_color": null,
            "description_width": ""
          }
        }
      }
    }
  },
  "cells": [
    {
      "cell_type": "code",
      "execution_count": 1,
      "metadata": {
        "id": "vqarvkJMmDXg",
        "colab": {
          "base_uri": "https://localhost:8080/"
        },
        "outputId": "ef0f9b03-4b2d-453a-e640-ba865073cdae"
      },
      "outputs": [
        {
          "output_type": "stream",
          "name": "stdout",
          "text": [
            "Collecting wget\n",
            "  Downloading wget-3.2.zip (10 kB)\n",
            "Building wheels for collected packages: wget\n",
            "  Building wheel for wget (setup.py) ... \u001b[?25l\u001b[?25hdone\n",
            "  Created wheel for wget: filename=wget-3.2-py3-none-any.whl size=9675 sha256=31c28e8749adef99af7f11b0e7fcf18b60edca315a5f7a0a0f0cb558b16c1aea\n",
            "  Stored in directory: /root/.cache/pip/wheels/a1/b6/7c/0e63e34eb06634181c63adacca38b79ff8f35c37e3c13e3c02\n",
            "Successfully built wget\n",
            "Installing collected packages: wget\n",
            "Successfully installed wget-3.2\n",
            "Collecting wandb\n",
            "  Downloading wandb-0.12.15-py2.py3-none-any.whl (1.8 MB)\n",
            "\u001b[K     |████████████████████████████████| 1.8 MB 4.0 MB/s \n",
            "\u001b[?25hCollecting pathtools\n",
            "  Downloading pathtools-0.1.2.tar.gz (11 kB)\n",
            "Requirement already satisfied: python-dateutil>=2.6.1 in /usr/local/lib/python3.7/dist-packages (from wandb) (2.8.2)\n",
            "Collecting shortuuid>=0.5.0\n",
            "  Downloading shortuuid-1.0.8-py3-none-any.whl (9.5 kB)\n",
            "Requirement already satisfied: six>=1.13.0 in /usr/local/lib/python3.7/dist-packages (from wandb) (1.15.0)\n",
            "Collecting docker-pycreds>=0.4.0\n",
            "  Downloading docker_pycreds-0.4.0-py2.py3-none-any.whl (9.0 kB)\n",
            "Collecting GitPython>=1.0.0\n",
            "  Downloading GitPython-3.1.27-py3-none-any.whl (181 kB)\n",
            "\u001b[K     |████████████████████████████████| 181 kB 65.5 MB/s \n",
            "\u001b[?25hRequirement already satisfied: PyYAML in /usr/local/lib/python3.7/dist-packages (from wandb) (3.13)\n",
            "Requirement already satisfied: promise<3,>=2.0 in /usr/local/lib/python3.7/dist-packages (from wandb) (2.3)\n",
            "Collecting setproctitle\n",
            "  Downloading setproctitle-1.2.3-cp37-cp37m-manylinux_2_5_x86_64.manylinux1_x86_64.manylinux_2_17_x86_64.manylinux2014_x86_64.whl (29 kB)\n",
            "Requirement already satisfied: psutil>=5.0.0 in /usr/local/lib/python3.7/dist-packages (from wandb) (5.4.8)\n",
            "Requirement already satisfied: requests<3,>=2.0.0 in /usr/local/lib/python3.7/dist-packages (from wandb) (2.23.0)\n",
            "Collecting sentry-sdk>=1.0.0\n",
            "  Downloading sentry_sdk-1.5.10-py2.py3-none-any.whl (144 kB)\n",
            "\u001b[K     |████████████████████████████████| 144 kB 71.3 MB/s \n",
            "\u001b[?25hRequirement already satisfied: protobuf>=3.12.0 in /usr/local/lib/python3.7/dist-packages (from wandb) (3.17.3)\n",
            "Requirement already satisfied: Click!=8.0.0,>=7.0 in /usr/local/lib/python3.7/dist-packages (from wandb) (7.1.2)\n",
            "Requirement already satisfied: typing-extensions>=3.7.4.3 in /usr/local/lib/python3.7/dist-packages (from GitPython>=1.0.0->wandb) (4.2.0)\n",
            "Collecting gitdb<5,>=4.0.1\n",
            "  Downloading gitdb-4.0.9-py3-none-any.whl (63 kB)\n",
            "\u001b[K     |████████████████████████████████| 63 kB 2.1 MB/s \n",
            "\u001b[?25hCollecting smmap<6,>=3.0.1\n",
            "  Downloading smmap-5.0.0-py3-none-any.whl (24 kB)\n",
            "Requirement already satisfied: idna<3,>=2.5 in /usr/local/lib/python3.7/dist-packages (from requests<3,>=2.0.0->wandb) (2.10)\n",
            "Requirement already satisfied: urllib3!=1.25.0,!=1.25.1,<1.26,>=1.21.1 in /usr/local/lib/python3.7/dist-packages (from requests<3,>=2.0.0->wandb) (1.24.3)\n",
            "Requirement already satisfied: chardet<4,>=3.0.2 in /usr/local/lib/python3.7/dist-packages (from requests<3,>=2.0.0->wandb) (3.0.4)\n",
            "Requirement already satisfied: certifi>=2017.4.17 in /usr/local/lib/python3.7/dist-packages (from requests<3,>=2.0.0->wandb) (2021.10.8)\n",
            "Building wheels for collected packages: pathtools\n",
            "  Building wheel for pathtools (setup.py) ... \u001b[?25l\u001b[?25hdone\n",
            "  Created wheel for pathtools: filename=pathtools-0.1.2-py3-none-any.whl size=8806 sha256=1da012e5a3316957c42961cfd84fbbae1acf14abf59699dbc587e69bb3d913d1\n",
            "  Stored in directory: /root/.cache/pip/wheels/3e/31/09/fa59cef12cdcfecc627b3d24273699f390e71828921b2cbba2\n",
            "Successfully built pathtools\n",
            "Installing collected packages: smmap, gitdb, shortuuid, setproctitle, sentry-sdk, pathtools, GitPython, docker-pycreds, wandb\n",
            "Successfully installed GitPython-3.1.27 docker-pycreds-0.4.0 gitdb-4.0.9 pathtools-0.1.2 sentry-sdk-1.5.10 setproctitle-1.2.3 shortuuid-1.0.8 smmap-5.0.0 wandb-0.12.15\n",
            "Collecting xtarfile\n",
            "  Downloading xtarfile-0.1.0.tar.gz (3.4 kB)\n",
            "Building wheels for collected packages: xtarfile\n",
            "  Building wheel for xtarfile (setup.py) ... \u001b[?25l\u001b[?25hdone\n",
            "  Created wheel for xtarfile: filename=xtarfile-0.1.0-py3-none-any.whl size=3862 sha256=4ba6df037500d83bddb7bce974d5e336b9715bf2d838d7c1ac0cf244d9167cc7\n",
            "  Stored in directory: /root/.cache/pip/wheels/14/ed/96/b06b7600d9d2eb6068fed8ded4282aeb3addf5b213dfe48819\n",
            "Successfully built xtarfile\n",
            "Installing collected packages: xtarfile\n",
            "Successfully installed xtarfile-0.1.0\n"
          ]
        }
      ],
      "source": [
        "!pip install wget\n",
        "!pip install wandb\n",
        "!pip install xtarfile"
      ]
    },
    {
      "cell_type": "code",
      "source": [
        "from wandb.keras import WandbCallback\n",
        "import wandb\n",
        "WANDB_LOG=True"
      ],
      "metadata": {
        "id": "KLnJkJBy0AeD"
      },
      "execution_count": 2,
      "outputs": []
    },
    {
      "cell_type": "code",
      "source": [
        "\n",
        "import os\n",
        "from os.path import exists\n",
        "import matplotlib.pyplot as plt\n",
        "import matplotlib.image as mpimg\n",
        "import random \n",
        "import numpy as np\n",
        "import keras\n",
        "import tensorflow as tf\n",
        "import xtarfile as tarfile\n",
        "import csv\n",
        "from keras import Model\n",
        "from keras.layers import Layer\n",
        "import keras.backend as K"
      ],
      "metadata": {
        "id": "0eVzua54V5yo"
      },
      "execution_count": 3,
      "outputs": []
    },
    {
      "cell_type": "markdown",
      "source": [
        "### Configuration"
      ],
      "metadata": {
        "id": "EFsX2Vhd50zn"
      }
    },
    {
      "cell_type": "code",
      "source": [
        "START_TOKEN=\"0\"\n",
        "END_TOKEN=\"1\""
      ],
      "metadata": {
        "id": "4MNmEmv-Eyiv"
      },
      "execution_count": 4,
      "outputs": []
    },
    {
      "cell_type": "code",
      "source": [
        "\n",
        "import os\n",
        "from os.path import exists\n",
        "import matplotlib.pyplot as plt\n",
        "import matplotlib.image as mpimg\n",
        "import random \n",
        "import numpy as np\n",
        "import keras\n",
        "import tensorflow as tf\n",
        "import xtarfile as tarfile\n",
        "import csv\n",
        "class Dataset:\n",
        "    \n",
        "    def downloadDataSet(self):\n",
        "      cwd = os.getcwd()\n",
        "     \n",
        "      file_exists = exists('./dakshina_dataset_v1.0.tar')\n",
        "      if(file_exists==False):\n",
        "        print('downloading....')\n",
        "        os.system('curl -SL https://storage.googleapis.com/gresearch/dakshina/dakshina_dataset_v1.0.tar > dakshina_dataset_v1.0.tar')\n",
        "        print('download Complete')\n",
        "      extract_exists = exists('./dakshina_dataset_v1.0/')   \n",
        "      if(extract_exists==False): \n",
        "        print('Extracting..') \n",
        "        with tarfile.open('dakshina_dataset_v1.0.tar', 'r') as archive:\n",
        "            archive.extractall()\n",
        "        print('Complete')\n",
        "\n",
        "      print('You are all set')\n",
        "\n",
        "    def readData(self,dir,start_token=\"0\",end_token=\"1\"):\n",
        "      # Vectorize the data.\n",
        "      input_texts=list()\n",
        "      target_texts=list()\n",
        "      original_input_texts=list()\n",
        "      original_target_texts=list()\n",
        "      input_characters = set()\n",
        "      target_characters = set()\n",
        "      with open(dir, \"r\", encoding=\"utf-8\") as f:\n",
        "        lines = f.read().split(\"\\n\")\n",
        "      \n",
        "      for line in lines:\n",
        "          ln = line.split(\"\\t\")\n",
        "          if(len(ln)==3):\n",
        "            target_text=ln[0].strip()  \n",
        "            input_text=ln[1].strip()\n",
        "            original_input_texts.append(input_text)\n",
        "            original_target_texts.append(target_text)\n",
        "            input_text+=end_token\n",
        "            target_text = start_token + target_text + end_token\n",
        "            input_texts.append(input_text)\n",
        "            target_texts.append(target_text)\n",
        "            for char in input_text:\n",
        "              if char not in input_characters:\n",
        "                input_characters.add(char)\n",
        "            for char in target_text:\n",
        "             if char not in target_characters:\n",
        "               target_characters.add(char)\n",
        "      input_characters = sorted(list(input_characters))\n",
        "      target_characters = sorted(list(target_characters))\n",
        "      return original_input_texts,original_target_texts,input_texts,target_texts,input_characters,target_characters\n",
        "\n",
        "\n",
        "   \n",
        "\n",
        "    #def encode_decode_characters(self,train_input, train_target, val_input=[], val_target=[],start_token=\"\\t\",end_token=\"\\n\"):\n",
        "    def encode_decode_characters(self,train_input, train_target,start_token=\"0\",end_token=\"1\"):\n",
        "        # Returns the encoding for characters to integer (as a dictionary) and decoding for integers to characters (as a list) for in\n",
        "        BLANK_CHAR=' '\n",
        "        # Encoding and decoding of input vocabulary\n",
        "        input_char_enc = {}\n",
        "        input_char_dec = []\n",
        "        max_encoder_seq_length = 1\n",
        "        tmplist=[]\n",
        "        for i in train_input:\n",
        "            tmplist.append(i)\n",
        "        \"\"\"for i in val_input:\n",
        "            tmplist.append(i)\"\"\"\n",
        "        for string in tmplist:\n",
        "            max_encoder_seq_length = max(max_encoder_seq_length, len(string))\n",
        "            for char in string:\n",
        "                if char not in input_char_enc:\n",
        "                    input_char_enc[char] = len(input_char_dec)\n",
        "                    input_char_dec.append(char)\n",
        "        \"\"\"if BLANK_CHAR not in input_char_enc:\n",
        "            input_char_enc[BLANK_CHAR] = len(input_char_dec)\n",
        "            input_char_dec.append(BLANK_CHAR)\n",
        "\"\"\"\n",
        "        # Encoding and decoding of target vocabulary\n",
        "        target_char_enc = {}\n",
        "        target_char_dec = []\n",
        "        #target_char_enc[start_token] = len(target_char_dec)\n",
        "        #target_char_dec.append(start_token)\n",
        "        max_decoder_seq_length = 1\n",
        "        for string in train_target :#+ val_target:\n",
        "            max_decoder_seq_length = max(max_decoder_seq_length, len(string)+2)\n",
        "            for char in string:\n",
        "                if char not in target_char_enc:\n",
        "                    target_char_enc[char] = len(target_char_dec)\n",
        "                    target_char_dec.append(char)\n",
        "        #target_char_enc[end_token] = len(target_char_dec)\n",
        "        #target_char_dec.append(end_token)\n",
        "        \"\"\"if ' ' not in target_char_enc:\n",
        "            target_char_enc[BLANK_CHAR] = len(target_char_dec)\n",
        "            target_char_dec.append(BLANK_CHAR)\"\"\"\n",
        "\n",
        "        \"\"\"print(\"Number of training samples:\", len(train_input))\n",
        "        print(\"Number of validation samples:\", len(val_input))\n",
        "        print(\"Number of unique input tokens:\", len(input_char_dec))\n",
        "        print(\"Number of unique output tokens:\", len(target_char_dec))\n",
        "        print(\"Max sequence length for inputs:\", max_encoder_seq_length)\n",
        "        print(\"Max sequence length for outputs:\", max_decoder_seq_length)\"\"\"\n",
        "\n",
        "        return input_char_enc, input_char_dec, target_char_enc, target_char_dec, max_encoder_seq_length, max_decoder_seq_length\n",
        "    def preprocessing(self,input_char_enc, input_char_dec, target_char_enc, target_char_dec,max_encoder_seq_length,max_decoder_seq_length,input_texts,target_texts,start_token=\"0\",end_token=\"1\"):\n",
        "        encoder_input_data = np.zeros((len(input_texts), max_encoder_seq_length), dtype=\"float32\")\n",
        "        decoder_input_data = np.zeros((len(input_texts), max_decoder_seq_length), dtype=\"float32\")\n",
        "        decoder_target_data = np.zeros((len(input_texts), max_decoder_seq_length, len(target_char_dec)), dtype=\"float32\")\n",
        "        for i, (input_text, target_text) in enumerate(zip(input_texts, target_texts)):\n",
        "            for t, char in enumerate(input_text):\n",
        "                encoder_input_data[i, t] =input_char_enc[char]\n",
        "            #encoder_input_data[i, t + 1 :] = input_char_enc[start_token]\n",
        "\n",
        "            for t, char in enumerate(target_text):\n",
        "                # decoder_target_data is ahead of decoder_input_data by one timestep\n",
        "                decoder_input_data[i, t, ] = target_char_enc[char]\n",
        "                if t > 0:\n",
        "                    # decoder_target_data will be ahead by one timestep\n",
        "                    # and will not include the start character.\n",
        "                    decoder_target_data[i, t - 1, target_char_enc[char]] = 1.0\n",
        "            decoder_input_data[i, t + 1 :] = target_char_enc[end_token]\n",
        "            decoder_target_data[i, t:, target_char_enc[end_token]] = 1.0\n",
        "        return encoder_input_data,decoder_input_data,decoder_target_data\n",
        "\n",
        "\n",
        "       \n",
        "   "
      ],
      "metadata": {
        "id": "TBek5g_qmLSG"
      },
      "execution_count": 5,
      "outputs": []
    },
    {
      "cell_type": "markdown",
      "source": [
        "### Sequence to sequence With Attention"
      ],
      "metadata": {
        "id": "ULotB0chTedm"
      }
    },
    {
      "cell_type": "code",
      "source": [
        "from keras.layers import Layer\n",
        "import keras.backend as K\n",
        "\n",
        "class AttentionLayer(Layer):\n",
        "    \"\"\"\n",
        "    This class implements Bahdanau attention (https://arxiv.org/pdf/1409.0473.pdf).\n",
        "    There are three sets of weights introduced W_a, U_a, and V_a\n",
        "    Credits to Tensorflow.org and  https://github.com/thushv89/attention_keras/\n",
        "    \"\"\"\n",
        "\n",
        "    def __init__(self, **kwargs):\n",
        "        super(AttentionLayer, self).__init__(**kwargs)\n",
        "\n",
        "    def build(self, input_shape):\n",
        "        assert isinstance(input_shape, list)\n",
        "        # Create a trainable weight variable for this layer.\n",
        "\n",
        "        self.W_a = self.add_weight(name='W_a',\n",
        "                                   shape=tf.TensorShape((input_shape[0][2], input_shape[0][2])),\n",
        "                                   initializer='glorot_uniform',\n",
        "                                   trainable=True)\n",
        "        self.U_a = self.add_weight(name='U_a',\n",
        "                                   shape=tf.TensorShape((input_shape[1][2], input_shape[0][2])),\n",
        "                                   initializer='glorot_uniform',\n",
        "                                   trainable=True)\n",
        "        self.V_a = self.add_weight(name='V_a',\n",
        "                                   shape=tf.TensorShape((input_shape[0][2], 1)),\n",
        "                                   initializer='glorot_uniform',\n",
        "                                   trainable=True)\n",
        "\n",
        "        super(AttentionLayer, self).build(input_shape)  # Be sure to call this at the end\n",
        "\n",
        "    def call(self, inputs, verbose=False):\n",
        "        \"\"\"\n",
        "        inputs: [encoder_output_sequence, decoder_output_sequence]\n",
        "        \"\"\"\n",
        "        assert type(inputs) == list\n",
        "        encoder_out_seq, decoder_out_seq = inputs\n",
        "        if verbose:\n",
        "            print('encoder_out_seq>', encoder_out_seq.shape)\n",
        "            print('decoder_out_seq>', decoder_out_seq.shape)\n",
        "\n",
        "        def energy_step(inputs, states):\n",
        "            \"\"\" Step function for computing energy for a single decoder state\n",
        "            inputs: (batchsize * 1 * de_in_dim)\n",
        "            states: (batchsize * 1 * de_latent_dim)\n",
        "            \"\"\"\n",
        "\n",
        "            assert_msg = \"States must be an iterable. Got {} of type {}\".format(states, type(states))\n",
        "            assert isinstance(states, list) or isinstance(states, tuple), assert_msg\n",
        "\n",
        "            \"\"\" Some parameters required for shaping tensors\"\"\"\n",
        "            en_seq_len, en_hidden = encoder_out_seq.shape[1], encoder_out_seq.shape[2]\n",
        "            de_hidden = inputs.shape[-1]\n",
        "\n",
        "            \"\"\" Computing S.Wa where S=[s0, s1, ..., si]\"\"\"\n",
        "            # <= batch size * en_seq_len * latent_dim\n",
        "            W_a_dot_s = K.dot(encoder_out_seq, self.W_a)\n",
        "\n",
        "            \"\"\" Computing hj.Ua \"\"\"\n",
        "            U_a_dot_h = K.expand_dims(K.dot(inputs, self.U_a), 1)  # <= batch_size, 1, latent_dim\n",
        "            if verbose:\n",
        "                print('Ua.h>', U_a_dot_h.shape)\n",
        "\n",
        "            \"\"\" tanh(S.Wa + hj.Ua) \"\"\"\n",
        "            # <= batch_size*en_seq_len, latent_dim\n",
        "            Ws_plus_Uh = K.tanh(W_a_dot_s + U_a_dot_h)\n",
        "            if verbose:\n",
        "                print('Ws+Uh>', Ws_plus_Uh.shape)\n",
        "\n",
        "            \"\"\" softmax(va.tanh(S.Wa + hj.Ua)) \"\"\"\n",
        "            # <= batch_size, en_seq_len\n",
        "            e_i = K.squeeze(K.dot(Ws_plus_Uh, self.V_a), axis=-1)\n",
        "            # <= batch_size, en_seq_len\n",
        "            e_i = K.softmax(e_i)\n",
        "\n",
        "            if verbose:\n",
        "                print('ei>', e_i.shape)\n",
        "\n",
        "            return e_i, [e_i]\n",
        "\n",
        "        def context_step(inputs, states):\n",
        "            \"\"\" Step function for computing ci using ei \"\"\"\n",
        "\n",
        "            assert_msg = \"States must be an iterable. Got {} of type {}\".format(states, type(states))\n",
        "            assert isinstance(states, list) or isinstance(states, tuple), assert_msg\n",
        "\n",
        "            # <= batch_size, hidden_size\n",
        "            c_i = K.sum(encoder_out_seq * K.expand_dims(inputs, -1), axis=1)\n",
        "            if verbose:\n",
        "                print('ci>', c_i.shape)\n",
        "            return c_i, [c_i]\n",
        "\n",
        "        fake_state_c = K.sum(encoder_out_seq, axis=1)\n",
        "        fake_state_e = K.sum(encoder_out_seq, axis=2)  # <= (batch_size, enc_seq_len, latent_dim\n",
        "\n",
        "        \"\"\" Computing energy outputs \"\"\"\n",
        "        # e_outputs => (batch_size, de_seq_len, en_seq_len)\n",
        "        last_out, e_outputs, _ = K.rnn(\n",
        "            energy_step, decoder_out_seq, [fake_state_e],\n",
        "        )\n",
        "\n",
        "        \"\"\" Computing context vectors \"\"\"\n",
        "        last_out, c_outputs, _ = K.rnn(\n",
        "            context_step, e_outputs, [fake_state_c],\n",
        "        )\n",
        "\n",
        "        return c_outputs, e_outputs\n",
        "\n",
        "    def compute_output_shape(self, input_shape):\n",
        "        \"\"\" Outputs produced by the layer \"\"\"\n",
        "        return [\n",
        "            # (batch_size, decoder_timesteps, decoder_hid_layer_size)\n",
        "            tf.TensorShape((input_shape[1][0], input_shape[1][1], input_shape[1][2])),\n",
        "            # (batch_size, decoder_timesteps, encoder_timesteps)\n",
        "            tf.TensorShape((input_shape[1][0], input_shape[1][1], input_shape[0][1]))\n",
        "        ]"
      ],
      "metadata": {
        "id": "5Kqz8OA3c9DK"
      },
      "execution_count": 6,
      "outputs": []
    },
    {
      "cell_type": "code",
      "source": [
        "from keras.utils.vis_utils import plot_model\n",
        "import matplotlib.pyplot as plt\n",
        "import matplotlib.image as mpimg\n",
        "from keras.utils.vis_utils import plot_model\n",
        "class seqTOseq:\n",
        "  def parameters(self,input_char_dec,target_char_dec,\\\n",
        "                 num_of_encoders=1,\\\n",
        "                 num_of_decoders=1,\\\n",
        "                 latent_dim=64,\\\n",
        "                 inp_emb_size=64,\\\n",
        "                 cell_type=\"lstm\",\\\n",
        "                 cell_activation=\"tanh\",\\\n",
        "                 optimizer=\"adam\",\\\n",
        "                 dropout=0,\\\n",
        "                 lr=0.001):\n",
        "      self.num_encoder_tokens=len(input_char_dec)\n",
        "      self.num_decoder_tokens=len(target_char_dec)\n",
        "      self.latent_dim=latent_dim\n",
        "      self.cell_type=cell_type\n",
        "      self.optimizer=optimizer\n",
        "      self.lr=lr\n",
        "      self.num_of_encoders=num_of_encoders\n",
        "      self.num_of_decoders=num_of_decoders\n",
        "      self.dropout=dropout\n",
        "      self.inp_emb_size=inp_emb_size\n",
        "      self.cell_activation=cell_activation\n",
        "  def model(self):\n",
        "      if(self.cell_type==\"rnn\"):\n",
        "         cell=keras.layers.SimpleRNN\n",
        "      if(self.cell_type==\"lstm\"):\n",
        "        cell=keras.layers.LSTM     \n",
        "      if(self.cell_type==\"gru\"):\n",
        "         cell=keras.layers.GRU\n",
        "      # Define an input sequence and process it.\n",
        "      \n",
        "      encoder_input = keras.layers.Input(shape=(None,), name=\"input_1\")\n",
        "      encoder_inp_emb = keras.layers.Embedding(self.num_encoder_tokens, self.inp_emb_size, name=\"embedding_1\")(encoder_input)\n",
        "      encoder =cell(self.latent_dim, return_state=True,\\\n",
        "                    return_sequences=True,\\\n",
        "                    activation=self.cell_activation,\\\n",
        "                    name=\"encoder_1\",\\\n",
        "                    dropout=self.dropout)        \n",
        "    \n",
        "      encoder_outputs, *encoder_states = encoder(encoder_inp_emb)\n",
        "      for i in range(1,self.num_of_encoders):\n",
        "        encoder_outputs, *encoder_states = cell(self.latent_dim,\\\n",
        "                                       return_state=True,\\\n",
        "                                       return_sequences=True,\\\n",
        "                                       activation=self.cell_activation,\\\n",
        "                                       dropout=self.dropout,\\\n",
        "                                       name=\"encoder_\"+str(i+1))(\n",
        "                                                        encoder_outputs,initial_state=encoder_states\n",
        "                                                 )\n",
        "      # Set up the decoder, using `encoder_states` as initial state.\n",
        "      decoder_inputs = keras.Input(shape=(None,), name=\"input_2\")\n",
        "      #input embedding \n",
        "      decoder_inp_emb = keras.layers.Embedding(self.num_decoder_tokens, self.inp_emb_size, name=\"embedding_2\")(decoder_inputs)\n",
        "      decoder=cell(self.latent_dim ,return_sequences=True,\\\n",
        "                   return_state=True,\\\n",
        "                   name=\"decoder_1\",\\\n",
        "                   activation=self.cell_activation,\\\n",
        "                   dropout=self.dropout)\n",
        "      decoder_outputs, *decode_states=decoder(decoder_inp_emb, initial_state=encoder_states)\n",
        "      \n",
        "      for i in range(1,self.num_of_decoders):\n",
        "        decoder_outputs, *decode_states = cell(self.latent_dim,\\\n",
        "                                       return_state=True,\\\n",
        "                                       return_sequences=True,\\\n",
        "                                       activation=self.cell_activation,\\\n",
        "                                       dropout=self.dropout,\\\n",
        "                                       name=\"decoder_\"+str(i+1))(\n",
        "                                                        decoder_outputs,initial_state=encoder_states)\n",
        "     \n",
        "      attn_out, attn_scores = AttentionLayer(name='attention_1')([encoder_outputs, decoder_outputs])        # Bahdanau Attention    \n",
        "      dense_concat_input = keras.layers.Concatenate(axis=-1, name='concat_layer_1')([decoder_outputs  ,attn_out])                            \n",
        "      decoder_dense = keras.layers.Dense(self.num_decoder_tokens, activation=\"softmax\")\n",
        "      decoder_outputs = decoder_dense(dense_concat_input)\n",
        "      # Define the model that will turn\n",
        "      # `encoder_input_data` & `decoder_input_data` into `decoder_target_data`\n",
        "      model = keras.Model([encoder_input, decoder_inputs], decoder_outputs)\n",
        "      if(self.optimizer==\"rmsprop\"):\n",
        "        optimizer=tf.keras.optimizers.RMSprop(learning_rate=self.lr)\n",
        "      else:\n",
        "        optimizer=tf.keras.optimizers.Adam(learning_rate=self.lr)\n",
        "      model.compile(optimizer=optimizer, loss=\"categorical_crossentropy\", metrics=[\"accuracy\"])\n",
        "      return model\n",
        "  def modelSummary(self,model):\n",
        "      plot_model(model, to_file='encoder_model.png', show_shapes=True)\n",
        "      f = plt.figure()\n",
        "      f.set_figwidth(20)\n",
        "      f.set_figheight(20)\n",
        "      plt.imshow(mpimg.imread('encoder_model.png'))\n",
        "      plt.axis('off')\n",
        " \n",
        "\n",
        "  "
      ],
      "metadata": {
        "id": "4AxX_XqyTeAj"
      },
      "execution_count": 7,
      "outputs": []
    },
    {
      "cell_type": "markdown",
      "source": [
        "### Read data from dataset"
      ],
      "metadata": {
        "id": "EfdCX8g50yfQ"
      }
    },
    {
      "cell_type": "code",
      "source": [
        "ds=Dataset()\n",
        "ds.downloadDataSet()\n",
        "language='te'\n",
        "train_dir='./dakshina_dataset_v1.0/'+language+'/lexicons/'+language+'.translit.sampled.train.tsv'\n",
        "val_dir='./dakshina_dataset_v1.0/'+language+'/lexicons/'+language+'.translit.sampled.dev.tsv'\n",
        "test_dir='./dakshina_dataset_v1.0/'+language+'/lexicons/'+language+'.translit.sampled.test.tsv'\n"
      ],
      "metadata": {
        "id": "mpI3tzE-nufK",
        "colab": {
          "base_uri": "https://localhost:8080/"
        },
        "outputId": "dd819df9-1797-4512-8674-c89de0047b75"
      },
      "execution_count": 8,
      "outputs": [
        {
          "output_type": "stream",
          "name": "stdout",
          "text": [
            "downloading....\n",
            "download Complete\n",
            "Extracting..\n",
            "Complete\n",
            "You are all set\n"
          ]
        }
      ]
    },
    {
      "cell_type": "markdown",
      "source": [
        "### Preprocessing data"
      ],
      "metadata": {
        "id": "KhEcRMQ5BXMQ"
      }
    },
    {
      "cell_type": "code",
      "source": [
        "train_original_input_texts,train_original_target_texts,train_ip_txt,train_op_txt,train_ip_chr,train_op_chr=ds.readData(train_dir)\n",
        "val_original_input_texts,val_original_target_texts,val_ip_txt,val_op_txt,val_ip_chr,val_op_chr=ds.readData(val_dir)\n",
        "test_original_input_texts,test_original_target_texts,test_ip_txt,test_op_txt,test_ip_chr,test_op_chr=ds.readData(test_dir)"
      ],
      "metadata": {
        "id": "Ax2volP1E5ar"
      },
      "execution_count": 9,
      "outputs": []
    },
    {
      "cell_type": "code",
      "source": [
        "\"\"\"input_char_enc, input_char_dec,\\\n",
        " target_char_enc,\\\n",
        "target_char_dec,\\\n",
        "max_encoder_seq_length,\\\n",
        "max_decoder_seq_length\\\n",
        "=ds.encode_decode_characters(train_ip_txt, train_op_txt, val_ip_txt, val_op_txt)\"\"\"\n",
        "\n",
        "input_char_enc, input_char_dec,\\\n",
        "target_char_enc,\\\n",
        "target_char_dec,\\\n",
        "max_encoder_seq_length,\\\n",
        "max_decoder_seq_length\\\n",
        "=ds.encode_decode_characters(train_ip_txt, train_op_txt)"
      ],
      "metadata": {
        "id": "4u73CvwnULwp"
      },
      "execution_count": 10,
      "outputs": []
    },
    {
      "cell_type": "markdown",
      "source": [
        "##### Assigning training, validation and test encoder input, decoder input, decoder output"
      ],
      "metadata": {
        "id": "GVfuIhU2VPbi"
      }
    },
    {
      "cell_type": "code",
      "source": [
        "\n",
        "train_enc_input, train_dec_input, train_dec_target\\\n",
        "= ds.preprocessing(input_char_enc, input_char_dec, target_char_enc, target_char_dec,max_encoder_seq_length,max_decoder_seq_length,train_ip_txt, train_op_txt)\n",
        "\n"
      ],
      "metadata": {
        "id": "btzi3FwVY5vc"
      },
      "execution_count": 11,
      "outputs": []
    },
    {
      "cell_type": "code",
      "source": [
        "val_enc_input, val_dec_input, val_dec_target = \\\n",
        "ds.preprocessing(input_char_enc, input_char_dec, target_char_enc, target_char_dec,\\\n",
        "                 max_encoder_seq_length,max_decoder_seq_length,val_ip_txt, val_op_txt)\n",
        "\n",
        "\n",
        "test_enc_input, test_dec_input, test_dec_target =\\\n",
        " ds.preprocessing(input_char_enc, input_char_dec, target_char_enc, target_char_dec,max_encoder_seq_length,max_decoder_seq_length\\\n",
        "                  ,test_ip_txt, test_op_txt)\n"
      ],
      "metadata": {
        "id": "hWkdM4Fh-QZF"
      },
      "execution_count": 12,
      "outputs": []
    },
    {
      "cell_type": "markdown",
      "source": [
        "### Call the model"
      ],
      "metadata": {
        "id": "HUYTFcZ-9aWD"
      }
    },
    {
      "cell_type": "code",
      "source": [
        "class CustomCallback(keras.callbacks.Callback):\n",
        "    def __init__(self, model):\n",
        "        self.model = model\n",
        "       \n",
        "    def on_epoch_end(self, epoch, logs={}):\n",
        "        key_list = list(target_char_enc.keys())\n",
        "        val_list = list(target_char_enc.values())\n",
        "        predicted_data=self.model.predict([val_enc_input, val_dec_input ])\n",
        "        targetpredicted=[]\n",
        "        itr=0\n",
        "        for data in predicted_data:\n",
        "          wordip=test_ip_txt[itr]\n",
        "          itr+=1\n",
        "          wordop=\"\"\n",
        "          for i in data:\n",
        "          \n",
        "            index=np.argmax(i)\n",
        "            position = val_list.index(index)\n",
        "            wordop+=key_list[position]\n",
        "\n",
        "          #wordop=wordop.replace('\\t', '')\n",
        "          #wordop=wordop.replace('\\n', '')\n",
        "          wordop=wordop.replace('0', '')\n",
        "          wordop=wordop.replace('1', '')\n",
        "          #wordop=wordop.replace(' ', '')\n",
        "          targetpredicted.append(wordop)\n",
        "          count=0\n",
        "          countTot=0\n",
        "        for i in range(len(targetpredicted)):\n",
        "          countTot+=1\n",
        "          if(val_original_target_texts[i]==targetpredicted[i]):\n",
        "              count+=1\n",
        "        print(\" val_exact_accuracy: \"+str (count/countTot))\n",
        "        if(WANDB_LOG):\n",
        "          cnt=count/countTot\n",
        "          wandb.log({\"val_exact_accuracy\":cnt})\n",
        "        "
      ],
      "metadata": {
        "id": "gLUP7yxKZsRf"
      },
      "execution_count": 13,
      "outputs": []
    },
    {
      "cell_type": "markdown",
      "source": [
        "#### Train the model"
      ],
      "metadata": {
        "id": "ushgNegLW8Tu"
      }
    },
    {
      "cell_type": "code",
      "source": [
        "sweep_config = {\n",
        "  \"name\": \"DL_Assignment3_Rnn\",\n",
        "  \"method\": \"bayes\",\n",
        "  \"metric\": {\n",
        "      \"name\": \"val_exact_accuracy\",\n",
        "      \"goal\": \"maximize\",\n",
        "  },\n",
        "  \n",
        "  \"parameters\": {\n",
        "        \"num_of_encoders\":{\n",
        "          \"values\":[1,2,3]    \n",
        "        },\n",
        "        \"num_of_decoders\":{\n",
        "            \"values\":[1,2,3]      \n",
        "\n",
        "        },\n",
        "        \"cell_type\":{\n",
        "          \"values\":['lstm']  \n",
        "        },\n",
        "        \n",
        "        \"lr\":{\n",
        "          \"values\":[0.001,0.002]  \n",
        "        },\n",
        "        \"optimizer\":{\n",
        "          \"values\":['adam']  \n",
        "        },\n",
        "        \"dropout\":{ \"values\": [0.25,0.3,0.4,0.5]},\n",
        "        \"latent_dim\":{ \"values\": [256,512]},\n",
        "        \"inp_emb_size\": {\"values\": [64,128,256]},\n",
        "        \"batch_size\":{\"values\":[32,64,128]}\n",
        "        }\n",
        "    }"
      ],
      "metadata": {
        "id": "AAQYxxFV0M2i"
      },
      "execution_count": 14,
      "outputs": []
    },
    {
      "cell_type": "code",
      "source": [
        "\n",
        "\n",
        "# This is the main function to use to train/fine-tune the model using wandb runs\n",
        "def train_wandb():\n",
        "    run = wandb.init()\n",
        "  \n",
        "    config=wandb.config\n",
        "    # Set the run name\n",
        "    name=\"num_of_encoders(\"+ str(config[\"num_of_encoders\"]) + \")_\"\n",
        "    name = \" num_of_decoders(\" + str(config[\"num_of_decoders\"]) + \")_\"\n",
        "    name += \" cell_type(\" + str(config[\"cell_type\"]) + \")_\"\n",
        "    name += \"latent_dim(\" + str(config[\"latent_dim\"])+ \")_\"\n",
        "    name += \"lr(\" + str(config[\"lr\"])+ \")_\"\n",
        "    name += \"optimizer(\" + str(config[\"optimizer\"]) + \")_\"\n",
        "    name += \"dropout(\" + str(config[\"dropout\"]) + \")\"\n",
        "    name += \"inp_emb_size(\" + str(config[\"inp_emb_size\"]) + \")_\"\n",
        "    name+=\"batch_size(\" + str(config[\"batch_size\"]) + \")\"\n",
        "\n",
        "\n",
        "    wandb.run.name = name[:-1]\n",
        "    batch_size=config[\"batch_size\"]\n",
        "    inp_emb_size=config[\"inp_emb_size\"]\n",
        "    dropout=config[\"dropout\"]\n",
        "    optimizer=config[\"optimizer\"]\n",
        "\n",
        "    num_of_encoders=config[\"num_of_encoders\"]\n",
        "    num_of_decoders=config[\"num_of_decoders\"]\n",
        "\n",
        "    lr=config[\"lr\"]\n",
        "    latent_dim=config[\"latent_dim\"]\n",
        "    cell_type=config[\"cell_type\"]\n",
        "\n",
        "    \n",
        "    seq=seqTOseq()\n",
        "    seq.parameters(input_char_dec=input_char_dec,\\\n",
        "                 target_char_dec=target_char_dec,\\\n",
        "                 num_of_encoders=num_of_encoders,\\\n",
        "                 num_of_decoders=num_of_decoders,\n",
        "                 latent_dim=latent_dim,\\\n",
        "                 inp_emb_size=inp_emb_size,\\\n",
        "                 cell_type=cell_type,\\\n",
        "                 cell_activation=\"tanh\",\\\n",
        "                 optimizer=optimizer,\\\n",
        "                 dropout=dropout,\\\n",
        "                 lr=lr)\n",
        "\n",
        "    model=seq.model()\n",
        "    earlystop = tf.keras.callbacks.EarlyStopping(monitor='val_loss', patience=5,restore_best_weights=True)\n",
        "    model.fit(\n",
        "      [train_enc_input, train_dec_input],\n",
        "      train_dec_target,\n",
        "      batch_size=batch_size,\n",
        "      epochs=15,\n",
        "     validation_data=([val_enc_input, val_dec_input ] ,val_dec_target),\n",
        "     callbacks=[earlystop,CustomCallback(model),WandbCallback()]\n",
        "    )\n",
        "\n"
      ],
      "metadata": {
        "id": "y7Is1tEM0Pdd"
      },
      "execution_count": 25,
      "outputs": []
    },
    {
      "cell_type": "code",
      "source": [
        "    \n",
        "\n",
        "sweep_id = wandb.sweep(sweep_config, entity=\"kankan-jana\", project=\"CS6910_Assignment3\")\n"
      ],
      "metadata": {
        "colab": {
          "base_uri": "https://localhost:8080/"
        },
        "id": "iLVVX5Ca0RTs",
        "outputId": "00e6177d-56bc-44b6-dad9-c93d8724518f"
      },
      "execution_count": 26,
      "outputs": [
        {
          "output_type": "stream",
          "name": "stdout",
          "text": [
            "Create sweep with ID: ukjlroe5\n",
            "Sweep URL: https://wandb.ai/kankan-jana/CS6910_Assignment3/sweeps/ukjlroe5\n"
          ]
        }
      ]
    },
    {
      "cell_type": "code",
      "source": [
        "\n",
        "wandb.agent(sweep_id, train_wandb)"
      ],
      "metadata": {
        "id": "_KH4vJcUW2xk",
        "colab": {
          "base_uri": "https://localhost:8080/",
          "height": 1000,
          "referenced_widgets": [
            "fed1d3b138ec4e3e8be5c112226e11c6",
            "8fcd2b4d926840cb99057f1aa3a203ba",
            "9783a9e99a8a4c74b73e6e138209ea4d",
            "24c5c2111def45c7b9c5a486942e667f",
            "4e3267d9d4324264b936cd7b85cd8c4a",
            "70c6e8f33e504f319d6f86c9d2743384",
            "8ac54395b82a44f1b8fd978ec21d7197",
            "3b81229e17184e03abd9f05c94dcadb0",
            "6b35573c25854afab16522df3c9464f4",
            "bdcc7c2837cf41bba77b700d47036c4b",
            "a83e14a850ea4a4f924848115f74589b",
            "e71920bfc03048a6baa08b2b707f456d",
            "2a2d4462af5d4e38a644978075523169",
            "c55c82b5c6d04d7483eca626a65f5241",
            "fcd4f9bf3a57443ab69d52bbb538bb3e",
            "e8a6232d788848f1922ffdc633e6059e",
            "1cd9ba73f9d343f39242a1a67a91ecde",
            "85e2fe4d745e429887e36850e4ec4dcb",
            "77eeb68e96d64b3db822a457f0ecff70",
            "e99d1fa77ca448f99c32e6a5880899c5",
            "f2105df12f764d43934430bd19464f44",
            "ae401fdf17d7453c9b3ff49a3f78606b",
            "c8b518527ad14ba5b29f9f221eb9a7ce",
            "2485b4c5dd8d429882ee3eb0c926a431",
            "fa0f01fead244230a6b7ff9381821831",
            "59f1a014255e4b4b909ce5cb7e322984",
            "9fa897e4dfc940ba8e4b6509f0523118",
            "8651a06802004da0aadce22b3f619006",
            "7a1df7eccf5a46b4bead44a1fb61a5b1",
            "78919ce8807c4cb58d053debf2c7d66a",
            "b9e13989329649c799590e83fefbe4a7",
            "626f944b16ad433397e9b26204af3462",
            "3f7307d5f43f495f86ab98b23a6820ea",
            "21829609b051478fa6f3d8ac9e8a9f0f",
            "7fa32a35e65a49869eafe81933a4fb35",
            "287f9bf87741425d834566afb09b9cde",
            "70ebbcf2f4374158bb61bc9dfa07f39d",
            "a665ae07431a494bbba83601f58b74bf",
            "4fec1f30ecc942f3a60ed375b08e0030",
            "863360f776ca4a919ec7aa9692b23fcb",
            "d09976bea9fd423088ba0559ba86828a",
            "56a51af6820748a5a50533f5f46605eb",
            "693916e6334644c7a30579d5b50b5d24",
            "3016e1973ee14561b84373f9d5ef1fec",
            "cfdfd7fecca04818ac2b33e033b01053",
            "3d274ca110954c578e587fb6fd4eb28a",
            "67030f2f372b4d079bfbc6cd0acee44c",
            "16a97fe309b44cb7b1c4433c96ed0871",
            "bd3d8182111842748ef3c1656b3bd7f4",
            "22293ce815464a7a8b0434700048ef62",
            "f75cc9276ecb43e89e962323fe1e9a58",
            "4e6b899ec87b42ec9f66bdad3b67e170",
            "5b066e8a2dd74c6ea2af08d845002e95",
            "daed6613bfc74967b31188d177215e81",
            "75a93c3e3a284f78a65be94f08d81df0",
            "576853f18fc6491c8f0421d0ce2c2930",
            "a600c4e7fe414dd896ad75f67ce5cc77",
            "827ecd02418d434c858993be439cd279",
            "cc089729eb9e4102a12992bddd2d8658",
            "35a12a73496a459fbfb2b8da9923d6a1",
            "fb706ef921374bdd9f33d1ba9bb97f3b",
            "cbfa0a7c807a411bb45b8f68f26f1b4c",
            "ef785abc88c3458ab3db915227dc053b",
            "09c932bc0f884894aefcbaab55799b92",
            "a9cbd7632ab444bf8b2b6b0fc4f1473f",
            "9da14d5d08b7408ca7f9186525cc21b1",
            "46a985d43b1e4758ae86b36f0c36ed2c",
            "a3d0fe4407664b40bbb8ea943a1909f8",
            "b9915e8d091348a494310a51a53abfec",
            "79a40047605c430697641d6110d303fa",
            "53e9768eb91a48b7a76e67fbad980599",
            "a9534ae9a8594af9bbfa606955a8fbcf"
          ]
        },
        "outputId": "63871bbf-446f-474f-ef60-cb6dec8c6087"
      },
      "execution_count": 27,
      "outputs": [
        {
          "output_type": "stream",
          "name": "stderr",
          "text": [
            "\u001b[34m\u001b[1mwandb\u001b[0m: Agent Starting Run: hbdy829w with config:\n",
            "\u001b[34m\u001b[1mwandb\u001b[0m: \tbatch_size: 128\n",
            "\u001b[34m\u001b[1mwandb\u001b[0m: \tcell_type: lstm\n",
            "\u001b[34m\u001b[1mwandb\u001b[0m: \tdropout: 0.3\n",
            "\u001b[34m\u001b[1mwandb\u001b[0m: \tinp_emb_size: 64\n",
            "\u001b[34m\u001b[1mwandb\u001b[0m: \tlatent_dim: 512\n",
            "\u001b[34m\u001b[1mwandb\u001b[0m: \tlr: 0.001\n",
            "\u001b[34m\u001b[1mwandb\u001b[0m: \tnum_of_decoders: 2\n",
            "\u001b[34m\u001b[1mwandb\u001b[0m: \tnum_of_encoders: 1\n",
            "\u001b[34m\u001b[1mwandb\u001b[0m: \toptimizer: adam\n"
          ]
        },
        {
          "output_type": "display_data",
          "data": {
            "text/plain": [
              "<IPython.core.display.HTML object>"
            ],
            "text/html": [
              "Tracking run with wandb version 0.12.15"
            ]
          },
          "metadata": {}
        },
        {
          "output_type": "display_data",
          "data": {
            "text/plain": [
              "<IPython.core.display.HTML object>"
            ],
            "text/html": [
              "Run data is saved locally in <code>/content/wandb/run-20220502_135632-hbdy829w</code>"
            ]
          },
          "metadata": {}
        },
        {
          "output_type": "display_data",
          "data": {
            "text/plain": [
              "<IPython.core.display.HTML object>"
            ],
            "text/html": [
              "Syncing run <strong><a href=\"https://wandb.ai/kankan-jana/CS6910_Assignment3/runs/hbdy829w\" target=\"_blank\">elated-sweep-1</a></strong> to <a href=\"https://wandb.ai/kankan-jana/CS6910_Assignment3\" target=\"_blank\">Weights & Biases</a> (<a href=\"https://wandb.me/run\" target=\"_blank\">docs</a>)<br/>Sweep page:  <a href=\"https://wandb.ai/kankan-jana/CS6910_Assignment3/sweeps/ukjlroe5\" target=\"_blank\">https://wandb.ai/kankan-jana/CS6910_Assignment3/sweeps/ukjlroe5</a>"
            ]
          },
          "metadata": {}
        },
        {
          "output_type": "stream",
          "name": "stdout",
          "text": [
            "Epoch 1/15\n",
            "458/458 [==============================] - ETA: 0s - loss: 1.0746 - accuracy: 0.7147 val_exact_accuracy: 0.0\n",
            "458/458 [==============================] - 57s 113ms/step - loss: 1.0746 - accuracy: 0.7147 - val_loss: 0.7748 - val_accuracy: 0.7806 - _timestamp: 1651499856.0000 - _runtime: 64.0000\n",
            "Epoch 2/15\n",
            "458/458 [==============================] - ETA: 0s - loss: 0.6763 - accuracy: 0.8037 val_exact_accuracy: 0.02692240014077072\n",
            "458/458 [==============================] - 50s 109ms/step - loss: 0.6763 - accuracy: 0.8037 - val_loss: 0.4459 - val_accuracy: 0.8663 - _timestamp: 1651499906.0000 - _runtime: 114.0000\n",
            "Epoch 3/15\n",
            "458/458 [==============================] - ETA: 0s - loss: 0.3064 - accuracy: 0.9082 val_exact_accuracy: 0.37814534576808023\n",
            "458/458 [==============================] - 50s 110ms/step - loss: 0.3064 - accuracy: 0.9082 - val_loss: 0.1373 - val_accuracy: 0.9580 - _timestamp: 1651499956.0000 - _runtime: 164.0000\n",
            "Epoch 4/15\n",
            "458/458 [==============================] - ETA: 0s - loss: 0.1224 - accuracy: 0.9636 val_exact_accuracy: 0.4909378849199367\n",
            "458/458 [==============================] - 51s 112ms/step - loss: 0.1224 - accuracy: 0.9636 - val_loss: 0.0988 - val_accuracy: 0.9695 - _timestamp: 1651500008.0000 - _runtime: 216.0000\n",
            "Epoch 5/15\n",
            "458/458 [==============================] - ETA: 0s - loss: 0.0906 - accuracy: 0.9727 val_exact_accuracy: 0.5280661622382544\n",
            "458/458 [==============================] - 51s 111ms/step - loss: 0.0906 - accuracy: 0.9727 - val_loss: 0.0881 - val_accuracy: 0.9722 - _timestamp: 1651500059.0000 - _runtime: 267.0000\n",
            "Epoch 6/15\n",
            "458/458 [==============================] - ETA: 0s - loss: 0.0742 - accuracy: 0.9774 val_exact_accuracy: 0.54795002639451\n",
            "458/458 [==============================] - 52s 114ms/step - loss: 0.0742 - accuracy: 0.9774 - val_loss: 0.0857 - val_accuracy: 0.9735 - _timestamp: 1651500111.0000 - _runtime: 319.0000\n",
            "Epoch 7/15\n",
            "458/458 [==============================] - ETA: 0s - loss: 0.0627 - accuracy: 0.9810 val_exact_accuracy: 0.5477740629948971\n",
            "458/458 [==============================] - 51s 112ms/step - loss: 0.0627 - accuracy: 0.9810 - val_loss: 0.0850 - val_accuracy: 0.9738 - _timestamp: 1651500162.0000 - _runtime: 370.0000\n",
            "Epoch 8/15\n",
            "458/458 [==============================] - ETA: 0s - loss: 0.0528 - accuracy: 0.9840 val_exact_accuracy: 0.5757522435333451\n",
            "458/458 [==============================] - 51s 112ms/step - loss: 0.0528 - accuracy: 0.9840 - val_loss: 0.0815 - val_accuracy: 0.9756 - _timestamp: 1651500213.0000 - _runtime: 421.0000\n",
            "Epoch 9/15\n",
            "458/458 [==============================] - ETA: 0s - loss: 0.0454 - accuracy: 0.9863 val_exact_accuracy: 0.5701214147457329\n",
            "458/458 [==============================] - 51s 112ms/step - loss: 0.0454 - accuracy: 0.9863 - val_loss: 0.0829 - val_accuracy: 0.9756 - _timestamp: 1651500265.0000 - _runtime: 473.0000\n",
            "Epoch 10/15\n",
            "458/458 [==============================] - ETA: 0s - loss: 0.0389 - accuracy: 0.9882 val_exact_accuracy: 0.5711771951434101\n",
            "458/458 [==============================] - 51s 112ms/step - loss: 0.0389 - accuracy: 0.9882 - val_loss: 0.0840 - val_accuracy: 0.9758 - _timestamp: 1651500316.0000 - _runtime: 524.0000\n",
            "Epoch 11/15\n",
            "458/458 [==============================] - ETA: 0s - loss: 0.0336 - accuracy: 0.9899 val_exact_accuracy: 0.5741685729368291\n",
            "458/458 [==============================] - 51s 112ms/step - loss: 0.0336 - accuracy: 0.9899 - val_loss: 0.0857 - val_accuracy: 0.9758 - _timestamp: 1651500367.0000 - _runtime: 575.0000\n",
            "Epoch 12/15\n",
            "458/458 [==============================] - ETA: 0s - loss: 0.0297 - accuracy: 0.9910 val_exact_accuracy: 0.565546366355798\n",
            "458/458 [==============================] - 51s 112ms/step - loss: 0.0297 - accuracy: 0.9910 - val_loss: 0.0880 - val_accuracy: 0.9756 - _timestamp: 1651500419.0000 - _runtime: 627.0000\n",
            "Epoch 13/15\n",
            "458/458 [==============================] - ETA: 0s - loss: 0.0256 - accuracy: 0.9923 val_exact_accuracy: 0.5757522435333451\n",
            "458/458 [==============================] - 51s 112ms/step - loss: 0.0256 - accuracy: 0.9923 - val_loss: 0.0889 - val_accuracy: 0.9754 - _timestamp: 1651500470.0000 - _runtime: 678.0000\n"
          ]
        },
        {
          "output_type": "display_data",
          "data": {
            "text/plain": [
              "<IPython.core.display.HTML object>"
            ],
            "text/html": [
              "Waiting for W&B process to finish... <strong style=\"color:green\">(success).</strong>"
            ]
          },
          "metadata": {}
        },
        {
          "output_type": "display_data",
          "data": {
            "text/plain": [
              "VBox(children=(Label(value='58.080 MB of 58.080 MB uploaded (0.000 MB deduped)\\r'), FloatProgress(value=1.0, m…"
            ],
            "application/vnd.jupyter.widget-view+json": {
              "version_major": 2,
              "version_minor": 0,
              "model_id": "fed1d3b138ec4e3e8be5c112226e11c6"
            }
          },
          "metadata": {}
        },
        {
          "output_type": "display_data",
          "data": {
            "text/plain": [
              "<IPython.core.display.HTML object>"
            ],
            "text/html": [
              "<style>\n",
              "    table.wandb td:nth-child(1) { padding: 0 10px; text-align: right }\n",
              "    .wandb-row { display: flex; flex-direction: row; flex-wrap: wrap; width: 100% }\n",
              "    .wandb-col { display: flex; flex-direction: column; flex-basis: 100%; flex: 1; padding: 10px; }\n",
              "    </style>\n",
              "<div class=\"wandb-row\"><div class=\"wandb-col\"><h3>Run history:</h3><br/><table class=\"wandb\"><tr><td>accuracy</td><td>▁▃▆▇█████████</td></tr><tr><td>epoch</td><td>▁▂▂▃▃▄▅▅▆▆▇▇█</td></tr><tr><td>loss</td><td>█▅▃▂▁▁▁▁▁▁▁▁▁</td></tr><tr><td>val_accuracy</td><td>▁▄▇██████████</td></tr><tr><td>val_exact_accuracy</td><td>▁▁▆▇▇████████</td></tr><tr><td>val_loss</td><td>█▅▂▁▁▁▁▁▁▁▁▁▁</td></tr></table><br/></div><div class=\"wandb-col\"><h3>Run summary:</h3><br/><table class=\"wandb\"><tr><td>accuracy</td><td>0.99232</td></tr><tr><td>best_epoch</td><td>7</td></tr><tr><td>best_val_loss</td><td>0.08155</td></tr><tr><td>epoch</td><td>12</td></tr><tr><td>loss</td><td>0.02562</td></tr><tr><td>val_accuracy</td><td>0.97537</td></tr><tr><td>val_exact_accuracy</td><td>0.57575</td></tr><tr><td>val_loss</td><td>0.0889</td></tr></table><br/></div></div>"
            ]
          },
          "metadata": {}
        },
        {
          "output_type": "display_data",
          "data": {
            "text/plain": [
              "<IPython.core.display.HTML object>"
            ],
            "text/html": [
              "Synced <strong style=\"color:#cdcd00\">elated-sweep-1</strong>: <a href=\"https://wandb.ai/kankan-jana/CS6910_Assignment3/runs/hbdy829w\" target=\"_blank\">https://wandb.ai/kankan-jana/CS6910_Assignment3/runs/hbdy829w</a><br/>Synced 5 W&B file(s), 1 media file(s), 2 artifact file(s) and 2 other file(s)"
            ]
          },
          "metadata": {}
        },
        {
          "output_type": "display_data",
          "data": {
            "text/plain": [
              "<IPython.core.display.HTML object>"
            ],
            "text/html": [
              "Find logs at: <code>./wandb/run-20220502_135632-hbdy829w/logs</code>"
            ]
          },
          "metadata": {}
        },
        {
          "output_type": "stream",
          "name": "stderr",
          "text": [
            "\u001b[34m\u001b[1mwandb\u001b[0m: Sweep Agent: Waiting for job.\n",
            "\u001b[34m\u001b[1mwandb\u001b[0m: Job received.\n",
            "\u001b[34m\u001b[1mwandb\u001b[0m: Agent Starting Run: qlueq5yd with config:\n",
            "\u001b[34m\u001b[1mwandb\u001b[0m: \tbatch_size: 128\n",
            "\u001b[34m\u001b[1mwandb\u001b[0m: \tcell_type: lstm\n",
            "\u001b[34m\u001b[1mwandb\u001b[0m: \tdropout: 0.3\n",
            "\u001b[34m\u001b[1mwandb\u001b[0m: \tinp_emb_size: 64\n",
            "\u001b[34m\u001b[1mwandb\u001b[0m: \tlatent_dim: 1024\n",
            "\u001b[34m\u001b[1mwandb\u001b[0m: \tlr: 0.001\n",
            "\u001b[34m\u001b[1mwandb\u001b[0m: \tnum_of_decoders: 2\n",
            "\u001b[34m\u001b[1mwandb\u001b[0m: \tnum_of_encoders: 1\n",
            "\u001b[34m\u001b[1mwandb\u001b[0m: \toptimizer: adam\n"
          ]
        },
        {
          "output_type": "display_data",
          "data": {
            "text/plain": [
              "<IPython.core.display.HTML object>"
            ],
            "text/html": [
              "Tracking run with wandb version 0.12.15"
            ]
          },
          "metadata": {}
        },
        {
          "output_type": "display_data",
          "data": {
            "text/plain": [
              "<IPython.core.display.HTML object>"
            ],
            "text/html": [
              "Run data is saved locally in <code>/content/wandb/run-20220502_140815-qlueq5yd</code>"
            ]
          },
          "metadata": {}
        },
        {
          "output_type": "display_data",
          "data": {
            "text/plain": [
              "<IPython.core.display.HTML object>"
            ],
            "text/html": [
              "Syncing run <strong><a href=\"https://wandb.ai/kankan-jana/CS6910_Assignment3/runs/qlueq5yd\" target=\"_blank\">splendid-sweep-2</a></strong> to <a href=\"https://wandb.ai/kankan-jana/CS6910_Assignment3\" target=\"_blank\">Weights & Biases</a> (<a href=\"https://wandb.me/run\" target=\"_blank\">docs</a>)<br/>Sweep page:  <a href=\"https://wandb.ai/kankan-jana/CS6910_Assignment3/sweeps/ukjlroe5\" target=\"_blank\">https://wandb.ai/kankan-jana/CS6910_Assignment3/sweeps/ukjlroe5</a>"
            ]
          },
          "metadata": {}
        },
        {
          "output_type": "stream",
          "name": "stdout",
          "text": [
            "Epoch 1/15\n",
            "  6/458 [..............................] - ETA: 2:06 - loss: 3.0957 - accuracy: 0.5547WARNING:tensorflow:Callback method `on_train_batch_end` is slow compared to the batch time (batch time: 0.1184s vs `on_train_batch_end` time: 0.1437s). Check your callbacks.\n",
            "458/458 [==============================] - ETA: 0s - loss: 1.1155 - accuracy: 0.7058 val_exact_accuracy: 0.0\n",
            "458/458 [==============================] - 153s 323ms/step - loss: 1.1155 - accuracy: 0.7058 - val_loss: 0.8184 - val_accuracy: 0.7667 - _timestamp: 1651500655.0000 - _runtime: 160.0000\n",
            "Epoch 2/15\n",
            "458/458 [==============================] - ETA: 0s - loss: 0.7510 - accuracy: 0.7830 val_exact_accuracy: 0.0054548653879992965\n",
            "458/458 [==============================] - 149s 325ms/step - loss: 0.7510 - accuracy: 0.7830 - val_loss: 0.5569 - val_accuracy: 0.8364 - _timestamp: 1651500804.0000 - _runtime: 309.0000\n",
            "Epoch 3/15\n",
            "458/458 [==============================] - ETA: 0s - loss: 0.4471 - accuracy: 0.8668 val_exact_accuracy: 0.1544958648601091\n",
            "458/458 [==============================] - 150s 327ms/step - loss: 0.4471 - accuracy: 0.8668 - val_loss: 0.2690 - val_accuracy: 0.9176 - _timestamp: 1651500954.0000 - _runtime: 459.0000\n",
            "Epoch 4/15\n",
            "458/458 [==============================] - ETA: 0s - loss: 0.2072 - accuracy: 0.9376 val_exact_accuracy: 0.38553580855182124\n",
            "458/458 [==============================] - 150s 327ms/step - loss: 0.2072 - accuracy: 0.9376 - val_loss: 0.1420 - val_accuracy: 0.9570 - _timestamp: 1651501104.0000 - _runtime: 609.0000\n",
            "Epoch 5/15\n",
            "458/458 [==============================] - ETA: 0s - loss: 0.1020 - accuracy: 0.9699 val_exact_accuracy: 0.49639275030793595\n",
            "458/458 [==============================] - 150s 327ms/step - loss: 0.1020 - accuracy: 0.9699 - val_loss: 0.1012 - val_accuracy: 0.9692 - _timestamp: 1651501253.0000 - _runtime: 758.0000\n",
            "Epoch 6/15\n",
            "458/458 [==============================] - ETA: 0s - loss: 0.0641 - accuracy: 0.9812 val_exact_accuracy: 0.5261305648425127\n",
            "458/458 [==============================] - 150s 327ms/step - loss: 0.0641 - accuracy: 0.9812 - val_loss: 0.0940 - val_accuracy: 0.9721 - _timestamp: 1651501403.0000 - _runtime: 908.0000\n",
            "Epoch 7/15\n",
            "458/458 [==============================] - ETA: 0s - loss: 0.0452 - accuracy: 0.9866 val_exact_accuracy: 0.5308815766320605\n",
            "458/458 [==============================] - 150s 327ms/step - loss: 0.0452 - accuracy: 0.9866 - val_loss: 0.0932 - val_accuracy: 0.9724 - _timestamp: 1651501553.0000 - _runtime: 1058.0000\n",
            "Epoch 8/15\n",
            "458/458 [==============================] - ETA: 0s - loss: 0.0350 - accuracy: 0.9895 val_exact_accuracy: 0.5386239662150273\n",
            "458/458 [==============================] - 149s 326ms/step - loss: 0.0350 - accuracy: 0.9895 - val_loss: 0.0959 - val_accuracy: 0.9728 - _timestamp: 1651501703.0000 - _runtime: 1208.0000\n",
            "Epoch 9/15\n",
            "458/458 [==============================] - ETA: 0s - loss: 0.0273 - accuracy: 0.9919 val_exact_accuracy: 0.5391518564138659\n",
            "458/458 [==============================] - 149s 325ms/step - loss: 0.0273 - accuracy: 0.9919 - val_loss: 0.0971 - val_accuracy: 0.9732 - _timestamp: 1651501852.0000 - _runtime: 1357.0000\n",
            "Epoch 10/15\n",
            "458/458 [==============================] - ETA: 0s - loss: 0.0229 - accuracy: 0.9931 val_exact_accuracy: 0.5486538799929614\n",
            "458/458 [==============================] - 149s 325ms/step - loss: 0.0229 - accuracy: 0.9931 - val_loss: 0.0973 - val_accuracy: 0.9739 - _timestamp: 1651502001.0000 - _runtime: 1506.0000\n",
            "Epoch 11/15\n",
            "458/458 [==============================] - ETA: 0s - loss: 0.0193 - accuracy: 0.9942 val_exact_accuracy: 0.5493577335914129\n",
            "458/458 [==============================] - 149s 325ms/step - loss: 0.0193 - accuracy: 0.9942 - val_loss: 0.1016 - val_accuracy: 0.9742 - _timestamp: 1651502150.0000 - _runtime: 1655.0000\n",
            "Epoch 12/15\n",
            "458/458 [==============================] - ETA: 0s - loss: 0.0172 - accuracy: 0.9948 val_exact_accuracy: 0.5308815766320605\n",
            "458/458 [==============================] - 149s 325ms/step - loss: 0.0172 - accuracy: 0.9948 - val_loss: 0.1040 - val_accuracy: 0.9733 - _timestamp: 1651502298.0000 - _runtime: 1803.0000\n"
          ]
        },
        {
          "output_type": "display_data",
          "data": {
            "text/plain": [
              "<IPython.core.display.HTML object>"
            ],
            "text/html": [
              "Waiting for W&B process to finish... <strong style=\"color:green\">(success).</strong>"
            ]
          },
          "metadata": {}
        },
        {
          "output_type": "display_data",
          "data": {
            "text/plain": [
              "VBox(children=(Label(value='223.933 MB of 223.933 MB uploaded (0.000 MB deduped)\\r'), FloatProgress(value=1.0,…"
            ],
            "application/vnd.jupyter.widget-view+json": {
              "version_major": 2,
              "version_minor": 0,
              "model_id": "6b35573c25854afab16522df3c9464f4"
            }
          },
          "metadata": {}
        },
        {
          "output_type": "display_data",
          "data": {
            "text/plain": [
              "<IPython.core.display.HTML object>"
            ],
            "text/html": [
              "<style>\n",
              "    table.wandb td:nth-child(1) { padding: 0 10px; text-align: right }\n",
              "    .wandb-row { display: flex; flex-direction: row; flex-wrap: wrap; width: 100% }\n",
              "    .wandb-col { display: flex; flex-direction: column; flex-basis: 100%; flex: 1; padding: 10px; }\n",
              "    </style>\n",
              "<div class=\"wandb-row\"><div class=\"wandb-col\"><h3>Run history:</h3><br/><table class=\"wandb\"><tr><td>accuracy</td><td>▁▃▅▇▇███████</td></tr><tr><td>epoch</td><td>▁▂▂▃▄▄▅▅▆▇▇█</td></tr><tr><td>loss</td><td>█▆▄▂▂▁▁▁▁▁▁▁</td></tr><tr><td>val_accuracy</td><td>▁▃▆▇████████</td></tr><tr><td>val_exact_accuracy</td><td>▁▁▃▆▇███████</td></tr><tr><td>val_loss</td><td>█▅▃▁▁▁▁▁▁▁▁▁</td></tr></table><br/></div><div class=\"wandb-col\"><h3>Run summary:</h3><br/><table class=\"wandb\"><tr><td>accuracy</td><td>0.9948</td></tr><tr><td>best_epoch</td><td>6</td></tr><tr><td>best_val_loss</td><td>0.09321</td></tr><tr><td>epoch</td><td>11</td></tr><tr><td>loss</td><td>0.0172</td></tr><tr><td>val_accuracy</td><td>0.97327</td></tr><tr><td>val_exact_accuracy</td><td>0.53088</td></tr><tr><td>val_loss</td><td>0.10396</td></tr></table><br/></div></div>"
            ]
          },
          "metadata": {}
        },
        {
          "output_type": "display_data",
          "data": {
            "text/plain": [
              "<IPython.core.display.HTML object>"
            ],
            "text/html": [
              "Synced <strong style=\"color:#cdcd00\">splendid-sweep-2</strong>: <a href=\"https://wandb.ai/kankan-jana/CS6910_Assignment3/runs/qlueq5yd\" target=\"_blank\">https://wandb.ai/kankan-jana/CS6910_Assignment3/runs/qlueq5yd</a><br/>Synced 5 W&B file(s), 1 media file(s), 2 artifact file(s) and 2 other file(s)"
            ]
          },
          "metadata": {}
        },
        {
          "output_type": "display_data",
          "data": {
            "text/plain": [
              "<IPython.core.display.HTML object>"
            ],
            "text/html": [
              "Find logs at: <code>./wandb/run-20220502_140815-qlueq5yd/logs</code>"
            ]
          },
          "metadata": {}
        },
        {
          "output_type": "stream",
          "name": "stderr",
          "text": [
            "\u001b[34m\u001b[1mwandb\u001b[0m: Agent Starting Run: eb2f9ptk with config:\n",
            "\u001b[34m\u001b[1mwandb\u001b[0m: \tbatch_size: 128\n",
            "\u001b[34m\u001b[1mwandb\u001b[0m: \tcell_type: lstm\n",
            "\u001b[34m\u001b[1mwandb\u001b[0m: \tdropout: 0.3\n",
            "\u001b[34m\u001b[1mwandb\u001b[0m: \tinp_emb_size: 64\n",
            "\u001b[34m\u001b[1mwandb\u001b[0m: \tlatent_dim: 1024\n",
            "\u001b[34m\u001b[1mwandb\u001b[0m: \tlr: 0.001\n",
            "\u001b[34m\u001b[1mwandb\u001b[0m: \tnum_of_decoders: 2\n",
            "\u001b[34m\u001b[1mwandb\u001b[0m: \tnum_of_encoders: 1\n",
            "\u001b[34m\u001b[1mwandb\u001b[0m: \toptimizer: adam\n"
          ]
        },
        {
          "output_type": "display_data",
          "data": {
            "text/plain": [
              "<IPython.core.display.HTML object>"
            ],
            "text/html": [
              "Tracking run with wandb version 0.12.15"
            ]
          },
          "metadata": {}
        },
        {
          "output_type": "display_data",
          "data": {
            "text/plain": [
              "<IPython.core.display.HTML object>"
            ],
            "text/html": [
              "Run data is saved locally in <code>/content/wandb/run-20220502_143840-eb2f9ptk</code>"
            ]
          },
          "metadata": {}
        },
        {
          "output_type": "display_data",
          "data": {
            "text/plain": [
              "<IPython.core.display.HTML object>"
            ],
            "text/html": [
              "Syncing run <strong><a href=\"https://wandb.ai/kankan-jana/CS6910_Assignment3/runs/eb2f9ptk\" target=\"_blank\">balmy-sweep-3</a></strong> to <a href=\"https://wandb.ai/kankan-jana/CS6910_Assignment3\" target=\"_blank\">Weights & Biases</a> (<a href=\"https://wandb.me/run\" target=\"_blank\">docs</a>)<br/>Sweep page:  <a href=\"https://wandb.ai/kankan-jana/CS6910_Assignment3/sweeps/ukjlroe5\" target=\"_blank\">https://wandb.ai/kankan-jana/CS6910_Assignment3/sweeps/ukjlroe5</a>"
            ]
          },
          "metadata": {}
        },
        {
          "output_type": "stream",
          "name": "stdout",
          "text": [
            "Epoch 1/15\n",
            "  6/458 [..............................] - ETA: 2:11 - loss: 3.1007 - accuracy: 0.5607WARNING:tensorflow:Callback method `on_train_batch_end` is slow compared to the batch time (batch time: 0.1212s vs `on_train_batch_end` time: 0.1493s). Check your callbacks.\n",
            "458/458 [==============================] - ETA: 0s - loss: 1.1398 - accuracy: 0.7011 val_exact_accuracy: 0.0\n",
            "458/458 [==============================] - 157s 331ms/step - loss: 1.1398 - accuracy: 0.7011 - val_loss: 0.8916 - val_accuracy: 0.7463 - _timestamp: 1651502485.0000 - _runtime: 165.0000\n",
            "Epoch 2/15\n",
            "458/458 [==============================] - ETA: 0s - loss: 0.8229 - accuracy: 0.7655 val_exact_accuracy: 0.0005278901988386416\n",
            "458/458 [==============================] - 150s 327ms/step - loss: 0.8229 - accuracy: 0.7655 - val_loss: 0.6021 - val_accuracy: 0.8278 - _timestamp: 1651502634.0000 - _runtime: 314.0000\n",
            "Epoch 3/15\n",
            "458/458 [==============================] - ETA: 0s - loss: 0.3805 - accuracy: 0.8910 val_exact_accuracy: 0.37972901636459616\n",
            "458/458 [==============================] - 148s 323ms/step - loss: 0.3805 - accuracy: 0.8910 - val_loss: 0.1400 - val_accuracy: 0.9585 - _timestamp: 1651502782.0000 - _runtime: 462.0000\n",
            "Epoch 4/15\n",
            "458/458 [==============================] - ETA: 0s - loss: 0.1326 - accuracy: 0.9612 val_exact_accuracy: 0.47615695935245467\n",
            "458/458 [==============================] - 148s 324ms/step - loss: 0.1326 - accuracy: 0.9612 - val_loss: 0.1040 - val_accuracy: 0.9679 - _timestamp: 1651502930.0000 - _runtime: 610.0000\n",
            "Epoch 5/15\n",
            "458/458 [==============================] - ETA: 0s - loss: 0.0980 - accuracy: 0.9707 val_exact_accuracy: 0.5041351398909026\n",
            "458/458 [==============================] - 148s 323ms/step - loss: 0.0980 - accuracy: 0.9707 - val_loss: 0.0928 - val_accuracy: 0.9707 - _timestamp: 1651503078.0000 - _runtime: 758.0000\n",
            "Epoch 6/15\n",
            "458/458 [==============================] - ETA: 0s - loss: 0.0801 - accuracy: 0.9758 val_exact_accuracy: 0.5131092732711596\n",
            "458/458 [==============================] - 147s 321ms/step - loss: 0.0801 - accuracy: 0.9758 - val_loss: 0.0940 - val_accuracy: 0.9703 - _timestamp: 1651503226.0000 - _runtime: 906.0000\n",
            "Epoch 7/15\n",
            "458/458 [==============================] - ETA: 0s - loss: 0.0674 - accuracy: 0.9796 val_exact_accuracy: 0.5572760865739926\n",
            "458/458 [==============================] - 148s 323ms/step - loss: 0.0674 - accuracy: 0.9796 - val_loss: 0.0846 - val_accuracy: 0.9742 - _timestamp: 1651503373.0000 - _runtime: 1053.0000\n",
            "Epoch 8/15\n",
            "458/458 [==============================] - ETA: 0s - loss: 0.0570 - accuracy: 0.9827 val_exact_accuracy: 0.5662502199542495\n",
            "458/458 [==============================] - 148s 322ms/step - loss: 0.0570 - accuracy: 0.9827 - val_loss: 0.0840 - val_accuracy: 0.9749 - _timestamp: 1651503521.0000 - _runtime: 1201.0000\n",
            "Epoch 9/15\n",
            "458/458 [==============================] - ETA: 0s - loss: 0.0491 - accuracy: 0.9852 val_exact_accuracy: 0.5755762801337322\n",
            "458/458 [==============================] - 148s 323ms/step - loss: 0.0491 - accuracy: 0.9852 - val_loss: 0.0818 - val_accuracy: 0.9755 - _timestamp: 1651503669.0000 - _runtime: 1349.0000\n",
            "Epoch 10/15\n",
            "458/458 [==============================] - ETA: 0s - loss: 0.0413 - accuracy: 0.9875 val_exact_accuracy: 0.5711771951434101\n",
            "458/458 [==============================] - 147s 322ms/step - loss: 0.0413 - accuracy: 0.9875 - val_loss: 0.0827 - val_accuracy: 0.9755 - _timestamp: 1651503817.0000 - _runtime: 1497.0000\n",
            "Epoch 11/15\n",
            "458/458 [==============================] - ETA: 0s - loss: 0.0348 - accuracy: 0.9894 val_exact_accuracy: 0.5782157311279253\n",
            "458/458 [==============================] - 147s 320ms/step - loss: 0.0348 - accuracy: 0.9894 - val_loss: 0.0858 - val_accuracy: 0.9756 - _timestamp: 1651503963.0000 - _runtime: 1643.0000\n",
            "Epoch 12/15\n",
            "458/458 [==============================] - ETA: 0s - loss: 0.0299 - accuracy: 0.9909 val_exact_accuracy: 0.5745204997360549\n",
            "458/458 [==============================] - 147s 321ms/step - loss: 0.0299 - accuracy: 0.9909 - val_loss: 0.0888 - val_accuracy: 0.9759 - _timestamp: 1651504110.0000 - _runtime: 1790.0000\n",
            "Epoch 13/15\n",
            "458/458 [==============================] - ETA: 0s - loss: 0.0254 - accuracy: 0.9922 val_exact_accuracy: 0.5687137075488299\n",
            "458/458 [==============================] - 147s 320ms/step - loss: 0.0254 - accuracy: 0.9922 - val_loss: 0.0922 - val_accuracy: 0.9753 - _timestamp: 1651504257.0000 - _runtime: 1937.0000\n",
            "Epoch 14/15\n",
            "458/458 [==============================] - ETA: 0s - loss: 0.0219 - accuracy: 0.9933 val_exact_accuracy: 0.5755762801337322\n",
            "458/458 [==============================] - 147s 321ms/step - loss: 0.0219 - accuracy: 0.9933 - val_loss: 0.0914 - val_accuracy: 0.9764 - _timestamp: 1651504404.0000 - _runtime: 2084.0000\n"
          ]
        },
        {
          "output_type": "display_data",
          "data": {
            "text/plain": [
              "<IPython.core.display.HTML object>"
            ],
            "text/html": [
              "Waiting for W&B process to finish... <strong style=\"color:green\">(success).</strong>"
            ]
          },
          "metadata": {}
        },
        {
          "output_type": "display_data",
          "data": {
            "text/plain": [
              "VBox(children=(Label(value='223.948 MB of 223.948 MB uploaded (0.000 MB deduped)\\r'), FloatProgress(value=1.0,…"
            ],
            "application/vnd.jupyter.widget-view+json": {
              "version_major": 2,
              "version_minor": 0,
              "model_id": "1cd9ba73f9d343f39242a1a67a91ecde"
            }
          },
          "metadata": {}
        },
        {
          "output_type": "display_data",
          "data": {
            "text/plain": [
              "<IPython.core.display.HTML object>"
            ],
            "text/html": [
              "<style>\n",
              "    table.wandb td:nth-child(1) { padding: 0 10px; text-align: right }\n",
              "    .wandb-row { display: flex; flex-direction: row; flex-wrap: wrap; width: 100% }\n",
              "    .wandb-col { display: flex; flex-direction: column; flex-basis: 100%; flex: 1; padding: 10px; }\n",
              "    </style>\n",
              "<div class=\"wandb-row\"><div class=\"wandb-col\"><h3>Run history:</h3><br/><table class=\"wandb\"><tr><td>accuracy</td><td>▁▃▆▇▇█████████</td></tr><tr><td>epoch</td><td>▁▂▂▃▃▄▄▅▅▆▆▇▇█</td></tr><tr><td>loss</td><td>█▆▃▂▁▁▁▁▁▁▁▁▁▁</td></tr><tr><td>val_accuracy</td><td>▁▃▇███████████</td></tr><tr><td>val_exact_accuracy</td><td>▁▁▆▇▇▇████████</td></tr><tr><td>val_loss</td><td>█▅▂▁▁▁▁▁▁▁▁▁▁▁</td></tr></table><br/></div><div class=\"wandb-col\"><h3>Run summary:</h3><br/><table class=\"wandb\"><tr><td>accuracy</td><td>0.99327</td></tr><tr><td>best_epoch</td><td>8</td></tr><tr><td>best_val_loss</td><td>0.08178</td></tr><tr><td>epoch</td><td>13</td></tr><tr><td>loss</td><td>0.02191</td></tr><tr><td>val_accuracy</td><td>0.97635</td></tr><tr><td>val_exact_accuracy</td><td>0.57558</td></tr><tr><td>val_loss</td><td>0.09142</td></tr></table><br/></div></div>"
            ]
          },
          "metadata": {}
        },
        {
          "output_type": "display_data",
          "data": {
            "text/plain": [
              "<IPython.core.display.HTML object>"
            ],
            "text/html": [
              "Synced <strong style=\"color:#cdcd00\">balmy-sweep-3</strong>: <a href=\"https://wandb.ai/kankan-jana/CS6910_Assignment3/runs/eb2f9ptk\" target=\"_blank\">https://wandb.ai/kankan-jana/CS6910_Assignment3/runs/eb2f9ptk</a><br/>Synced 5 W&B file(s), 1 media file(s), 2 artifact file(s) and 2 other file(s)"
            ]
          },
          "metadata": {}
        },
        {
          "output_type": "display_data",
          "data": {
            "text/plain": [
              "<IPython.core.display.HTML object>"
            ],
            "text/html": [
              "Find logs at: <code>./wandb/run-20220502_143840-eb2f9ptk/logs</code>"
            ]
          },
          "metadata": {}
        },
        {
          "output_type": "stream",
          "name": "stderr",
          "text": [
            "\u001b[34m\u001b[1mwandb\u001b[0m: Agent Starting Run: a9dtf4l1 with config:\n",
            "\u001b[34m\u001b[1mwandb\u001b[0m: \tbatch_size: 128\n",
            "\u001b[34m\u001b[1mwandb\u001b[0m: \tcell_type: lstm\n",
            "\u001b[34m\u001b[1mwandb\u001b[0m: \tdropout: 0.3\n",
            "\u001b[34m\u001b[1mwandb\u001b[0m: \tinp_emb_size: 64\n",
            "\u001b[34m\u001b[1mwandb\u001b[0m: \tlatent_dim: 1024\n",
            "\u001b[34m\u001b[1mwandb\u001b[0m: \tlr: 0.001\n",
            "\u001b[34m\u001b[1mwandb\u001b[0m: \tnum_of_decoders: 2\n",
            "\u001b[34m\u001b[1mwandb\u001b[0m: \tnum_of_encoders: 1\n",
            "\u001b[34m\u001b[1mwandb\u001b[0m: \toptimizer: adam\n"
          ]
        },
        {
          "output_type": "display_data",
          "data": {
            "text/plain": [
              "<IPython.core.display.HTML object>"
            ],
            "text/html": [
              "Tracking run with wandb version 0.12.15"
            ]
          },
          "metadata": {}
        },
        {
          "output_type": "display_data",
          "data": {
            "text/plain": [
              "<IPython.core.display.HTML object>"
            ],
            "text/html": [
              "Run data is saved locally in <code>/content/wandb/run-20220502_151355-a9dtf4l1</code>"
            ]
          },
          "metadata": {}
        },
        {
          "output_type": "display_data",
          "data": {
            "text/plain": [
              "<IPython.core.display.HTML object>"
            ],
            "text/html": [
              "Syncing run <strong><a href=\"https://wandb.ai/kankan-jana/CS6910_Assignment3/runs/a9dtf4l1\" target=\"_blank\">crisp-sweep-4</a></strong> to <a href=\"https://wandb.ai/kankan-jana/CS6910_Assignment3\" target=\"_blank\">Weights & Biases</a> (<a href=\"https://wandb.me/run\" target=\"_blank\">docs</a>)<br/>Sweep page:  <a href=\"https://wandb.ai/kankan-jana/CS6910_Assignment3/sweeps/ukjlroe5\" target=\"_blank\">https://wandb.ai/kankan-jana/CS6910_Assignment3/sweeps/ukjlroe5</a>"
            ]
          },
          "metadata": {}
        },
        {
          "output_type": "stream",
          "name": "stdout",
          "text": [
            "Epoch 1/15\n",
            "  6/458 [..............................] - ETA: 2:09 - loss: 3.2626 - accuracy: 0.5679WARNING:tensorflow:Callback method `on_train_batch_end` is slow compared to the batch time (batch time: 0.1210s vs `on_train_batch_end` time: 0.1515s). Check your callbacks.\n",
            "458/458 [==============================] - ETA: 0s - loss: 1.0961 - accuracy: 0.7106 val_exact_accuracy: 0.0\n",
            "458/458 [==============================] - 156s 329ms/step - loss: 1.0961 - accuracy: 0.7106 - val_loss: 0.8138 - val_accuracy: 0.7683 - _timestamp: 1651504599.0000 - _runtime: 164.0000\n",
            "Epoch 2/15\n",
            "458/458 [==============================] - ETA: 0s - loss: 0.7396 - accuracy: 0.7855 val_exact_accuracy: 0.007390462783740982\n",
            "458/458 [==============================] - 149s 324ms/step - loss: 0.7396 - accuracy: 0.7855 - val_loss: 0.5486 - val_accuracy: 0.8383 - _timestamp: 1651504748.0000 - _runtime: 313.0000\n",
            "Epoch 3/15\n",
            "458/458 [==============================] - ETA: 0s - loss: 0.4083 - accuracy: 0.8765 val_exact_accuracy: 0.19004047158191095\n",
            "458/458 [==============================] - 149s 325ms/step - loss: 0.4083 - accuracy: 0.8765 - val_loss: 0.2244 - val_accuracy: 0.9303 - _timestamp: 1651504896.0000 - _runtime: 461.0000\n",
            "Epoch 4/15\n",
            "458/458 [==============================] - ETA: 0s - loss: 0.1610 - accuracy: 0.9521 val_exact_accuracy: 0.4515220834066514\n",
            "458/458 [==============================] - 149s 325ms/step - loss: 0.1610 - accuracy: 0.9521 - val_loss: 0.1111 - val_accuracy: 0.9657 - _timestamp: 1651505045.0000 - _runtime: 610.0000\n",
            "Epoch 5/15\n",
            "458/458 [==============================] - ETA: 0s - loss: 0.0827 - accuracy: 0.9756 val_exact_accuracy: 0.5250747844448355\n",
            "458/458 [==============================] - 148s 324ms/step - loss: 0.0827 - accuracy: 0.9756 - val_loss: 0.0919 - val_accuracy: 0.9719 - _timestamp: 1651505193.0000 - _runtime: 758.0000\n",
            "Epoch 6/15\n",
            "458/458 [==============================] - ETA: 0s - loss: 0.0591 - accuracy: 0.9825 val_exact_accuracy: 0.5491817701918001\n",
            "458/458 [==============================] - 148s 324ms/step - loss: 0.0591 - accuracy: 0.9825 - val_loss: 0.0870 - val_accuracy: 0.9737 - _timestamp: 1651505342.0000 - _runtime: 907.0000\n",
            "Epoch 7/15\n",
            "458/458 [==============================] - ETA: 0s - loss: 0.0455 - accuracy: 0.9865 val_exact_accuracy: 0.5558683793770895\n",
            "458/458 [==============================] - 148s 323ms/step - loss: 0.0455 - accuracy: 0.9865 - val_loss: 0.0879 - val_accuracy: 0.9744 - _timestamp: 1651505490.0000 - _runtime: 1055.0000\n",
            "Epoch 8/15\n",
            "458/458 [==============================] - ETA: 0s - loss: 0.0361 - accuracy: 0.9892 val_exact_accuracy: 0.561147281365476\n",
            "458/458 [==============================] - 147s 322ms/step - loss: 0.0361 - accuracy: 0.9892 - val_loss: 0.0886 - val_accuracy: 0.9748 - _timestamp: 1651505638.0000 - _runtime: 1203.0000\n",
            "Epoch 9/15\n",
            "458/458 [==============================] - ETA: 0s - loss: 0.0294 - accuracy: 0.9911 val_exact_accuracy: 0.566954073552701\n",
            "458/458 [==============================] - 148s 323ms/step - loss: 0.0294 - accuracy: 0.9911 - val_loss: 0.0894 - val_accuracy: 0.9756 - _timestamp: 1651505786.0000 - _runtime: 1351.0000\n",
            "Epoch 10/15\n",
            "458/458 [==============================] - ETA: 0s - loss: 0.0246 - accuracy: 0.9926 val_exact_accuracy: 0.5551645257786381\n",
            "458/458 [==============================] - 148s 323ms/step - loss: 0.0246 - accuracy: 0.9926 - val_loss: 0.0961 - val_accuracy: 0.9743 - _timestamp: 1651505933.0000 - _runtime: 1498.0000\n",
            "Epoch 11/15\n",
            "458/458 [==============================] - ETA: 0s - loss: 0.0208 - accuracy: 0.9937 val_exact_accuracy: 0.5491817701918001\n",
            "458/458 [==============================] - 148s 323ms/step - loss: 0.0208 - accuracy: 0.9937 - val_loss: 0.0969 - val_accuracy: 0.9746 - _timestamp: 1651506081.0000 - _runtime: 1646.0000\n"
          ]
        },
        {
          "output_type": "display_data",
          "data": {
            "text/plain": [
              "<IPython.core.display.HTML object>"
            ],
            "text/html": [
              "Waiting for W&B process to finish... <strong style=\"color:green\">(success).</strong>"
            ]
          },
          "metadata": {}
        },
        {
          "output_type": "display_data",
          "data": {
            "text/plain": [
              "VBox(children=(Label(value='223.962 MB of 223.962 MB uploaded (0.000 MB deduped)\\r'), FloatProgress(value=1.0,…"
            ],
            "application/vnd.jupyter.widget-view+json": {
              "version_major": 2,
              "version_minor": 0,
              "model_id": "fa0f01fead244230a6b7ff9381821831"
            }
          },
          "metadata": {}
        },
        {
          "output_type": "display_data",
          "data": {
            "text/plain": [
              "<IPython.core.display.HTML object>"
            ],
            "text/html": [
              "<style>\n",
              "    table.wandb td:nth-child(1) { padding: 0 10px; text-align: right }\n",
              "    .wandb-row { display: flex; flex-direction: row; flex-wrap: wrap; width: 100% }\n",
              "    .wandb-col { display: flex; flex-direction: column; flex-basis: 100%; flex: 1; padding: 10px; }\n",
              "    </style>\n",
              "<div class=\"wandb-row\"><div class=\"wandb-col\"><h3>Run history:</h3><br/><table class=\"wandb\"><tr><td>accuracy</td><td>▁▃▅▇███████</td></tr><tr><td>epoch</td><td>▁▂▂▃▄▅▅▆▇▇█</td></tr><tr><td>loss</td><td>█▆▄▂▁▁▁▁▁▁▁</td></tr><tr><td>val_accuracy</td><td>▁▃▆████████</td></tr><tr><td>val_exact_accuracy</td><td>▁▁▃▇▇██████</td></tr><tr><td>val_loss</td><td>█▅▂▁▁▁▁▁▁▁▁</td></tr></table><br/></div><div class=\"wandb-col\"><h3>Run summary:</h3><br/><table class=\"wandb\"><tr><td>accuracy</td><td>0.99366</td></tr><tr><td>best_epoch</td><td>5</td></tr><tr><td>best_val_loss</td><td>0.08698</td></tr><tr><td>epoch</td><td>10</td></tr><tr><td>loss</td><td>0.02077</td></tr><tr><td>val_accuracy</td><td>0.97463</td></tr><tr><td>val_exact_accuracy</td><td>0.54918</td></tr><tr><td>val_loss</td><td>0.09688</td></tr></table><br/></div></div>"
            ]
          },
          "metadata": {}
        },
        {
          "output_type": "display_data",
          "data": {
            "text/plain": [
              "<IPython.core.display.HTML object>"
            ],
            "text/html": [
              "Synced <strong style=\"color:#cdcd00\">crisp-sweep-4</strong>: <a href=\"https://wandb.ai/kankan-jana/CS6910_Assignment3/runs/a9dtf4l1\" target=\"_blank\">https://wandb.ai/kankan-jana/CS6910_Assignment3/runs/a9dtf4l1</a><br/>Synced 5 W&B file(s), 1 media file(s), 2 artifact file(s) and 2 other file(s)"
            ]
          },
          "metadata": {}
        },
        {
          "output_type": "display_data",
          "data": {
            "text/plain": [
              "<IPython.core.display.HTML object>"
            ],
            "text/html": [
              "Find logs at: <code>./wandb/run-20220502_151355-a9dtf4l1/logs</code>"
            ]
          },
          "metadata": {}
        },
        {
          "output_type": "stream",
          "name": "stderr",
          "text": [
            "\u001b[34m\u001b[1mwandb\u001b[0m: Agent Starting Run: jqdbxg62 with config:\n",
            "\u001b[34m\u001b[1mwandb\u001b[0m: \tbatch_size: 128\n",
            "\u001b[34m\u001b[1mwandb\u001b[0m: \tcell_type: lstm\n",
            "\u001b[34m\u001b[1mwandb\u001b[0m: \tdropout: 0.3\n",
            "\u001b[34m\u001b[1mwandb\u001b[0m: \tinp_emb_size: 64\n",
            "\u001b[34m\u001b[1mwandb\u001b[0m: \tlatent_dim: 512\n",
            "\u001b[34m\u001b[1mwandb\u001b[0m: \tlr: 0.001\n",
            "\u001b[34m\u001b[1mwandb\u001b[0m: \tnum_of_decoders: 2\n",
            "\u001b[34m\u001b[1mwandb\u001b[0m: \tnum_of_encoders: 1\n",
            "\u001b[34m\u001b[1mwandb\u001b[0m: \toptimizer: adam\n"
          ]
        },
        {
          "output_type": "display_data",
          "data": {
            "text/plain": [
              "<IPython.core.display.HTML object>"
            ],
            "text/html": [
              "Tracking run with wandb version 0.12.15"
            ]
          },
          "metadata": {}
        },
        {
          "output_type": "display_data",
          "data": {
            "text/plain": [
              "<IPython.core.display.HTML object>"
            ],
            "text/html": [
              "Run data is saved locally in <code>/content/wandb/run-20220502_154145-jqdbxg62</code>"
            ]
          },
          "metadata": {}
        },
        {
          "output_type": "display_data",
          "data": {
            "text/plain": [
              "<IPython.core.display.HTML object>"
            ],
            "text/html": [
              "Syncing run <strong><a href=\"https://wandb.ai/kankan-jana/CS6910_Assignment3/runs/jqdbxg62\" target=\"_blank\">glad-sweep-5</a></strong> to <a href=\"https://wandb.ai/kankan-jana/CS6910_Assignment3\" target=\"_blank\">Weights & Biases</a> (<a href=\"https://wandb.me/run\" target=\"_blank\">docs</a>)<br/>Sweep page:  <a href=\"https://wandb.ai/kankan-jana/CS6910_Assignment3/sweeps/ukjlroe5\" target=\"_blank\">https://wandb.ai/kankan-jana/CS6910_Assignment3/sweeps/ukjlroe5</a>"
            ]
          },
          "metadata": {}
        },
        {
          "output_type": "stream",
          "name": "stdout",
          "text": [
            "Epoch 1/15\n",
            "458/458 [==============================] - ETA: 0s - loss: 1.0722 - accuracy: 0.7141 val_exact_accuracy: 0.00017596339961288053\n",
            "458/458 [==============================] - 59s 118ms/step - loss: 1.0722 - accuracy: 0.7141 - val_loss: 0.7810 - val_accuracy: 0.7769 - _timestamp: 1651506171.0000 - _runtime: 66.0000\n",
            "Epoch 2/15\n",
            "458/458 [==============================] - ETA: 0s - loss: 0.7080 - accuracy: 0.7955 val_exact_accuracy: 0.009326060179482667\n",
            "458/458 [==============================] - 52s 113ms/step - loss: 0.7080 - accuracy: 0.7955 - val_loss: 0.5275 - val_accuracy: 0.8444 - _timestamp: 1651506223.0000 - _runtime: 118.0000\n",
            "Epoch 3/15\n",
            "458/458 [==============================] - ETA: 0s - loss: 0.4613 - accuracy: 0.8623 val_exact_accuracy: 0.11367235614992081\n",
            "458/458 [==============================] - 52s 113ms/step - loss: 0.4613 - accuracy: 0.8623 - val_loss: 0.3025 - val_accuracy: 0.9097 - _timestamp: 1651506275.0000 - _runtime: 170.0000\n",
            "Epoch 4/15\n",
            "458/458 [==============================] - ETA: 0s - loss: 0.2409 - accuracy: 0.9278 val_exact_accuracy: 0.37708956537040295\n",
            "458/458 [==============================] - 52s 113ms/step - loss: 0.2409 - accuracy: 0.9278 - val_loss: 0.1436 - val_accuracy: 0.9566 - _timestamp: 1651506326.0000 - _runtime: 221.0000\n",
            "Epoch 5/15\n",
            "458/458 [==============================] - ETA: 0s - loss: 0.1194 - accuracy: 0.9648 val_exact_accuracy: 0.47263769136019707\n",
            "458/458 [==============================] - 51s 112ms/step - loss: 0.1194 - accuracy: 0.9648 - val_loss: 0.1064 - val_accuracy: 0.9676 - _timestamp: 1651506378.0000 - _runtime: 273.0000\n",
            "Epoch 6/15\n",
            "458/458 [==============================] - ETA: 0s - loss: 0.0829 - accuracy: 0.9754 val_exact_accuracy: 0.5282421256378673\n",
            "458/458 [==============================] - 52s 113ms/step - loss: 0.0829 - accuracy: 0.9754 - val_loss: 0.0912 - val_accuracy: 0.9725 - _timestamp: 1651506429.0000 - _runtime: 324.0000\n",
            "Epoch 7/15\n",
            "458/458 [==============================] - ETA: 0s - loss: 0.0656 - accuracy: 0.9806 val_exact_accuracy: 0.5442547950026394\n",
            "458/458 [==============================] - 52s 113ms/step - loss: 0.0656 - accuracy: 0.9806 - val_loss: 0.0870 - val_accuracy: 0.9736 - _timestamp: 1651506481.0000 - _runtime: 376.0000\n",
            "Epoch 8/15\n",
            "458/458 [==============================] - ETA: 0s - loss: 0.0540 - accuracy: 0.9839 val_exact_accuracy: 0.5511173675875418\n",
            "458/458 [==============================] - 52s 113ms/step - loss: 0.0540 - accuracy: 0.9839 - val_loss: 0.0865 - val_accuracy: 0.9744 - _timestamp: 1651506532.0000 - _runtime: 427.0000\n",
            "Epoch 9/15\n",
            "458/458 [==============================] - ETA: 0s - loss: 0.0453 - accuracy: 0.9866 val_exact_accuracy: 0.5549885623790252\n",
            "458/458 [==============================] - 51s 112ms/step - loss: 0.0453 - accuracy: 0.9866 - val_loss: 0.0881 - val_accuracy: 0.9746 - _timestamp: 1651506584.0000 - _runtime: 479.0000\n",
            "Epoch 10/15\n",
            "458/458 [==============================] - ETA: 0s - loss: 0.0390 - accuracy: 0.9885 val_exact_accuracy: 0.5525250747844448\n",
            "458/458 [==============================] - 51s 112ms/step - loss: 0.0390 - accuracy: 0.9885 - val_loss: 0.0885 - val_accuracy: 0.9747 - _timestamp: 1651506636.0000 - _runtime: 531.0000\n",
            "Epoch 11/15\n",
            "458/458 [==============================] - ETA: 0s - loss: 0.0325 - accuracy: 0.9903 val_exact_accuracy: 0.5674819637515397\n",
            "458/458 [==============================] - 51s 112ms/step - loss: 0.0325 - accuracy: 0.9903 - val_loss: 0.0891 - val_accuracy: 0.9757 - _timestamp: 1651506687.0000 - _runtime: 582.0000\n",
            "Epoch 12/15\n",
            "458/458 [==============================] - ETA: 0s - loss: 0.0279 - accuracy: 0.9917 val_exact_accuracy: 0.5613232447650889\n",
            "458/458 [==============================] - 52s 113ms/step - loss: 0.0279 - accuracy: 0.9917 - val_loss: 0.0937 - val_accuracy: 0.9746 - _timestamp: 1651506738.0000 - _runtime: 633.0000\n",
            "Epoch 13/15\n",
            "458/458 [==============================] - ETA: 0s - loss: 0.0250 - accuracy: 0.9924 val_exact_accuracy: 0.5511173675875418\n",
            "458/458 [==============================] - 51s 112ms/step - loss: 0.0250 - accuracy: 0.9924 - val_loss: 0.0936 - val_accuracy: 0.9749 - _timestamp: 1651506790.0000 - _runtime: 685.0000\n"
          ]
        },
        {
          "output_type": "display_data",
          "data": {
            "text/plain": [
              "<IPython.core.display.HTML object>"
            ],
            "text/html": [
              "Waiting for W&B process to finish... <strong style=\"color:green\">(success).</strong>"
            ]
          },
          "metadata": {}
        },
        {
          "output_type": "display_data",
          "data": {
            "text/plain": [
              "VBox(children=(Label(value='58.139 MB of 58.139 MB uploaded (0.000 MB deduped)\\r'), FloatProgress(value=1.0, m…"
            ],
            "application/vnd.jupyter.widget-view+json": {
              "version_major": 2,
              "version_minor": 0,
              "model_id": "3f7307d5f43f495f86ab98b23a6820ea"
            }
          },
          "metadata": {}
        },
        {
          "output_type": "display_data",
          "data": {
            "text/plain": [
              "<IPython.core.display.HTML object>"
            ],
            "text/html": [
              "<style>\n",
              "    table.wandb td:nth-child(1) { padding: 0 10px; text-align: right }\n",
              "    .wandb-row { display: flex; flex-direction: row; flex-wrap: wrap; width: 100% }\n",
              "    .wandb-col { display: flex; flex-direction: column; flex-basis: 100%; flex: 1; padding: 10px; }\n",
              "    </style>\n",
              "<div class=\"wandb-row\"><div class=\"wandb-col\"><h3>Run history:</h3><br/><table class=\"wandb\"><tr><td>accuracy</td><td>▁▃▅▆▇████████</td></tr><tr><td>epoch</td><td>▁▂▂▃▃▄▅▅▆▆▇▇█</td></tr><tr><td>loss</td><td>█▆▄▂▂▁▁▁▁▁▁▁▁</td></tr><tr><td>val_accuracy</td><td>▁▃▆▇█████████</td></tr><tr><td>val_exact_accuracy</td><td>▁▁▂▆▇████████</td></tr><tr><td>val_loss</td><td>█▅▃▂▁▁▁▁▁▁▁▁▁</td></tr></table><br/></div><div class=\"wandb-col\"><h3>Run summary:</h3><br/><table class=\"wandb\"><tr><td>accuracy</td><td>0.99241</td></tr><tr><td>best_epoch</td><td>7</td></tr><tr><td>best_val_loss</td><td>0.08655</td></tr><tr><td>epoch</td><td>12</td></tr><tr><td>loss</td><td>0.02496</td></tr><tr><td>val_accuracy</td><td>0.97492</td></tr><tr><td>val_exact_accuracy</td><td>0.55112</td></tr><tr><td>val_loss</td><td>0.09355</td></tr></table><br/></div></div>"
            ]
          },
          "metadata": {}
        },
        {
          "output_type": "display_data",
          "data": {
            "text/plain": [
              "<IPython.core.display.HTML object>"
            ],
            "text/html": [
              "Synced <strong style=\"color:#cdcd00\">glad-sweep-5</strong>: <a href=\"https://wandb.ai/kankan-jana/CS6910_Assignment3/runs/jqdbxg62\" target=\"_blank\">https://wandb.ai/kankan-jana/CS6910_Assignment3/runs/jqdbxg62</a><br/>Synced 5 W&B file(s), 1 media file(s), 2 artifact file(s) and 2 other file(s)"
            ]
          },
          "metadata": {}
        },
        {
          "output_type": "display_data",
          "data": {
            "text/plain": [
              "<IPython.core.display.HTML object>"
            ],
            "text/html": [
              "Find logs at: <code>./wandb/run-20220502_154145-jqdbxg62/logs</code>"
            ]
          },
          "metadata": {}
        },
        {
          "output_type": "stream",
          "name": "stderr",
          "text": [
            "\u001b[34m\u001b[1mwandb\u001b[0m: Agent Starting Run: q3mm7k3g with config:\n",
            "\u001b[34m\u001b[1mwandb\u001b[0m: \tbatch_size: 128\n",
            "\u001b[34m\u001b[1mwandb\u001b[0m: \tcell_type: lstm\n",
            "\u001b[34m\u001b[1mwandb\u001b[0m: \tdropout: 0.3\n",
            "\u001b[34m\u001b[1mwandb\u001b[0m: \tinp_emb_size: 64\n",
            "\u001b[34m\u001b[1mwandb\u001b[0m: \tlatent_dim: 512\n",
            "\u001b[34m\u001b[1mwandb\u001b[0m: \tlr: 0.001\n",
            "\u001b[34m\u001b[1mwandb\u001b[0m: \tnum_of_decoders: 2\n",
            "\u001b[34m\u001b[1mwandb\u001b[0m: \tnum_of_encoders: 1\n",
            "\u001b[34m\u001b[1mwandb\u001b[0m: \toptimizer: adam\n"
          ]
        },
        {
          "output_type": "display_data",
          "data": {
            "text/plain": [
              "<IPython.core.display.HTML object>"
            ],
            "text/html": [
              "Tracking run with wandb version 0.12.15"
            ]
          },
          "metadata": {}
        },
        {
          "output_type": "display_data",
          "data": {
            "text/plain": [
              "<IPython.core.display.HTML object>"
            ],
            "text/html": [
              "Run data is saved locally in <code>/content/wandb/run-20220502_155327-q3mm7k3g</code>"
            ]
          },
          "metadata": {}
        },
        {
          "output_type": "display_data",
          "data": {
            "text/plain": [
              "<IPython.core.display.HTML object>"
            ],
            "text/html": [
              "Syncing run <strong><a href=\"https://wandb.ai/kankan-jana/CS6910_Assignment3/runs/q3mm7k3g\" target=\"_blank\">breezy-sweep-6</a></strong> to <a href=\"https://wandb.ai/kankan-jana/CS6910_Assignment3\" target=\"_blank\">Weights & Biases</a> (<a href=\"https://wandb.me/run\" target=\"_blank\">docs</a>)<br/>Sweep page:  <a href=\"https://wandb.ai/kankan-jana/CS6910_Assignment3/sweeps/ukjlroe5\" target=\"_blank\">https://wandb.ai/kankan-jana/CS6910_Assignment3/sweeps/ukjlroe5</a>"
            ]
          },
          "metadata": {}
        },
        {
          "output_type": "stream",
          "name": "stdout",
          "text": [
            "Epoch 1/15\n",
            "458/458 [==============================] - ETA: 0s - loss: 1.0709 - accuracy: 0.7141 val_exact_accuracy: 0.0\n",
            "458/458 [==============================] - 59s 118ms/step - loss: 1.0709 - accuracy: 0.7141 - val_loss: 0.7919 - val_accuracy: 0.7785 - _timestamp: 1651506873.0000 - _runtime: 66.0000\n",
            "Epoch 2/15\n",
            "458/458 [==============================] - ETA: 0s - loss: 0.7037 - accuracy: 0.7974 val_exact_accuracy: 0.01390110856941756\n",
            "458/458 [==============================] - 51s 112ms/step - loss: 0.7037 - accuracy: 0.7974 - val_loss: 0.4913 - val_accuracy: 0.8561 - _timestamp: 1651506925.0000 - _runtime: 118.0000\n",
            "Epoch 3/15\n",
            "458/458 [==============================] - ETA: 0s - loss: 0.3974 - accuracy: 0.8820 val_exact_accuracy: 0.22980819989442197\n",
            "458/458 [==============================] - 52s 113ms/step - loss: 0.3974 - accuracy: 0.8820 - val_loss: 0.2121 - val_accuracy: 0.9377 - _timestamp: 1651506976.0000 - _runtime: 169.0000\n",
            "Epoch 4/15\n",
            "458/458 [==============================] - ETA: 0s - loss: 0.1693 - accuracy: 0.9509 val_exact_accuracy: 0.4527538272039416\n",
            "458/458 [==============================] - 52s 112ms/step - loss: 0.1693 - accuracy: 0.9509 - val_loss: 0.1150 - val_accuracy: 0.9657 - _timestamp: 1651507028.0000 - _runtime: 221.0000\n",
            "Epoch 5/15\n",
            "458/458 [==============================] - ETA: 0s - loss: 0.1038 - accuracy: 0.9697 val_exact_accuracy: 0.5118775294738694\n",
            "458/458 [==============================] - 52s 113ms/step - loss: 0.1038 - accuracy: 0.9697 - val_loss: 0.0971 - val_accuracy: 0.9709 - _timestamp: 1651507079.0000 - _runtime: 272.0000\n",
            "Epoch 6/15\n",
            "458/458 [==============================] - ETA: 0s - loss: 0.0798 - accuracy: 0.9764 val_exact_accuracy: 0.5428470878057364\n",
            "458/458 [==============================] - 52s 113ms/step - loss: 0.0798 - accuracy: 0.9764 - val_loss: 0.0891 - val_accuracy: 0.9729 - _timestamp: 1651507131.0000 - _runtime: 324.0000\n",
            "Epoch 7/15\n",
            "458/458 [==============================] - ETA: 0s - loss: 0.0655 - accuracy: 0.9805 val_exact_accuracy: 0.5259546014428998\n",
            "458/458 [==============================] - 51s 112ms/step - loss: 0.0655 - accuracy: 0.9805 - val_loss: 0.0922 - val_accuracy: 0.9717 - _timestamp: 1651507183.0000 - _runtime: 376.0000\n",
            "Epoch 8/15\n",
            "458/458 [==============================] - ETA: 0s - loss: 0.0541 - accuracy: 0.9839 val_exact_accuracy: 0.5593876473693472\n",
            "458/458 [==============================] - 52s 113ms/step - loss: 0.0541 - accuracy: 0.9839 - val_loss: 0.0850 - val_accuracy: 0.9744 - _timestamp: 1651507234.0000 - _runtime: 427.0000\n",
            "Epoch 9/15\n",
            "458/458 [==============================] - ETA: 0s - loss: 0.0464 - accuracy: 0.9863 val_exact_accuracy: 0.5683617807496041\n",
            "458/458 [==============================] - 51s 112ms/step - loss: 0.0464 - accuracy: 0.9863 - val_loss: 0.0878 - val_accuracy: 0.9751 - _timestamp: 1651507286.0000 - _runtime: 479.0000\n",
            "Epoch 10/15\n",
            "458/458 [==============================] - ETA: 0s - loss: 0.0391 - accuracy: 0.9883 val_exact_accuracy: 0.5650184761569593\n",
            "458/458 [==============================] - 51s 112ms/step - loss: 0.0391 - accuracy: 0.9883 - val_loss: 0.0890 - val_accuracy: 0.9747 - _timestamp: 1651507337.0000 - _runtime: 530.0000\n",
            "Epoch 11/15\n",
            "458/458 [==============================] - ETA: 0s - loss: 0.0342 - accuracy: 0.9898 val_exact_accuracy: 0.5750483899348935\n",
            "458/458 [==============================] - 51s 112ms/step - loss: 0.0342 - accuracy: 0.9898 - val_loss: 0.0888 - val_accuracy: 0.9757 - _timestamp: 1651507388.0000 - _runtime: 581.0000\n",
            "Epoch 12/15\n",
            "458/458 [==============================] - ETA: 0s - loss: 0.0292 - accuracy: 0.9912 val_exact_accuracy: 0.5616751715643146\n",
            "458/458 [==============================] - 51s 112ms/step - loss: 0.0292 - accuracy: 0.9912 - val_loss: 0.0933 - val_accuracy: 0.9750 - _timestamp: 1651507440.0000 - _runtime: 633.0000\n",
            "Epoch 13/15\n",
            "458/458 [==============================] - ETA: 0s - loss: 0.0256 - accuracy: 0.9923 val_exact_accuracy: 0.5593876473693472\n",
            "458/458 [==============================] - 51s 112ms/step - loss: 0.0256 - accuracy: 0.9923 - val_loss: 0.0944 - val_accuracy: 0.9747 - _timestamp: 1651507491.0000 - _runtime: 684.0000\n"
          ]
        },
        {
          "output_type": "display_data",
          "data": {
            "text/plain": [
              "<IPython.core.display.HTML object>"
            ],
            "text/html": [
              "Waiting for W&B process to finish... <strong style=\"color:green\">(success).</strong>"
            ]
          },
          "metadata": {}
        },
        {
          "output_type": "display_data",
          "data": {
            "text/plain": [
              "VBox(children=(Label(value='58.154 MB of 58.154 MB uploaded (0.000 MB deduped)\\r'), FloatProgress(value=1.0, m…"
            ],
            "application/vnd.jupyter.widget-view+json": {
              "version_major": 2,
              "version_minor": 0,
              "model_id": "d09976bea9fd423088ba0559ba86828a"
            }
          },
          "metadata": {}
        },
        {
          "output_type": "display_data",
          "data": {
            "text/plain": [
              "<IPython.core.display.HTML object>"
            ],
            "text/html": [
              "<style>\n",
              "    table.wandb td:nth-child(1) { padding: 0 10px; text-align: right }\n",
              "    .wandb-row { display: flex; flex-direction: row; flex-wrap: wrap; width: 100% }\n",
              "    .wandb-col { display: flex; flex-direction: column; flex-basis: 100%; flex: 1; padding: 10px; }\n",
              "    </style>\n",
              "<div class=\"wandb-row\"><div class=\"wandb-col\"><h3>Run history:</h3><br/><table class=\"wandb\"><tr><td>accuracy</td><td>▁▃▅▇▇████████</td></tr><tr><td>epoch</td><td>▁▂▂▃▃▄▅▅▆▆▇▇█</td></tr><tr><td>loss</td><td>█▆▃▂▂▁▁▁▁▁▁▁▁</td></tr><tr><td>val_accuracy</td><td>▁▄▇██████████</td></tr><tr><td>val_exact_accuracy</td><td>▁▁▄▇▇█▇██████</td></tr><tr><td>val_loss</td><td>█▅▂▁▁▁▁▁▁▁▁▁▁</td></tr></table><br/></div><div class=\"wandb-col\"><h3>Run summary:</h3><br/><table class=\"wandb\"><tr><td>accuracy</td><td>0.99232</td></tr><tr><td>best_epoch</td><td>7</td></tr><tr><td>best_val_loss</td><td>0.08504</td></tr><tr><td>epoch</td><td>12</td></tr><tr><td>loss</td><td>0.02565</td></tr><tr><td>val_accuracy</td><td>0.97468</td></tr><tr><td>val_exact_accuracy</td><td>0.55939</td></tr><tr><td>val_loss</td><td>0.0944</td></tr></table><br/></div></div>"
            ]
          },
          "metadata": {}
        },
        {
          "output_type": "display_data",
          "data": {
            "text/plain": [
              "<IPython.core.display.HTML object>"
            ],
            "text/html": [
              "Synced <strong style=\"color:#cdcd00\">breezy-sweep-6</strong>: <a href=\"https://wandb.ai/kankan-jana/CS6910_Assignment3/runs/q3mm7k3g\" target=\"_blank\">https://wandb.ai/kankan-jana/CS6910_Assignment3/runs/q3mm7k3g</a><br/>Synced 5 W&B file(s), 1 media file(s), 2 artifact file(s) and 2 other file(s)"
            ]
          },
          "metadata": {}
        },
        {
          "output_type": "display_data",
          "data": {
            "text/plain": [
              "<IPython.core.display.HTML object>"
            ],
            "text/html": [
              "Find logs at: <code>./wandb/run-20220502_155327-q3mm7k3g/logs</code>"
            ]
          },
          "metadata": {}
        },
        {
          "output_type": "stream",
          "name": "stderr",
          "text": [
            "\u001b[34m\u001b[1mwandb\u001b[0m: Agent Starting Run: 09egv7nr with config:\n",
            "\u001b[34m\u001b[1mwandb\u001b[0m: \tbatch_size: 128\n",
            "\u001b[34m\u001b[1mwandb\u001b[0m: \tcell_type: lstm\n",
            "\u001b[34m\u001b[1mwandb\u001b[0m: \tdropout: 0.3\n",
            "\u001b[34m\u001b[1mwandb\u001b[0m: \tinp_emb_size: 64\n",
            "\u001b[34m\u001b[1mwandb\u001b[0m: \tlatent_dim: 512\n",
            "\u001b[34m\u001b[1mwandb\u001b[0m: \tlr: 0.001\n",
            "\u001b[34m\u001b[1mwandb\u001b[0m: \tnum_of_decoders: 2\n",
            "\u001b[34m\u001b[1mwandb\u001b[0m: \tnum_of_encoders: 1\n",
            "\u001b[34m\u001b[1mwandb\u001b[0m: \toptimizer: adam\n"
          ]
        },
        {
          "output_type": "display_data",
          "data": {
            "text/plain": [
              "<IPython.core.display.HTML object>"
            ],
            "text/html": [
              "Tracking run with wandb version 0.12.15"
            ]
          },
          "metadata": {}
        },
        {
          "output_type": "display_data",
          "data": {
            "text/plain": [
              "<IPython.core.display.HTML object>"
            ],
            "text/html": [
              "Run data is saved locally in <code>/content/wandb/run-20220502_160511-09egv7nr</code>"
            ]
          },
          "metadata": {}
        },
        {
          "output_type": "display_data",
          "data": {
            "text/plain": [
              "<IPython.core.display.HTML object>"
            ],
            "text/html": [
              "Syncing run <strong><a href=\"https://wandb.ai/kankan-jana/CS6910_Assignment3/runs/09egv7nr\" target=\"_blank\">floral-sweep-7</a></strong> to <a href=\"https://wandb.ai/kankan-jana/CS6910_Assignment3\" target=\"_blank\">Weights & Biases</a> (<a href=\"https://wandb.me/run\" target=\"_blank\">docs</a>)<br/>Sweep page:  <a href=\"https://wandb.ai/kankan-jana/CS6910_Assignment3/sweeps/ukjlroe5\" target=\"_blank\">https://wandb.ai/kankan-jana/CS6910_Assignment3/sweeps/ukjlroe5</a>"
            ]
          },
          "metadata": {}
        },
        {
          "output_type": "stream",
          "name": "stdout",
          "text": [
            "Epoch 1/15\n",
            "458/458 [==============================] - ETA: 0s - loss: 1.0962 - accuracy: 0.7086 val_exact_accuracy: 0.0\n",
            "458/458 [==============================] - 59s 118ms/step - loss: 1.0962 - accuracy: 0.7086 - val_loss: 0.8318 - val_accuracy: 0.7597 - _timestamp: 1651507578.0000 - _runtime: 67.0000\n",
            "Epoch 2/15\n",
            "458/458 [==============================] - ETA: 0s - loss: 0.7689 - accuracy: 0.7798 val_exact_accuracy: 0.004751011789547774\n",
            "458/458 [==============================] - 52s 113ms/step - loss: 0.7689 - accuracy: 0.7798 - val_loss: 0.5600 - val_accuracy: 0.8382 - _timestamp: 1651507630.0000 - _runtime: 119.0000\n",
            "Epoch 3/15\n",
            "458/458 [==============================] - ETA: 0s - loss: 0.4540 - accuracy: 0.8664 val_exact_accuracy: 0.1852894597923632\n",
            "458/458 [==============================] - 52s 114ms/step - loss: 0.4540 - accuracy: 0.8664 - val_loss: 0.2372 - val_accuracy: 0.9306 - _timestamp: 1651507682.0000 - _runtime: 171.0000\n",
            "Epoch 4/15\n",
            "458/458 [==============================] - ETA: 0s - loss: 0.1761 - accuracy: 0.9488 val_exact_accuracy: 0.42389582966742917\n",
            "458/458 [==============================] - 52s 113ms/step - loss: 0.1761 - accuracy: 0.9488 - val_loss: 0.1205 - val_accuracy: 0.9637 - _timestamp: 1651507733.0000 - _runtime: 222.0000\n",
            "Epoch 5/15\n",
            "458/458 [==============================] - ETA: 0s - loss: 0.1080 - accuracy: 0.9681 val_exact_accuracy: 0.48689072672884043\n",
            "458/458 [==============================] - 52s 113ms/step - loss: 0.1080 - accuracy: 0.9681 - val_loss: 0.1036 - val_accuracy: 0.9683 - _timestamp: 1651507785.0000 - _runtime: 274.0000\n",
            "Epoch 6/15\n",
            "458/458 [==============================] - ETA: 0s - loss: 0.0844 - accuracy: 0.9748 val_exact_accuracy: 0.5178602850607074\n",
            "458/458 [==============================] - 52s 113ms/step - loss: 0.0844 - accuracy: 0.9748 - val_loss: 0.0937 - val_accuracy: 0.9713 - _timestamp: 1651507837.0000 - _runtime: 326.0000\n",
            "Epoch 7/15\n",
            "458/458 [==============================] - ETA: 0s - loss: 0.0697 - accuracy: 0.9792 val_exact_accuracy: 0.5386239662150273\n",
            "458/458 [==============================] - 52s 113ms/step - loss: 0.0697 - accuracy: 0.9792 - val_loss: 0.0881 - val_accuracy: 0.9729 - _timestamp: 1651507889.0000 - _runtime: 378.0000\n",
            "Epoch 8/15\n",
            "458/458 [==============================] - ETA: 0s - loss: 0.0588 - accuracy: 0.9826 val_exact_accuracy: 0.5544606721801866\n",
            "458/458 [==============================] - 52s 113ms/step - loss: 0.0588 - accuracy: 0.9826 - val_loss: 0.0894 - val_accuracy: 0.9736 - _timestamp: 1651507940.0000 - _runtime: 429.0000\n",
            "Epoch 9/15\n",
            "458/458 [==============================] - ETA: 0s - loss: 0.0508 - accuracy: 0.9850 val_exact_accuracy: 0.5458384655991554\n",
            "458/458 [==============================] - 51s 112ms/step - loss: 0.0508 - accuracy: 0.9850 - val_loss: 0.0889 - val_accuracy: 0.9733 - _timestamp: 1651507992.0000 - _runtime: 481.0000\n",
            "Epoch 10/15\n",
            "458/458 [==============================] - ETA: 0s - loss: 0.0427 - accuracy: 0.9873 val_exact_accuracy: 0.5528770015836706\n",
            "458/458 [==============================] - 51s 112ms/step - loss: 0.0427 - accuracy: 0.9873 - val_loss: 0.0897 - val_accuracy: 0.9740 - _timestamp: 1651508043.0000 - _runtime: 532.0000\n",
            "Epoch 11/15\n",
            "458/458 [==============================] - ETA: 0s - loss: 0.0365 - accuracy: 0.9891 val_exact_accuracy: 0.5442547950026394\n",
            "458/458 [==============================] - 51s 112ms/step - loss: 0.0365 - accuracy: 0.9891 - val_loss: 0.0944 - val_accuracy: 0.9732 - _timestamp: 1651508095.0000 - _runtime: 584.0000\n",
            "Epoch 12/15\n",
            "458/458 [==============================] - ETA: 0s - loss: 0.0316 - accuracy: 0.9906 val_exact_accuracy: 0.5386239662150273\n",
            "458/458 [==============================] - 52s 113ms/step - loss: 0.0316 - accuracy: 0.9906 - val_loss: 0.0946 - val_accuracy: 0.9735 - _timestamp: 1651508146.0000 - _runtime: 635.0000\n"
          ]
        },
        {
          "output_type": "display_data",
          "data": {
            "text/plain": [
              "<IPython.core.display.HTML object>"
            ],
            "text/html": [
              "Waiting for W&B process to finish... <strong style=\"color:green\">(success).</strong>"
            ]
          },
          "metadata": {}
        },
        {
          "output_type": "display_data",
          "data": {
            "text/plain": [
              "VBox(children=(Label(value='19.521 MB of 19.521 MB uploaded (0.000 MB deduped)\\r'), FloatProgress(value=1.0, m…"
            ],
            "application/vnd.jupyter.widget-view+json": {
              "version_major": 2,
              "version_minor": 0,
              "model_id": "bd3d8182111842748ef3c1656b3bd7f4"
            }
          },
          "metadata": {}
        },
        {
          "output_type": "display_data",
          "data": {
            "text/plain": [
              "<IPython.core.display.HTML object>"
            ],
            "text/html": [
              "<style>\n",
              "    table.wandb td:nth-child(1) { padding: 0 10px; text-align: right }\n",
              "    .wandb-row { display: flex; flex-direction: row; flex-wrap: wrap; width: 100% }\n",
              "    .wandb-col { display: flex; flex-direction: column; flex-basis: 100%; flex: 1; padding: 10px; }\n",
              "    </style>\n",
              "<div class=\"wandb-row\"><div class=\"wandb-col\"><h3>Run history:</h3><br/><table class=\"wandb\"><tr><td>accuracy</td><td>▁▃▅▇▇███████</td></tr><tr><td>epoch</td><td>▁▂▂▃▄▄▅▅▆▇▇█</td></tr><tr><td>loss</td><td>█▆▄▂▂▁▁▁▁▁▁▁</td></tr><tr><td>val_accuracy</td><td>▁▄▇█████████</td></tr><tr><td>val_exact_accuracy</td><td>▁▁▃▆▇███████</td></tr><tr><td>val_loss</td><td>█▅▂▁▁▁▁▁▁▁▁▁</td></tr></table><br/></div><div class=\"wandb-col\"><h3>Run summary:</h3><br/><table class=\"wandb\"><tr><td>accuracy</td><td>0.99057</td></tr><tr><td>best_epoch</td><td>6</td></tr><tr><td>best_val_loss</td><td>0.08813</td></tr><tr><td>epoch</td><td>11</td></tr><tr><td>loss</td><td>0.0316</td></tr><tr><td>val_accuracy</td><td>0.97347</td></tr><tr><td>val_exact_accuracy</td><td>0.53862</td></tr><tr><td>val_loss</td><td>0.09457</td></tr></table><br/></div></div>"
            ]
          },
          "metadata": {}
        },
        {
          "output_type": "display_data",
          "data": {
            "text/plain": [
              "<IPython.core.display.HTML object>"
            ],
            "text/html": [
              "Synced <strong style=\"color:#cdcd00\">floral-sweep-7</strong>: <a href=\"https://wandb.ai/kankan-jana/CS6910_Assignment3/runs/09egv7nr\" target=\"_blank\">https://wandb.ai/kankan-jana/CS6910_Assignment3/runs/09egv7nr</a><br/>Synced 5 W&B file(s), 1 media file(s), 2 artifact file(s) and 2 other file(s)"
            ]
          },
          "metadata": {}
        },
        {
          "output_type": "display_data",
          "data": {
            "text/plain": [
              "<IPython.core.display.HTML object>"
            ],
            "text/html": [
              "Find logs at: <code>./wandb/run-20220502_160511-09egv7nr/logs</code>"
            ]
          },
          "metadata": {}
        },
        {
          "output_type": "stream",
          "name": "stderr",
          "text": [
            "\u001b[34m\u001b[1mwandb\u001b[0m: Agent Starting Run: jhqdckim with config:\n",
            "\u001b[34m\u001b[1mwandb\u001b[0m: \tbatch_size: 128\n",
            "\u001b[34m\u001b[1mwandb\u001b[0m: \tcell_type: lstm\n",
            "\u001b[34m\u001b[1mwandb\u001b[0m: \tdropout: 0.3\n",
            "\u001b[34m\u001b[1mwandb\u001b[0m: \tinp_emb_size: 64\n",
            "\u001b[34m\u001b[1mwandb\u001b[0m: \tlatent_dim: 512\n",
            "\u001b[34m\u001b[1mwandb\u001b[0m: \tlr: 0.001\n",
            "\u001b[34m\u001b[1mwandb\u001b[0m: \tnum_of_decoders: 2\n",
            "\u001b[34m\u001b[1mwandb\u001b[0m: \tnum_of_encoders: 1\n",
            "\u001b[34m\u001b[1mwandb\u001b[0m: \toptimizer: adam\n"
          ]
        },
        {
          "output_type": "display_data",
          "data": {
            "text/plain": [
              "<IPython.core.display.HTML object>"
            ],
            "text/html": [
              "Tracking run with wandb version 0.12.15"
            ]
          },
          "metadata": {}
        },
        {
          "output_type": "display_data",
          "data": {
            "text/plain": [
              "<IPython.core.display.HTML object>"
            ],
            "text/html": [
              "Run data is saved locally in <code>/content/wandb/run-20220502_161605-jhqdckim</code>"
            ]
          },
          "metadata": {}
        },
        {
          "output_type": "display_data",
          "data": {
            "text/plain": [
              "<IPython.core.display.HTML object>"
            ],
            "text/html": [
              "Syncing run <strong><a href=\"https://wandb.ai/kankan-jana/CS6910_Assignment3/runs/jhqdckim\" target=\"_blank\">lemon-sweep-8</a></strong> to <a href=\"https://wandb.ai/kankan-jana/CS6910_Assignment3\" target=\"_blank\">Weights & Biases</a> (<a href=\"https://wandb.me/run\" target=\"_blank\">docs</a>)<br/>Sweep page:  <a href=\"https://wandb.ai/kankan-jana/CS6910_Assignment3/sweeps/ukjlroe5\" target=\"_blank\">https://wandb.ai/kankan-jana/CS6910_Assignment3/sweeps/ukjlroe5</a>"
            ]
          },
          "metadata": {}
        },
        {
          "output_type": "stream",
          "name": "stdout",
          "text": [
            "Epoch 1/15\n",
            "458/458 [==============================] - ETA: 0s - loss: 1.0702 - accuracy: 0.7152 val_exact_accuracy: 0.0\n",
            "458/458 [==============================] - 59s 118ms/step - loss: 1.0702 - accuracy: 0.7152 - val_loss: 0.7862 - val_accuracy: 0.7756 - _timestamp: 1651508232.0000 - _runtime: 67.0000\n",
            "Epoch 2/15\n",
            "458/458 [==============================] - ETA: 0s - loss: 0.6779 - accuracy: 0.8038 val_exact_accuracy: 0.014604962167869084\n",
            "458/458 [==============================] - 51s 112ms/step - loss: 0.6779 - accuracy: 0.8038 - val_loss: 0.4726 - val_accuracy: 0.8592 - _timestamp: 1651508283.0000 - _runtime: 118.0000\n",
            "Epoch 3/15\n",
            "458/458 [==============================] - ETA: 0s - loss: 0.3482 - accuracy: 0.8963 val_exact_accuracy: 0.3158543023051205\n",
            "458/458 [==============================] - 52s 113ms/step - loss: 0.3482 - accuracy: 0.8963 - val_loss: 0.1715 - val_accuracy: 0.9501 - _timestamp: 1651508335.0000 - _runtime: 170.0000\n",
            "Epoch 4/15\n",
            "458/458 [==============================] - ETA: 0s - loss: 0.1471 - accuracy: 0.9571 val_exact_accuracy: 0.4717578743621327\n",
            "458/458 [==============================] - 51s 112ms/step - loss: 0.1471 - accuracy: 0.9571 - val_loss: 0.1107 - val_accuracy: 0.9669 - _timestamp: 1651508386.0000 - _runtime: 221.0000\n",
            "Epoch 5/15\n",
            "458/458 [==============================] - ETA: 0s - loss: 0.0985 - accuracy: 0.9708 val_exact_accuracy: 0.4863628365300018\n",
            "458/458 [==============================] - 52s 113ms/step - loss: 0.0985 - accuracy: 0.9708 - val_loss: 0.1072 - val_accuracy: 0.9678 - _timestamp: 1651508438.0000 - _runtime: 273.0000\n",
            "Epoch 6/15\n",
            "458/458 [==============================] - ETA: 0s - loss: 0.0771 - accuracy: 0.9771 val_exact_accuracy: 0.5349287348231568\n",
            "458/458 [==============================] - 52s 113ms/step - loss: 0.0771 - accuracy: 0.9771 - val_loss: 0.0902 - val_accuracy: 0.9727 - _timestamp: 1651508490.0000 - _runtime: 325.0000\n",
            "Epoch 7/15\n",
            "458/458 [==============================] - ETA: 0s - loss: 0.0635 - accuracy: 0.9811 val_exact_accuracy: 0.5470702093964456\n",
            "458/458 [==============================] - 52s 113ms/step - loss: 0.0635 - accuracy: 0.9811 - val_loss: 0.0877 - val_accuracy: 0.9736 - _timestamp: 1651508541.0000 - _runtime: 376.0000\n",
            "Epoch 8/15\n",
            "458/458 [==============================] - ETA: 0s - loss: 0.0532 - accuracy: 0.9841 val_exact_accuracy: 0.5475980995952842\n",
            "458/458 [==============================] - 52s 113ms/step - loss: 0.0532 - accuracy: 0.9841 - val_loss: 0.0863 - val_accuracy: 0.9740 - _timestamp: 1651508593.0000 - _runtime: 428.0000\n",
            "Epoch 9/15\n",
            "458/458 [==============================] - ETA: 0s - loss: 0.0446 - accuracy: 0.9868 val_exact_accuracy: 0.5424951610065106\n",
            "458/458 [==============================] - 52s 113ms/step - loss: 0.0446 - accuracy: 0.9868 - val_loss: 0.0893 - val_accuracy: 0.9737 - _timestamp: 1651508645.0000 - _runtime: 480.0000\n",
            "Epoch 10/15\n",
            "458/458 [==============================] - ETA: 0s - loss: 0.0381 - accuracy: 0.9886 val_exact_accuracy: 0.5574520499736055\n",
            "458/458 [==============================] - 51s 112ms/step - loss: 0.0381 - accuracy: 0.9886 - val_loss: 0.0902 - val_accuracy: 0.9745 - _timestamp: 1651508696.0000 - _runtime: 531.0000\n",
            "Epoch 11/15\n",
            "458/458 [==============================] - ETA: 0s - loss: 0.0325 - accuracy: 0.9903 val_exact_accuracy: 0.5597395741685729\n",
            "458/458 [==============================] - 52s 113ms/step - loss: 0.0325 - accuracy: 0.9903 - val_loss: 0.0900 - val_accuracy: 0.9748 - _timestamp: 1651508748.0000 - _runtime: 583.0000\n",
            "Epoch 12/15\n",
            "458/458 [==============================] - ETA: 0s - loss: 0.0283 - accuracy: 0.9915 val_exact_accuracy: 0.552349111384832\n",
            "458/458 [==============================] - 52s 113ms/step - loss: 0.0283 - accuracy: 0.9915 - val_loss: 0.0929 - val_accuracy: 0.9744 - _timestamp: 1651508799.0000 - _runtime: 634.0000\n",
            "Epoch 13/15\n",
            "458/458 [==============================] - ETA: 0s - loss: 0.0245 - accuracy: 0.9926 val_exact_accuracy: 0.5475980995952842\n",
            "458/458 [==============================] - 52s 112ms/step - loss: 0.0245 - accuracy: 0.9926 - val_loss: 0.0957 - val_accuracy: 0.9749 - _timestamp: 1651508851.0000 - _runtime: 686.0000\n"
          ]
        },
        {
          "output_type": "display_data",
          "data": {
            "text/plain": [
              "<IPython.core.display.HTML object>"
            ],
            "text/html": [
              "Waiting for W&B process to finish... <strong style=\"color:green\">(success).</strong>"
            ]
          },
          "metadata": {}
        },
        {
          "output_type": "display_data",
          "data": {
            "text/plain": [
              "VBox(children=(Label(value='58.183 MB of 58.183 MB uploaded (0.000 MB deduped)\\r'), FloatProgress(value=1.0, m…"
            ],
            "application/vnd.jupyter.widget-view+json": {
              "version_major": 2,
              "version_minor": 0,
              "model_id": "a600c4e7fe414dd896ad75f67ce5cc77"
            }
          },
          "metadata": {}
        },
        {
          "output_type": "display_data",
          "data": {
            "text/plain": [
              "<IPython.core.display.HTML object>"
            ],
            "text/html": [
              "<style>\n",
              "    table.wandb td:nth-child(1) { padding: 0 10px; text-align: right }\n",
              "    .wandb-row { display: flex; flex-direction: row; flex-wrap: wrap; width: 100% }\n",
              "    .wandb-col { display: flex; flex-direction: column; flex-basis: 100%; flex: 1; padding: 10px; }\n",
              "    </style>\n",
              "<div class=\"wandb-row\"><div class=\"wandb-col\"><h3>Run history:</h3><br/><table class=\"wandb\"><tr><td>accuracy</td><td>▁▃▆▇▇████████</td></tr><tr><td>epoch</td><td>▁▂▂▃▃▄▅▅▆▆▇▇█</td></tr><tr><td>loss</td><td>█▅▃▂▁▁▁▁▁▁▁▁▁</td></tr><tr><td>val_accuracy</td><td>▁▄▇██████████</td></tr><tr><td>val_exact_accuracy</td><td>▁▁▅▇▇████████</td></tr><tr><td>val_loss</td><td>█▅▂▁▁▁▁▁▁▁▁▁▁</td></tr></table><br/></div><div class=\"wandb-col\"><h3>Run summary:</h3><br/><table class=\"wandb\"><tr><td>accuracy</td><td>0.99261</td></tr><tr><td>best_epoch</td><td>7</td></tr><tr><td>best_val_loss</td><td>0.08626</td></tr><tr><td>epoch</td><td>12</td></tr><tr><td>loss</td><td>0.02448</td></tr><tr><td>val_accuracy</td><td>0.97486</td></tr><tr><td>val_exact_accuracy</td><td>0.5476</td></tr><tr><td>val_loss</td><td>0.09574</td></tr></table><br/></div></div>"
            ]
          },
          "metadata": {}
        },
        {
          "output_type": "display_data",
          "data": {
            "text/plain": [
              "<IPython.core.display.HTML object>"
            ],
            "text/html": [
              "Synced <strong style=\"color:#cdcd00\">lemon-sweep-8</strong>: <a href=\"https://wandb.ai/kankan-jana/CS6910_Assignment3/runs/jhqdckim\" target=\"_blank\">https://wandb.ai/kankan-jana/CS6910_Assignment3/runs/jhqdckim</a><br/>Synced 5 W&B file(s), 1 media file(s), 2 artifact file(s) and 2 other file(s)"
            ]
          },
          "metadata": {}
        },
        {
          "output_type": "display_data",
          "data": {
            "text/plain": [
              "<IPython.core.display.HTML object>"
            ],
            "text/html": [
              "Find logs at: <code>./wandb/run-20220502_161605-jhqdckim/logs</code>"
            ]
          },
          "metadata": {}
        },
        {
          "output_type": "stream",
          "name": "stderr",
          "text": [
            "\u001b[34m\u001b[1mwandb\u001b[0m: Agent Starting Run: s2x7pcli with config:\n",
            "\u001b[34m\u001b[1mwandb\u001b[0m: \tbatch_size: 128\n",
            "\u001b[34m\u001b[1mwandb\u001b[0m: \tcell_type: lstm\n",
            "\u001b[34m\u001b[1mwandb\u001b[0m: \tdropout: 0.3\n",
            "\u001b[34m\u001b[1mwandb\u001b[0m: \tinp_emb_size: 64\n",
            "\u001b[34m\u001b[1mwandb\u001b[0m: \tlatent_dim: 512\n",
            "\u001b[34m\u001b[1mwandb\u001b[0m: \tlr: 0.001\n",
            "\u001b[34m\u001b[1mwandb\u001b[0m: \tnum_of_decoders: 2\n",
            "\u001b[34m\u001b[1mwandb\u001b[0m: \tnum_of_encoders: 1\n",
            "\u001b[34m\u001b[1mwandb\u001b[0m: \toptimizer: adam\n"
          ]
        },
        {
          "output_type": "display_data",
          "data": {
            "text/plain": [
              "<IPython.core.display.HTML object>"
            ],
            "text/html": [
              "Tracking run with wandb version 0.12.15"
            ]
          },
          "metadata": {}
        },
        {
          "output_type": "display_data",
          "data": {
            "text/plain": [
              "<IPython.core.display.HTML object>"
            ],
            "text/html": [
              "Run data is saved locally in <code>/content/wandb/run-20220502_162748-s2x7pcli</code>"
            ]
          },
          "metadata": {}
        },
        {
          "output_type": "display_data",
          "data": {
            "text/plain": [
              "<IPython.core.display.HTML object>"
            ],
            "text/html": [
              "Syncing run <strong><a href=\"https://wandb.ai/kankan-jana/CS6910_Assignment3/runs/s2x7pcli\" target=\"_blank\">neat-sweep-9</a></strong> to <a href=\"https://wandb.ai/kankan-jana/CS6910_Assignment3\" target=\"_blank\">Weights & Biases</a> (<a href=\"https://wandb.me/run\" target=\"_blank\">docs</a>)<br/>Sweep page:  <a href=\"https://wandb.ai/kankan-jana/CS6910_Assignment3/sweeps/ukjlroe5\" target=\"_blank\">https://wandb.ai/kankan-jana/CS6910_Assignment3/sweeps/ukjlroe5</a>"
            ]
          },
          "metadata": {}
        },
        {
          "output_type": "stream",
          "name": "stdout",
          "text": [
            "Epoch 1/15\n"
          ]
        },
        {
          "output_type": "stream",
          "name": "stderr",
          "text": [
            "\u001b[34m\u001b[1mwandb\u001b[0m: Ctrl + C detected. Stopping sweep.\n"
          ]
        },
        {
          "output_type": "display_data",
          "data": {
            "text/plain": [
              "<IPython.core.display.HTML object>"
            ],
            "text/html": [
              "Waiting for W&B process to finish... <strong style=\"color:red\">(failed 1).</strong> Press Control-C to abort syncing."
            ]
          },
          "metadata": {}
        },
        {
          "output_type": "display_data",
          "data": {
            "text/plain": [
              "VBox(children=(Label(value='0.001 MB of 0.001 MB uploaded (0.000 MB deduped)\\r'), FloatProgress(value=1.0, max…"
            ],
            "application/vnd.jupyter.widget-view+json": {
              "version_major": 2,
              "version_minor": 0,
              "model_id": "a9cbd7632ab444bf8b2b6b0fc4f1473f"
            }
          },
          "metadata": {}
        }
      ]
    }
  ]
}