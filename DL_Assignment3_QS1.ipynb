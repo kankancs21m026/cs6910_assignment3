{
  "cells": [
    {
      "cell_type": "markdown",
      "metadata": {
        "id": "Y2vkvje2XA3r"
      },
      "source": [
        "# CS6910 Assignment 3"
      ]
    },
    {
      "cell_type": "code",
      "execution_count": 131,
      "metadata": {
        "colab": {
          "base_uri": "https://localhost:8080/"
        },
        "id": "u0qCvgqBxzLo",
        "outputId": "d16fded9-2d46-43cb-d7bf-0988fb92b72b"
      },
      "outputs": [
        {
          "name": "stdout",
          "output_type": "stream",
          "text": [
            "Requirement already satisfied: wandb in /usr/local/lib/python3.7/dist-packages (0.12.16)\n",
            "Requirement already satisfied: shortuuid>=0.5.0 in /usr/local/lib/python3.7/dist-packages (from wandb) (1.0.8)\n",
            "Requirement already satisfied: setproctitle in /usr/local/lib/python3.7/dist-packages (from wandb) (1.2.3)\n",
            "Requirement already satisfied: Click!=8.0.0,>=7.0 in /usr/local/lib/python3.7/dist-packages (from wandb) (7.1.2)\n",
            "Requirement already satisfied: psutil>=5.0.0 in /usr/local/lib/python3.7/dist-packages (from wandb) (5.4.8)\n",
            "Requirement already satisfied: pathtools in /usr/local/lib/python3.7/dist-packages (from wandb) (0.1.2)\n",
            "Requirement already satisfied: six>=1.13.0 in /usr/local/lib/python3.7/dist-packages (from wandb) (1.15.0)\n",
            "Requirement already satisfied: python-dateutil>=2.6.1 in /usr/local/lib/python3.7/dist-packages (from wandb) (2.8.2)\n",
            "Requirement already satisfied: GitPython>=1.0.0 in /usr/local/lib/python3.7/dist-packages (from wandb) (3.1.27)\n",
            "Requirement already satisfied: docker-pycreds>=0.4.0 in /usr/local/lib/python3.7/dist-packages (from wandb) (0.4.0)\n",
            "Requirement already satisfied: requests<3,>=2.0.0 in /usr/local/lib/python3.7/dist-packages (from wandb) (2.23.0)\n",
            "Requirement already satisfied: PyYAML in /usr/local/lib/python3.7/dist-packages (from wandb) (3.13)\n",
            "Requirement already satisfied: setuptools in /usr/local/lib/python3.7/dist-packages (from wandb) (57.4.0)\n",
            "Requirement already satisfied: protobuf>=3.12.0 in /usr/local/lib/python3.7/dist-packages (from wandb) (3.17.3)\n",
            "Requirement already satisfied: promise<3,>=2.0 in /usr/local/lib/python3.7/dist-packages (from wandb) (2.3)\n",
            "Requirement already satisfied: sentry-sdk>=1.0.0 in /usr/local/lib/python3.7/dist-packages (from wandb) (1.5.11)\n",
            "Requirement already satisfied: typing-extensions>=3.7.4.3 in /usr/local/lib/python3.7/dist-packages (from GitPython>=1.0.0->wandb) (4.2.0)\n",
            "Requirement already satisfied: gitdb<5,>=4.0.1 in /usr/local/lib/python3.7/dist-packages (from GitPython>=1.0.0->wandb) (4.0.9)\n",
            "Requirement already satisfied: smmap<6,>=3.0.1 in /usr/local/lib/python3.7/dist-packages (from gitdb<5,>=4.0.1->GitPython>=1.0.0->wandb) (5.0.0)\n",
            "Requirement already satisfied: chardet<4,>=3.0.2 in /usr/local/lib/python3.7/dist-packages (from requests<3,>=2.0.0->wandb) (3.0.4)\n",
            "Requirement already satisfied: certifi>=2017.4.17 in /usr/local/lib/python3.7/dist-packages (from requests<3,>=2.0.0->wandb) (2021.10.8)\n",
            "Requirement already satisfied: urllib3!=1.25.0,!=1.25.1,<1.26,>=1.21.1 in /usr/local/lib/python3.7/dist-packages (from requests<3,>=2.0.0->wandb) (1.24.3)\n",
            "Requirement already satisfied: idna<3,>=2.5 in /usr/local/lib/python3.7/dist-packages (from requests<3,>=2.0.0->wandb) (2.10)\n",
            "Requirement already satisfied: xtarfile in /usr/local/lib/python3.7/dist-packages (0.1.0)\n",
            "Requirement already satisfied: pyenchant in /usr/local/lib/python3.7/dist-packages (3.2.2)\n"
          ]
        }
      ],
      "source": [
        "!pip install wandb\n",
        "!pip install xtarfile\n",
        "!pip install pyenchant"
      ]
    },
    {
      "cell_type": "code",
      "execution_count": 132,
      "metadata": {
        "id": "6xAqFEssB1RJ"
      },
      "outputs": [],
      "source": [
        "START_TOKEN=\"\\t\"\n",
        "END_TOKEN=\"\\n\""
      ]
    },
    {
      "cell_type": "code",
      "execution_count": 133,
      "metadata": {
        "id": "s6xB0KDuy95e"
      },
      "outputs": [],
      "source": [
        "import os\n",
        "import random\n",
        "import time\n",
        "import wandb\n",
        "import re, string\n",
        "import numpy as np\n",
        "import pandas as pd \n",
        "import matplotlib as mpl\n",
        "import matplotlib.pyplot as plt\n",
        "from matplotlib.font_manager import FontProperties\n",
        "from wordcloud import WordCloud, STOPWORDS\n",
        "from collections import Counter\n",
        "\n",
        "\n",
        "import os\n",
        "from os.path import exists\n",
        "import matplotlib.pyplot as plt\n",
        "import matplotlib.image as mpimg\n",
        "import random \n",
        "import numpy as np\n",
        "import keras\n",
        "import tensorflow as tf\n",
        "import csv\n",
        "\n",
        "from tensorflow.keras import layers\n",
        "import tensorflow.keras.backend as K\n",
        "\n",
        "\n"
      ]
    },
    {
      "cell_type": "code",
      "execution_count": 134,
      "metadata": {
        "id": "p5Bt3Bf-_JhQ"
      },
      "outputs": [],
      "source": [
        "\n",
        "from Utility.Encoder  import Encoder\n",
        "from Utility.Decoder  import Decoder\n",
        "from Utility.Attention  import BahdanauAttention\n",
        "from Utility.SeqTOSeq  import Seq2Seq\n",
        "from Utility.Param  import Parameters\n",
        "from Utility.DataLoader import downloadDataSet,get_files,tokenize,preprocess_data"
      ]
    },
    {
      "cell_type": "markdown",
      "metadata": {
        "id": "dlbXxZXZjpEq"
      },
      "source": [
        "# Data Preprocessing"
      ]
    },
    {
      "cell_type": "code",
      "execution_count": null,
      "metadata": {
        "id": "ZvmRAVT7egMG"
      },
      "outputs": [],
      "source": [
        "downloadDataSet()"
      ]
    },
    {
      "cell_type": "code",
      "execution_count": 136,
      "metadata": {
        "id": "IOJaWA98T_ib"
      },
      "outputs": [],
      "source": [
        "language=\"te\"\n",
        "train_dir, val_dir, test_dir = get_files(language)\n",
        "\n",
        "dataset, input_tokenizer, targ_tokenizer = preprocess_data(train_dir)\n",
        "val_dataset, _, _ = preprocess_data(val_dir)\n"
      ]
    },
    {
      "cell_type": "code",
      "execution_count": 137,
      "metadata": {
        "id": "EAEOyC7ggEpL"
      },
      "outputs": [],
      "source": [
        "#train data \n",
        "dataset, input_tokenizer, targ_tokenizer = preprocess_data(train_dir)"
      ]
    },
    {
      "cell_type": "markdown",
      "metadata": {
        "id": "6dFaYVD2KA2r"
      },
      "source": [
        "## Train Model"
      ]
    },
    {
      "cell_type": "code",
      "execution_count": 138,
      "metadata": {
        "id": "LPPCBrHukCMZ"
      },
      "outputs": [],
      "source": [
        "\n",
        "\n",
        "def run_model_on_test_dataset(model,param,test_dir):\n",
        "\n",
        "    ## Character level accuracy ##\n",
        "    test_dataset, _, _ = preprocess_data(test_dir, model.input_tokenizer, model.targ_tokenizer)\n",
        "    test_loss, test_acc = model.evaluate(test_dataset, batch_size=100)\n",
        "    print('Character level accuracy: '+str(test_acc.numpy()))\n",
        "\n",
        "    ##  Word level accuracy ##\n",
        "    test_tsv = pd.read_csv(test_dir, sep=\"\\t\", header=None)\n",
        "    inputs = test_tsv[1].astype(str).tolist()\n",
        "    targets = test_tsv[0].astype(str).tolist()\n",
        "   \n",
        "    outputs = []\n",
        "\n",
        "    for word in inputs:\n",
        "        outputs.append(model.translate(word)[0])\n",
        "\n",
        "    print(f\"Word level accuracy: {np.sum(np.asarray(outputs) == np.array(targets)) / len(outputs)}\")\n",
        "\n",
        "    if param.save_outputs is not None:\n",
        "        df = pd.DataFrame()\n",
        "        df[\"inputs\"] = inputs\n",
        "        df[\"targets\"] = targets\n",
        "        df[\"outputs\"] = outputs\n",
        "        df.to_csv(param.save_outputs)\n",
        "\n",
        "\n",
        "    return model\n",
        "\n",
        "#randomly_evaluate(model, n=15)"
      ]
    },
    {
      "cell_type": "code",
      "execution_count": 139,
      "metadata": {
        "id": "yN7qrfXUFB7n"
      },
      "outputs": [],
      "source": [
        "param=Parameters(language=\"te\",\\\n",
        "                        embedding_dim=64,\\\n",
        "                        encoder_layers=3,\\\n",
        "                        decoder_layers=2,\\\n",
        "                        layer_type=\"lstm\",\\\n",
        "                        units=512,\\\n",
        "                        dropout=0.5,\n",
        "                        epochs=1,\\\n",
        "                 batch_size=128\\\n",
        "                   )"
      ]
    },
    {
      "cell_type": "code",
      "execution_count": 140,
      "metadata": {
        "colab": {
          "base_uri": "https://localhost:8080/"
        },
        "id": "kzkdsWRlZzTf",
        "outputId": "de0bd239-da01-4eb2-ce93-56c5f634aa40"
      },
      "outputs": [
        {
          "name": "stderr",
          "output_type": "stream",
          "text": [
            "Epochs : 100%|██████████| 1/1 [01:44<00:00, 104.78s/it]"
          ]
        },
        {
          "name": "stdout",
          "output_type": "stream",
          "text": [
            "\n",
            "Train Loss: 1.2881 Train Accuracy: 60.4825 Validation Loss: 3.2286 Validation Accuracy: 45.7234\n",
            "\n",
            "Time taken for the epoch 104.7807\n",
            "\n",
            "Model trained successfully !!\n"
          ]
        },
        {
          "name": "stderr",
          "output_type": "stream",
          "text": [
            "\n"
          ]
        }
      ],
      "source": [
        "model = Seq2Seq(param)\n",
        "model.set_vocabulary(input_tokenizer, targ_tokenizer)\n",
        "model.build(loss=tf.keras.losses.SparseCategoricalCrossentropy(),\n",
        "                optimizer = tf.keras.optimizers.Adam(learning_rate=0.001),\n",
        "                metric = tf.keras.metrics.SparseCategoricalAccuracy())\n",
        "\n",
        "model.fit(dataset, val_dataset, epochs=param.epochs, wandb=param.wandb, teacher_forcing_ratio=param.teacher_forcing_ratio)                  "
      ]
    },
    {
      "cell_type": "code",
      "execution_count": 144,
      "metadata": {
        "colab": {
          "base_uri": "https://localhost:8080/"
        },
        "id": "WFmGugnVYw1o",
        "outputId": "92c2d7ed-11a1-4fb4-e375-487a88f9c84b"
      },
      "outputs": [
        {
          "name": "stdout",
          "output_type": "stream",
          "text": [
            "\n",
            "Running test dataset through the model...\n",
            "\n",
            "Test Loss: 2.6408 Test Accuracy: 0.5066\n",
            "Character level accuracy: 0.50661874\n",
            "Word level accuracy: 0.0\n"
          ]
        },
        {
          "data": {
            "text/plain": [
              "<Utility.SeqTOSeq.Seq2Seq at 0x7f59986b9d10>"
            ]
          },
          "execution_count": 144,
          "metadata": {},
          "output_type": "execute_result"
        }
      ],
      "source": [
        "run_model_on_test_dataset(model,param,test_dir)"
      ]
    },
    {
      "cell_type": "markdown",
      "metadata": {
        "id": "Fj0f9sfbepzD"
      },
      "source": [
        "## Evaluate Model"
      ]
    },
    {
      "cell_type": "code",
      "execution_count": 145,
      "metadata": {
        "id": "gziDZyElL7xe"
      },
      "outputs": [],
      "source": [
        "\n",
        "def evaluate_samples(model, n=0):\n",
        "\n",
        "    df = pd.read_csv(test_dir, sep=\"\\t\", header=None)\n",
        "\n",
        "    printLine=True\n",
        "    source=[]\n",
        "    actual=[]\n",
        "    predict=[]\n",
        "    if(n==0):\n",
        "      print(f\"Evaluating the model on all words\\n\")\n",
        "      n=len(df)\n",
        "      printLine=False\n",
        "    else:\n",
        "      df = df.sample(n=n).reset_index(drop=True)\n",
        "      #print(f\"Randomly evaluating the model on {n} words\\n\")\n",
        "\n",
        "    for i in range(n):\n",
        "        word = str(df[1][i])\n",
        "        source.append(word)\n",
        "        actual.append(str(df[0][i]))\n",
        "        predict.append(model.translate(word)[0])\n",
        "        \"\"\"if(printLine):\n",
        "          print(f\"Input word: {word}\")\n",
        "          print(f\"Actual translation: {str(df[0][i])}\")\n",
        "          print(f\"Model translation: {predict[-1]}\\n\")\"\"\"\n",
        "    return source,actual,predict\n",
        "    "
      ]
    },
    {
      "cell_type": "code",
      "execution_count": 146,
      "metadata": {
        "colab": {
          "base_uri": "https://localhost:8080/"
        },
        "id": "0qBSXHqxSmZu",
        "outputId": "13d3eceb-50cd-43ec-d50f-3e7d603b8960"
      },
      "outputs": [
        {
          "name": "stdout",
          "output_type": "stream",
          "text": [
            "Evaluating the model on all words\n",
            "\n"
          ]
        }
      ],
      "source": [
        "source,actual,predict=evaluate_samples(model)"
      ]
    },
    {
      "cell_type": "markdown",
      "metadata": {
        "id": "MlAe8K-PetVV"
      },
      "source": [
        "## Report Results"
      ]
    },
    {
      "cell_type": "code",
      "execution_count": 147,
      "metadata": {
        "id": "-kZudXemaAti"
      },
      "outputs": [],
      "source": [
        "from IPython.display import HTML as html_print\n",
        "from IPython.display import display\n",
        "def compare_result(predict,actual,word):\n",
        "    string1=list(actual)\n",
        "    string2=list(predict)\n",
        "    maxstr=None\n",
        "    \n",
        "    minstr=None\n",
        "    if(len(string1)>len(string2)):\n",
        "      maxstr=string1\n",
        "      minstr=string2\n",
        "    else:\n",
        "      maxstr=string2\n",
        "      minstr=string1\n",
        "   \n",
        "    shift=0\n",
        "    html_str = \"\"\"\n",
        "    <br>\n",
        "      <table style=\"border:2px solid black; border-collapse:collapse\">\n",
        "      <tr>\n",
        "      <td scope=\"row\" style=\"border:1px solid black;background-color:#3498DB;color:white;padding:10px;text-align:left\"> <strong>{}</strong> </td>\n",
        "      \"\"\".format(actual)\n",
        "    maxlen=len(maxstr)\n",
        "    minlen=len(minstr)\n",
        "    char_html=\"\"\n",
        "    j=0\n",
        "    for i in range(maxlen):\n",
        "    \n",
        "        if(j<minlen):\n",
        "          if(maxstr[i]==minstr[j]):\n",
        "              char_html+=\"\"\"<td scope=\"row\" style=\"background-color:#E3FFE7 ;border:1px solid black;padding:15px;text-align:left\"> <strong>{}</strong> </td>\"\"\".format(maxstr[i] )\n",
        "              j+=1\n",
        "          else:\n",
        "             if(i+1<maxlen and  maxstr[i+1]==minstr[j]):\n",
        "                char_html+=\"\"\" <td scope=\"row\" style=\"background-color:#FFF6F7 ; border:1px solid black;padding:15px;text-align:left\"> <strong>{}</strong> </td>\"\"\".format(maxstr[i] )\n",
        "                continue\n",
        "             else:\n",
        "              j+=1\n",
        "              char_html+=\"\"\" <td scope=\"row\" style=\"background-color:#FFF6F7 ; border:1px solid black;padding:15px;text-align:left\"> <strong>{}</strong> </td>\"\"\".format(maxstr[i] )\n",
        "        else:\n",
        "          char_html+=\"\"\"<td scope=\"row\" style=\"background-color: #FFF6F7 ; border:1px solid black;padding:15px;text-align:left\"> <strong>{} </strong></td>\"\"\".format(maxstr[i] )   \n",
        "\n",
        "    char_html+=\"\"\"</tr>\"\"\"\n",
        "    char_html+=\"\"\"<tr>\n",
        "      <td scope=\"row\" style=\"border:1px solid black;background-color:#3498DB;padding:15px;color:white;text-align:left\"> <strong>{} </strong></td>\"\"\".format(predict)\n",
        "\n",
        "    j=0\n",
        "    for i in range(maxlen):\n",
        "\n",
        "        if(j<minlen):\n",
        "        \n",
        "          if(maxstr[i]==minstr[j]):\n",
        "            char_html+=\"\"\"<td scope=\"row\" style=\"background-color:#E3FFE7 ;border:1px solid black;padding:15px;text-align:left\"><strong> {} </strong></td>\"\"\".format(minstr[j] )\n",
        "            j+=1\n",
        "          else:\n",
        "             if(i+1<maxlen and  maxstr[i+1]==minstr[j]):\n",
        "                char_html+=\"\"\"<td scope=\"row\" style=\"background-color:#FFF6F7 ; border:1px solid black;padding:15px;text-align:left\"> <strong>{}</strong> </td>\"\"\".format(' ' )\n",
        "                continue\n",
        "             else:\n",
        "                \n",
        "                char_html+=\"\"\"<td scope=\"row\" style=\"background-color:#FFF6F7 ; border:1px solid black;padding:15px;text-align:left\"> <strong>{}</strong> </td>\"\"\".format(minstr[j] )\n",
        "                j+=1\n",
        "        else:\n",
        "          char_html+=\"\"\"<td scope=\"row\" style=\"background-color:#FFF6F7  ; border:1px solid black;padding:15px;text-align:left\"><strong> {}</strong> </td>\"\"\".format('' )\n",
        "\n",
        "\n",
        "\n",
        "    char_html+=\"\"\"</tr>\"\"\"\n",
        "\n",
        "    char_html+=\"\"\"<tr>\n",
        "      <td scope=\"row\" style=\"border:1px solid black;background-color:#3498DB;padding:15px;color:white;text-align:left\"> <strong>{} </strong></td>\"\"\".format(word)\n",
        "\n",
        "\n",
        "    j=0\n",
        "    for i in range(maxlen):\n",
        "    \n",
        "        if(j<minlen):\n",
        "          if(maxstr[i]==minstr[j]):\n",
        "              char_html+=\"\"\"<td scope=\"row\" style=\"border:1px solid black;padding:15px;text-align:left\">&#x2705; </td>\"\"\"\n",
        "              j+=1\n",
        "          else:\n",
        "              if(i+1<maxlen and  maxstr[i+1]==minstr[j]):\n",
        "                char_html+=\"\"\"<td scope=\"row\" style=\"border:1px solid black;padding:15px;text-align:left\"> &#x274C; </td>\"\"\" \n",
        "                continue\n",
        "              else:\n",
        "                j+=1\n",
        "                char_html+=\"\"\" <td scope=\"row\" style=\" border:1px solid black;padding:15px;text-align:left\"> &#x274C; </td>\"\"\"\n",
        "        else:\n",
        "          char_html+=\"\"\"<td scope=\"row\" style=\"border:1px solid black;padding:15px;text-align:left\"> &#x274C; </td>\"\"\" \n",
        "\n",
        "\n",
        "    char_html+=\"\"\"</tr>\"\"\"\n",
        "    html_str+=char_html\n",
        "    display(html_print(html_str)) "
      ]
    },
    {
      "cell_type": "code",
      "execution_count": 148,
      "metadata": {
        "id": "taj0iDcY-hC6"
      },
      "outputs": [],
      "source": [
        "maxlengthword=0\n",
        "for i in actual:\n",
        "  if(len(i)>maxlengthword):\n",
        "    maxlengthword=len(i)\n"
      ]
    },
    {
      "cell_type": "code",
      "execution_count": 149,
      "metadata": {
        "colab": {
          "base_uri": "https://localhost:8080/",
          "height": 727
        },
        "id": "CO4Fzy2r-FEV",
        "outputId": "e1ac3ecb-5478-441b-9b41-f6befd927159"
      },
      "outputs": [
        {
          "data": {
            "text/html": [
              "\n",
              "    <br>\n",
              "      <table style=\"border:2px solid black; border-collapse:collapse\">\n",
              "      <tr>\n",
              "      <th scope=\"row\" style=\"border:1px solid black;background-color:#3498DB;color:white;padding:10px;text-align:left\"> <strong>Word Length</strong> </th>\n",
              "      <th scope=\"row\" style=\"border:1px solid black;background-color:#3498DB;color:white;padding:10px;text-align:left\"> <strong>Total Words</strong> </th>\n",
              "      <th scope=\"row\" style=\"border:1px solid black;background-color:#3498DB;color:white;padding:10px;text-align:left\"> <strong>Accuracy</strong> </th></tr>\n",
              "       <td scope=\"row\" style=\"border:1px solid black;padding:10px;text-align:left\"> <strong>1</strong> </th>\n",
              "      <th scope=\"row\" style=\"border:1px solid black;padding:10px;text-align:left\"> <strong>5</strong> </th>\n",
              "      <th scope=\"row\" style=\"border:1px solid black;padding:10px;text-align:left\"> <strong>0.00</strong> </th></tr>\n",
              "       <td scope=\"row\" style=\"border:1px solid black;padding:10px;text-align:left\"> <strong>2</strong> </th>\n",
              "      <th scope=\"row\" style=\"border:1px solid black;padding:10px;text-align:left\"> <strong>13</strong> </th>\n",
              "      <th scope=\"row\" style=\"border:1px solid black;padding:10px;text-align:left\"> <strong>0.00</strong> </th></tr>\n",
              "       <td scope=\"row\" style=\"border:1px solid black;padding:10px;text-align:left\"> <strong>3</strong> </th>\n",
              "      <th scope=\"row\" style=\"border:1px solid black;padding:10px;text-align:left\"> <strong>102</strong> </th>\n",
              "      <th scope=\"row\" style=\"border:1px solid black;padding:10px;text-align:left\"> <strong>0.00</strong> </th></tr>\n",
              "       <td scope=\"row\" style=\"border:1px solid black;padding:10px;text-align:left\"> <strong>4</strong> </th>\n",
              "      <th scope=\"row\" style=\"border:1px solid black;padding:10px;text-align:left\"> <strong>496</strong> </th>\n",
              "      <th scope=\"row\" style=\"border:1px solid black;padding:10px;text-align:left\"> <strong>0.00</strong> </th></tr>\n",
              "       <td scope=\"row\" style=\"border:1px solid black;padding:10px;text-align:left\"> <strong>5</strong> </th>\n",
              "      <th scope=\"row\" style=\"border:1px solid black;padding:10px;text-align:left\"> <strong>581</strong> </th>\n",
              "      <th scope=\"row\" style=\"border:1px solid black;padding:10px;text-align:left\"> <strong>0.00</strong> </th></tr>\n",
              "       <td scope=\"row\" style=\"border:1px solid black;padding:10px;text-align:left\"> <strong>6</strong> </th>\n",
              "      <th scope=\"row\" style=\"border:1px solid black;padding:10px;text-align:left\"> <strong>1050</strong> </th>\n",
              "      <th scope=\"row\" style=\"border:1px solid black;padding:10px;text-align:left\"> <strong>0.00</strong> </th></tr>\n",
              "       <td scope=\"row\" style=\"border:1px solid black;padding:10px;text-align:left\"> <strong>7</strong> </th>\n",
              "      <th scope=\"row\" style=\"border:1px solid black;padding:10px;text-align:left\"> <strong>897</strong> </th>\n",
              "      <th scope=\"row\" style=\"border:1px solid black;padding:10px;text-align:left\"> <strong>0.00</strong> </th></tr>\n",
              "       <td scope=\"row\" style=\"border:1px solid black;padding:10px;text-align:left\"> <strong>8</strong> </th>\n",
              "      <th scope=\"row\" style=\"border:1px solid black;padding:10px;text-align:left\"> <strong>789</strong> </th>\n",
              "      <th scope=\"row\" style=\"border:1px solid black;padding:10px;text-align:left\"> <strong>0.00</strong> </th></tr>\n",
              "       <td scope=\"row\" style=\"border:1px solid black;padding:10px;text-align:left\"> <strong>9</strong> </th>\n",
              "      <th scope=\"row\" style=\"border:1px solid black;padding:10px;text-align:left\"> <strong>630</strong> </th>\n",
              "      <th scope=\"row\" style=\"border:1px solid black;padding:10px;text-align:left\"> <strong>0.00</strong> </th></tr>\n",
              "       <td scope=\"row\" style=\"border:1px solid black;padding:10px;text-align:left\"> <strong>10</strong> </th>\n",
              "      <th scope=\"row\" style=\"border:1px solid black;padding:10px;text-align:left\"> <strong>461</strong> </th>\n",
              "      <th scope=\"row\" style=\"border:1px solid black;padding:10px;text-align:left\"> <strong>0.00</strong> </th></tr>\n",
              "       <td scope=\"row\" style=\"border:1px solid black;padding:10px;text-align:left\"> <strong>11</strong> </th>\n",
              "      <th scope=\"row\" style=\"border:1px solid black;padding:10px;text-align:left\"> <strong>324</strong> </th>\n",
              "      <th scope=\"row\" style=\"border:1px solid black;padding:10px;text-align:left\"> <strong>0.00</strong> </th></tr>\n",
              "       <td scope=\"row\" style=\"border:1px solid black;padding:10px;text-align:left\"> <strong>12</strong> </th>\n",
              "      <th scope=\"row\" style=\"border:1px solid black;padding:10px;text-align:left\"> <strong>184</strong> </th>\n",
              "      <th scope=\"row\" style=\"border:1px solid black;padding:10px;text-align:left\"> <strong>0.00</strong> </th></tr>\n",
              "       <td scope=\"row\" style=\"border:1px solid black;padding:10px;text-align:left\"> <strong>13</strong> </th>\n",
              "      <th scope=\"row\" style=\"border:1px solid black;padding:10px;text-align:left\"> <strong>90</strong> </th>\n",
              "      <th scope=\"row\" style=\"border:1px solid black;padding:10px;text-align:left\"> <strong>0.00</strong> </th></tr>\n",
              "       <td scope=\"row\" style=\"border:1px solid black;padding:10px;text-align:left\"> <strong>14</strong> </th>\n",
              "      <th scope=\"row\" style=\"border:1px solid black;padding:10px;text-align:left\"> <strong>62</strong> </th>\n",
              "      <th scope=\"row\" style=\"border:1px solid black;padding:10px;text-align:left\"> <strong>0.00</strong> </th></tr>\n",
              "       <td scope=\"row\" style=\"border:1px solid black;padding:10px;text-align:left\"> <strong>15</strong> </th>\n",
              "      <th scope=\"row\" style=\"border:1px solid black;padding:10px;text-align:left\"> <strong>48</strong> </th>\n",
              "      <th scope=\"row\" style=\"border:1px solid black;padding:10px;text-align:left\"> <strong>0.00</strong> </th></tr>\n",
              "       <td scope=\"row\" style=\"border:1px solid black;padding:10px;text-align:left\"> <strong>16</strong> </th>\n",
              "      <th scope=\"row\" style=\"border:1px solid black;padding:10px;text-align:left\"> <strong>6</strong> </th>\n",
              "      <th scope=\"row\" style=\"border:1px solid black;padding:10px;text-align:left\"> <strong>0.00</strong> </th></tr>\n",
              "       <td scope=\"row\" style=\"border:1px solid black;padding:10px;text-align:left\"> <strong>17</strong> </th>\n",
              "      <th scope=\"row\" style=\"border:1px solid black;padding:10px;text-align:left\"> <strong>8</strong> </th>\n",
              "      <th scope=\"row\" style=\"border:1px solid black;padding:10px;text-align:left\"> <strong>0.00</strong> </th></tr>\n",
              "      </tr></table>"
            ],
            "text/plain": [
              "<IPython.core.display.HTML object>"
            ]
          },
          "metadata": {},
          "output_type": "display_data"
        }
      ],
      "source": [
        "source,actual,predict\n",
        "total_words=np.zeros(maxlengthword+1)\n",
        "total_correct=np.zeros(maxlengthword+1)\n",
        "total_wrong=np.zeros(maxlengthword+1)\n",
        "\n",
        "html_str = \"\"\"\n",
        "    <br>\n",
        "      <table style=\"border:2px solid black; border-collapse:collapse\">\n",
        "      <tr>\n",
        "      <th scope=\"row\" style=\"border:1px solid black;background-color:#3498DB;color:white;padding:10px;text-align:left\"> <strong>Word Length</strong> </th>\n",
        "      <th scope=\"row\" style=\"border:1px solid black;background-color:#3498DB;color:white;padding:10px;text-align:left\"> <strong>Total Words</strong> </th>\n",
        "      <th scope=\"row\" style=\"border:1px solid black;background-color:#3498DB;color:white;padding:10px;text-align:left\"> <strong>Accuracy</strong> </th></tr>\n",
        "      \"\"\"\n",
        "for (i,j) in zip(actual,predict):\n",
        "  total_words[len(i)]+=1\n",
        "  if(i==j):\n",
        "    total_correct[len(i)]+=1\n",
        "  else:\n",
        "    total_wrong[len(i)]+=1\n",
        "\n",
        "for i in range(maxlengthword):\n",
        "  \n",
        "  if(total_words[i]!=0):\n",
        "    html_str+=\"\"\" <td scope=\"row\" style=\"border:1px solid black;padding:10px;text-align:left\"> <strong>{}</strong> </th>\n",
        "      <th scope=\"row\" style=\"border:1px solid black;padding:10px;text-align:left\"> <strong>{}</strong> </th>\n",
        "      <th scope=\"row\" style=\"border:1px solid black;padding:10px;text-align:left\"> <strong>{}</strong> </th></tr>\n",
        "      \"\"\".format( str(i),str(int(total_words[i])),str(\"{:.2f}\".format(total_correct[i]*100/total_words[i])))\n",
        "html_str += \"\"\"</tr></table>\"\"\"\n",
        "\n",
        "display(html_print(html_str)) \n"
      ]
    },
    {
      "cell_type": "code",
      "execution_count": 150,
      "metadata": {
        "colab": {
          "base_uri": "https://localhost:8080/",
          "height": 1000
        },
        "id": "ZM4_gZep1HQZ",
        "outputId": "0d040181-1da2-4200-934c-c9bc789d5192"
      },
      "outputs": [
        {
          "data": {
            "text/html": [
              "\n",
              "    <br>\n",
              "      <table style=\"border:2px solid black; border-collapse:collapse\">\n",
              "      <tr>\n",
              "      <td scope=\"row\" style=\"border:1px solid black;background-color:#3498DB;color:white;padding:10px;text-align:left\"> <strong>కిద్రారాను</strong> </td>\n",
              "       <td scope=\"row\" style=\"background-color:#FFF6F7 ; border:1px solid black;padding:15px;text-align:left\"> <strong>ద</strong> </td> <td scope=\"row\" style=\"background-color:#FFF6F7 ; border:1px solid black;padding:15px;text-align:left\"> <strong>ే</strong> </td> <td scope=\"row\" style=\"background-color:#FFF6F7 ; border:1px solid black;padding:15px;text-align:left\"> <strong>వ</strong> </td> <td scope=\"row\" style=\"background-color:#FFF6F7 ; border:1px solid black;padding:15px;text-align:left\"> <strong>ా</strong> </td> <td scope=\"row\" style=\"background-color:#FFF6F7 ; border:1px solid black;padding:15px;text-align:left\"> <strong>ల</strong> </td> <td scope=\"row\" style=\"background-color:#FFF6F7 ; border:1px solid black;padding:15px;text-align:left\"> <strong>య</strong> </td> <td scope=\"row\" style=\"background-color:#FFF6F7 ; border:1px solid black;padding:15px;text-align:left\"> <strong>మ</strong> </td> <td scope=\"row\" style=\"background-color:#FFF6F7 ; border:1px solid black;padding:15px;text-align:left\"> <strong>ు</strong> </td><td scope=\"row\" style=\"background-color:#E3FFE7 ;border:1px solid black;padding:15px;text-align:left\"> <strong>న</strong> </td><td scope=\"row\" style=\"background-color:#E3FFE7 ;border:1px solid black;padding:15px;text-align:left\"> <strong>ు</strong> </td></tr><tr>\n",
              "      <td scope=\"row\" style=\"border:1px solid black;background-color:#3498DB;padding:15px;color:white;text-align:left\"> <strong>దేవాలయమును </strong></td><td scope=\"row\" style=\"background-color:#FFF6F7 ; border:1px solid black;padding:15px;text-align:left\"> <strong>క</strong> </td><td scope=\"row\" style=\"background-color:#FFF6F7 ; border:1px solid black;padding:15px;text-align:left\"> <strong>ి</strong> </td><td scope=\"row\" style=\"background-color:#FFF6F7 ; border:1px solid black;padding:15px;text-align:left\"> <strong>ద</strong> </td><td scope=\"row\" style=\"background-color:#FFF6F7 ; border:1px solid black;padding:15px;text-align:left\"> <strong>్</strong> </td><td scope=\"row\" style=\"background-color:#FFF6F7 ; border:1px solid black;padding:15px;text-align:left\"> <strong>ర</strong> </td><td scope=\"row\" style=\"background-color:#FFF6F7 ; border:1px solid black;padding:15px;text-align:left\"> <strong>ా</strong> </td><td scope=\"row\" style=\"background-color:#FFF6F7 ; border:1px solid black;padding:15px;text-align:left\"> <strong>ర</strong> </td><td scope=\"row\" style=\"background-color:#FFF6F7 ; border:1px solid black;padding:15px;text-align:left\"> <strong>ా</strong> </td><td scope=\"row\" style=\"background-color:#E3FFE7 ;border:1px solid black;padding:15px;text-align:left\"><strong> న </strong></td><td scope=\"row\" style=\"background-color:#E3FFE7 ;border:1px solid black;padding:15px;text-align:left\"><strong> ు </strong></td></tr><tr>\n",
              "      <td scope=\"row\" style=\"border:1px solid black;background-color:#3498DB;padding:15px;color:white;text-align:left\"> <strong>devalayamunu </strong></td> <td scope=\"row\" style=\" border:1px solid black;padding:15px;text-align:left\"> &#x274C; </td> <td scope=\"row\" style=\" border:1px solid black;padding:15px;text-align:left\"> &#x274C; </td> <td scope=\"row\" style=\" border:1px solid black;padding:15px;text-align:left\"> &#x274C; </td> <td scope=\"row\" style=\" border:1px solid black;padding:15px;text-align:left\"> &#x274C; </td> <td scope=\"row\" style=\" border:1px solid black;padding:15px;text-align:left\"> &#x274C; </td> <td scope=\"row\" style=\" border:1px solid black;padding:15px;text-align:left\"> &#x274C; </td> <td scope=\"row\" style=\" border:1px solid black;padding:15px;text-align:left\"> &#x274C; </td> <td scope=\"row\" style=\" border:1px solid black;padding:15px;text-align:left\"> &#x274C; </td><td scope=\"row\" style=\"border:1px solid black;padding:15px;text-align:left\">&#x2705; </td><td scope=\"row\" style=\"border:1px solid black;padding:15px;text-align:left\">&#x2705; </td></tr>"
            ],
            "text/plain": [
              "<IPython.core.display.HTML object>"
            ]
          },
          "metadata": {},
          "output_type": "display_data"
        },
        {
          "data": {
            "text/html": [
              "\n",
              "    <br>\n",
              "      <table style=\"border:2px solid black; border-collapse:collapse\">\n",
              "      <tr>\n",
              "      <td scope=\"row\" style=\"border:1px solid black;background-color:#3498DB;color:white;padding:10px;text-align:left\"> <strong>ఆనాన్</strong> </td>\n",
              "       <td scope=\"row\" style=\"background-color:#FFF6F7 ; border:1px solid black;padding:15px;text-align:left\"> <strong>ల</strong> </td> <td scope=\"row\" style=\"background-color:#FFF6F7 ; border:1px solid black;padding:15px;text-align:left\"> <strong>ా</strong> </td> <td scope=\"row\" style=\"background-color:#FFF6F7 ; border:1px solid black;padding:15px;text-align:left\"> <strong>హ</strong> </td> <td scope=\"row\" style=\"background-color:#FFF6F7 ; border:1px solid black;padding:15px;text-align:left\"> <strong>ి</strong> </td> <td scope=\"row\" style=\"background-color:#FFF6F7 ; border:1px solid black;padding:15px;text-align:left\"> <strong>ర</strong> </td><td scope=\"row\" style=\"background-color: #FFF6F7 ; border:1px solid black;padding:15px;text-align:left\"> <strong>ి </strong></td></tr><tr>\n",
              "      <td scope=\"row\" style=\"border:1px solid black;background-color:#3498DB;padding:15px;color:white;text-align:left\"> <strong>లాహిరి </strong></td><td scope=\"row\" style=\"background-color:#FFF6F7 ; border:1px solid black;padding:15px;text-align:left\"> <strong>ఆ</strong> </td><td scope=\"row\" style=\"background-color:#FFF6F7 ; border:1px solid black;padding:15px;text-align:left\"> <strong>న</strong> </td><td scope=\"row\" style=\"background-color:#FFF6F7 ; border:1px solid black;padding:15px;text-align:left\"> <strong>ా</strong> </td><td scope=\"row\" style=\"background-color:#FFF6F7 ; border:1px solid black;padding:15px;text-align:left\"> <strong>న</strong> </td><td scope=\"row\" style=\"background-color:#FFF6F7 ; border:1px solid black;padding:15px;text-align:left\"> <strong>్</strong> </td><td scope=\"row\" style=\"background-color:#FFF6F7  ; border:1px solid black;padding:15px;text-align:left\"><strong> </strong> </td></tr><tr>\n",
              "      <td scope=\"row\" style=\"border:1px solid black;background-color:#3498DB;padding:15px;color:white;text-align:left\"> <strong>laahiri </strong></td> <td scope=\"row\" style=\" border:1px solid black;padding:15px;text-align:left\"> &#x274C; </td> <td scope=\"row\" style=\" border:1px solid black;padding:15px;text-align:left\"> &#x274C; </td> <td scope=\"row\" style=\" border:1px solid black;padding:15px;text-align:left\"> &#x274C; </td> <td scope=\"row\" style=\" border:1px solid black;padding:15px;text-align:left\"> &#x274C; </td> <td scope=\"row\" style=\" border:1px solid black;padding:15px;text-align:left\"> &#x274C; </td><td scope=\"row\" style=\"border:1px solid black;padding:15px;text-align:left\"> &#x274C; </td></tr>"
            ],
            "text/plain": [
              "<IPython.core.display.HTML object>"
            ]
          },
          "metadata": {},
          "output_type": "display_data"
        },
        {
          "data": {
            "text/html": [
              "\n",
              "    <br>\n",
              "      <table style=\"border:2px solid black; border-collapse:collapse\">\n",
              "      <tr>\n",
              "      <td scope=\"row\" style=\"border:1px solid black;background-color:#3498DB;color:white;padding:10px;text-align:left\"> <strong>చిర్రాంచాను</strong> </td>\n",
              "      <td scope=\"row\" style=\"background-color:#E3FFE7 ;border:1px solid black;padding:15px;text-align:left\"> <strong>చ</strong> </td> <td scope=\"row\" style=\"background-color:#FFF6F7 ; border:1px solid black;padding:15px;text-align:left\"> <strong>ి</strong> </td><td scope=\"row\" style=\"background-color:#E3FFE7 ;border:1px solid black;padding:15px;text-align:left\"> <strong>ర</strong> </td><td scope=\"row\" style=\"background-color:#E3FFE7 ;border:1px solid black;padding:15px;text-align:left\"> <strong>్</strong> </td> <td scope=\"row\" style=\"background-color:#FFF6F7 ; border:1px solid black;padding:15px;text-align:left\"> <strong>ర</strong> </td> <td scope=\"row\" style=\"background-color:#FFF6F7 ; border:1px solid black;padding:15px;text-align:left\"> <strong>ా</strong> </td><td scope=\"row\" style=\"background-color:#E3FFE7 ;border:1px solid black;padding:15px;text-align:left\"> <strong>ం</strong> </td><td scope=\"row\" style=\"background-color:#E3FFE7 ;border:1px solid black;padding:15px;text-align:left\"> <strong>చ</strong> </td><td scope=\"row\" style=\"background-color:#E3FFE7 ;border:1px solid black;padding:15px;text-align:left\"> <strong>ా</strong> </td> <td scope=\"row\" style=\"background-color:#FFF6F7 ; border:1px solid black;padding:15px;text-align:left\"> <strong>న</strong> </td><td scope=\"row\" style=\"background-color:#E3FFE7 ;border:1px solid black;padding:15px;text-align:left\"> <strong>ు</strong> </td></tr><tr>\n",
              "      <td scope=\"row\" style=\"border:1px solid black;background-color:#3498DB;padding:15px;color:white;text-align:left\"> <strong>చర్చించారు </strong></td><td scope=\"row\" style=\"background-color:#E3FFE7 ;border:1px solid black;padding:15px;text-align:left\"><strong> చ </strong></td><td scope=\"row\" style=\"background-color:#FFF6F7 ; border:1px solid black;padding:15px;text-align:left\"> <strong> </strong> </td><td scope=\"row\" style=\"background-color:#E3FFE7 ;border:1px solid black;padding:15px;text-align:left\"><strong> ర </strong></td><td scope=\"row\" style=\"background-color:#E3FFE7 ;border:1px solid black;padding:15px;text-align:left\"><strong> ్ </strong></td><td scope=\"row\" style=\"background-color:#FFF6F7 ; border:1px solid black;padding:15px;text-align:left\"> <strong>చ</strong> </td><td scope=\"row\" style=\"background-color:#FFF6F7 ; border:1px solid black;padding:15px;text-align:left\"> <strong>ి</strong> </td><td scope=\"row\" style=\"background-color:#E3FFE7 ;border:1px solid black;padding:15px;text-align:left\"><strong> ం </strong></td><td scope=\"row\" style=\"background-color:#E3FFE7 ;border:1px solid black;padding:15px;text-align:left\"><strong> చ </strong></td><td scope=\"row\" style=\"background-color:#E3FFE7 ;border:1px solid black;padding:15px;text-align:left\"><strong> ా </strong></td><td scope=\"row\" style=\"background-color:#FFF6F7 ; border:1px solid black;padding:15px;text-align:left\"> <strong>ర</strong> </td><td scope=\"row\" style=\"background-color:#E3FFE7 ;border:1px solid black;padding:15px;text-align:left\"><strong> ు </strong></td></tr><tr>\n",
              "      <td scope=\"row\" style=\"border:1px solid black;background-color:#3498DB;padding:15px;color:white;text-align:left\"> <strong>charchinchaaru </strong></td><td scope=\"row\" style=\"border:1px solid black;padding:15px;text-align:left\">&#x2705; </td><td scope=\"row\" style=\"border:1px solid black;padding:15px;text-align:left\"> &#x274C; </td><td scope=\"row\" style=\"border:1px solid black;padding:15px;text-align:left\">&#x2705; </td><td scope=\"row\" style=\"border:1px solid black;padding:15px;text-align:left\">&#x2705; </td> <td scope=\"row\" style=\" border:1px solid black;padding:15px;text-align:left\"> &#x274C; </td> <td scope=\"row\" style=\" border:1px solid black;padding:15px;text-align:left\"> &#x274C; </td><td scope=\"row\" style=\"border:1px solid black;padding:15px;text-align:left\">&#x2705; </td><td scope=\"row\" style=\"border:1px solid black;padding:15px;text-align:left\">&#x2705; </td><td scope=\"row\" style=\"border:1px solid black;padding:15px;text-align:left\">&#x2705; </td> <td scope=\"row\" style=\" border:1px solid black;padding:15px;text-align:left\"> &#x274C; </td><td scope=\"row\" style=\"border:1px solid black;padding:15px;text-align:left\">&#x2705; </td></tr>"
            ],
            "text/plain": [
              "<IPython.core.display.HTML object>"
            ]
          },
          "metadata": {},
          "output_type": "display_data"
        },
        {
          "data": {
            "text/html": [
              "\n",
              "    <br>\n",
              "      <table style=\"border:2px solid black; border-collapse:collapse\">\n",
              "      <tr>\n",
              "      <td scope=\"row\" style=\"border:1px solid black;background-color:#3498DB;color:white;padding:10px;text-align:left\"> <strong>అన్యాన్</strong> </td>\n",
              "       <td scope=\"row\" style=\"background-color:#FFF6F7 ; border:1px solid black;padding:15px;text-align:left\"> <strong>అ</strong> </td><td scope=\"row\" style=\"background-color:#E3FFE7 ;border:1px solid black;padding:15px;text-align:left\"> <strong>న</strong> </td> <td scope=\"row\" style=\"background-color:#FFF6F7 ; border:1px solid black;padding:15px;text-align:left\"> <strong>్</strong> </td> <td scope=\"row\" style=\"background-color:#FFF6F7 ; border:1px solid black;padding:15px;text-align:left\"> <strong>య</strong> </td> <td scope=\"row\" style=\"background-color:#FFF6F7 ; border:1px solid black;padding:15px;text-align:left\"> <strong>ా</strong> </td> <td scope=\"row\" style=\"background-color:#FFF6F7 ; border:1px solid black;padding:15px;text-align:left\"> <strong>న</strong> </td><td scope=\"row\" style=\"background-color:#E3FFE7 ;border:1px solid black;padding:15px;text-align:left\"> <strong>్</strong> </td></tr><tr>\n",
              "      <td scope=\"row\" style=\"border:1px solid black;background-color:#3498DB;padding:15px;color:white;text-align:left\"> <strong>నాదిర్ </strong></td><td scope=\"row\" style=\"background-color:#FFF6F7 ; border:1px solid black;padding:15px;text-align:left\"> <strong> </strong> </td><td scope=\"row\" style=\"background-color:#E3FFE7 ;border:1px solid black;padding:15px;text-align:left\"><strong> న </strong></td><td scope=\"row\" style=\"background-color:#FFF6F7 ; border:1px solid black;padding:15px;text-align:left\"> <strong>ా</strong> </td><td scope=\"row\" style=\"background-color:#FFF6F7 ; border:1px solid black;padding:15px;text-align:left\"> <strong>ద</strong> </td><td scope=\"row\" style=\"background-color:#FFF6F7 ; border:1px solid black;padding:15px;text-align:left\"> <strong>ి</strong> </td><td scope=\"row\" style=\"background-color:#FFF6F7 ; border:1px solid black;padding:15px;text-align:left\"> <strong>ర</strong> </td><td scope=\"row\" style=\"background-color:#E3FFE7 ;border:1px solid black;padding:15px;text-align:left\"><strong> ్ </strong></td></tr><tr>\n",
              "      <td scope=\"row\" style=\"border:1px solid black;background-color:#3498DB;padding:15px;color:white;text-align:left\"> <strong>naadhir </strong></td><td scope=\"row\" style=\"border:1px solid black;padding:15px;text-align:left\"> &#x274C; </td><td scope=\"row\" style=\"border:1px solid black;padding:15px;text-align:left\">&#x2705; </td> <td scope=\"row\" style=\" border:1px solid black;padding:15px;text-align:left\"> &#x274C; </td> <td scope=\"row\" style=\" border:1px solid black;padding:15px;text-align:left\"> &#x274C; </td> <td scope=\"row\" style=\" border:1px solid black;padding:15px;text-align:left\"> &#x274C; </td> <td scope=\"row\" style=\" border:1px solid black;padding:15px;text-align:left\"> &#x274C; </td><td scope=\"row\" style=\"border:1px solid black;padding:15px;text-align:left\">&#x2705; </td></tr>"
            ],
            "text/plain": [
              "<IPython.core.display.HTML object>"
            ]
          },
          "metadata": {},
          "output_type": "display_data"
        },
        {
          "data": {
            "text/html": [
              "\n",
              "    <br>\n",
              "      <table style=\"border:2px solid black; border-collapse:collapse\">\n",
              "      <tr>\n",
              "      <td scope=\"row\" style=\"border:1px solid black;background-color:#3498DB;color:white;padding:10px;text-align:left\"> <strong>మాల్</strong> </td>\n",
              "       <td scope=\"row\" style=\"background-color:#FFF6F7 ; border:1px solid black;padding:15px;text-align:left\"> <strong>య</strong> </td> <td scope=\"row\" style=\"background-color:#FFF6F7 ; border:1px solid black;padding:15px;text-align:left\"> <strong>ు</strong> </td> <td scope=\"row\" style=\"background-color:#FFF6F7 ; border:1px solid black;padding:15px;text-align:left\"> <strong>వ</strong> </td> <td scope=\"row\" style=\"background-color:#FFF6F7 ; border:1px solid black;padding:15px;text-align:left\"> <strong>ర</strong> </td><td scope=\"row\" style=\"background-color:#E3FFE7 ;border:1px solid black;padding:15px;text-align:left\"> <strong>్</strong> </td></tr><tr>\n",
              "      <td scope=\"row\" style=\"border:1px solid black;background-color:#3498DB;padding:15px;color:white;text-align:left\"> <strong>యువర్ </strong></td><td scope=\"row\" style=\"background-color:#FFF6F7 ; border:1px solid black;padding:15px;text-align:left\"> <strong>మ</strong> </td><td scope=\"row\" style=\"background-color:#FFF6F7 ; border:1px solid black;padding:15px;text-align:left\"> <strong>ా</strong> </td><td scope=\"row\" style=\"background-color:#FFF6F7 ; border:1px solid black;padding:15px;text-align:left\"> <strong>ల</strong> </td><td scope=\"row\" style=\"background-color:#FFF6F7 ; border:1px solid black;padding:15px;text-align:left\"> <strong> </strong> </td><td scope=\"row\" style=\"background-color:#E3FFE7 ;border:1px solid black;padding:15px;text-align:left\"><strong> ్ </strong></td></tr><tr>\n",
              "      <td scope=\"row\" style=\"border:1px solid black;background-color:#3498DB;padding:15px;color:white;text-align:left\"> <strong>youur </strong></td> <td scope=\"row\" style=\" border:1px solid black;padding:15px;text-align:left\"> &#x274C; </td> <td scope=\"row\" style=\" border:1px solid black;padding:15px;text-align:left\"> &#x274C; </td> <td scope=\"row\" style=\" border:1px solid black;padding:15px;text-align:left\"> &#x274C; </td><td scope=\"row\" style=\"border:1px solid black;padding:15px;text-align:left\"> &#x274C; </td><td scope=\"row\" style=\"border:1px solid black;padding:15px;text-align:left\">&#x2705; </td></tr>"
            ],
            "text/plain": [
              "<IPython.core.display.HTML object>"
            ]
          },
          "metadata": {},
          "output_type": "display_data"
        },
        {
          "data": {
            "text/html": [
              "\n",
              "    <br>\n",
              "      <table style=\"border:2px solid black; border-collapse:collapse\">\n",
              "      <tr>\n",
              "      <td scope=\"row\" style=\"border:1px solid black;background-color:#3498DB;color:white;padding:10px;text-align:left\"> <strong>కిద్రానాను</strong> </td>\n",
              "       <td scope=\"row\" style=\"background-color:#FFF6F7 ; border:1px solid black;padding:15px;text-align:left\"> <strong>క</strong> </td> <td scope=\"row\" style=\"background-color:#FFF6F7 ; border:1px solid black;padding:15px;text-align:left\"> <strong>ి</strong> </td> <td scope=\"row\" style=\"background-color:#FFF6F7 ; border:1px solid black;padding:15px;text-align:left\"> <strong>ద</strong> </td> <td scope=\"row\" style=\"background-color:#FFF6F7 ; border:1px solid black;padding:15px;text-align:left\"> <strong>్</strong> </td> <td scope=\"row\" style=\"background-color:#FFF6F7 ; border:1px solid black;padding:15px;text-align:left\"> <strong>ర</strong> </td><td scope=\"row\" style=\"background-color:#E3FFE7 ;border:1px solid black;padding:15px;text-align:left\"> <strong>ా</strong> </td> <td scope=\"row\" style=\"background-color:#FFF6F7 ; border:1px solid black;padding:15px;text-align:left\"> <strong>న</strong> </td> <td scope=\"row\" style=\"background-color:#FFF6F7 ; border:1px solid black;padding:15px;text-align:left\"> <strong>ా</strong> </td><td scope=\"row\" style=\"background-color: #FFF6F7 ; border:1px solid black;padding:15px;text-align:left\"> <strong>న </strong></td><td scope=\"row\" style=\"background-color: #FFF6F7 ; border:1px solid black;padding:15px;text-align:left\"> <strong>ు </strong></td></tr><tr>\n",
              "      <td scope=\"row\" style=\"border:1px solid black;background-color:#3498DB;padding:15px;color:white;text-align:left\"> <strong>తెలంగాణం </strong></td><td scope=\"row\" style=\"background-color:#FFF6F7 ; border:1px solid black;padding:15px;text-align:left\"> <strong>త</strong> </td><td scope=\"row\" style=\"background-color:#FFF6F7 ; border:1px solid black;padding:15px;text-align:left\"> <strong>ె</strong> </td><td scope=\"row\" style=\"background-color:#FFF6F7 ; border:1px solid black;padding:15px;text-align:left\"> <strong>ల</strong> </td><td scope=\"row\" style=\"background-color:#FFF6F7 ; border:1px solid black;padding:15px;text-align:left\"> <strong>ం</strong> </td><td scope=\"row\" style=\"background-color:#FFF6F7 ; border:1px solid black;padding:15px;text-align:left\"> <strong>గ</strong> </td><td scope=\"row\" style=\"background-color:#E3FFE7 ;border:1px solid black;padding:15px;text-align:left\"><strong> ా </strong></td><td scope=\"row\" style=\"background-color:#FFF6F7 ; border:1px solid black;padding:15px;text-align:left\"> <strong>ణ</strong> </td><td scope=\"row\" style=\"background-color:#FFF6F7 ; border:1px solid black;padding:15px;text-align:left\"> <strong>ం</strong> </td><td scope=\"row\" style=\"background-color:#FFF6F7  ; border:1px solid black;padding:15px;text-align:left\"><strong> </strong> </td><td scope=\"row\" style=\"background-color:#FFF6F7  ; border:1px solid black;padding:15px;text-align:left\"><strong> </strong> </td></tr><tr>\n",
              "      <td scope=\"row\" style=\"border:1px solid black;background-color:#3498DB;padding:15px;color:white;text-align:left\"> <strong>telamgaanham </strong></td> <td scope=\"row\" style=\" border:1px solid black;padding:15px;text-align:left\"> &#x274C; </td> <td scope=\"row\" style=\" border:1px solid black;padding:15px;text-align:left\"> &#x274C; </td> <td scope=\"row\" style=\" border:1px solid black;padding:15px;text-align:left\"> &#x274C; </td> <td scope=\"row\" style=\" border:1px solid black;padding:15px;text-align:left\"> &#x274C; </td> <td scope=\"row\" style=\" border:1px solid black;padding:15px;text-align:left\"> &#x274C; </td><td scope=\"row\" style=\"border:1px solid black;padding:15px;text-align:left\">&#x2705; </td> <td scope=\"row\" style=\" border:1px solid black;padding:15px;text-align:left\"> &#x274C; </td> <td scope=\"row\" style=\" border:1px solid black;padding:15px;text-align:left\"> &#x274C; </td><td scope=\"row\" style=\"border:1px solid black;padding:15px;text-align:left\"> &#x274C; </td><td scope=\"row\" style=\"border:1px solid black;padding:15px;text-align:left\"> &#x274C; </td></tr>"
            ],
            "text/plain": [
              "<IPython.core.display.HTML object>"
            ]
          },
          "metadata": {},
          "output_type": "display_data"
        },
        {
          "data": {
            "text/html": [
              "\n",
              "    <br>\n",
              "      <table style=\"border:2px solid black; border-collapse:collapse\">\n",
              "      <tr>\n",
              "      <td scope=\"row\" style=\"border:1px solid black;background-color:#3498DB;color:white;padding:10px;text-align:left\"> <strong>ప్రార్రా</strong> </td>\n",
              "      <td scope=\"row\" style=\"background-color:#E3FFE7 ;border:1px solid black;padding:15px;text-align:left\"> <strong>ప</strong> </td> <td scope=\"row\" style=\"background-color:#FFF6F7 ; border:1px solid black;padding:15px;text-align:left\"> <strong>్</strong> </td><td scope=\"row\" style=\"background-color:#E3FFE7 ;border:1px solid black;padding:15px;text-align:left\"> <strong>ర</strong> </td> <td scope=\"row\" style=\"background-color:#FFF6F7 ; border:1px solid black;padding:15px;text-align:left\"> <strong>ా</strong> </td> <td scope=\"row\" style=\"background-color:#FFF6F7 ; border:1px solid black;padding:15px;text-align:left\"> <strong>ర</strong> </td> <td scope=\"row\" style=\"background-color:#FFF6F7 ; border:1px solid black;padding:15px;text-align:left\"> <strong>్</strong> </td> <td scope=\"row\" style=\"background-color:#FFF6F7 ; border:1px solid black;padding:15px;text-align:left\"> <strong>ర</strong> </td><td scope=\"row\" style=\"background-color: #FFF6F7 ; border:1px solid black;padding:15px;text-align:left\"> <strong>ా </strong></td></tr><tr>\n",
              "      <td scope=\"row\" style=\"border:1px solid black;background-color:#3498DB;padding:15px;color:white;text-align:left\"> <strong>పారింది </strong></td><td scope=\"row\" style=\"background-color:#E3FFE7 ;border:1px solid black;padding:15px;text-align:left\"><strong> ప </strong></td><td scope=\"row\" style=\"background-color:#FFF6F7 ; border:1px solid black;padding:15px;text-align:left\"> <strong>ా</strong> </td><td scope=\"row\" style=\"background-color:#E3FFE7 ;border:1px solid black;padding:15px;text-align:left\"><strong> ర </strong></td><td scope=\"row\" style=\"background-color:#FFF6F7 ; border:1px solid black;padding:15px;text-align:left\"> <strong>ి</strong> </td><td scope=\"row\" style=\"background-color:#FFF6F7 ; border:1px solid black;padding:15px;text-align:left\"> <strong>ం</strong> </td><td scope=\"row\" style=\"background-color:#FFF6F7 ; border:1px solid black;padding:15px;text-align:left\"> <strong>ద</strong> </td><td scope=\"row\" style=\"background-color:#FFF6F7 ; border:1px solid black;padding:15px;text-align:left\"> <strong>ి</strong> </td><td scope=\"row\" style=\"background-color:#FFF6F7  ; border:1px solid black;padding:15px;text-align:left\"><strong> </strong> </td></tr><tr>\n",
              "      <td scope=\"row\" style=\"border:1px solid black;background-color:#3498DB;padding:15px;color:white;text-align:left\"> <strong>paarindi </strong></td><td scope=\"row\" style=\"border:1px solid black;padding:15px;text-align:left\">&#x2705; </td> <td scope=\"row\" style=\" border:1px solid black;padding:15px;text-align:left\"> &#x274C; </td><td scope=\"row\" style=\"border:1px solid black;padding:15px;text-align:left\">&#x2705; </td> <td scope=\"row\" style=\" border:1px solid black;padding:15px;text-align:left\"> &#x274C; </td> <td scope=\"row\" style=\" border:1px solid black;padding:15px;text-align:left\"> &#x274C; </td> <td scope=\"row\" style=\" border:1px solid black;padding:15px;text-align:left\"> &#x274C; </td> <td scope=\"row\" style=\" border:1px solid black;padding:15px;text-align:left\"> &#x274C; </td><td scope=\"row\" style=\"border:1px solid black;padding:15px;text-align:left\"> &#x274C; </td></tr>"
            ],
            "text/plain": [
              "<IPython.core.display.HTML object>"
            ]
          },
          "metadata": {},
          "output_type": "display_data"
        },
        {
          "data": {
            "text/html": [
              "\n",
              "    <br>\n",
              "      <table style=\"border:2px solid black; border-collapse:collapse\">\n",
              "      <tr>\n",
              "      <td scope=\"row\" style=\"border:1px solid black;background-color:#3498DB;color:white;padding:10px;text-align:left\"> <strong>ప్రాత్రారాను</strong> </td>\n",
              "      <td scope=\"row\" style=\"background-color:#E3FFE7 ;border:1px solid black;padding:15px;text-align:left\"> <strong>ప</strong> </td> <td scope=\"row\" style=\"background-color:#FFF6F7 ; border:1px solid black;padding:15px;text-align:left\"> <strong>్</strong> </td><td scope=\"row\" style=\"background-color:#E3FFE7 ;border:1px solid black;padding:15px;text-align:left\"> <strong>ర</strong> </td><td scope=\"row\" style=\"background-color:#E3FFE7 ;border:1px solid black;padding:15px;text-align:left\"> <strong>ా</strong> </td><td scope=\"row\" style=\"background-color:#E3FFE7 ;border:1px solid black;padding:15px;text-align:left\"> <strong>త</strong> </td> <td scope=\"row\" style=\"background-color:#FFF6F7 ; border:1px solid black;padding:15px;text-align:left\"> <strong>్</strong> </td> <td scope=\"row\" style=\"background-color:#FFF6F7 ; border:1px solid black;padding:15px;text-align:left\"> <strong>ర</strong> </td> <td scope=\"row\" style=\"background-color:#FFF6F7 ; border:1px solid black;padding:15px;text-align:left\"> <strong>ా</strong> </td> <td scope=\"row\" style=\"background-color:#FFF6F7 ; border:1px solid black;padding:15px;text-align:left\"> <strong>ర</strong> </td><td scope=\"row\" style=\"background-color: #FFF6F7 ; border:1px solid black;padding:15px;text-align:left\"> <strong>ా </strong></td><td scope=\"row\" style=\"background-color: #FFF6F7 ; border:1px solid black;padding:15px;text-align:left\"> <strong>న </strong></td><td scope=\"row\" style=\"background-color: #FFF6F7 ; border:1px solid black;padding:15px;text-align:left\"> <strong>ు </strong></td></tr><tr>\n",
              "      <td scope=\"row\" style=\"border:1px solid black;background-color:#3498DB;padding:15px;color:white;text-align:left\"> <strong>పురాతనమైన </strong></td><td scope=\"row\" style=\"background-color:#E3FFE7 ;border:1px solid black;padding:15px;text-align:left\"><strong> ప </strong></td><td scope=\"row\" style=\"background-color:#FFF6F7 ; border:1px solid black;padding:15px;text-align:left\"> <strong>ు</strong> </td><td scope=\"row\" style=\"background-color:#E3FFE7 ;border:1px solid black;padding:15px;text-align:left\"><strong> ర </strong></td><td scope=\"row\" style=\"background-color:#E3FFE7 ;border:1px solid black;padding:15px;text-align:left\"><strong> ా </strong></td><td scope=\"row\" style=\"background-color:#E3FFE7 ;border:1px solid black;padding:15px;text-align:left\"><strong> త </strong></td><td scope=\"row\" style=\"background-color:#FFF6F7 ; border:1px solid black;padding:15px;text-align:left\"> <strong>న</strong> </td><td scope=\"row\" style=\"background-color:#FFF6F7 ; border:1px solid black;padding:15px;text-align:left\"> <strong>మ</strong> </td><td scope=\"row\" style=\"background-color:#FFF6F7 ; border:1px solid black;padding:15px;text-align:left\"> <strong>ై</strong> </td><td scope=\"row\" style=\"background-color:#FFF6F7 ; border:1px solid black;padding:15px;text-align:left\"> <strong>న</strong> </td><td scope=\"row\" style=\"background-color:#FFF6F7  ; border:1px solid black;padding:15px;text-align:left\"><strong> </strong> </td><td scope=\"row\" style=\"background-color:#FFF6F7  ; border:1px solid black;padding:15px;text-align:left\"><strong> </strong> </td><td scope=\"row\" style=\"background-color:#FFF6F7  ; border:1px solid black;padding:15px;text-align:left\"><strong> </strong> </td></tr><tr>\n",
              "      <td scope=\"row\" style=\"border:1px solid black;background-color:#3498DB;padding:15px;color:white;text-align:left\"> <strong>puratanamaina </strong></td><td scope=\"row\" style=\"border:1px solid black;padding:15px;text-align:left\">&#x2705; </td> <td scope=\"row\" style=\" border:1px solid black;padding:15px;text-align:left\"> &#x274C; </td><td scope=\"row\" style=\"border:1px solid black;padding:15px;text-align:left\">&#x2705; </td><td scope=\"row\" style=\"border:1px solid black;padding:15px;text-align:left\">&#x2705; </td><td scope=\"row\" style=\"border:1px solid black;padding:15px;text-align:left\">&#x2705; </td> <td scope=\"row\" style=\" border:1px solid black;padding:15px;text-align:left\"> &#x274C; </td> <td scope=\"row\" style=\" border:1px solid black;padding:15px;text-align:left\"> &#x274C; </td> <td scope=\"row\" style=\" border:1px solid black;padding:15px;text-align:left\"> &#x274C; </td> <td scope=\"row\" style=\" border:1px solid black;padding:15px;text-align:left\"> &#x274C; </td><td scope=\"row\" style=\"border:1px solid black;padding:15px;text-align:left\"> &#x274C; </td><td scope=\"row\" style=\"border:1px solid black;padding:15px;text-align:left\"> &#x274C; </td><td scope=\"row\" style=\"border:1px solid black;padding:15px;text-align:left\"> &#x274C; </td></tr>"
            ],
            "text/plain": [
              "<IPython.core.display.HTML object>"
            ]
          },
          "metadata": {},
          "output_type": "display_data"
        },
        {
          "data": {
            "text/html": [
              "\n",
              "    <br>\n",
              "      <table style=\"border:2px solid black; border-collapse:collapse\">\n",
              "      <tr>\n",
              "      <td scope=\"row\" style=\"border:1px solid black;background-color:#3498DB;color:white;padding:10px;text-align:left\"> <strong>మార్రాల</strong> </td>\n",
              "       <td scope=\"row\" style=\"background-color:#FFF6F7 ; border:1px solid black;padding:15px;text-align:left\"> <strong>మ</strong> </td> <td scope=\"row\" style=\"background-color:#FFF6F7 ; border:1px solid black;padding:15px;text-align:left\"> <strong>ా</strong> </td> <td scope=\"row\" style=\"background-color:#FFF6F7 ; border:1px solid black;padding:15px;text-align:left\"> <strong>ర</strong> </td> <td scope=\"row\" style=\"background-color:#FFF6F7 ; border:1px solid black;padding:15px;text-align:left\"> <strong>్</strong> </td><td scope=\"row\" style=\"background-color:#E3FFE7 ;border:1px solid black;padding:15px;text-align:left\"> <strong>ర</strong> </td> <td scope=\"row\" style=\"background-color:#FFF6F7 ; border:1px solid black;padding:15px;text-align:left\"> <strong>ా</strong> </td><td scope=\"row\" style=\"background-color: #FFF6F7 ; border:1px solid black;padding:15px;text-align:left\"> <strong>ల </strong></td></tr><tr>\n",
              "      <td scope=\"row\" style=\"border:1px solid black;background-color:#3498DB;padding:15px;color:white;text-align:left\"> <strong>కోసూరి </strong></td><td scope=\"row\" style=\"background-color:#FFF6F7 ; border:1px solid black;padding:15px;text-align:left\"> <strong>క</strong> </td><td scope=\"row\" style=\"background-color:#FFF6F7 ; border:1px solid black;padding:15px;text-align:left\"> <strong>ో</strong> </td><td scope=\"row\" style=\"background-color:#FFF6F7 ; border:1px solid black;padding:15px;text-align:left\"> <strong>స</strong> </td><td scope=\"row\" style=\"background-color:#FFF6F7 ; border:1px solid black;padding:15px;text-align:left\"> <strong>ూ</strong> </td><td scope=\"row\" style=\"background-color:#E3FFE7 ;border:1px solid black;padding:15px;text-align:left\"><strong> ర </strong></td><td scope=\"row\" style=\"background-color:#FFF6F7 ; border:1px solid black;padding:15px;text-align:left\"> <strong>ి</strong> </td><td scope=\"row\" style=\"background-color:#FFF6F7  ; border:1px solid black;padding:15px;text-align:left\"><strong> </strong> </td></tr><tr>\n",
              "      <td scope=\"row\" style=\"border:1px solid black;background-color:#3498DB;padding:15px;color:white;text-align:left\"> <strong>kosuuri </strong></td> <td scope=\"row\" style=\" border:1px solid black;padding:15px;text-align:left\"> &#x274C; </td> <td scope=\"row\" style=\" border:1px solid black;padding:15px;text-align:left\"> &#x274C; </td> <td scope=\"row\" style=\" border:1px solid black;padding:15px;text-align:left\"> &#x274C; </td> <td scope=\"row\" style=\" border:1px solid black;padding:15px;text-align:left\"> &#x274C; </td><td scope=\"row\" style=\"border:1px solid black;padding:15px;text-align:left\">&#x2705; </td> <td scope=\"row\" style=\" border:1px solid black;padding:15px;text-align:left\"> &#x274C; </td><td scope=\"row\" style=\"border:1px solid black;padding:15px;text-align:left\"> &#x274C; </td></tr>"
            ],
            "text/plain": [
              "<IPython.core.display.HTML object>"
            ]
          },
          "metadata": {},
          "output_type": "display_data"
        },
        {
          "data": {
            "text/html": [
              "\n",
              "    <br>\n",
              "      <table style=\"border:2px solid black; border-collapse:collapse\">\n",
              "      <tr>\n",
              "      <td scope=\"row\" style=\"border:1px solid black;background-color:#3498DB;color:white;padding:10px;text-align:left\"> <strong>మార్రానాను</strong> </td>\n",
              "       <td scope=\"row\" style=\"background-color:#FFF6F7 ; border:1px solid black;padding:15px;text-align:left\"> <strong>మ</strong> </td> <td scope=\"row\" style=\"background-color:#FFF6F7 ; border:1px solid black;padding:15px;text-align:left\"> <strong>ా</strong> </td> <td scope=\"row\" style=\"background-color:#FFF6F7 ; border:1px solid black;padding:15px;text-align:left\"> <strong>ర</strong> </td> <td scope=\"row\" style=\"background-color:#FFF6F7 ; border:1px solid black;padding:15px;text-align:left\"> <strong>్</strong> </td> <td scope=\"row\" style=\"background-color:#FFF6F7 ; border:1px solid black;padding:15px;text-align:left\"> <strong>ర</strong> </td><td scope=\"row\" style=\"background-color:#E3FFE7 ;border:1px solid black;padding:15px;text-align:left\"> <strong>ా</strong> </td><td scope=\"row\" style=\"background-color:#E3FFE7 ;border:1px solid black;padding:15px;text-align:left\"> <strong>న</strong> </td> <td scope=\"row\" style=\"background-color:#FFF6F7 ; border:1px solid black;padding:15px;text-align:left\"> <strong>ా</strong> </td> <td scope=\"row\" style=\"background-color:#FFF6F7 ; border:1px solid black;padding:15px;text-align:left\"> <strong>న</strong> </td> <td scope=\"row\" style=\"background-color:#FFF6F7 ; border:1px solid black;padding:15px;text-align:left\"> <strong>ు</strong> </td></tr><tr>\n",
              "      <td scope=\"row\" style=\"border:1px solid black;background-color:#3498DB;padding:15px;color:white;text-align:left\"> <strong>విజయానికి </strong></td><td scope=\"row\" style=\"background-color:#FFF6F7 ; border:1px solid black;padding:15px;text-align:left\"> <strong>వ</strong> </td><td scope=\"row\" style=\"background-color:#FFF6F7 ; border:1px solid black;padding:15px;text-align:left\"> <strong>ి</strong> </td><td scope=\"row\" style=\"background-color:#FFF6F7 ; border:1px solid black;padding:15px;text-align:left\"> <strong>జ</strong> </td><td scope=\"row\" style=\"background-color:#FFF6F7 ; border:1px solid black;padding:15px;text-align:left\"> <strong>య</strong> </td><td scope=\"row\" style=\"background-color:#FFF6F7 ; border:1px solid black;padding:15px;text-align:left\"> <strong> </strong> </td><td scope=\"row\" style=\"background-color:#E3FFE7 ;border:1px solid black;padding:15px;text-align:left\"><strong> ా </strong></td><td scope=\"row\" style=\"background-color:#E3FFE7 ;border:1px solid black;padding:15px;text-align:left\"><strong> న </strong></td><td scope=\"row\" style=\"background-color:#FFF6F7 ; border:1px solid black;padding:15px;text-align:left\"> <strong>ి</strong> </td><td scope=\"row\" style=\"background-color:#FFF6F7 ; border:1px solid black;padding:15px;text-align:left\"> <strong>క</strong> </td><td scope=\"row\" style=\"background-color:#FFF6F7 ; border:1px solid black;padding:15px;text-align:left\"> <strong>ి</strong> </td></tr><tr>\n",
              "      <td scope=\"row\" style=\"border:1px solid black;background-color:#3498DB;padding:15px;color:white;text-align:left\"> <strong>vijayaniki </strong></td> <td scope=\"row\" style=\" border:1px solid black;padding:15px;text-align:left\"> &#x274C; </td> <td scope=\"row\" style=\" border:1px solid black;padding:15px;text-align:left\"> &#x274C; </td> <td scope=\"row\" style=\" border:1px solid black;padding:15px;text-align:left\"> &#x274C; </td> <td scope=\"row\" style=\" border:1px solid black;padding:15px;text-align:left\"> &#x274C; </td><td scope=\"row\" style=\"border:1px solid black;padding:15px;text-align:left\"> &#x274C; </td><td scope=\"row\" style=\"border:1px solid black;padding:15px;text-align:left\">&#x2705; </td><td scope=\"row\" style=\"border:1px solid black;padding:15px;text-align:left\">&#x2705; </td> <td scope=\"row\" style=\" border:1px solid black;padding:15px;text-align:left\"> &#x274C; </td> <td scope=\"row\" style=\" border:1px solid black;padding:15px;text-align:left\"> &#x274C; </td> <td scope=\"row\" style=\" border:1px solid black;padding:15px;text-align:left\"> &#x274C; </td></tr>"
            ],
            "text/plain": [
              "<IPython.core.display.HTML object>"
            ]
          },
          "metadata": {},
          "output_type": "display_data"
        }
      ],
      "source": [
        "source_rnd,actual_rnd,predict_rnd=evaluate_samples(model,10)\n",
        "\n",
        "for i,j,k in zip(source_rnd,actual_rnd,predict_rnd):\n",
        "    compare_result(j,k,i)"
      ]
    }
  ],
  "metadata": {
    "accelerator": "GPU",
    "colab": {
      "collapsed_sections": [],
      "machine_shape": "hm",
      "name": "DL_Assignment3_QS1.ipynb",
      "provenance": []
    },
    "kernelspec": {
      "display_name": "Python 3",
      "name": "python3"
    },
    "language_info": {
      "name": "python"
    }
  },
  "nbformat": 4,
  "nbformat_minor": 0
}
